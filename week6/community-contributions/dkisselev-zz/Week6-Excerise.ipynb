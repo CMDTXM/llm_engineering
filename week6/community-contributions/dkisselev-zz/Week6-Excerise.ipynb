{
  "cells": [
    {
      "cell_type": "markdown",
      "metadata": {
        "id": "view-in-github",
        "colab_type": "text"
      },
      "source": [
        "<a href=\"https://colab.research.google.com/github/dkisselev-zz/llm_engineering/blob/wk6-exerc/week6/community-contributions/dkisselev-zz/Week6-Excerise.ipynb\" target=\"_parent\"><img src=\"https://colab.research.google.com/assets/colab-badge.svg\" alt=\"Open In Colab\"/></a>"
      ]
    },
    {
      "cell_type": "markdown",
      "id": "db8736a7-ed94-441c-9556-831fa57b5a10",
      "metadata": {
        "id": "db8736a7-ed94-441c-9556-831fa57b5a10"
      },
      "source": [
        "# The Product Pricer Challenge\n",
        "\n",
        "A baseline established by gpt4o and attempt to beat it\n"
      ]
    },
    {
      "cell_type": "markdown",
      "source": [
        "## Initialize and load configuration"
      ],
      "metadata": {
        "id": "FwYmkcF_Jw4m"
      },
      "id": "FwYmkcF_Jw4m"
    },
    {
      "cell_type": "code",
      "execution_count": 2,
      "id": "681c717b-4c24-4ac3-a5f3-3c5881d6e70a",
      "metadata": {
        "id": "681c717b-4c24-4ac3-a5f3-3c5881d6e70a",
        "outputId": "5a7f7335-1384-4b00-c25a-88296e9a6501",
        "colab": {
          "base_uri": "https://localhost:8080/",
          "height": 113,
          "referenced_widgets": [
            "c25fd092bcec48a28dc21bd4eca7309c",
            "70529f532eaf43ef92702f5d9b5bfe2a",
            "294d064034ed4a19b17b6787a45642fa",
            "badab4dc3dd840b1b601588d598412fa",
            "cdc0d062a7e3449c99c425bb2f3c66d3",
            "f095f984b766471bb363089fab109fe7",
            "e8a4091cb20941868ae570a6642b970a",
            "fe9b3178dfc84f3393fc1b402a0ae2fa",
            "6fcc0141e5a34d89976b1deab30f4a38",
            "19e52d98c9a743428811b0b2c63b2561",
            "a59c83e059e14895904c8e964fba77a4",
            "895e29a3142d4c7b9c704130851abe9a",
            "4a9281f1ea514f518a8cd270914f8968",
            "dca7fe8cc4c34ea6b8d68f22fda7934e",
            "c53c3a2510c7431aa861a9d5688fb464",
            "95ecc985d88a46bb89790d5b50155038",
            "fcd8274054714b12b4aad351bd8ad568",
            "c10ce0b7c02741f69a6a49967a126d11",
            "f08121f15d61423e87b49f5cca7ba014",
            "dbe1dd54728e4299a8dba6f68154fc43",
            "3459fb7bfee040fdb3d1de32aea7bbc4",
            "6ce6baad1d2045199f5ad99fac7480cd",
            "888c892646c3472aac059c011175a352",
            "e407ff2ed5a84579a9d64eb4d6ba505c",
            "0355734e85844a5d89f5937b59f0b85a",
            "451654ad247a4f88808d04d9a1d3b58b",
            "a5783b5760ec483285ff45ee643671c1",
            "a6e9b7123d604b60b665261d948398bd",
            "76cc376784d6431d97ecd9da5110c917",
            "d9c726d995ba4892b34e1f44b010fb50",
            "a14fbe0a9a044ff3a75050d0d7ffbf4b",
            "114b7bb42c104f8c92bbce6c893ddf59",
            "d857fd2e4f9c4f34b18a4eedfc3107ba"
          ]
        }
      },
      "outputs": [
        {
          "output_type": "display_data",
          "data": {
            "text/plain": [
              "tokenizer_config.json:   0%|          | 0.00/50.5k [00:00<?, ?B/s]"
            ],
            "application/vnd.jupyter.widget-view+json": {
              "version_major": 2,
              "version_minor": 0,
              "model_id": "c25fd092bcec48a28dc21bd4eca7309c"
            }
          },
          "metadata": {}
        },
        {
          "output_type": "display_data",
          "data": {
            "text/plain": [
              "tokenizer.json:   0%|          | 0.00/9.09M [00:00<?, ?B/s]"
            ],
            "application/vnd.jupyter.widget-view+json": {
              "version_major": 2,
              "version_minor": 0,
              "model_id": "895e29a3142d4c7b9c704130851abe9a"
            }
          },
          "metadata": {}
        },
        {
          "output_type": "display_data",
          "data": {
            "text/plain": [
              "special_tokens_map.json:   0%|          | 0.00/73.0 [00:00<?, ?B/s]"
            ],
            "application/vnd.jupyter.widget-view+json": {
              "version_major": 2,
              "version_minor": 0,
              "model_id": "888c892646c3472aac059c011175a352"
            }
          },
          "metadata": {}
        }
      ],
      "source": [
        "# imports\n",
        "\n",
        "import os\n",
        "import re\n",
        "import math\n",
        "import json\n",
        "import random\n",
        "import pickle\n",
        "\n",
        "from collections import Counter\n",
        "import numpy as np\n",
        "import matplotlib.pyplot as plt\n",
        "\n",
        "from huggingface_hub import login\n",
        "from openai import OpenAI\n",
        "\n",
        "from items import Item\n",
        "from testing import Tester"
      ]
    },
    {
      "cell_type": "code",
      "execution_count": 4,
      "id": "36d05bdc-0155-4c72-a7ee-aa4e614ffd3c",
      "metadata": {
        "id": "36d05bdc-0155-4c72-a7ee-aa4e614ffd3c",
        "outputId": "e9196bea-f6d1-4261-8691-c3ba69c3dfba",
        "colab": {
          "base_uri": "https://localhost:8080/"
        }
      },
      "outputs": [
        {
          "output_type": "stream",
          "name": "stdout",
          "text": [
            "✅ Using Colab secrets\n"
          ]
        }
      ],
      "source": [
        "# environment\n",
        "\n",
        "try:\n",
        "  from google.colab import userdata\n",
        "  os.environ['OPENAI_API_KEY']=userdata.get('OPENAI_API_KEY')\n",
        "  os.environ['HF_TOKEN']=userdata.get('HF_TOKEN')\n",
        "  print(\"✅ Using Colab secrets\")\n",
        "except:\n",
        "  from dotenv import load_dotenv\n",
        "  load_dotenv(override=True)\n",
        "  os.environ['OPENAI_API_KEY'] = os.getenv('OPENAI_API_KEY', 'your-key-if-not-using-env')\n",
        "  os.environ['HF_TOKEN'] = os.getenv('HF_TOKEN', 'your-key-if-not-using-env')\n",
        "  print(\"✅ Using local .env file\")"
      ]
    },
    {
      "cell_type": "code",
      "execution_count": 5,
      "id": "4dd3aad2-6f99-433c-8792-e461d2f06622",
      "metadata": {
        "id": "4dd3aad2-6f99-433c-8792-e461d2f06622",
        "outputId": "b11d7914-1087-4e9d-aa9c-76aa4d9bcf2b",
        "colab": {
          "base_uri": "https://localhost:8080/"
        }
      },
      "outputs": [
        {
          "output_type": "stream",
          "name": "stderr",
          "text": [
            "Note: Environment variable`HF_TOKEN` is set and is the current active token independently from the token you've just configured.\n",
            "WARNING:huggingface_hub._login:Note: Environment variable`HF_TOKEN` is set and is the current active token independently from the token you've just configured.\n"
          ]
        }
      ],
      "source": [
        "# Log in to HuggingFace\n",
        "\n",
        "hf_token = os.environ['HF_TOKEN']\n",
        "login(hf_token)"
      ]
    },
    {
      "cell_type": "code",
      "execution_count": 6,
      "id": "b0a6fb86-74a4-403c-ab25-6db2d74e9d2b",
      "metadata": {
        "id": "b0a6fb86-74a4-403c-ab25-6db2d74e9d2b"
      },
      "outputs": [],
      "source": [
        "openai = OpenAI()"
      ]
    },
    {
      "cell_type": "code",
      "execution_count": 7,
      "id": "c830ed3e-24ee-4af6-a07b-a1bfdcd39278",
      "metadata": {
        "id": "c830ed3e-24ee-4af6-a07b-a1bfdcd39278"
      },
      "outputs": [],
      "source": [
        "%matplotlib inline"
      ]
    },
    {
      "cell_type": "code",
      "execution_count": 8,
      "id": "5c9b05f4-c9eb-462c-8d86-de9140a2d985",
      "metadata": {
        "id": "5c9b05f4-c9eb-462c-8d86-de9140a2d985"
      },
      "outputs": [],
      "source": [
        "# Let's avoid curating all our data again! Load in the pickle files:\n",
        "\n",
        "with open('train2.pkl', 'rb') as file:\n",
        "    train = pickle.load(file)\n",
        "\n",
        "with open('test2.pkl', 'rb') as file:\n",
        "    test = pickle.load(file)\n",
        "\n",
        "with open('validation2.pkl','rb') as file:\n",
        "    validation = pickle.load(file)"
      ]
    },
    {
      "cell_type": "code",
      "execution_count": 9,
      "id": "e8367135-f40e-43e1-8f3c-09e990ab1194",
      "metadata": {
        "id": "e8367135-f40e-43e1-8f3c-09e990ab1194"
      },
      "outputs": [],
      "source": [
        "# OpenAI recommends fine-tuning with populations of 50-100 examples\n",
        "# But as our examples are very small, I'm suggesting we go with 500 examples (and 1 epoch)\n",
        "\n",
        "fine_tune_train = train[:500]\n",
        "fine_tune_validation = train[500:550]"
      ]
    },
    {
      "cell_type": "code",
      "source": [
        "# Weight and Biases\n",
        "wandb_integration = {\"type\": \"wandb\", \"wandb\": {\"project\": \"gpt-pricer-ft\"}}"
      ],
      "metadata": {
        "id": "xvsvrdivOBCs"
      },
      "id": "xvsvrdivOBCs",
      "execution_count": 42,
      "outputs": []
    },
    {
      "cell_type": "markdown",
      "source": [
        "## Helpers"
      ],
      "metadata": {
        "id": "Fr5cFugENugL"
      },
      "id": "Fr5cFugENugL"
    },
    {
      "cell_type": "code",
      "source": [
        "# A utility function to extract the price from a string\n",
        "\n",
        "def get_price(s):\n",
        "    s = s.replace('$','').replace(',','')\n",
        "    match = re.search(r\"[-+]?\\d*\\.\\d+|\\d+\", s)\n",
        "    return float(match.group()) if match else 0"
      ],
      "metadata": {
        "id": "rRF5PhHANsTN"
      },
      "id": "rRF5PhHANsTN",
      "execution_count": 103,
      "outputs": []
    },
    {
      "cell_type": "code",
      "source": [
        "# Prompt\n",
        "def messages_for(item):\n",
        "    system_message = \"You estimate prices of items. Reply only with the price, no explanation\"\n",
        "    user_prompt = item.test_prompt().replace(\" to the nearest dollar\",\"\").replace(\"\\n\\nPrice is $\",\"\")\n",
        "    return [\n",
        "        {\"role\": \"system\", \"content\": system_message},\n",
        "        {\"role\": \"user\", \"content\": user_prompt},\n",
        "        {\"role\": \"assistant\", \"content\": \"Price is $\"}\n",
        "    ]"
      ],
      "metadata": {
        "id": "-mDWirZLOTxf"
      },
      "id": "-mDWirZLOTxf",
      "execution_count": 99,
      "outputs": []
    },
    {
      "cell_type": "code",
      "source": [
        "def messages_with_price(item):\n",
        "    system_message = \"You estimate prices of items. Reply only with the price, no explanation\"\n",
        "    user_prompt = item.test_prompt().replace(\" to the nearest dollar\",\"\").replace(\"\\n\\nPrice is $\",\"\")\n",
        "    return [\n",
        "        {\"role\": \"system\", \"content\": system_message},\n",
        "        {\"role\": \"user\", \"content\": user_prompt},\n",
        "        {\"role\": \"assistant\", \"content\": f\"Price is ${item.price:.2f}\"}\n",
        "    ]"
      ],
      "metadata": {
        "id": "ttaE6iO9SAZX"
      },
      "id": "ttaE6iO9SAZX",
      "execution_count": 100,
      "outputs": []
    },
    {
      "cell_type": "markdown",
      "source": [
        "## Baseline *gpt4o*\n",
        "\n",
        "**Error:** $78.02 RMSLE 0.81 Hits 55.6%"
      ],
      "metadata": {
        "id": "N9hXBrSBI2_q"
      },
      "id": "N9hXBrSBI2_q"
    },
    {
      "cell_type": "code",
      "execution_count": 14,
      "id": "03ff4b48-3788-4370-9e34-6592f23d1bce",
      "metadata": {
        "id": "03ff4b48-3788-4370-9e34-6592f23d1bce"
      },
      "outputs": [],
      "source": [
        "def gpt_4o_frontier(item):\n",
        "    response = openai.chat.completions.create(\n",
        "        model=\"gpt-4o-2024-08-06\",\n",
        "        messages=messages_for(item),\n",
        "        seed=42,\n",
        "        max_tokens=5\n",
        "    )\n",
        "    reply = response.choices[0].message.content\n",
        "    return get_price(reply)"
      ]
    },
    {
      "cell_type": "code",
      "source": [
        "Tester.test(gpt_4o_frontier, test)"
      ],
      "metadata": {
        "id": "ymJRsQKRJAhS",
        "outputId": "458537fc-fa71-46f7-e3d6-f7b5bd78dffb",
        "colab": {
          "base_uri": "https://localhost:8080/",
          "height": 1000
        }
      },
      "id": "ymJRsQKRJAhS",
      "execution_count": 19,
      "outputs": [
        {
          "output_type": "stream",
          "name": "stdout",
          "text": [
            "\u001b[93m1: Guess: $280.00 Truth: $374.41 Error: $94.41 SLE: 0.08 Item: OEM AC Compressor w/A/C Repair Kit For F...\u001b[0m\n",
            "\u001b[91m2: Guess: $50.00 Truth: $225.11 Error: $175.11 SLE: 2.22 Item: Motorcraft YB3125 Fan Clutch\u001b[0m\n",
            "\u001b[92m3: Guess: $30.47 Truth: $61.68 Error: $31.21 SLE: 0.47 Item: Dorman 603-159 Front Washer Fluid Reserv...\u001b[0m\n",
            "\u001b[93m4: Guess: $400.00 Truth: $599.99 Error: $199.99 SLE: 0.16 Item: HP Premium 17.3-inch HD Plus Touchscreen...\u001b[0m\n",
            "\u001b[92m5: Guess: $23.99 Truth: $16.99 Error: $7.00 SLE: 0.11 Item: 5-Position Super Switch Pickup Selector ...\u001b[0m\n",
            "\u001b[92m6: Guess: $15.00 Truth: $31.99 Error: $16.99 SLE: 0.52 Item: Horror Bookmarks, Resin Horror Bookmarks...\u001b[0m\n",
            "\u001b[92m7: Guess: $110.47 Truth: $101.79 Error: $8.68 SLE: 0.01 Item: SK6241 - Stinger 4 Gauge 6000 Series Pow...\u001b[0m\n",
            "\u001b[92m8: Guess: $329.00 Truth: $289.00 Error: $40.00 SLE: 0.02 Item: Godox ML60Bi LED Light Kit, Handheld LED...\u001b[0m\n",
            "\u001b[93m9: Guess: $500.00 Truth: $635.86 Error: $135.86 SLE: 0.06 Item: Randall RG75DG3PLUS G3 Plus 100-Watt Com...\u001b[0m\n",
            "\u001b[92m10: Guess: $47.99 Truth: $65.99 Error: $18.00 SLE: 0.10 Item: HOLDWILL 6 Pack LED Shop Light, 4FT 24W ...\u001b[0m\n",
            "\u001b[92m11: Guess: $230.99 Truth: $254.21 Error: $23.22 SLE: 0.01 Item: Viking Horns V103C/1005ATK 3 Gallon Air ...\u001b[0m\n",
            "\u001b[93m12: Guess: $250.00 Truth: $412.99 Error: $162.99 SLE: 0.25 Item: CURT 70110 Custom Tow Bar Base Plate Bra...\u001b[0m\n",
            "\u001b[91m13: Guess: $24.99 Truth: $205.50 Error: $180.51 SLE: 4.30 Item: 10-Pack Solar HAMMERED BRONZE Finish Pos...\u001b[0m\n",
            "\u001b[92m14: Guess: $239.00 Truth: $248.23 Error: $9.23 SLE: 0.00 Item: COSTWAY Electric Tumble Dryer, Sliver\u001b[0m\n",
            "\u001b[91m15: Guess: $239.00 Truth: $399.00 Error: $160.00 SLE: 0.26 Item: FREE SIGNAL TV Transit 32\" 12 Volt DC Po...\u001b[0m\n",
            "\u001b[92m16: Guess: $350.00 Truth: $373.94 Error: $23.94 SLE: 0.00 Item: Bilstein 5100 Monotube Gas Shock Set com...\u001b[0m\n",
            "\u001b[92m17: Guess: $79.99 Truth: $92.89 Error: $12.90 SLE: 0.02 Item: Sangean K-200 Multi-Function Upright AM/...\u001b[0m\n",
            "\u001b[92m18: Guess: $47.99 Truth: $51.99 Error: $4.00 SLE: 0.01 Item: Charles Leonard Magnetic Lapboard Class ...\u001b[0m\n",
            "\u001b[92m19: Guess: $150.00 Truth: $179.00 Error: $29.00 SLE: 0.03 Item: Gigabyte AMD Radeon HD 7870 2 GB GDDR5 D...\u001b[0m\n",
            "\u001b[92m20: Guess: $12.99 Truth: $19.42 Error: $6.43 SLE: 0.14 Item: 3dRose LLC 8 x 8 x 0.25 Inches Bull Terr...\u001b[0m\n",
            "\u001b[92m21: Guess: $599.00 Truth: $539.95 Error: $59.05 SLE: 0.01 Item: ROKINON 85mm F1.4 Auto Focus Full Frame ...\u001b[0m\n",
            "\u001b[92m22: Guess: $180.00 Truth: $147.67 Error: $32.33 SLE: 0.04 Item: AUTOSAVER88 Headlight Assembly Compatibl...\u001b[0m\n",
            "\u001b[92m23: Guess: $35.99 Truth: $24.99 Error: $11.00 SLE: 0.12 Item: ASI NAUTICAL 2.5 Inches Opera Glasses Bi...\u001b[0m\n",
            "\u001b[91m24: Guess: $30.00 Truth: $149.00 Error: $119.00 SLE: 2.49 Item: Behringer TUBE OVERDRIVE TO100 Authentic...\u001b[0m\n",
            "\u001b[92m25: Guess: $13.99 Truth: $16.99 Error: $3.00 SLE: 0.03 Item: Fun Express Insect Finger Puppets - 24 f...\u001b[0m\n",
            "\u001b[92m26: Guess: $8.99 Truth: $7.99 Error: $1.00 SLE: 0.01 Item: WAFJAMF Roller Stamp Identity Theft Stam...\u001b[0m\n",
            "\u001b[92m27: Guess: $210.00 Truth: $199.99 Error: $10.01 SLE: 0.00 Item: Capulina Tiffany Floor Lamp 2-Light 16\" ...\u001b[0m\n",
            "\u001b[93m28: Guess: $329.00 Truth: $251.45 Error: $77.55 SLE: 0.07 Item: Apple Watch Series 6 (GPS, 44mm) - Space...\u001b[0m\n",
            "\u001b[91m29: Guess: $100.00 Truth: $231.62 Error: $131.62 SLE: 0.70 Item: ICON 01725 Tandem Axle Fender Skirt FS17...\u001b[0m\n",
            "\u001b[91m30: Guess: $1,100.00 Truth: $135.00 Error: $965.00 SLE: 4.37 Item: SanDisk 128GB Ultra (10 Pack) MicroSD Cl...\u001b[0m\n",
            "\u001b[93m31: Guess: $250.00 Truth: $356.62 Error: $106.62 SLE: 0.13 Item: Velvac 2020,L,C/Hr,W,E2003,102\",Bk - 715...\u001b[0m\n",
            "\u001b[91m32: Guess: $120.00 Truth: $257.99 Error: $137.99 SLE: 0.58 Item: TCMT Passenger Backrest Sissy Bar & Lugg...\u001b[0m\n",
            "\u001b[92m33: Guess: $25.99 Truth: $27.99 Error: $2.00 SLE: 0.01 Item: Alnicov 63.5MM Brass Tremolo Block，Tremo...\u001b[0m\n",
            "\u001b[91m34: Guess: $55.00 Truth: $171.20 Error: $116.20 SLE: 1.26 Item: Subaru Forester Outback Legacy OEM Engin...\u001b[0m\n",
            "\u001b[91m35: Guess: $350.00 Truth: $225.00 Error: $125.00 SLE: 0.19 Item: Richmond Auto Upholstery - 2012 Dodge Ra...\u001b[0m\n",
            "\u001b[92m36: Guess: $110.00 Truth: $105.00 Error: $5.00 SLE: 0.00 Item: AP-39 Automotive Paint Primer Grey 2K Ur...\u001b[0m\n",
            "\u001b[93m37: Guess: $219.00 Truth: $299.99 Error: $80.99 SLE: 0.10 Item: Road Top Wireless Carplay Retrofit Kit D...\u001b[0m\n",
            "\u001b[92m38: Guess: $500.00 Truth: $535.09 Error: $35.09 SLE: 0.00 Item: Gibson Performance Exhaust 5658 Aluminiz...\u001b[0m\n",
            "\u001b[92m39: Guess: $25.00 Truth: $12.33 Error: $12.67 SLE: 0.45 Item: Bella Tunno Happy Links - Baby Montessor...\u001b[0m\n",
            "\u001b[93m40: Guess: $129.99 Truth: $84.99 Error: $45.00 SLE: 0.18 Item: CANMORE H300 Handheld GPS Golf Device, S...\u001b[0m\n",
            "\u001b[92m41: Guess: $19.99 Truth: $15.99 Error: $4.00 SLE: 0.04 Item: DCPOWER AC Adapter Compatible Replacemen...\u001b[0m\n",
            "\u001b[93m42: Guess: $15.00 Truth: $62.44 Error: $47.44 SLE: 1.90 Item: Sharp, VX2128V, Commercial Desktop Calcu...\u001b[0m\n",
            "\u001b[92m43: Guess: $79.99 Truth: $82.99 Error: $3.00 SLE: 0.00 Item: Melissa & Doug Lifelike Plush Stork Gian...\u001b[0m\n",
            "\u001b[91m44: Guess: $299.99 Truth: $599.95 Error: $299.96 SLE: 0.48 Item: Sony SSCS8 2-Way 3-Driver Center Channel...\u001b[0m\n",
            "\u001b[92m45: Guess: $229.99 Truth: $194.99 Error: $35.00 SLE: 0.03 Item: ASUS Chromebook CX1, 14\" Full HD NanoEdg...\u001b[0m\n",
            "\u001b[91m46: Guess: $650.00 Truth: $344.95 Error: $305.05 SLE: 0.40 Item: FiiO X7 32GB Hi-Res Lossless Music Playe...\u001b[0m\n",
            "\u001b[92m47: Guess: $47.00 Truth: $37.99 Error: $9.01 SLE: 0.04 Item: TORRO Leather Case Compatible with iPhon...\u001b[0m\n",
            "\u001b[93m48: Guess: $280.99 Truth: $224.35 Error: $56.64 SLE: 0.05 Item: Universal Air Conditioner KT 1031 A/C Co...\u001b[0m\n",
            "\u001b[91m49: Guess: $1,200.00 Truth: $814.00 Error: $386.00 SLE: 0.15 Item: Street Series Stainless Performance Cat-...\u001b[0m\n",
            "\u001b[93m50: Guess: $349.99 Truth: $439.88 Error: $89.89 SLE: 0.05 Item: Lenovo IdeaPad 3 14-inch Laptop, 14.0-in...\u001b[0m\n",
            "\u001b[93m51: Guess: $260.00 Truth: $341.43 Error: $81.43 SLE: 0.07 Item: Access Bed Covers TonnoSport 22050219 - ...\u001b[0m\n",
            "\u001b[92m52: Guess: $10.00 Truth: $46.78 Error: $36.78 SLE: 2.16 Item: G.I. JOE Hasbro 3 3/4\" Wave 5 Action Fig...\u001b[0m\n",
            "\u001b[91m53: Guess: $350.00 Truth: $171.44 Error: $178.56 SLE: 0.51 Item: T&S Brass B-0232-BST Double Pantry Fauce...\u001b[0m\n",
            "\u001b[92m54: Guess: $490.00 Truth: $458.00 Error: $32.00 SLE: 0.00 Item: ZTUOAUMA Fuel Injection Pump 3090942 309...\u001b[0m\n",
            "\u001b[92m55: Guess: $149.99 Truth: $130.75 Error: $19.24 SLE: 0.02 Item: 2AP18AA#ABA Hp Prime Graphing Calculator...\u001b[0m\n",
            "\u001b[92m56: Guess: $50.00 Truth: $83.81 Error: $33.81 SLE: 0.26 Item: Lowrance 000-0119-83 Nmea 2000 25' Exten...\u001b[0m\n",
            "\u001b[91m57: Guess: $99.99 Truth: $386.39 Error: $286.40 SLE: 1.81 Item: Jeep Genuine Accessories 82213051 Hood L...\u001b[0m\n",
            "\u001b[93m58: Guess: $110.47 Truth: $169.00 Error: $58.53 SLE: 0.18 Item: GODOX CB-06 Hard Carrying Case with Whee...\u001b[0m\n",
            "\u001b[92m59: Guess: $10.99 Truth: $17.95 Error: $6.96 SLE: 0.21 Item: Au-Tomotive Gold, INC. Ford Black Valet ...\u001b[0m\n",
            "\u001b[92m60: Guess: $250.00 Truth: $269.00 Error: $19.00 SLE: 0.01 Item: Snailfly Black Roof Rack Rail + Cross Ba...\u001b[0m\n",
            "\u001b[93m61: Guess: $30.00 Truth: $77.77 Error: $47.77 SLE: 0.87 Item: KING SHA Anti Glare LED Track Lighting H...\u001b[0m\n",
            "\u001b[93m62: Guess: $150.00 Truth: $88.99 Error: $61.01 SLE: 0.27 Item: APS Compatible with Chevy Silverado 1500...\u001b[0m\n",
            "\u001b[92m63: Guess: $320.00 Truth: $364.41 Error: $44.41 SLE: 0.02 Item: Wilwood Engineering 14011291R Brake Cali...\u001b[0m\n",
            "\u001b[92m64: Guess: $110.00 Truth: $127.03 Error: $17.03 SLE: 0.02 Item: ACDelco Gold 336-1925A Starter, Remanufa...\u001b[0m\n",
            "\u001b[92m65: Guess: $800.00 Truth: $778.95 Error: $21.05 SLE: 0.00 Item: UWS EC10783 69-Inch Matte Black Heavy-Wa...\u001b[0m\n",
            "\u001b[93m66: Guess: $250.00 Truth: $206.66 Error: $43.34 SLE: 0.04 Item: Dell Latitude E5440 14in Business Laptop...\u001b[0m\n",
            "\u001b[92m67: Guess: $30.47 Truth: $35.94 Error: $5.47 SLE: 0.03 Item: (Plug and Play) Spare Tire Brake Light W...\u001b[0m\n",
            "\u001b[92m68: Guess: $150.00 Truth: $149.00 Error: $1.00 SLE: 0.00 Item: The Ultimate Roadside Rescue Assistant\u001b[0m\n",
            "\u001b[92m69: Guess: $239.00 Truth: $251.98 Error: $12.98 SLE: 0.00 Item: Brand New 18\" x 8.5\" Replacement Wheel f...\u001b[0m\n",
            "\u001b[92m70: Guess: $175.99 Truth: $160.00 Error: $15.99 SLE: 0.01 Item: Headlight Headlamp LH Left & RH Right Pa...\u001b[0m\n",
            "\u001b[92m71: Guess: $35.99 Truth: $39.99 Error: $4.00 SLE: 0.01 Item: Lilo And Stitch Deluxe Oversize Print La...\u001b[0m\n",
            "\u001b[91m72: Guess: $180.00 Truth: $362.41 Error: $182.41 SLE: 0.49 Item: AC Compressor & A/C Clutch For Hyundai A...\u001b[0m\n",
            "\u001b[93m73: Guess: $250.00 Truth: $344.00 Error: $94.00 SLE: 0.10 Item: House Of Troy PIN475-AB Pinnacle Collect...\u001b[0m\n",
            "\u001b[92m74: Guess: $15.00 Truth: $25.09 Error: $10.09 SLE: 0.24 Item: Juno T29 WH Floating Electrical Feed Sin...\u001b[0m\n",
            "\u001b[91m75: Guess: $75.00 Truth: $175.95 Error: $100.95 SLE: 0.71 Item: Sherman GO-PARTS - for 2013-2016 Toyota ...\u001b[0m\n",
            "\u001b[92m76: Guess: $129.99 Truth: $132.64 Error: $2.65 SLE: 0.00 Item: Roland RPU-3 Electronic Keyboard Pedal o...\u001b[0m\n",
            "\u001b[91m77: Guess: $750.00 Truth: $422.99 Error: $327.01 SLE: 0.33 Item: Rockland VMI14 12,000 Pound 12 Volt DC E...\u001b[0m\n",
            "\u001b[92m78: Guess: $180.00 Truth: $146.48 Error: $33.52 SLE: 0.04 Item: Max Advanced Brakes Elite XDS Front Cros...\u001b[0m\n",
            "\u001b[92m79: Guess: $150.00 Truth: $156.83 Error: $6.83 SLE: 0.00 Item: Quality-Built 11030 Premium Quality Alte...\u001b[0m\n",
            "\u001b[91m80: Guess: $99.00 Truth: $251.99 Error: $152.99 SLE: 0.86 Item: Lucida LG-510 Student Classical Guitar, ...\u001b[0m\n",
            "\u001b[91m81: Guess: $490.00 Truth: $940.33 Error: $450.33 SLE: 0.42 Item: Longacre 52-79800 Aluminum Turn Plates\u001b[0m\n",
            "\u001b[92m82: Guess: $49.99 Truth: $52.99 Error: $3.00 SLE: 0.00 Item: Motion Pro 08-0380 Adjustable Torque Wre...\u001b[0m\n",
            "\u001b[93m83: Guess: $299.95 Truth: $219.95 Error: $80.00 SLE: 0.10 Item: Glyph Thunderbolt 3 NVMe Dock (0 GB)\u001b[0m\n",
            "\u001b[92m84: Guess: $425.00 Truth: $441.03 Error: $16.03 SLE: 0.00 Item: TOYO Open Country MT Performance Radial ...\u001b[0m\n",
            "\u001b[92m85: Guess: $179.99 Truth: $168.98 Error: $11.01 SLE: 0.00 Item: Razer Seiren X USB Streaming Microphone ...\u001b[0m\n",
            "\u001b[92m86: Guess: $5.99 Truth: $2.49 Error: $3.50 SLE: 0.48 Item: Happy Birthday to Dad From Your Daughter...\u001b[0m\n",
            "\u001b[92m87: Guess: $89.99 Truth: $98.62 Error: $8.63 SLE: 0.01 Item: Little Tikes My Real Jam First Concert S...\u001b[0m\n",
            "\u001b[91m88: Guess: $110.00 Truth: $256.95 Error: $146.95 SLE: 0.71 Item: Studio M Peace and Harmony Art Pole Comm...\u001b[0m\n",
            "\u001b[92m89: Guess: $23.95 Truth: $30.99 Error: $7.04 SLE: 0.06 Item: MyVolts 12V Power Supply Adaptor Compati...\u001b[0m\n",
            "\u001b[92m90: Guess: $499.00 Truth: $569.84 Error: $70.84 SLE: 0.02 Item: Dell Latitude 7212 Rugged Extreme Tablet...\u001b[0m\n",
            "\u001b[91m91: Guess: $50.00 Truth: $177.99 Error: $127.99 SLE: 1.58 Item: Covermates Contour Fit Car Cover - Light...\u001b[0m\n",
            "\u001b[93m92: Guess: $700.00 Truth: $997.99 Error: $297.99 SLE: 0.13 Item: Westin 57-4025 Black HDX Grille Guard fi...\u001b[0m\n",
            "\u001b[91m93: Guess: $110.00 Truth: $219.00 Error: $109.00 SLE: 0.47 Item: Fieldpiece JL2 Job Link Wireless App Tra...\u001b[0m\n",
            "\u001b[93m94: Guess: $180.00 Truth: $225.55 Error: $45.55 SLE: 0.05 Item: hansgrohe Talis S Modern Premium Easy Cl...\u001b[0m\n",
            "\u001b[91m95: Guess: $1,500.00 Truth: $495.95 Error: $1,004.05 SLE: 1.22 Item: G-Technology G-SPEED eS PRO High-Perform...\u001b[0m\n",
            "\u001b[92m96: Guess: $800.00 Truth: $942.37 Error: $142.37 SLE: 0.03 Item: DreamLine SHDR-1960723L-01 Shower Door, ...\u001b[0m\n",
            "\u001b[92m97: Guess: $8.00 Truth: $1.94 Error: $6.06 SLE: 1.25 Item: Sanctuary Square Backplate Finish: Oiled...\u001b[0m\n",
            "\u001b[92m98: Guess: $315.00 Truth: $284.34 Error: $30.66 SLE: 0.01 Item: Pelican Protector 1750 Long Case - Multi...\u001b[0m\n",
            "\u001b[92m99: Guess: $150.00 Truth: $171.90 Error: $21.90 SLE: 0.02 Item: Brock Replacement Driver and Passenger H...\u001b[0m\n",
            "\u001b[92m100: Guess: $129.99 Truth: $144.99 Error: $15.00 SLE: 0.01 Item: Carlinkit Ai Box Mini, Android 11, Multi...\u001b[0m\n",
            "\u001b[91m101: Guess: $1,200.00 Truth: $470.47 Error: $729.53 SLE: 0.87 Item: StarDot NetCamLIVE2 YouTube Live Stream ...\u001b[0m\n",
            "\u001b[92m102: Guess: $30.00 Truth: $66.95 Error: $36.95 SLE: 0.62 Item: Atomic Compatible FILXXCAR0016 16x25x5 M...\u001b[0m\n",
            "\u001b[91m103: Guess: $0.00 Truth: $117.00 Error: $117.00 SLE: 22.76 Item: Bandai Awakening of S. H. s.h.figuarts s...\u001b[0m\n",
            "\u001b[91m104: Guess: $80.00 Truth: $172.14 Error: $92.14 SLE: 0.58 Item: Fit System 62135G Passenger Side Towing ...\u001b[0m\n",
            "\u001b[92m105: Guess: $425.00 Truth: $392.74 Error: $32.26 SLE: 0.01 Item: Black Horse Black Aluminum Exceed Runnin...\u001b[0m\n",
            "\u001b[92m106: Guess: $23.99 Truth: $16.99 Error: $7.00 SLE: 0.11 Item: Dearsun Twinkle Star Color Night Light P...\u001b[0m\n",
            "\u001b[92m107: Guess: $1.00 Truth: $1.34 Error: $0.34 SLE: 0.02 Item: Pokemon - Gallade Spirit Link (83/108) -...\u001b[0m\n",
            "\u001b[93m108: Guess: $250.00 Truth: $349.98 Error: $99.98 SLE: 0.11 Item: Ibanez GA34STCE-NT GIO Series Classical ...\u001b[0m\n",
            "\u001b[91m109: Guess: $800.00 Truth: $370.71 Error: $429.29 SLE: 0.59 Item: Set 2 Heavy Duty 12-16.5 12x16.5 12 Ply ...\u001b[0m\n",
            "\u001b[92m110: Guess: $30.47 Truth: $65.88 Error: $35.41 SLE: 0.57 Item: Hairpin Table Legs 28\" Heavy Duty Hairpi...\u001b[0m\n",
            "\u001b[93m111: Guess: $150.00 Truth: $229.99 Error: $79.99 SLE: 0.18 Item: Marada Racing Seat with Adjustable Slide...\u001b[0m\n",
            "\u001b[92m112: Guess: $6.99 Truth: $9.14 Error: $2.15 SLE: 0.06 Item: Remington Industries 24UL1007STRWHI25 24...\u001b[0m\n",
            "\u001b[93m113: Guess: $150.00 Truth: $199.00 Error: $49.00 SLE: 0.08 Item: Acer S3-391-6046 13.3-inch Ultrabook, In...\u001b[0m\n",
            "\u001b[92m114: Guess: $134.99 Truth: $109.99 Error: $25.00 SLE: 0.04 Item: ICBEAMER 7\" RGB LED Headlights Bulb Halo...\u001b[0m\n",
            "\u001b[93m115: Guess: $425.00 Truth: $570.42 Error: $145.42 SLE: 0.09 Item: R1 Concepts Front Rear Brakes and Rotors...\u001b[0m\n",
            "\u001b[93m116: Guess: $200.00 Truth: $279.99 Error: $79.99 SLE: 0.11 Item: Camplux 2.64 GPM Tankless , Outdoor Port...\u001b[0m\n",
            "\u001b[92m117: Guess: $23.99 Truth: $30.99 Error: $7.00 SLE: 0.06 Item: KNOKLOCK 10 Pack 3.75 Inch(96mm) Kitchen...\u001b[0m\n",
            "\u001b[92m118: Guess: $32.99 Truth: $31.99 Error: $1.00 SLE: 0.00 Item: Valley Enterprises Yaesu USB FTDI CT-62 ...\u001b[0m\n",
            "\u001b[92m119: Guess: $13.99 Truth: $15.90 Error: $1.91 SLE: 0.01 Item: G9 LED Light Bulbs，8W，75W 100W replaceme...\u001b[0m\n",
            "\u001b[92m120: Guess: $59.99 Truth: $45.99 Error: $14.00 SLE: 0.07 Item: ZCHAOZ 4 Lights Antique White Farmhouse ...\u001b[0m\n",
            "\u001b[92m121: Guess: $150.00 Truth: $113.52 Error: $36.48 SLE: 0.08 Item: Honeywell TH8320R1003 Honeywell VisionPr...\u001b[0m\n",
            "\u001b[92m122: Guess: $450.00 Truth: $516.99 Error: $66.99 SLE: 0.02 Item: Patriot Exhaust H8013-1 1-7/8\" Clippster...\u001b[0m\n",
            "\u001b[91m123: Guess: $100.00 Truth: $196.99 Error: $96.99 SLE: 0.45 Item: Fitrite Autopart New Front Left Driver S...\u001b[0m\n",
            "\u001b[92m124: Guess: $47.99 Truth: $46.55 Error: $1.44 SLE: 0.00 Item: Technical Precision Replacement for GE G...\u001b[0m\n",
            "\u001b[93m125: Guess: $260.00 Truth: $356.99 Error: $96.99 SLE: 0.10 Item: Covercraft Carhartt SeatSaver Front Row ...\u001b[0m\n",
            "\u001b[92m126: Guess: $300.00 Truth: $319.95 Error: $19.95 SLE: 0.00 Item: Sennheiser SD Pro 2 (506008) - Double-Si...\u001b[0m\n",
            "\u001b[92m127: Guess: $120.00 Truth: $96.06 Error: $23.94 SLE: 0.05 Item: Hitachi MAF0110 Mass Air Flow Sensor\u001b[0m\n",
            "\u001b[93m128: Guess: $239.99 Truth: $190.99 Error: $49.00 SLE: 0.05 Item: AmScope SE305R-P-LED-PS36A 10X-30X LED C...\u001b[0m\n",
            "\u001b[91m129: Guess: $80.00 Truth: $257.95 Error: $177.95 SLE: 1.35 Item: Front Left Driver Side Window Regulator ...\u001b[0m\n",
            "\u001b[93m130: Guess: $110.00 Truth: $62.95 Error: $47.05 SLE: 0.30 Item: Premium Replica Hubcap Set, Fits Nissan ...\u001b[0m\n",
            "\u001b[92m131: Guess: $49.99 Truth: $47.66 Error: $2.33 SLE: 0.00 Item: Excellerations Phonics Spelling Game for...\u001b[0m\n",
            "\u001b[92m132: Guess: $239.99 Truth: $226.99 Error: $13.00 SLE: 0.00 Item: RC4WD BigDog Dual Axle Scale Car/Truck T...\u001b[0m\n",
            "\u001b[91m133: Guess: $0.00 Truth: $359.95 Error: $359.95 SLE: 34.68 Item: Unknown Stage 2 Clutch Kit - Low Altitud...\u001b[0m\n",
            "\u001b[93m134: Guess: $35.00 Truth: $78.40 Error: $43.40 SLE: 0.63 Item: 2002-2008 Dodge Ram 1500 Mopar 4X4 Emble...\u001b[0m\n",
            "\u001b[92m135: Guess: $180.00 Truth: $172.77 Error: $7.23 SLE: 0.00 Item: Pro Comp Alloys Series 89 Wheel with Pol...\u001b[0m\n",
            "\u001b[93m136: Guess: $250.00 Truth: $316.45 Error: $66.45 SLE: 0.06 Item: Detroit Axle - Front Rear Strut & Coil S...\u001b[0m\n",
            "\u001b[92m137: Guess: $110.00 Truth: $87.99 Error: $22.01 SLE: 0.05 Item: ECCPP Rear Wheel Axle Replacement fit fo...\u001b[0m\n",
            "\u001b[93m138: Guess: $280.00 Truth: $226.63 Error: $53.37 SLE: 0.04 Item: Dell Latitude E6520 Intel i7-2720QM 2.20...\u001b[0m\n",
            "\u001b[92m139: Guess: $30.47 Truth: $31.49 Error: $1.02 SLE: 0.00 Item: F FIERCE CYCLE 251pcs Black Universal Mo...\u001b[0m\n",
            "\u001b[91m140: Guess: $110.00 Truth: $196.00 Error: $86.00 SLE: 0.33 Item: Flash Furniture 4 Pk. HERCULES Series 88...\u001b[0m\n",
            "\u001b[93m141: Guess: $30.47 Truth: $78.40 Error: $47.93 SLE: 0.86 Item: B&M 30287 Throttle Valve/Kickdown Cable,...\u001b[0m\n",
            "\u001b[92m142: Guess: $150.00 Truth: $116.25 Error: $33.75 SLE: 0.06 Item: Gates TCK226 PowerGrip Premium Timing Be...\u001b[0m\n",
            "\u001b[92m143: Guess: $110.00 Truth: $112.78 Error: $2.78 SLE: 0.00 Item: Monroe Shocks & Struts Quick-Strut 17149...\u001b[0m\n",
            "\u001b[92m144: Guess: $30.00 Truth: $27.32 Error: $2.68 SLE: 0.01 Item: Feit Electric BPMR16/GU10/930CA/6 35W EQ...\u001b[0m\n",
            "\u001b[92m145: Guess: $128.99 Truth: $145.91 Error: $16.92 SLE: 0.01 Item: Yellow Jacket 2806 Contractor Extension ...\u001b[0m\n",
            "\u001b[91m146: Guess: $315.99 Truth: $171.09 Error: $144.90 SLE: 0.37 Item: Garage-Pro Tailgate SET Compatible with ...\u001b[0m\n",
            "\u001b[93m147: Guess: $99.99 Truth: $167.95 Error: $67.96 SLE: 0.26 Item: 3M Perfect It Buffing and Polishing Kit ...\u001b[0m\n",
            "\u001b[92m148: Guess: $30.47 Truth: $28.49 Error: $1.98 SLE: 0.00 Item: Chinese Style Dollhouse Model DIY Miniat...\u001b[0m\n",
            "\u001b[92m149: Guess: $99.99 Truth: $122.23 Error: $22.24 SLE: 0.04 Item: Generic NRG Innovations SRK-161H Steerin...\u001b[0m\n",
            "\u001b[92m150: Guess: $30.47 Truth: $32.99 Error: $2.52 SLE: 0.01 Item: Learning Resources Coding Critters Range...\u001b[0m\n",
            "\u001b[92m151: Guess: $50.00 Truth: $71.20 Error: $21.20 SLE: 0.12 Item: Bosch Automotive 15463 Oxygen Sensor, OE...\u001b[0m\n",
            "\u001b[92m152: Guess: $75.00 Truth: $112.75 Error: $37.75 SLE: 0.16 Item: Case of 24-2 Inch Blue Painters Tape - 6...\u001b[0m\n",
            "\u001b[92m153: Guess: $110.00 Truth: $142.43 Error: $32.43 SLE: 0.07 Item: MOCA Engine Water Pump & Fan Clutch fit ...\u001b[0m\n",
            "\u001b[91m154: Guess: $209.99 Truth: $398.99 Error: $189.00 SLE: 0.41 Item: SAREMAS Foot Step Bars for Hyundai Palis...\u001b[0m\n",
            "\u001b[92m155: Guess: $450.00 Truth: $449.00 Error: $1.00 SLE: 0.00 Item: Gretsch G9210 Square Neck Boxcar Mahogan...\u001b[0m\n",
            "\u001b[92m156: Guess: $199.00 Truth: $189.00 Error: $10.00 SLE: 0.00 Item: NikoMaku Mirror Dash Cam Front and Rear ...\u001b[0m\n",
            "\u001b[92m157: Guess: $129.95 Truth: $120.91 Error: $9.04 SLE: 0.01 Item: Fenix HP25R v2.0 USB-C Rechargeable Head...\u001b[0m\n",
            "\u001b[92m158: Guess: $180.00 Truth: $203.53 Error: $23.53 SLE: 0.01 Item: R&L Racing Heavy Duty Roll-Up Soft Tonne...\u001b[0m\n",
            "\u001b[92m159: Guess: $349.99 Truth: $349.99 Error: $0.00 SLE: 0.00 Item: Garmin 010-02258-10 GPSMAP 64sx, Handhel...\u001b[0m\n",
            "\u001b[92m160: Guess: $11.99 Truth: $34.35 Error: $22.36 SLE: 1.00 Item: Brown 5-7/8\" X 8-1/2\" X 3/16\" Thick Heav...\u001b[0m\n",
            "\u001b[92m161: Guess: $399.00 Truth: $384.99 Error: $14.01 SLE: 0.00 Item: GAOMON PD2200 Pen Display & 20 Pen Nibs ...\u001b[0m\n",
            "\u001b[92m162: Guess: $170.00 Truth: $211.00 Error: $41.00 SLE: 0.05 Item: VXMOTOR for 97-03 Ford F150/F250 Lightdu...\u001b[0m\n",
            "\u001b[92m163: Guess: $110.00 Truth: $129.00 Error: $19.00 SLE: 0.02 Item: HP EliteBook 2540p Intel Core i7-640LM X...\u001b[0m\n",
            "\u001b[91m164: Guess: $25.99 Truth: $111.45 Error: $85.46 SLE: 2.04 Item: Green EPX Mixing Nozzles 100-Pack-fits 3...\u001b[0m\n",
            "\u001b[93m165: Guess: $15.00 Truth: $81.12 Error: $66.12 SLE: 2.68 Item: Box Partners 6 1/4 x 3 1/8\" 13 Pt. Manil...\u001b[0m\n",
            "\u001b[91m166: Guess: $229.95 Truth: $457.08 Error: $227.13 SLE: 0.47 Item: Vixen Air 1/2\" NPT Air Ride Suspension H...\u001b[0m\n",
            "\u001b[92m167: Guess: $80.00 Truth: $49.49 Error: $30.51 SLE: 0.22 Item: Smart Floor Lamp, 2700-6500K+RGBPink Mul...\u001b[0m\n",
            "\u001b[93m168: Guess: $30.00 Truth: $80.56 Error: $50.56 SLE: 0.94 Item: SOZG 324mm Wheelbase Body Shell RC Car B...\u001b[0m\n",
            "\u001b[92m169: Guess: $315.99 Truth: $278.39 Error: $37.60 SLE: 0.02 Item: Mickey Thompson ET Street S/S Racing Rad...\u001b[0m\n",
            "\u001b[92m170: Guess: $320.00 Truth: $364.50 Error: $44.50 SLE: 0.02 Item: Pirelli 275/40R20 106W XL RFT P0 PZ4-LUX...\u001b[0m\n",
            "\u001b[92m171: Guess: $367.99 Truth: $378.99 Error: $11.00 SLE: 0.00 Item: Torklift C3212 Rear Tie Down\u001b[0m\n",
            "\u001b[92m172: Guess: $150.00 Truth: $165.28 Error: $15.28 SLE: 0.01 Item: Cardone 78-4226 Remanufactured Ford Comp...\u001b[0m\n",
            "\u001b[92m173: Guess: $30.47 Truth: $56.74 Error: $26.27 SLE: 0.37 Item: Kidde AccessPoint 001798 Supra TouchPoin...\u001b[0m\n",
            "\u001b[93m174: Guess: $210.00 Truth: $307.95 Error: $97.95 SLE: 0.15 Item: 3M Protecta 3100414 Self Retracting Life...\u001b[0m\n",
            "\u001b[93m175: Guess: $80.00 Truth: $38.00 Error: $42.00 SLE: 0.53 Item: Plantronics 89435-01 Wired Headset, Blac...\u001b[0m\n",
            "\u001b[92m176: Guess: $50.00 Truth: $53.00 Error: $3.00 SLE: 0.00 Item: Logitech K750 Wireless Solar Keyboard fo...\u001b[0m\n",
            "\u001b[92m177: Guess: $499.00 Truth: $498.00 Error: $1.00 SLE: 0.00 Item: Olympus PEN E-PL9 Body Only with 3-Inch ...\u001b[0m\n",
            "\u001b[93m178: Guess: $110.00 Truth: $53.99 Error: $56.01 SLE: 0.49 Item: Beck/Arnley 051-6066 Hub & Bearing Assem...\u001b[0m\n",
            "\u001b[93m179: Guess: $250.00 Truth: $350.00 Error: $100.00 SLE: 0.11 Item: Eibach Pro-Kit Performance Springs E10-6...\u001b[0m\n",
            "\u001b[93m180: Guess: $199.99 Truth: $299.95 Error: $99.96 SLE: 0.16 Item: LEGO DC Batman 1989 Batwing 76161 Displa...\u001b[0m\n",
            "\u001b[92m181: Guess: $85.00 Truth: $94.93 Error: $9.93 SLE: 0.01 Item: Kingston Brass KS3608PL Restoration 4-In...\u001b[0m\n",
            "\u001b[93m182: Guess: $499.00 Truth: $379.00 Error: $120.00 SLE: 0.08 Item: Polk Vanishing Series 265-LS In-Wall 3-W...\u001b[0m\n",
            "\u001b[92m183: Guess: $315.00 Truth: $299.95 Error: $15.05 SLE: 0.00 Item: Spec-D Tuning LED Projector Headlights G...\u001b[0m\n",
            "\u001b[92m184: Guess: $25.00 Truth: $24.99 Error: $0.01 SLE: 0.00 Item: RICHMOND & FINCH Airpod Pro Case, Green ...\u001b[0m\n",
            "\u001b[92m185: Guess: $50.00 Truth: $41.04 Error: $8.96 SLE: 0.04 Item: LFA Industries 43B-5A-33JT 1/16-1/2-1.5-...\u001b[0m\n",
            "\u001b[93m186: Guess: $250.00 Truth: $327.90 Error: $77.90 SLE: 0.07 Item: SAUTVS LED Headlight Assembly for Slings...\u001b[0m\n",
            "\u001b[92m187: Guess: $16.99 Truth: $10.99 Error: $6.00 SLE: 0.16 Item: 2 Pack Combo Womens Safety Glasses Impac...\u001b[0m\n",
            "\u001b[92m188: Guess: $14.99 Truth: $14.99 Error: $0.00 SLE: 0.00 Item: Arepa - Venezuelan cuisine - Venezuela P...\u001b[0m\n",
            "\u001b[93m189: Guess: $15.00 Truth: $84.95 Error: $69.95 SLE: 2.83 Item: Schlage Lock Company KS23D2300 Padlock, ...\u001b[0m\n",
            "\u001b[92m190: Guess: $80.00 Truth: $111.00 Error: $31.00 SLE: 0.11 Item: Techni Mobili White Sit to Stand Mobile ...\u001b[0m\n",
            "\u001b[93m191: Guess: $80.00 Truth: $123.73 Error: $43.73 SLE: 0.19 Item: Special Lite Products Contemporary Wall ...\u001b[0m\n",
            "\u001b[91m192: Guess: $800.00 Truth: $557.38 Error: $242.62 SLE: 0.13 Item: Tascam DP-24SD 24-Track Digital Portastu...\u001b[0m\n",
            "\u001b[91m193: Guess: $260.00 Truth: $95.55 Error: $164.45 SLE: 0.99 Item: Glow Lighting 636CC10SP Vista Crystal Fl...\u001b[0m\n",
            "\u001b[93m194: Guess: $210.00 Truth: $154.00 Error: $56.00 SLE: 0.10 Item: Z3 Wind Deflector, Smoke Tint, Lexan, Wi...\u001b[0m\n",
            "\u001b[93m195: Guess: $150.00 Truth: $198.99 Error: $48.99 SLE: 0.08 Item: Olympus E-20 5MP Digital Camera w/ 4x Op...\u001b[0m\n",
            "\u001b[91m196: Guess: $110.47 Truth: $430.44 Error: $319.97 SLE: 1.83 Item: PHYNEDI 1:1000 World Trade Center (1973-...\u001b[0m\n",
            "\u001b[92m197: Guess: $15.99 Truth: $45.67 Error: $29.68 SLE: 1.02 Item: YANGHUAN Unstable Unicorns Adventure Car...\u001b[0m\n",
            "\u001b[93m198: Guess: $150.00 Truth: $249.00 Error: $99.00 SLE: 0.25 Item: Interlogix NX-1820E NetworX Touch Screen...\u001b[0m\n",
            "\u001b[92m199: Guess: $35.00 Truth: $42.99 Error: $7.99 SLE: 0.04 Item: Steering Damper,Universal Motorcycle Han...\u001b[0m\n",
            "\u001b[93m200: Guess: $110.00 Truth: $181.33 Error: $71.33 SLE: 0.25 Item: Amprobe TIC 410A Hot Stick Attachment\u001b[0m\n",
            "\u001b[92m201: Guess: $1.49 Truth: $6.03 Error: $4.54 SLE: 1.08 Item: MyCableMart 3.5mm Plug/Jack, 4 Conductor...\u001b[0m\n",
            "\u001b[92m202: Guess: $30.00 Truth: $29.99 Error: $0.01 SLE: 0.00 Item: OtterBox + Pop Symmetry Series Case for ...\u001b[0m\n",
            "\u001b[91m203: Guess: $500.00 Truth: $899.00 Error: $399.00 SLE: 0.34 Item: Dell XPS X8700-1572BLK Desktop ( Intel C...\u001b[0m\n",
            "\u001b[93m204: Guess: $499.95 Truth: $399.99 Error: $99.96 SLE: 0.05 Item: Franklin Iron Works Sperry Industrial Br...\u001b[0m\n",
            "\u001b[92m205: Guess: $13.99 Truth: $4.66 Error: $9.33 SLE: 0.95 Item: Avery Legal Dividers, Standard Collated ...\u001b[0m\n",
            "\u001b[92m206: Guess: $250.00 Truth: $261.41 Error: $11.41 SLE: 0.00 Item: Moen 8346 Commercial Posi-Temp Pressure ...\u001b[0m\n",
            "\u001b[92m207: Guess: $130.00 Truth: $136.97 Error: $6.97 SLE: 0.00 Item: Carlisle Versa Trail ATR All Terrain Rad...\u001b[0m\n",
            "\u001b[92m208: Guess: $110.47 Truth: $79.00 Error: $31.47 SLE: 0.11 Item: SUNWAYFOTO 44mm Tripod Ball Head Arca Co...\u001b[0m\n",
            "\u001b[93m209: Guess: $600.00 Truth: $444.99 Error: $155.01 SLE: 0.09 Item: NanoBeam AC NBE-5AC-Gen2-US 4 Units 5GHz...\u001b[0m\n",
            "\u001b[92m210: Guess: $349.99 Truth: $411.94 Error: $61.95 SLE: 0.03 Item: WULF 4\" Front 2\" Rear Leveling Lift Kit ...\u001b[0m\n",
            "\u001b[93m211: Guess: $209.00 Truth: $148.40 Error: $60.60 SLE: 0.12 Item: Alera ALEVABFMC Valencia Series Mobile B...\u001b[0m\n",
            "\u001b[91m212: Guess: $70.00 Truth: $244.99 Error: $174.99 SLE: 1.54 Item: YU-GI-OH! Ignition Assault Booster Box\u001b[0m\n",
            "\u001b[93m213: Guess: $150.00 Truth: $86.50 Error: $63.50 SLE: 0.30 Item: 48\" x 36\" Extra-Large Framed Magnetic Bl...\u001b[0m\n",
            "\u001b[91m214: Guess: $75.00 Truth: $297.95 Error: $222.95 SLE: 1.88 Item: Dell Latitude D620 Renewed Notebook PC\u001b[0m\n",
            "\u001b[93m215: Guess: $499.00 Truth: $399.99 Error: $99.01 SLE: 0.05 Item: acer Aspire 5 Laptop, AMD Ryzen 3 5300U ...\u001b[0m\n",
            "\u001b[91m216: Guess: $280.99 Truth: $599.00 Error: $318.01 SLE: 0.57 Item: Elk 31080/6RC-GRN 30 by 6-Inch Viva 6-Li...\u001b[0m\n",
            "\u001b[91m217: Guess: $25.99 Truth: $105.99 Error: $80.00 SLE: 1.90 Item: Barbie Top Model Doll\u001b[0m\n",
            "\u001b[93m218: Guess: $500.00 Truth: $689.00 Error: $189.00 SLE: 0.10 Item: Danby Designer 20-In. Electric Range wit...\u001b[0m\n",
            "\u001b[93m219: Guess: $280.99 Truth: $404.99 Error: $124.00 SLE: 0.13 Item: FixtureDisplays® Metal Truss Podium Doub...\u001b[0m\n",
            "\u001b[93m220: Guess: $150.00 Truth: $207.76 Error: $57.76 SLE: 0.10 Item: ACDelco 13597235 GM Original Equipment A...\u001b[0m\n",
            "\u001b[93m221: Guess: $250.00 Truth: $171.82 Error: $78.18 SLE: 0.14 Item: EBC S1KF1135 Stage-1 Premium Street Brak...\u001b[0m\n",
            "\u001b[92m222: Guess: $350.00 Truth: $293.24 Error: $56.76 SLE: 0.03 Item: FXR Men's Boost FX Jacket (Black/Orange/...\u001b[0m\n",
            "\u001b[92m223: Guess: $329.95 Truth: $374.95 Error: $45.00 SLE: 0.02 Item: SuperATV Scratch Resistant 3-in-1 Flip W...\u001b[0m\n",
            "\u001b[93m224: Guess: $66.95 Truth: $111.99 Error: $45.04 SLE: 0.26 Item: SBU 3 Layer All Weather Mini Van Car Cov...\u001b[0m\n",
            "\u001b[92m225: Guess: $32.99 Truth: $42.99 Error: $10.00 SLE: 0.07 Item: 2 Pack Outdoor Brochure Holder Advertisi...\u001b[0m\n",
            "\u001b[92m226: Guess: $110.00 Truth: $116.71 Error: $6.71 SLE: 0.00 Item: Monroe Shocks & Struts Quick-Strut 17158...\u001b[0m\n",
            "\u001b[91m227: Guess: $239.00 Truth: $118.61 Error: $120.39 SLE: 0.48 Item: Elements of Design Magellan EB235AL Thre...\u001b[0m\n",
            "\u001b[92m228: Guess: $150.00 Truth: $147.12 Error: $2.88 SLE: 0.00 Item: GM Genuine Parts 15-62961 Air Conditioni...\u001b[0m\n",
            "\u001b[92m229: Guess: $110.00 Truth: $119.99 Error: $9.99 SLE: 0.01 Item: Baseus 17-in-1 USB C Docking Station to ...\u001b[0m\n",
            "\u001b[93m230: Guess: $239.99 Truth: $369.98 Error: $129.99 SLE: 0.19 Item: Whitehall™ Personalized Whitehall Capito...\u001b[0m\n",
            "\u001b[92m231: Guess: $262.47 Truth: $315.55 Error: $53.08 SLE: 0.03 Item: Pro Circuit Works Pipe PY05250 for 02-19...\u001b[0m\n",
            "\u001b[93m232: Guess: $239.00 Truth: $190.99 Error: $48.01 SLE: 0.05 Item: HYANKA 15 \"1200W Professional DJ Speaker...\u001b[0m\n",
            "\u001b[93m233: Guess: $110.47 Truth: $155.00 Error: $44.53 SLE: 0.11 Item: Bluetooth X6BT Card Reader Writer Encode...\u001b[0m\n",
            "\u001b[92m234: Guess: $400.00 Truth: $349.99 Error: $50.01 SLE: 0.02 Item: AIRAID Cold Air Intake System by K&N: In...\u001b[0m\n",
            "\u001b[93m235: Guess: $299.99 Truth: $249.99 Error: $50.00 SLE: 0.03 Item: Bostingner Shower Faucets Sets Complete,...\u001b[0m\n",
            "\u001b[92m236: Guess: $30.00 Truth: $42.99 Error: $12.99 SLE: 0.12 Item: PIT66 Front Bumper Turn Signal Lights, C...\u001b[0m\n",
            "\u001b[92m237: Guess: $16.99 Truth: $17.99 Error: $1.00 SLE: 0.00 Item: Caseology Bumpy Compatible with Google P...\u001b[0m\n",
            "\u001b[93m238: Guess: $300.00 Truth: $425.00 Error: $125.00 SLE: 0.12 Item: Fleck 2510 Timer Mechanical Filter Contr...\u001b[0m\n",
            "\u001b[92m239: Guess: $219.00 Truth: $249.99 Error: $30.99 SLE: 0.02 Item: Haloview MC7108 Wireless RV Backup Camer...\u001b[0m\n",
            "\u001b[91m240: Guess: $30.00 Truth: $138.23 Error: $108.23 SLE: 2.26 Item: Schmidt Spiele - Manhattan\u001b[0m\n",
            "\u001b[93m241: Guess: $572.47 Truth: $414.99 Error: $157.48 SLE: 0.10 Item: Corsa 14333 Tip Kit (Ford Mustang GT)\u001b[0m\n",
            "\u001b[92m242: Guess: $180.00 Truth: $168.28 Error: $11.72 SLE: 0.00 Item: Hoshizaki FM116A Fan Motor Kit 1\u001b[0m\n",
            "\u001b[91m243: Guess: $0.00 Truth: $199.99 Error: $199.99 SLE: 28.12 Item: BAINUO Antler Chandelier Lighting,6 Ligh...\u001b[0m\n",
            "\u001b[92m244: Guess: $129.99 Truth: $126.70 Error: $3.29 SLE: 0.00 Item: DNA MOTORING HL-OH-FEXP06-SM-AM Smoke Le...\u001b[0m\n",
            "\u001b[92m245: Guess: $4.00 Truth: $5.91 Error: $1.91 SLE: 0.10 Item: Wera Stainless 3840/1 TS 2.5mm Hex Inser...\u001b[0m\n",
            "\u001b[92m246: Guess: $219.95 Truth: $193.06 Error: $26.89 SLE: 0.02 Item: Celestron - PowerSeeker 127EQ Telescope ...\u001b[0m\n",
            "\u001b[91m247: Guess: $349.99 Truth: $249.99 Error: $100.00 SLE: 0.11 Item: NHOPEEW 10.1inch Android Car Radio Carpl...\u001b[0m\n",
            "\u001b[92m248: Guess: $45.00 Truth: $64.12 Error: $19.12 SLE: 0.12 Item: Other Harmonica (Suzuki-2Timer24- A)\u001b[0m\n",
            "\u001b[92m249: Guess: $150.00 Truth: $114.99 Error: $35.01 SLE: 0.07 Item: Harley Air Filter Venturi Intake Air Cle...\u001b[0m\n",
            "\u001b[92m250: Guess: $800.00 Truth: $926.00 Error: $126.00 SLE: 0.02 Item: Elite Screens Edge Free Ambient Light Re...\u001b[0m\n"
          ]
        },
        {
          "output_type": "display_data",
          "data": {
            "text/plain": [
              "<Figure size 1200x800 with 1 Axes>"
            ],
            "image/png": "[encoded data removed]"
          },
          "metadata": {}
        }
      ]
    },
    {
      "cell_type": "markdown",
      "source": [
        "## Fine tuned baseline *gpt4o*\n",
        "\n",
        "**Error:** $105.37 RMSLE 0.84 Hits 41.2%"
      ],
      "metadata": {
        "id": "RZAsscjePPg4"
      },
      "id": "RZAsscjePPg4"
    },
    {
      "cell_type": "markdown",
      "id": "8be4a889-81c3-42b1-a2fc-034cdc7321a6",
      "metadata": {
        "id": "8be4a889-81c3-42b1-a2fc-034cdc7321a6"
      },
      "source": [
        "### Data Preprocessing\n",
        "\n",
        "Prepare our data for fine-tuning in JSONL (JSON Lines) format and upload to OpenAI"
      ]
    },
    {
      "cell_type": "code",
      "execution_count": 101,
      "id": "c0e5b56c-8a0b-4d8e-a112-ce87efb4e152",
      "metadata": {
        "id": "c0e5b56c-8a0b-4d8e-a112-ce87efb4e152"
      },
      "outputs": [],
      "source": [
        "# Convert the items into a list of json objects - a \"jsonl\" string\n",
        "# Each row represents a message in the form:\n",
        "# {\"messages\" : [{\"role\": \"system\", \"content\": \"You estimate prices...\n",
        "\n",
        "def make_jsonl(items):\n",
        "    result = \"\"\n",
        "    for item in items:\n",
        "        messages = messages_with_price(item)\n",
        "        messages_str = json.dumps(messages)\n",
        "        result += '{\"messages\": ' + messages_str +'}\\n'\n",
        "    return result.strip()"
      ]
    },
    {
      "cell_type": "code",
      "execution_count": 22,
      "id": "7734bff0-95c4-4e67-a87e-7e2254e2c67d",
      "metadata": {
        "id": "7734bff0-95c4-4e67-a87e-7e2254e2c67d"
      },
      "outputs": [],
      "source": [
        "# Convert the items into jsonl and write them to a file\n",
        "\n",
        "def write_jsonl(items, filename):\n",
        "    with open(filename, \"w\") as f:\n",
        "        jsonl = make_jsonl(items)\n",
        "        f.write(jsonl)"
      ]
    },
    {
      "cell_type": "code",
      "execution_count": 23,
      "id": "393d3ad8-999a-4f99-8c04-339d9166d604",
      "metadata": {
        "id": "393d3ad8-999a-4f99-8c04-339d9166d604"
      },
      "outputs": [],
      "source": [
        "write_jsonl(fine_tune_train, \"fine_tune_train.jsonl\")\n",
        "write_jsonl(fine_tune_validation, \"fine_tune_validation.jsonl\")"
      ]
    },
    {
      "cell_type": "code",
      "execution_count": 25,
      "id": "d59ad8d2-c61a-448e-b7ed-232f1606970f",
      "metadata": {
        "id": "d59ad8d2-c61a-448e-b7ed-232f1606970f"
      },
      "outputs": [],
      "source": [
        "with open(\"fine_tune_train.jsonl\", \"rb\") as f:\n",
        "    train_file = openai.files.create(file=f, purpose=\"fine-tune\")"
      ]
    },
    {
      "cell_type": "code",
      "execution_count": 26,
      "id": "083fefba-fd54-47ce-9ff3-aabbc200846f",
      "metadata": {
        "id": "083fefba-fd54-47ce-9ff3-aabbc200846f",
        "outputId": "ca3ae548-1238-4cfa-9161-6398ea7f6635",
        "colab": {
          "base_uri": "https://localhost:8080/"
        }
      },
      "outputs": [
        {
          "output_type": "execute_result",
          "data": {
            "text/plain": [
              "FileObject(id='file-LYev7WjfBjHN2RdRSHosQx', bytes=470371, created_at=1761276256, filename='fine_tune_train.jsonl', object='file', purpose='fine-tune', status='processed', expires_at=None, status_details=None)"
            ]
          },
          "metadata": {},
          "execution_count": 26
        }
      ],
      "source": [
        "train_file"
      ]
    },
    {
      "cell_type": "code",
      "execution_count": 27,
      "id": "97df3360-0760-4422-a556-5f26d23de6dc",
      "metadata": {
        "id": "97df3360-0760-4422-a556-5f26d23de6dc"
      },
      "outputs": [],
      "source": [
        "with open(\"fine_tune_validation.jsonl\", \"rb\") as f:\n",
        "    validation_file = openai.files.create(file=f, purpose=\"fine-tune\")"
      ]
    },
    {
      "cell_type": "code",
      "execution_count": 28,
      "id": "a1abb8f3-9e52-4061-970c-fcf399d8ffa3",
      "metadata": {
        "id": "a1abb8f3-9e52-4061-970c-fcf399d8ffa3",
        "outputId": "8341a8c4-b863-4baf-a5ba-80604854a67c",
        "colab": {
          "base_uri": "https://localhost:8080/"
        }
      },
      "outputs": [
        {
          "output_type": "execute_result",
          "data": {
            "text/plain": [
              "FileObject(id='file-E7F4CkdzSHMM6qJayUPmD1', bytes=47059, created_at=1761276256, filename='fine_tune_validation.jsonl', object='file', purpose='fine-tune', status='processed', expires_at=None, status_details=None)"
            ]
          },
          "metadata": {},
          "execution_count": 28
        }
      ],
      "source": [
        "validation_file"
      ]
    },
    {
      "cell_type": "markdown",
      "source": [
        "### Fine Tune the model"
      ],
      "metadata": {
        "id": "MXXCe72aKdfR"
      },
      "id": "MXXCe72aKdfR"
    },
    {
      "cell_type": "code",
      "execution_count": 116,
      "id": "45421b86-5531-4e42-ab19-d6abbb8f4c13",
      "metadata": {
        "id": "45421b86-5531-4e42-ab19-d6abbb8f4c13",
        "outputId": "c6d85e34-1651-4914-e1d4-e68812d92d2e",
        "colab": {
          "base_uri": "https://localhost:8080/",
          "height": 356
        }
      },
      "outputs": [
        {
          "output_type": "error",
          "ename": "KeyboardInterrupt",
          "evalue": "",
          "traceback": [
            "\u001b[0;31m---------------------------------------------------------------------------\u001b[0m",
            "\u001b[0;31mKeyboardInterrupt\u001b[0m                         Traceback (most recent call last)",
            "\u001b[0;32m/tmp/ipython-input-3317718227.py\u001b[0m in \u001b[0;36m<cell line: 0>\u001b[0;34m()\u001b[0m\n\u001b[0;32m----> 1\u001b[0;31m openai.fine_tuning.jobs.create(\n\u001b[0m\u001b[1;32m      2\u001b[0m     \u001b[0mtraining_file\u001b[0m\u001b[0;34m=\u001b[0m\u001b[0mtrain_file\u001b[0m\u001b[0;34m.\u001b[0m\u001b[0mid\u001b[0m\u001b[0;34m,\u001b[0m\u001b[0;34m\u001b[0m\u001b[0;34m\u001b[0m\u001b[0m\n\u001b[1;32m      3\u001b[0m     \u001b[0mvalidation_file\u001b[0m\u001b[0;34m=\u001b[0m\u001b[0mvalidation_file\u001b[0m\u001b[0;34m.\u001b[0m\u001b[0mid\u001b[0m\u001b[0;34m,\u001b[0m\u001b[0;34m\u001b[0m\u001b[0;34m\u001b[0m\u001b[0m\n\u001b[1;32m      4\u001b[0m     \u001b[0mmodel\u001b[0m\u001b[0;34m=\u001b[0m\u001b[0;34m\"gpt-4o-mini-2024-07-18\"\u001b[0m\u001b[0;34m,\u001b[0m\u001b[0;34m\u001b[0m\u001b[0;34m\u001b[0m\u001b[0m\n\u001b[1;32m      5\u001b[0m     \u001b[0mseed\u001b[0m\u001b[0;34m=\u001b[0m\u001b[0;36m42\u001b[0m\u001b[0;34m,\u001b[0m\u001b[0;34m\u001b[0m\u001b[0;34m\u001b[0m\u001b[0m\n",
            "\u001b[0;32m/usr/local/lib/python3.12/dist-packages/openai/resources/fine_tuning/jobs/jobs.py\u001b[0m in \u001b[0;36mcreate\u001b[0;34m(self, model, training_file, hyperparameters, integrations, metadata, method, seed, suffix, validation_file, extra_headers, extra_query, extra_body, timeout)\u001b[0m\n\u001b[1;32m    156\u001b[0m           \u001b[0mtimeout\u001b[0m\u001b[0;34m:\u001b[0m \u001b[0mOverride\u001b[0m \u001b[0mthe\u001b[0m \u001b[0mclient\u001b[0m\u001b[0;34m-\u001b[0m\u001b[0mlevel\u001b[0m \u001b[0mdefault\u001b[0m \u001b[0mtimeout\u001b[0m \u001b[0;32mfor\u001b[0m \u001b[0mthis\u001b[0m \u001b[0mrequest\u001b[0m\u001b[0;34m,\u001b[0m \u001b[0;32min\u001b[0m \u001b[0mseconds\u001b[0m\u001b[0;34m\u001b[0m\u001b[0;34m\u001b[0m\u001b[0m\n\u001b[1;32m    157\u001b[0m         \"\"\"\n\u001b[0;32m--> 158\u001b[0;31m         return self._post(\n\u001b[0m\u001b[1;32m    159\u001b[0m             \u001b[0;34m\"/fine_tuning/jobs\"\u001b[0m\u001b[0;34m,\u001b[0m\u001b[0;34m\u001b[0m\u001b[0;34m\u001b[0m\u001b[0m\n\u001b[1;32m    160\u001b[0m             body=maybe_transform(\n",
            "\u001b[0;32m/usr/local/lib/python3.12/dist-packages/openai/_base_client.py\u001b[0m in \u001b[0;36mpost\u001b[0;34m(self, path, cast_to, body, options, files, stream, stream_cls)\u001b[0m\n\u001b[1;32m   1257\u001b[0m             \u001b[0mmethod\u001b[0m\u001b[0;34m=\u001b[0m\u001b[0;34m\"post\"\u001b[0m\u001b[0;34m,\u001b[0m \u001b[0murl\u001b[0m\u001b[0;34m=\u001b[0m\u001b[0mpath\u001b[0m\u001b[0;34m,\u001b[0m \u001b[0mjson_data\u001b[0m\u001b[0;34m=\u001b[0m\u001b[0mbody\u001b[0m\u001b[0;34m,\u001b[0m \u001b[0mfiles\u001b[0m\u001b[0;34m=\u001b[0m\u001b[0mto_httpx_files\u001b[0m\u001b[0;34m(\u001b[0m\u001b[0mfiles\u001b[0m\u001b[0;34m)\u001b[0m\u001b[0;34m,\u001b[0m \u001b[0;34m**\u001b[0m\u001b[0moptions\u001b[0m\u001b[0;34m\u001b[0m\u001b[0;34m\u001b[0m\u001b[0m\n\u001b[1;32m   1258\u001b[0m         )\n\u001b[0;32m-> 1259\u001b[0;31m         \u001b[0;32mreturn\u001b[0m \u001b[0mcast\u001b[0m\u001b[0;34m(\u001b[0m\u001b[0mResponseT\u001b[0m\u001b[0;34m,\u001b[0m \u001b[0mself\u001b[0m\u001b[0;34m.\u001b[0m\u001b[0mrequest\u001b[0m\u001b[0;34m(\u001b[0m\u001b[0mcast_to\u001b[0m\u001b[0;34m,\u001b[0m \u001b[0mopts\u001b[0m\u001b[0;34m,\u001b[0m \u001b[0mstream\u001b[0m\u001b[0;34m=\u001b[0m\u001b[0mstream\u001b[0m\u001b[0;34m,\u001b[0m \u001b[0mstream_cls\u001b[0m\u001b[0;34m=\u001b[0m\u001b[0mstream_cls\u001b[0m\u001b[0;34m)\u001b[0m\u001b[0;34m)\u001b[0m\u001b[0;34m\u001b[0m\u001b[0;34m\u001b[0m\u001b[0m\n\u001b[0m\u001b[1;32m   1260\u001b[0m \u001b[0;34m\u001b[0m\u001b[0m\n\u001b[1;32m   1261\u001b[0m     def patch(\n",
            "\u001b[0;32m/usr/local/lib/python3.12/dist-packages/openai/_base_client.py\u001b[0m in \u001b[0;36mrequest\u001b[0;34m(self, cast_to, options, stream, stream_cls)\u001b[0m\n\u001b[1;32m    980\u001b[0m             \u001b[0mresponse\u001b[0m \u001b[0;34m=\u001b[0m \u001b[0;32mNone\u001b[0m\u001b[0;34m\u001b[0m\u001b[0;34m\u001b[0m\u001b[0m\n\u001b[1;32m    981\u001b[0m             \u001b[0;32mtry\u001b[0m\u001b[0;34m:\u001b[0m\u001b[0;34m\u001b[0m\u001b[0;34m\u001b[0m\u001b[0m\n\u001b[0;32m--> 982\u001b[0;31m                 response = self._client.send(\n\u001b[0m\u001b[1;32m    983\u001b[0m                     \u001b[0mrequest\u001b[0m\u001b[0;34m,\u001b[0m\u001b[0;34m\u001b[0m\u001b[0;34m\u001b[0m\u001b[0m\n\u001b[1;32m    984\u001b[0m                     \u001b[0mstream\u001b[0m\u001b[0;34m=\u001b[0m\u001b[0mstream\u001b[0m \u001b[0;32mor\u001b[0m \u001b[0mself\u001b[0m\u001b[0;34m.\u001b[0m\u001b[0m_should_stream_response_body\u001b[0m\u001b[0;34m(\u001b[0m\u001b[0mrequest\u001b[0m\u001b[0;34m=\u001b[0m\u001b[0mrequest\u001b[0m\u001b[0;34m)\u001b[0m\u001b[0;34m,\u001b[0m\u001b[0;34m\u001b[0m\u001b[0;34m\u001b[0m\u001b[0m\n",
            "\u001b[0;32m/usr/local/lib/python3.12/dist-packages/httpx/_client.py\u001b[0m in \u001b[0;36msend\u001b[0;34m(self, request, stream, auth, follow_redirects)\u001b[0m\n\u001b[1;32m    912\u001b[0m         \u001b[0mauth\u001b[0m \u001b[0;34m=\u001b[0m \u001b[0mself\u001b[0m\u001b[0;34m.\u001b[0m\u001b[0m_build_request_auth\u001b[0m\u001b[0;34m(\u001b[0m\u001b[0mrequest\u001b[0m\u001b[0;34m,\u001b[0m \u001b[0mauth\u001b[0m\u001b[0;34m)\u001b[0m\u001b[0;34m\u001b[0m\u001b[0;34m\u001b[0m\u001b[0m\n\u001b[1;32m    913\u001b[0m \u001b[0;34m\u001b[0m\u001b[0m\n\u001b[0;32m--> 914\u001b[0;31m         response = self._send_handling_auth(\n\u001b[0m\u001b[1;32m    915\u001b[0m             \u001b[0mrequest\u001b[0m\u001b[0;34m,\u001b[0m\u001b[0;34m\u001b[0m\u001b[0;34m\u001b[0m\u001b[0m\n\u001b[1;32m    916\u001b[0m             \u001b[0mauth\u001b[0m\u001b[0;34m=\u001b[0m\u001b[0mauth\u001b[0m\u001b[0;34m,\u001b[0m\u001b[0;34m\u001b[0m\u001b[0;34m\u001b[0m\u001b[0m\n",
            "\u001b[0;32m/usr/local/lib/python3.12/dist-packages/httpx/_client.py\u001b[0m in \u001b[0;36m_send_handling_auth\u001b[0;34m(self, request, auth, follow_redirects, history)\u001b[0m\n\u001b[1;32m    940\u001b[0m \u001b[0;34m\u001b[0m\u001b[0m\n\u001b[1;32m    941\u001b[0m             \u001b[0;32mwhile\u001b[0m \u001b[0;32mTrue\u001b[0m\u001b[0;34m:\u001b[0m\u001b[0;34m\u001b[0m\u001b[0;34m\u001b[0m\u001b[0m\n\u001b[0;32m--> 942\u001b[0;31m                 response = self._send_handling_redirects(\n\u001b[0m\u001b[1;32m    943\u001b[0m                     \u001b[0mrequest\u001b[0m\u001b[0;34m,\u001b[0m\u001b[0;34m\u001b[0m\u001b[0;34m\u001b[0m\u001b[0m\n\u001b[1;32m    944\u001b[0m                     \u001b[0mfollow_redirects\u001b[0m\u001b[0;34m=\u001b[0m\u001b[0mfollow_redirects\u001b[0m\u001b[0;34m,\u001b[0m\u001b[0;34m\u001b[0m\u001b[0;34m\u001b[0m\u001b[0m\n",
            "\u001b[0;32m/usr/local/lib/python3.12/dist-packages/httpx/_client.py\u001b[0m in \u001b[0;36m_send_handling_redirects\u001b[0;34m(self, request, follow_redirects, history)\u001b[0m\n\u001b[1;32m    977\u001b[0m                 \u001b[0mhook\u001b[0m\u001b[0;34m(\u001b[0m\u001b[0mrequest\u001b[0m\u001b[0;34m)\u001b[0m\u001b[0;34m\u001b[0m\u001b[0;34m\u001b[0m\u001b[0m\n\u001b[1;32m    978\u001b[0m \u001b[0;34m\u001b[0m\u001b[0m\n\u001b[0;32m--> 979\u001b[0;31m             \u001b[0mresponse\u001b[0m \u001b[0;34m=\u001b[0m \u001b[0mself\u001b[0m\u001b[0;34m.\u001b[0m\u001b[0m_send_single_request\u001b[0m\u001b[0;34m(\u001b[0m\u001b[0mrequest\u001b[0m\u001b[0;34m)\u001b[0m\u001b[0;34m\u001b[0m\u001b[0;34m\u001b[0m\u001b[0m\n\u001b[0m\u001b[1;32m    980\u001b[0m             \u001b[0;32mtry\u001b[0m\u001b[0;34m:\u001b[0m\u001b[0;34m\u001b[0m\u001b[0;34m\u001b[0m\u001b[0m\n\u001b[1;32m    981\u001b[0m                 \u001b[0;32mfor\u001b[0m \u001b[0mhook\u001b[0m \u001b[0;32min\u001b[0m \u001b[0mself\u001b[0m\u001b[0;34m.\u001b[0m\u001b[0m_event_hooks\u001b[0m\u001b[0;34m[\u001b[0m\u001b[0;34m\"response\"\u001b[0m\u001b[0;34m]\u001b[0m\u001b[0;34m:\u001b[0m\u001b[0;34m\u001b[0m\u001b[0;34m\u001b[0m\u001b[0m\n",
            "\u001b[0;32m/usr/local/lib/python3.12/dist-packages/httpx/_client.py\u001b[0m in \u001b[0;36m_send_single_request\u001b[0;34m(self, request)\u001b[0m\n\u001b[1;32m   1012\u001b[0m \u001b[0;34m\u001b[0m\u001b[0m\n\u001b[1;32m   1013\u001b[0m         \u001b[0;32mwith\u001b[0m \u001b[0mrequest_context\u001b[0m\u001b[0;34m(\u001b[0m\u001b[0mrequest\u001b[0m\u001b[0;34m=\u001b[0m\u001b[0mrequest\u001b[0m\u001b[0;34m)\u001b[0m\u001b[0;34m:\u001b[0m\u001b[0;34m\u001b[0m\u001b[0;34m\u001b[0m\u001b[0m\n\u001b[0;32m-> 1014\u001b[0;31m             \u001b[0mresponse\u001b[0m \u001b[0;34m=\u001b[0m \u001b[0mtransport\u001b[0m\u001b[0;34m.\u001b[0m\u001b[0mhandle_request\u001b[0m\u001b[0;34m(\u001b[0m\u001b[0mrequest\u001b[0m\u001b[0;34m)\u001b[0m\u001b[0;34m\u001b[0m\u001b[0;34m\u001b[0m\u001b[0m\n\u001b[0m\u001b[1;32m   1015\u001b[0m \u001b[0;34m\u001b[0m\u001b[0m\n\u001b[1;32m   1016\u001b[0m         \u001b[0;32massert\u001b[0m \u001b[0misinstance\u001b[0m\u001b[0;34m(\u001b[0m\u001b[0mresponse\u001b[0m\u001b[0;34m.\u001b[0m\u001b[0mstream\u001b[0m\u001b[0;34m,\u001b[0m \u001b[0mSyncByteStream\u001b[0m\u001b[0;34m)\u001b[0m\u001b[0;34m\u001b[0m\u001b[0;34m\u001b[0m\u001b[0m\n",
            "\u001b[0;32m/usr/local/lib/python3.12/dist-packages/httpx/_transports/default.py\u001b[0m in \u001b[0;36mhandle_request\u001b[0;34m(self, request)\u001b[0m\n\u001b[1;32m    248\u001b[0m         )\n\u001b[1;32m    249\u001b[0m         \u001b[0;32mwith\u001b[0m \u001b[0mmap_httpcore_exceptions\u001b[0m\u001b[0;34m(\u001b[0m\u001b[0;34m)\u001b[0m\u001b[0;34m:\u001b[0m\u001b[0;34m\u001b[0m\u001b[0;34m\u001b[0m\u001b[0m\n\u001b[0;32m--> 250\u001b[0;31m             \u001b[0mresp\u001b[0m \u001b[0;34m=\u001b[0m \u001b[0mself\u001b[0m\u001b[0;34m.\u001b[0m\u001b[0m_pool\u001b[0m\u001b[0;34m.\u001b[0m\u001b[0mhandle_request\u001b[0m\u001b[0;34m(\u001b[0m\u001b[0mreq\u001b[0m\u001b[0;34m)\u001b[0m\u001b[0;34m\u001b[0m\u001b[0;34m\u001b[0m\u001b[0m\n\u001b[0m\u001b[1;32m    251\u001b[0m \u001b[0;34m\u001b[0m\u001b[0m\n\u001b[1;32m    252\u001b[0m         \u001b[0;32massert\u001b[0m \u001b[0misinstance\u001b[0m\u001b[0;34m(\u001b[0m\u001b[0mresp\u001b[0m\u001b[0;34m.\u001b[0m\u001b[0mstream\u001b[0m\u001b[0;34m,\u001b[0m \u001b[0mtyping\u001b[0m\u001b[0;34m.\u001b[0m\u001b[0mIterable\u001b[0m\u001b[0;34m)\u001b[0m\u001b[0;34m\u001b[0m\u001b[0;34m\u001b[0m\u001b[0m\n",
            "\u001b[0;32m/usr/local/lib/python3.12/dist-packages/httpcore/_sync/connection_pool.py\u001b[0m in \u001b[0;36mhandle_request\u001b[0;34m(self, request)\u001b[0m\n\u001b[1;32m    254\u001b[0m \u001b[0;34m\u001b[0m\u001b[0m\n\u001b[1;32m    255\u001b[0m             \u001b[0mself\u001b[0m\u001b[0;34m.\u001b[0m\u001b[0m_close_connections\u001b[0m\u001b[0;34m(\u001b[0m\u001b[0mclosing\u001b[0m\u001b[0;34m)\u001b[0m\u001b[0;34m\u001b[0m\u001b[0;34m\u001b[0m\u001b[0m\n\u001b[0;32m--> 256\u001b[0;31m             \u001b[0;32mraise\u001b[0m \u001b[0mexc\u001b[0m \u001b[0;32mfrom\u001b[0m \u001b[0;32mNone\u001b[0m\u001b[0;34m\u001b[0m\u001b[0;34m\u001b[0m\u001b[0m\n\u001b[0m\u001b[1;32m    257\u001b[0m \u001b[0;34m\u001b[0m\u001b[0m\n\u001b[1;32m    258\u001b[0m         \u001b[0;31m# Return the response. Note that in this case we still have to manage\u001b[0m\u001b[0;34m\u001b[0m\u001b[0;34m\u001b[0m\u001b[0m\n",
            "\u001b[0;32m/usr/local/lib/python3.12/dist-packages/httpcore/_sync/connection_pool.py\u001b[0m in \u001b[0;36mhandle_request\u001b[0;34m(self, request)\u001b[0m\n\u001b[1;32m    234\u001b[0m                 \u001b[0;32mtry\u001b[0m\u001b[0;34m:\u001b[0m\u001b[0;34m\u001b[0m\u001b[0;34m\u001b[0m\u001b[0m\n\u001b[1;32m    235\u001b[0m                     \u001b[0;31m# Send the request on the assigned connection.\u001b[0m\u001b[0;34m\u001b[0m\u001b[0;34m\u001b[0m\u001b[0m\n\u001b[0;32m--> 236\u001b[0;31m                     response = connection.handle_request(\n\u001b[0m\u001b[1;32m    237\u001b[0m                         \u001b[0mpool_request\u001b[0m\u001b[0;34m.\u001b[0m\u001b[0mrequest\u001b[0m\u001b[0;34m\u001b[0m\u001b[0;34m\u001b[0m\u001b[0m\n\u001b[1;32m    238\u001b[0m                     )\n",
            "\u001b[0;32m/usr/local/lib/python3.12/dist-packages/httpcore/_sync/connection.py\u001b[0m in \u001b[0;36mhandle_request\u001b[0;34m(self, request)\u001b[0m\n\u001b[1;32m    101\u001b[0m             \u001b[0;32mraise\u001b[0m \u001b[0mexc\u001b[0m\u001b[0;34m\u001b[0m\u001b[0;34m\u001b[0m\u001b[0m\n\u001b[1;32m    102\u001b[0m \u001b[0;34m\u001b[0m\u001b[0m\n\u001b[0;32m--> 103\u001b[0;31m         \u001b[0;32mreturn\u001b[0m \u001b[0mself\u001b[0m\u001b[0;34m.\u001b[0m\u001b[0m_connection\u001b[0m\u001b[0;34m.\u001b[0m\u001b[0mhandle_request\u001b[0m\u001b[0;34m(\u001b[0m\u001b[0mrequest\u001b[0m\u001b[0;34m)\u001b[0m\u001b[0;34m\u001b[0m\u001b[0;34m\u001b[0m\u001b[0m\n\u001b[0m\u001b[1;32m    104\u001b[0m \u001b[0;34m\u001b[0m\u001b[0m\n\u001b[1;32m    105\u001b[0m     \u001b[0;32mdef\u001b[0m \u001b[0m_connect\u001b[0m\u001b[0;34m(\u001b[0m\u001b[0mself\u001b[0m\u001b[0;34m,\u001b[0m \u001b[0mrequest\u001b[0m\u001b[0;34m:\u001b[0m \u001b[0mRequest\u001b[0m\u001b[0;34m)\u001b[0m \u001b[0;34m->\u001b[0m \u001b[0mNetworkStream\u001b[0m\u001b[0;34m:\u001b[0m\u001b[0;34m\u001b[0m\u001b[0;34m\u001b[0m\u001b[0m\n",
            "\u001b[0;32m/usr/local/lib/python3.12/dist-packages/httpcore/_sync/http11.py\u001b[0m in \u001b[0;36mhandle_request\u001b[0;34m(self, request)\u001b[0m\n\u001b[1;32m    134\u001b[0m                 \u001b[0;32mwith\u001b[0m \u001b[0mTrace\u001b[0m\u001b[0;34m(\u001b[0m\u001b[0;34m\"response_closed\"\u001b[0m\u001b[0;34m,\u001b[0m \u001b[0mlogger\u001b[0m\u001b[0;34m,\u001b[0m \u001b[0mrequest\u001b[0m\u001b[0;34m)\u001b[0m \u001b[0;32mas\u001b[0m \u001b[0mtrace\u001b[0m\u001b[0;34m:\u001b[0m\u001b[0;34m\u001b[0m\u001b[0;34m\u001b[0m\u001b[0m\n\u001b[1;32m    135\u001b[0m                     \u001b[0mself\u001b[0m\u001b[0;34m.\u001b[0m\u001b[0m_response_closed\u001b[0m\u001b[0;34m(\u001b[0m\u001b[0;34m)\u001b[0m\u001b[0;34m\u001b[0m\u001b[0;34m\u001b[0m\u001b[0m\n\u001b[0;32m--> 136\u001b[0;31m             \u001b[0;32mraise\u001b[0m \u001b[0mexc\u001b[0m\u001b[0;34m\u001b[0m\u001b[0;34m\u001b[0m\u001b[0m\n\u001b[0m\u001b[1;32m    137\u001b[0m \u001b[0;34m\u001b[0m\u001b[0m\n\u001b[1;32m    138\u001b[0m     \u001b[0;31m# Sending the request...\u001b[0m\u001b[0;34m\u001b[0m\u001b[0;34m\u001b[0m\u001b[0m\n",
            "\u001b[0;32m/usr/local/lib/python3.12/dist-packages/httpcore/_sync/http11.py\u001b[0m in \u001b[0;36mhandle_request\u001b[0;34m(self, request)\u001b[0m\n\u001b[1;32m    104\u001b[0m                     \u001b[0mheaders\u001b[0m\u001b[0;34m,\u001b[0m\u001b[0;34m\u001b[0m\u001b[0;34m\u001b[0m\u001b[0m\n\u001b[1;32m    105\u001b[0m                     \u001b[0mtrailing_data\u001b[0m\u001b[0;34m,\u001b[0m\u001b[0;34m\u001b[0m\u001b[0;34m\u001b[0m\u001b[0m\n\u001b[0;32m--> 106\u001b[0;31m                 ) = self._receive_response_headers(**kwargs)\n\u001b[0m\u001b[1;32m    107\u001b[0m                 trace.return_value = (\n\u001b[1;32m    108\u001b[0m                     \u001b[0mhttp_version\u001b[0m\u001b[0;34m,\u001b[0m\u001b[0;34m\u001b[0m\u001b[0;34m\u001b[0m\u001b[0m\n",
            "\u001b[0;32m/usr/local/lib/python3.12/dist-packages/httpcore/_sync/http11.py\u001b[0m in \u001b[0;36m_receive_response_headers\u001b[0;34m(self, request)\u001b[0m\n\u001b[1;32m    175\u001b[0m \u001b[0;34m\u001b[0m\u001b[0m\n\u001b[1;32m    176\u001b[0m         \u001b[0;32mwhile\u001b[0m \u001b[0;32mTrue\u001b[0m\u001b[0;34m:\u001b[0m\u001b[0;34m\u001b[0m\u001b[0;34m\u001b[0m\u001b[0m\n\u001b[0;32m--> 177\u001b[0;31m             \u001b[0mevent\u001b[0m \u001b[0;34m=\u001b[0m \u001b[0mself\u001b[0m\u001b[0;34m.\u001b[0m\u001b[0m_receive_event\u001b[0m\u001b[0;34m(\u001b[0m\u001b[0mtimeout\u001b[0m\u001b[0;34m=\u001b[0m\u001b[0mtimeout\u001b[0m\u001b[0;34m)\u001b[0m\u001b[0;34m\u001b[0m\u001b[0;34m\u001b[0m\u001b[0m\n\u001b[0m\u001b[1;32m    178\u001b[0m             \u001b[0;32mif\u001b[0m \u001b[0misinstance\u001b[0m\u001b[0;34m(\u001b[0m\u001b[0mevent\u001b[0m\u001b[0;34m,\u001b[0m \u001b[0mh11\u001b[0m\u001b[0;34m.\u001b[0m\u001b[0mResponse\u001b[0m\u001b[0;34m)\u001b[0m\u001b[0;34m:\u001b[0m\u001b[0;34m\u001b[0m\u001b[0;34m\u001b[0m\u001b[0m\n\u001b[1;32m    179\u001b[0m                 \u001b[0;32mbreak\u001b[0m\u001b[0;34m\u001b[0m\u001b[0;34m\u001b[0m\u001b[0m\n",
            "\u001b[0;32m/usr/local/lib/python3.12/dist-packages/httpcore/_sync/http11.py\u001b[0m in \u001b[0;36m_receive_event\u001b[0;34m(self, timeout)\u001b[0m\n\u001b[1;32m    215\u001b[0m \u001b[0;34m\u001b[0m\u001b[0m\n\u001b[1;32m    216\u001b[0m             \u001b[0;32mif\u001b[0m \u001b[0mevent\u001b[0m \u001b[0;32mis\u001b[0m \u001b[0mh11\u001b[0m\u001b[0;34m.\u001b[0m\u001b[0mNEED_DATA\u001b[0m\u001b[0;34m:\u001b[0m\u001b[0;34m\u001b[0m\u001b[0;34m\u001b[0m\u001b[0m\n\u001b[0;32m--> 217\u001b[0;31m                 data = self._network_stream.read(\n\u001b[0m\u001b[1;32m    218\u001b[0m                     \u001b[0mself\u001b[0m\u001b[0;34m.\u001b[0m\u001b[0mREAD_NUM_BYTES\u001b[0m\u001b[0;34m,\u001b[0m \u001b[0mtimeout\u001b[0m\u001b[0;34m=\u001b[0m\u001b[0mtimeout\u001b[0m\u001b[0;34m\u001b[0m\u001b[0;34m\u001b[0m\u001b[0m\n\u001b[1;32m    219\u001b[0m                 )\n",
            "\u001b[0;32m/usr/local/lib/python3.12/dist-packages/httpcore/_backends/sync.py\u001b[0m in \u001b[0;36mread\u001b[0;34m(self, max_bytes, timeout)\u001b[0m\n\u001b[1;32m    126\u001b[0m         \u001b[0;32mwith\u001b[0m \u001b[0mmap_exceptions\u001b[0m\u001b[0;34m(\u001b[0m\u001b[0mexc_map\u001b[0m\u001b[0;34m)\u001b[0m\u001b[0;34m:\u001b[0m\u001b[0;34m\u001b[0m\u001b[0;34m\u001b[0m\u001b[0m\n\u001b[1;32m    127\u001b[0m             \u001b[0mself\u001b[0m\u001b[0;34m.\u001b[0m\u001b[0m_sock\u001b[0m\u001b[0;34m.\u001b[0m\u001b[0msettimeout\u001b[0m\u001b[0;34m(\u001b[0m\u001b[0mtimeout\u001b[0m\u001b[0;34m)\u001b[0m\u001b[0;34m\u001b[0m\u001b[0;34m\u001b[0m\u001b[0m\n\u001b[0;32m--> 128\u001b[0;31m             \u001b[0;32mreturn\u001b[0m \u001b[0mself\u001b[0m\u001b[0;34m.\u001b[0m\u001b[0m_sock\u001b[0m\u001b[0;34m.\u001b[0m\u001b[0mrecv\u001b[0m\u001b[0;34m(\u001b[0m\u001b[0mmax_bytes\u001b[0m\u001b[0;34m)\u001b[0m\u001b[0;34m\u001b[0m\u001b[0;34m\u001b[0m\u001b[0m\n\u001b[0m\u001b[1;32m    129\u001b[0m \u001b[0;34m\u001b[0m\u001b[0m\n\u001b[1;32m    130\u001b[0m     \u001b[0;32mdef\u001b[0m \u001b[0mwrite\u001b[0m\u001b[0;34m(\u001b[0m\u001b[0mself\u001b[0m\u001b[0;34m,\u001b[0m \u001b[0mbuffer\u001b[0m\u001b[0;34m:\u001b[0m \u001b[0mbytes\u001b[0m\u001b[0;34m,\u001b[0m \u001b[0mtimeout\u001b[0m\u001b[0;34m:\u001b[0m \u001b[0mfloat\u001b[0m \u001b[0;34m|\u001b[0m \u001b[0;32mNone\u001b[0m \u001b[0;34m=\u001b[0m \u001b[0;32mNone\u001b[0m\u001b[0;34m)\u001b[0m \u001b[0;34m->\u001b[0m \u001b[0;32mNone\u001b[0m\u001b[0;34m:\u001b[0m\u001b[0;34m\u001b[0m\u001b[0;34m\u001b[0m\u001b[0m\n",
            "\u001b[0;32m/usr/lib/python3.12/ssl.py\u001b[0m in \u001b[0;36mrecv\u001b[0;34m(self, buflen, flags)\u001b[0m\n\u001b[1;32m   1230\u001b[0m                     \u001b[0;34m\"non-zero flags not allowed in calls to recv() on %s\"\u001b[0m \u001b[0;34m%\u001b[0m\u001b[0;34m\u001b[0m\u001b[0;34m\u001b[0m\u001b[0m\n\u001b[1;32m   1231\u001b[0m                     self.__class__)\n\u001b[0;32m-> 1232\u001b[0;31m             \u001b[0;32mreturn\u001b[0m \u001b[0mself\u001b[0m\u001b[0;34m.\u001b[0m\u001b[0mread\u001b[0m\u001b[0;34m(\u001b[0m\u001b[0mbuflen\u001b[0m\u001b[0;34m)\u001b[0m\u001b[0;34m\u001b[0m\u001b[0;34m\u001b[0m\u001b[0m\n\u001b[0m\u001b[1;32m   1233\u001b[0m         \u001b[0;32melse\u001b[0m\u001b[0;34m:\u001b[0m\u001b[0;34m\u001b[0m\u001b[0;34m\u001b[0m\u001b[0m\n\u001b[1;32m   1234\u001b[0m             \u001b[0;32mreturn\u001b[0m \u001b[0msuper\u001b[0m\u001b[0;34m(\u001b[0m\u001b[0;34m)\u001b[0m\u001b[0;34m.\u001b[0m\u001b[0mrecv\u001b[0m\u001b[0;34m(\u001b[0m\u001b[0mbuflen\u001b[0m\u001b[0;34m,\u001b[0m \u001b[0mflags\u001b[0m\u001b[0;34m)\u001b[0m\u001b[0;34m\u001b[0m\u001b[0;34m\u001b[0m\u001b[0m\n",
            "\u001b[0;32m/usr/lib/python3.12/ssl.py\u001b[0m in \u001b[0;36mread\u001b[0;34m(self, len, buffer)\u001b[0m\n\u001b[1;32m   1103\u001b[0m                 \u001b[0;32mreturn\u001b[0m \u001b[0mself\u001b[0m\u001b[0;34m.\u001b[0m\u001b[0m_sslobj\u001b[0m\u001b[0;34m.\u001b[0m\u001b[0mread\u001b[0m\u001b[0;34m(\u001b[0m\u001b[0mlen\u001b[0m\u001b[0;34m,\u001b[0m \u001b[0mbuffer\u001b[0m\u001b[0;34m)\u001b[0m\u001b[0;34m\u001b[0m\u001b[0;34m\u001b[0m\u001b[0m\n\u001b[1;32m   1104\u001b[0m             \u001b[0;32melse\u001b[0m\u001b[0;34m:\u001b[0m\u001b[0;34m\u001b[0m\u001b[0;34m\u001b[0m\u001b[0m\n\u001b[0;32m-> 1105\u001b[0;31m                 \u001b[0;32mreturn\u001b[0m \u001b[0mself\u001b[0m\u001b[0;34m.\u001b[0m\u001b[0m_sslobj\u001b[0m\u001b[0;34m.\u001b[0m\u001b[0mread\u001b[0m\u001b[0;34m(\u001b[0m\u001b[0mlen\u001b[0m\u001b[0;34m)\u001b[0m\u001b[0;34m\u001b[0m\u001b[0;34m\u001b[0m\u001b[0m\n\u001b[0m\u001b[1;32m   1106\u001b[0m         \u001b[0;32mexcept\u001b[0m \u001b[0mSSLError\u001b[0m \u001b[0;32mas\u001b[0m \u001b[0mx\u001b[0m\u001b[0;34m:\u001b[0m\u001b[0;34m\u001b[0m\u001b[0;34m\u001b[0m\u001b[0m\n\u001b[1;32m   1107\u001b[0m             \u001b[0;32mif\u001b[0m \u001b[0mx\u001b[0m\u001b[0;34m.\u001b[0m\u001b[0margs\u001b[0m\u001b[0;34m[\u001b[0m\u001b[0;36m0\u001b[0m\u001b[0;34m]\u001b[0m \u001b[0;34m==\u001b[0m \u001b[0mSSL_ERROR_EOF\u001b[0m \u001b[0;32mand\u001b[0m \u001b[0mself\u001b[0m\u001b[0;34m.\u001b[0m\u001b[0msuppress_ragged_eofs\u001b[0m\u001b[0;34m:\u001b[0m\u001b[0;34m\u001b[0m\u001b[0;34m\u001b[0m\u001b[0m\n",
            "\u001b[0;31mKeyboardInterrupt\u001b[0m: "
          ]
        }
      ],
      "source": [
        "openai.fine_tuning.jobs.create(\n",
        "    training_file=train_file.id,\n",
        "    validation_file=validation_file.id,\n",
        "    model=\"gpt-4o-mini-2024-07-18\",\n",
        "    seed=42,\n",
        "    hyperparameters={\"n_epochs\": 1},\n",
        "    integrations = [wandb_integration],\n",
        "    suffix=\"pricer\"\n",
        ")"
      ]
    },
    {
      "cell_type": "code",
      "execution_count": 62,
      "id": "aeb9de2e-542c-4e83-81c7-b6745133e48b",
      "metadata": {
        "id": "aeb9de2e-542c-4e83-81c7-b6745133e48b",
        "outputId": "7ec54438-179d-492f-8dd3-babdd983b4fd",
        "colab": {
          "base_uri": "https://localhost:8080/"
        }
      },
      "outputs": [
        {
          "output_type": "execute_result",
          "data": {
            "text/plain": [
              "SyncCursorPage[FineTuningJob](data=[FineTuningJob(id='ftjob-OzTj9dzJRYqy4YCsMPy0OFFu', created_at=1761276266, error=Error(code=None, message=None, param=None), fine_tuned_model='ft:gpt-4o-mini-2024-07-18:personal:pricer:CU2zCnFT', finished_at=1761277353, hyperparameters=Hyperparameters(batch_size=1, learning_rate_multiplier=1.8, n_epochs=1), model='gpt-4o-mini-2024-07-18', object='fine_tuning.job', organization_id='org-pJCQ5ENOWAeUeCm6e5uj62MI', result_files=['file-9RjUHQ5wpFo3FZ16FDEjz5'], seed=42, status='succeeded', trained_tokens=98018, training_file='file-LYev7WjfBjHN2RdRSHosQx', validation_file='file-E7F4CkdzSHMM6qJayUPmD1', estimated_finish=None, integrations=[FineTuningJobWandbIntegrationObject(type='wandb', wandb=FineTuningJobWandbIntegration(project='gpt-pricer', entity=None, name=None, tags=None, run_id='ftjob-OzTj9dzJRYqy4YCsMPy0OFFu'))], metadata=None, method=Method(type='supervised', dpo=None, reinforcement=None, supervised=SupervisedMethod(hyperparameters=SupervisedHyperparameters(batch_size=1, learning_rate_multiplier=1.8, n_epochs=1))), user_provided_suffix='pricer', usage_metrics=None, shared_with_openai=True, eval_id=None)], has_more=True, object='list')"
            ]
          },
          "metadata": {},
          "execution_count": 62
        }
      ],
      "source": [
        "openai.fine_tuning.jobs.list(limit=1)"
      ]
    },
    {
      "cell_type": "code",
      "execution_count": 63,
      "id": "40d24873-8ff5-413f-b0d4-8f77c28f18e1",
      "metadata": {
        "id": "40d24873-8ff5-413f-b0d4-8f77c28f18e1"
      },
      "outputs": [],
      "source": [
        "job_id = openai.fine_tuning.jobs.list(limit=1).data[0].id"
      ]
    },
    {
      "cell_type": "code",
      "execution_count": 64,
      "id": "a32aef35-4b38-436c-ad00-d082f758efa7",
      "metadata": {
        "id": "a32aef35-4b38-436c-ad00-d082f758efa7",
        "outputId": "e9ef97e8-34de-45b8-d752-4f9ef6b8a986",
        "colab": {
          "base_uri": "https://localhost:8080/",
          "height": 36
        }
      },
      "outputs": [
        {
          "output_type": "execute_result",
          "data": {
            "text/plain": [
              "'ftjob-OzTj9dzJRYqy4YCsMPy0OFFu'"
            ],
            "application/vnd.google.colaboratory.intrinsic+json": {
              "type": "string"
            }
          },
          "metadata": {},
          "execution_count": 64
        }
      ],
      "source": [
        "job_id"
      ]
    },
    {
      "cell_type": "code",
      "execution_count": 65,
      "id": "a7e01247-c133-48e1-93d3-c79c399e6178",
      "metadata": {
        "id": "a7e01247-c133-48e1-93d3-c79c399e6178",
        "outputId": "66f29241-7f1d-4047-9607-d8299c54d2cc",
        "colab": {
          "base_uri": "https://localhost:8080/"
        }
      },
      "outputs": [
        {
          "output_type": "execute_result",
          "data": {
            "text/plain": [
              "FineTuningJob(id='ftjob-OzTj9dzJRYqy4YCsMPy0OFFu', created_at=1761276266, error=Error(code=None, message=None, param=None), fine_tuned_model='ft:gpt-4o-mini-2024-07-18:personal:pricer:CU2zCnFT', finished_at=1761277353, hyperparameters=Hyperparameters(batch_size=1, learning_rate_multiplier=1.8, n_epochs=1), model='gpt-4o-mini-2024-07-18', object='fine_tuning.job', organization_id='org-pJCQ5ENOWAeUeCm6e5uj62MI', result_files=['file-9RjUHQ5wpFo3FZ16FDEjz5'], seed=42, status='succeeded', trained_tokens=98018, training_file='file-LYev7WjfBjHN2RdRSHosQx', validation_file='file-E7F4CkdzSHMM6qJayUPmD1', estimated_finish=None, integrations=[FineTuningJobWandbIntegrationObject(type='wandb', wandb=FineTuningJobWandbIntegration(project='gpt-pricer', entity=None, name=None, tags=None, run_id='ftjob-OzTj9dzJRYqy4YCsMPy0OFFu'))], metadata=None, method=Method(type='supervised', dpo=None, reinforcement=None, supervised=SupervisedMethod(hyperparameters=SupervisedHyperparameters(batch_size=1, learning_rate_multiplier=1.8, n_epochs=1))), user_provided_suffix='pricer', usage_metrics=None, shared_with_openai=True, eval_id=None)"
            ]
          },
          "metadata": {},
          "execution_count": 65
        }
      ],
      "source": [
        "openai.fine_tuning.jobs.retrieve(job_id)"
      ]
    },
    {
      "cell_type": "code",
      "execution_count": 66,
      "id": "0f5150e1-b8de-485f-8eba-cf1e5b00c117",
      "metadata": {
        "id": "0f5150e1-b8de-485f-8eba-cf1e5b00c117",
        "outputId": "12b64ed7-7453-432b-de56-02f2472e6628",
        "colab": {
          "base_uri": "https://localhost:8080/"
        }
      },
      "outputs": [
        {
          "output_type": "execute_result",
          "data": {
            "text/plain": [
              "[FineTuningJobEvent(id='ftevent-EXZnHc0eQa85dvedQMok77Gx', created_at=1761278191, level='info', message='The job has successfully completed', object='fine_tuning.job.event', data={}, type='message'),\n",
              " FineTuningJobEvent(id='ftevent-v9yX2wn2TmR44JSZXRtywHKH', created_at=1761278185, level='info', message='Usage policy evaluations completed, model is now enabled for sampling', object='fine_tuning.job.event', data={}, type='message'),\n",
              " FineTuningJobEvent(id='ftevent-mmrGYs4BFYjYGZn1kh92Xh2h', created_at=1761278185, level='info', message='Moderation checks for snapshot ft:gpt-4o-mini-2024-07-18:personal:pricer:CU2zCnFT passed.', object='fine_tuning.job.event', data={'blocked': False, 'results': [{'flagged': False, 'category': 'harassment/threatening', 'enforcement': 'blocking'}, {'flagged': False, 'category': 'sexual', 'enforcement': 'blocking'}, {'flagged': False, 'category': 'sexual/minors', 'enforcement': 'blocking'}, {'flagged': False, 'category': 'propaganda', 'enforcement': 'blocking'}, {'flagged': False, 'category': 'hate', 'enforcement': 'blocking'}, {'flagged': False, 'category': 'hate/threatening', 'enforcement': 'blocking'}, {'flagged': False, 'category': 'illicit', 'enforcement': 'blocking'}, {'flagged': False, 'category': 'violence', 'enforcement': 'blocking'}, {'flagged': False, 'category': 'advice', 'enforcement': 'blocking'}, {'flagged': False, 'category': 'self-harm/intent', 'enforcement': 'blocking'}, {'flagged': False, 'category': 'self-harm/instructions', 'enforcement': 'non_blocking'}, {'flagged': False, 'category': 'sensitive', 'enforcement': 'blocking'}, {'flagged': False, 'category': 'highly-sensitive', 'enforcement': 'blocking'}, {'flagged': False, 'category': 'biological threats', 'enforcement': 'blocking'}, {'flagged': False, 'category': 'cyber security threats', 'enforcement': 'blocking'}], 'finetuned_model_checkpoint_id': 'ft:gpt-4o-mini-2024-07-18:personal:pricer:CU2zCnFT'}, type='moderation_checks'),\n",
              " FineTuningJobEvent(id='ftevent-QX1uhu4eAaewg16GicczeEZT', created_at=1761277355, level='info', message='Evaluating model against our usage policies', object='fine_tuning.job.event', data={}, type='message'),\n",
              " FineTuningJobEvent(id='ftevent-XNR9IxyMJ8U3fkPNxzjNui8b', created_at=1761277355, level='info', message='New fine-tuned model created', object='fine_tuning.job.event', data={}, type='message'),\n",
              " FineTuningJobEvent(id='ftevent-YOEr4hUnNGBEJGTTgXIWFMsa', created_at=1761277299, level='info', message='Step 500/500: training loss=1.10, validation loss=1.75, full validation loss=1.13', object='fine_tuning.job.event', data={'step': 500, 'train_loss': 1.0978188514709473, 'valid_loss': 1.7470471858978271, 'total_steps': 500, 'full_valid_loss': 1.1269071865081788, 'train_mean_token_accuracy': 0.75, 'valid_mean_token_accuracy': 0.75, 'full_valid_mean_token_accuracy': 0.7975}, type='metrics'),\n",
              " FineTuningJobEvent(id='ftevent-ggNWUZwt0c8MFDhX3lvfhyim', created_at=1761277291, level='info', message='Step 499/500: training loss=1.31', object='fine_tuning.job.event', data={'step': 499, 'train_loss': 1.3126299381256104, 'total_steps': 500, 'train_mean_token_accuracy': 0.875}, type='metrics'),\n",
              " FineTuningJobEvent(id='ftevent-ZS1HUKZ5UZbhGuPp6fxT9RFK', created_at=1761277291, level='info', message='Step 498/500: training loss=0.99', object='fine_tuning.job.event', data={'step': 498, 'train_loss': 0.9922499656677246, 'total_steps': 500, 'train_mean_token_accuracy': 0.75}, type='metrics'),\n",
              " FineTuningJobEvent(id='ftevent-oaJBF1nZER64qY7NBOr01Ois', created_at=1761277291, level='info', message='Step 497/500: training loss=1.27', object='fine_tuning.job.event', data={'step': 497, 'train_loss': 1.2693169116973877, 'total_steps': 500, 'train_mean_token_accuracy': 0.75}, type='metrics'),\n",
              " FineTuningJobEvent(id='ftevent-pAjs0xSwKsB5U1Buj6Jxj5CY', created_at=1761277288, level='info', message='Step 496/500: training loss=1.18', object='fine_tuning.job.event', data={'step': 496, 'train_loss': 1.1769719123840332, 'total_steps': 500, 'train_mean_token_accuracy': 0.875}, type='metrics')]"
            ]
          },
          "metadata": {},
          "execution_count": 66
        }
      ],
      "source": [
        "openai.fine_tuning.jobs.list_events(fine_tuning_job_id=job_id, limit=10).data"
      ]
    },
    {
      "cell_type": "markdown",
      "id": "066fef03-8338-4526-9df3-89b649ad4f0a",
      "metadata": {
        "id": "066fef03-8338-4526-9df3-89b649ad4f0a"
      },
      "source": [
        "### Run inference on the fine tune model"
      ]
    },
    {
      "cell_type": "code",
      "execution_count": 67,
      "id": "fa4488cb-3c17-4eda-abd1-53c1c68a491b",
      "metadata": {
        "id": "fa4488cb-3c17-4eda-abd1-53c1c68a491b"
      },
      "outputs": [],
      "source": [
        "fine_tuned_model_name = openai.fine_tuning.jobs.retrieve(job_id).fine_tuned_model"
      ]
    },
    {
      "cell_type": "code",
      "execution_count": 136,
      "id": "4ff92d61-0d27-4b0d-8b32-c9891016509b",
      "metadata": {
        "id": "4ff92d61-0d27-4b0d-8b32-c9891016509b",
        "outputId": "0cb69513-518e-4e4e-8d9a-6e2a307d2323",
        "colab": {
          "base_uri": "https://localhost:8080/"
        }
      },
      "outputs": [
        {
          "output_type": "execute_result",
          "data": {
            "text/plain": [
              "[{'role': 'system',\n",
              "  'content': 'You estimate prices of items. Reply only with the price, no explanation'},\n",
              " {'role': 'user',\n",
              "  'content': 'How much does this cost?\\n\\nFleck 2510 Timer Mechanical Filter Control Head\\n- Mechanical 2510 control head for filter systems - - 12-day timer initiated backwash - - Maximum 17 GPM backwash (includes 7 GPM DLFC) - - Standard 2. 5 -8 NPSM mounting base - - Requires yoke or bypass to connect to plumbing -Heavy duty 2510 electromechanical control valve provides simple and durable backwash control for most common backwashing filters. A maximum of 17 GPM available backwash can handle even dense iron filter medias. Dedicated piston motor provides powerful piston movement that reduces system maintenance. New Fleck 2510 filter valve replacement for filter tanks Fully adjustable cycles for backwash and rinse times For back-washing filters, allows for strong'},\n",
              " {'role': 'assistant', 'content': 'Price is $'}]"
            ]
          },
          "metadata": {},
          "execution_count": 136
        }
      ],
      "source": [
        "# Try this out\n",
        "\n",
        "messages_for(test[237])"
      ]
    },
    {
      "cell_type": "code",
      "execution_count": 70,
      "id": "501a2a7a-69c8-451b-bbc0-398bcb9e1612",
      "metadata": {
        "id": "501a2a7a-69c8-451b-bbc0-398bcb9e1612"
      },
      "outputs": [],
      "source": [
        "# The function for gpt-4o fine tuned\n",
        "\n",
        "def gpt_fine_tuned(item):\n",
        "    response = openai.chat.completions.create(\n",
        "        model=fine_tuned_model_name,\n",
        "        messages=messages_for(item),\n",
        "        seed=42,\n",
        "        max_tokens=7\n",
        "    )\n",
        "    reply = response.choices[0].message.content\n",
        "    return get_price(reply)"
      ]
    },
    {
      "cell_type": "code",
      "execution_count": 77,
      "id": "843d88b4-364a-431b-b48b-8a7c1f68b786",
      "metadata": {
        "id": "843d88b4-364a-431b-b48b-8a7c1f68b786",
        "outputId": "d8d8d4ff-fb9c-42fa-a198-6c9453581555",
        "colab": {
          "base_uri": "https://localhost:8080/"
        }
      },
      "outputs": [
        {
          "output_type": "stream",
          "name": "stdout",
          "text": [
            "425.0\n",
            "164.5\n"
          ]
        }
      ],
      "source": [
        "print(test[237].price)\n",
        "print(gpt_fine_tuned(test[237]))"
      ]
    },
    {
      "cell_type": "code",
      "execution_count": 102,
      "id": "36bdd2c9-1859-4f99-a09f-3ec83b845b30",
      "metadata": {
        "id": "36bdd2c9-1859-4f99-a09f-3ec83b845b30",
        "outputId": "f0c550d9-9b00-4a9f-e0fb-891c01824344",
        "colab": {
          "base_uri": "https://localhost:8080/",
          "height": 1000
        }
      },
      "outputs": [
        {
          "output_type": "stream",
          "name": "stdout",
          "text": [
            "\u001b[93m1: Guess: $490.77 Truth: $374.41 Error: $116.36 SLE: 0.07 Item: OEM AC Compressor w/A/C Repair Kit For F...\u001b[0m\n",
            "\u001b[91m2: Guess: $76.47 Truth: $225.11 Error: $148.64 SLE: 1.15 Item: Motorcraft YB3125 Fan Clutch\u001b[0m\n",
            "\u001b[92m3: Guess: $65.65 Truth: $61.68 Error: $3.97 SLE: 0.00 Item: Dorman 603-159 Front Washer Fluid Reserv...\u001b[0m\n",
            "\u001b[91m4: Guess: $277.65 Truth: $599.99 Error: $322.34 SLE: 0.59 Item: HP Premium 17.3-inch HD Plus Touchscreen...\u001b[0m\n",
            "\u001b[92m5: Guess: $14.98 Truth: $16.99 Error: $2.01 SLE: 0.01 Item: 5-Position Super Switch Pickup Selector ...\u001b[0m\n",
            "\u001b[92m6: Guess: $13.66 Truth: $31.99 Error: $18.33 SLE: 0.66 Item: Horror Bookmarks, Resin Horror Bookmarks...\u001b[0m\n",
            "\u001b[92m7: Guess: $139.98 Truth: $101.79 Error: $38.19 SLE: 0.10 Item: SK6241 - Stinger 4 Gauge 6000 Series Pow...\u001b[0m\n",
            "\u001b[92m8: Guess: $262.47 Truth: $289.00 Error: $26.53 SLE: 0.01 Item: Godox ML60Bi LED Light Kit, Handheld LED...\u001b[0m\n",
            "\u001b[91m9: Guess: $349.99 Truth: $635.86 Error: $285.87 SLE: 0.35 Item: Randall RG75DG3PLUS G3 Plus 100-Watt Com...\u001b[0m\n",
            "\u001b[92m10: Guess: $69.99 Truth: $65.99 Error: $4.00 SLE: 0.00 Item: HOLDWILL 6 Pack LED Shop Light, 4FT 24W ...\u001b[0m\n",
            "\u001b[93m11: Guess: $174.99 Truth: $254.21 Error: $79.22 SLE: 0.14 Item: Viking Horns V103C/1005ATK 3 Gallon Air ...\u001b[0m\n",
            "\u001b[91m12: Guess: $146.22 Truth: $412.99 Error: $266.77 SLE: 1.07 Item: CURT 70110 Custom Tow Bar Base Plate Bra...\u001b[0m\n",
            "\u001b[91m13: Guess: $49.99 Truth: $205.50 Error: $155.51 SLE: 1.96 Item: 10-Pack Solar HAMMERED BRONZE Finish Pos...\u001b[0m\n",
            "\u001b[92m14: Guess: $219.99 Truth: $248.23 Error: $28.24 SLE: 0.01 Item: COSTWAY Electric Tumble Dryer, Sliver\u001b[0m\n",
            "\u001b[91m15: Guess: $219.99 Truth: $399.00 Error: $179.01 SLE: 0.35 Item: FREE SIGNAL TV Transit 32\" 12 Volt DC Po...\u001b[0m\n",
            "\u001b[91m16: Guess: $47.22 Truth: $373.94 Error: $326.72 SLE: 4.21 Item: Bilstein 5100 Monotube Gas Shock Set com...\u001b[0m\n",
            "\u001b[92m17: Guess: $110.47 Truth: $92.89 Error: $17.58 SLE: 0.03 Item: Sangean K-200 Multi-Function Upright AM/...\u001b[0m\n",
            "\u001b[93m18: Guess: $127.22 Truth: $51.99 Error: $75.23 SLE: 0.78 Item: Charles Leonard Magnetic Lapboard Class ...\u001b[0m\n",
            "\u001b[92m19: Guess: $143.77 Truth: $179.00 Error: $35.23 SLE: 0.05 Item: Gigabyte AMD Radeon HD 7870 2 GB GDDR5 D...\u001b[0m\n",
            "\u001b[92m20: Guess: $24.66 Truth: $19.42 Error: $5.24 SLE: 0.05 Item: 3dRose LLC 8 x 8 x 0.25 Inches Bull Terr...\u001b[0m\n",
            "\u001b[91m21: Guess: $262.47 Truth: $539.95 Error: $277.48 SLE: 0.52 Item: ROKINON 85mm F1.4 Auto Focus Full Frame ...\u001b[0m\n",
            "\u001b[92m22: Guess: $110.47 Truth: $147.67 Error: $37.20 SLE: 0.08 Item: AUTOSAVER88 Headlight Assembly Compatibl...\u001b[0m\n",
            "\u001b[92m23: Guess: $47.95 Truth: $24.99 Error: $22.96 SLE: 0.40 Item: ASI NAUTICAL 2.5 Inches Opera Glasses Bi...\u001b[0m\n",
            "\u001b[91m24: Guess: $47.00 Truth: $149.00 Error: $102.00 SLE: 1.30 Item: Behringer TUBE OVERDRIVE TO100 Authentic...\u001b[0m\n",
            "\u001b[92m25: Guess: $18.65 Truth: $16.99 Error: $1.66 SLE: 0.01 Item: Fun Express Insect Finger Puppets - 24 f...\u001b[0m\n",
            "\u001b[92m26: Guess: $22.99 Truth: $7.99 Error: $15.00 SLE: 0.96 Item: WAFJAMF Roller Stamp Identity Theft Stam...\u001b[0m\n",
            "\u001b[91m27: Guess: $47.99 Truth: $199.99 Error: $152.00 SLE: 1.99 Item: Capulina Tiffany Floor Lamp 2-Light 16\" ...\u001b[0m\n",
            "\u001b[91m28: Guess: $127.99 Truth: $251.45 Error: $123.46 SLE: 0.45 Item: Apple Watch Series 6 (GPS, 44mm) - Space...\u001b[0m\n",
            "\u001b[92m29: Guess: $276.99 Truth: $231.62 Error: $45.37 SLE: 0.03 Item: ICON 01725 Tandem Axle Fender Skirt FS17...\u001b[0m\n",
            "\u001b[92m30: Guess: $139.98 Truth: $135.00 Error: $4.98 SLE: 0.00 Item: SanDisk 128GB Ultra (10 Pack) MicroSD Cl...\u001b[0m\n",
            "\u001b[91m31: Guess: $47.22 Truth: $356.62 Error: $309.40 SLE: 4.01 Item: Velvac 2020,L,C/Hr,W,E2003,102\",Bk - 715...\u001b[0m\n",
            "\u001b[91m32: Guess: $127.99 Truth: $257.99 Error: $130.00 SLE: 0.49 Item: TCMT Passenger Backrest Sissy Bar & Lugg...\u001b[0m\n",
            "\u001b[92m33: Guess: $10.99 Truth: $27.99 Error: $17.00 SLE: 0.78 Item: Alnicov 63.5MM Brass Tremolo Block，Tremo...\u001b[0m\n",
            "\u001b[93m34: Guess: $127.22 Truth: $171.20 Error: $43.98 SLE: 0.09 Item: Subaru Forester Outback Legacy OEM Engin...\u001b[0m\n",
            "\u001b[91m35: Guess: $349.95 Truth: $225.00 Error: $124.95 SLE: 0.19 Item: Richmond Auto Upholstery - 2012 Dodge Ra...\u001b[0m\n",
            "\u001b[93m36: Guess: $47.99 Truth: $105.00 Error: $57.01 SLE: 0.60 Item: AP-39 Automotive Paint Primer Grey 2K Ur...\u001b[0m\n",
            "\u001b[91m37: Guess: $139.98 Truth: $299.99 Error: $160.01 SLE: 0.58 Item: Road Top Wireless Carplay Retrofit Kit D...\u001b[0m\n",
            "\u001b[93m38: Guess: $322.22 Truth: $535.09 Error: $212.87 SLE: 0.26 Item: Gibson Performance Exhaust 5658 Aluminiz...\u001b[0m\n",
            "\u001b[92m39: Guess: $10.99 Truth: $12.33 Error: $1.34 SLE: 0.01 Item: Bella Tunno Happy Links - Baby Montessor...\u001b[0m\n",
            "\u001b[92m40: Guess: $66.47 Truth: $84.99 Error: $18.52 SLE: 0.06 Item: CANMORE H300 Handheld GPS Golf Device, S...\u001b[0m\n",
            "\u001b[92m41: Guess: $22.99 Truth: $15.99 Error: $7.00 SLE: 0.12 Item: DCPOWER AC Adapter Compatible Replacemen...\u001b[0m\n",
            "\u001b[92m42: Guess: $29.65 Truth: $62.44 Error: $32.79 SLE: 0.53 Item: Sharp, VX2128V, Commercial Desktop Calcu...\u001b[0m\n",
            "\u001b[93m43: Guess: $143.65 Truth: $82.99 Error: $60.66 SLE: 0.30 Item: Melissa & Doug Lifelike Plush Stork Gian...\u001b[0m\n",
            "\u001b[91m44: Guess: $174.00 Truth: $599.95 Error: $425.95 SLE: 1.52 Item: Sony SSCS8 2-Way 3-Driver Center Channel...\u001b[0m\n",
            "\u001b[93m45: Guess: $262.47 Truth: $194.99 Error: $67.48 SLE: 0.09 Item: ASUS Chromebook CX1, 14\" Full HD NanoEdg...\u001b[0m\n",
            "\u001b[93m46: Guess: $249.99 Truth: $344.95 Error: $94.96 SLE: 0.10 Item: FiiO X7 32GB Hi-Res Lossless Music Playe...\u001b[0m\n",
            "\u001b[92m47: Guess: $69.99 Truth: $37.99 Error: $32.00 SLE: 0.36 Item: TORRO Leather Case Compatible with iPhon...\u001b[0m\n",
            "\u001b[93m48: Guess: $174.57 Truth: $224.35 Error: $49.78 SLE: 0.06 Item: Universal Air Conditioner KT 1031 A/C Co...\u001b[0m\n",
            "\u001b[91m49: Guess: $262.47 Truth: $814.00 Error: $551.53 SLE: 1.28 Item: Street Series Stainless Performance Cat-...\u001b[0m\n",
            "\u001b[92m50: Guess: $393.69 Truth: $439.88 Error: $46.19 SLE: 0.01 Item: Lenovo IdeaPad 3 14-inch Laptop, 14.0-in...\u001b[0m\n",
            "\u001b[92m51: Guess: $359.00 Truth: $341.43 Error: $17.57 SLE: 0.00 Item: Access Bed Covers TonnoSport 22050219 - ...\u001b[0m\n",
            "\u001b[92m52: Guess: $47.95 Truth: $46.78 Error: $1.17 SLE: 0.00 Item: G.I. JOE Hasbro 3 3/4\" Wave 5 Action Fig...\u001b[0m\n",
            "\u001b[91m53: Guess: $262.47 Truth: $171.44 Error: $91.03 SLE: 0.18 Item: T&S Brass B-0232-BST Double Pantry Fauce...\u001b[0m\n",
            "\u001b[91m54: Guess: $47.99 Truth: $458.00 Error: $410.01 SLE: 5.01 Item: ZTUOAUMA Fuel Injection Pump 3090942 309...\u001b[0m\n",
            "\u001b[92m55: Guess: $128.66 Truth: $130.75 Error: $2.09 SLE: 0.00 Item: 2AP18AA#ABA Hp Prime Graphing Calculator...\u001b[0m\n",
            "\u001b[92m56: Guess: $66.47 Truth: $83.81 Error: $17.34 SLE: 0.05 Item: Lowrance 000-0119-83 Nmea 2000 25' Exten...\u001b[0m\n",
            "\u001b[91m57: Guess: $47.22 Truth: $386.39 Error: $339.17 SLE: 4.34 Item: Jeep Genuine Accessories 82213051 Hood L...\u001b[0m\n",
            "\u001b[92m58: Guess: $139.98 Truth: $169.00 Error: $29.02 SLE: 0.04 Item: GODOX CB-06 Hard Carrying Case with Whee...\u001b[0m\n",
            "\u001b[92m59: Guess: $47.22 Truth: $17.95 Error: $29.27 SLE: 0.87 Item: Au-Tomotive Gold, INC. Ford Black Valet ...\u001b[0m\n",
            "\u001b[91m60: Guess: $127.99 Truth: $269.00 Error: $141.01 SLE: 0.55 Item: Snailfly Black Roof Rack Rail + Cross Ba...\u001b[0m\n",
            "\u001b[92m61: Guess: $47.99 Truth: $77.77 Error: $29.78 SLE: 0.23 Item: KING SHA Anti Glare LED Track Lighting H...\u001b[0m\n",
            "\u001b[92m62: Guess: $110.47 Truth: $88.99 Error: $21.48 SLE: 0.05 Item: APS Compatible with Chevy Silverado 1500...\u001b[0m\n",
            "\u001b[91m63: Guess: $47.22 Truth: $364.41 Error: $317.19 SLE: 4.10 Item: Wilwood Engineering 14011291R Brake Cali...\u001b[0m\n",
            "\u001b[92m64: Guess: $154.65 Truth: $127.03 Error: $27.62 SLE: 0.04 Item: ACDelco Gold 336-1925A Starter, Remanufa...\u001b[0m\n",
            "\u001b[91m65: Guess: $390.22 Truth: $778.95 Error: $388.73 SLE: 0.48 Item: UWS EC10783 69-Inch Matte Black Heavy-Wa...\u001b[0m\n",
            "\u001b[93m66: Guess: $127.99 Truth: $206.66 Error: $78.67 SLE: 0.23 Item: Dell Latitude E5440 14in Business Laptop...\u001b[0m\n",
            "\u001b[92m67: Guess: $65.98 Truth: $35.94 Error: $30.04 SLE: 0.35 Item: (Plug and Play) Spare Tire Brake Light W...\u001b[0m\n",
            "\u001b[92m68: Guess: $110.47 Truth: $149.00 Error: $38.53 SLE: 0.09 Item: The Ultimate Roadside Rescue Assistant\u001b[0m\n",
            "\u001b[92m69: Guess: $221.65 Truth: $251.98 Error: $30.33 SLE: 0.02 Item: Brand New 18\" x 8.5\" Replacement Wheel f...\u001b[0m\n",
            "\u001b[93m70: Guess: $239.66 Truth: $160.00 Error: $79.66 SLE: 0.16 Item: Headlight Headlamp LH Left & RH Right Pa...\u001b[0m\n",
            "\u001b[93m71: Guess: $83.99 Truth: $39.99 Error: $44.00 SLE: 0.53 Item: Lilo And Stitch Deluxe Oversize Print La...\u001b[0m\n",
            "\u001b[91m72: Guess: $143.77 Truth: $362.41 Error: $218.64 SLE: 0.85 Item: AC Compressor & A/C Clutch For Hyundai A...\u001b[0m\n",
            "\u001b[91m73: Guess: $154.65 Truth: $344.00 Error: $189.35 SLE: 0.63 Item: House Of Troy PIN475-AB Pinnacle Collect...\u001b[0m\n",
            "\u001b[92m74: Guess: $22.22 Truth: $25.09 Error: $2.87 SLE: 0.01 Item: Juno T29 WH Floating Electrical Feed Sin...\u001b[0m\n",
            "\u001b[93m75: Guess: $110.47 Truth: $175.95 Error: $65.48 SLE: 0.21 Item: Sherman GO-PARTS - for 2013-2016 Toyota ...\u001b[0m\n",
            "\u001b[91m76: Guess: $47.22 Truth: $132.64 Error: $85.42 SLE: 1.04 Item: Roland RPU-3 Electronic Keyboard Pedal o...\u001b[0m\n",
            "\u001b[91m77: Guess: $219.98 Truth: $422.99 Error: $203.01 SLE: 0.42 Item: Rockland VMI14 12,000 Pound 12 Volt DC E...\u001b[0m\n",
            "\u001b[93m78: Guess: $221.65 Truth: $146.48 Error: $75.17 SLE: 0.17 Item: Max Advanced Brakes Elite XDS Front Cros...\u001b[0m\n",
            "\u001b[91m79: Guess: $47.22 Truth: $156.83 Error: $109.61 SLE: 1.41 Item: Quality-Built 11030 Premium Quality Alte...\u001b[0m\n",
            "\u001b[92m80: Guess: $219.00 Truth: $251.99 Error: $32.99 SLE: 0.02 Item: Lucida LG-510 Student Classical Guitar, ...\u001b[0m\n",
            "\u001b[91m81: Guess: $47.99 Truth: $940.33 Error: $892.34 SLE: 8.74 Item: Longacre 52-79800 Aluminum Turn Plates\u001b[0m\n",
            "\u001b[92m82: Guess: $83.99 Truth: $52.99 Error: $31.00 SLE: 0.21 Item: Motion Pro 08-0380 Adjustable Torque Wre...\u001b[0m\n",
            "\u001b[92m83: Guess: $249.99 Truth: $219.95 Error: $30.04 SLE: 0.02 Item: Glyph Thunderbolt 3 NVMe Dock (0 GB)\u001b[0m\n",
            "\u001b[91m84: Guess: $221.65 Truth: $441.03 Error: $219.38 SLE: 0.47 Item: TOYO Open Country MT Performance Radial ...\u001b[0m\n",
            "\u001b[93m85: Guess: $128.66 Truth: $168.98 Error: $40.32 SLE: 0.07 Item: Razer Seiren X USB Streaming Microphone ...\u001b[0m\n",
            "\u001b[92m86: Guess: $3.99 Truth: $2.49 Error: $1.50 SLE: 0.13 Item: Happy Birthday to Dad From Your Daughter...\u001b[0m\n",
            "\u001b[92m87: Guess: $127.22 Truth: $98.62 Error: $28.60 SLE: 0.06 Item: Little Tikes My Real Jam First Concert S...\u001b[0m\n",
            "\u001b[91m88: Guess: $47.22 Truth: $256.95 Error: $209.73 SLE: 2.81 Item: Studio M Peace and Harmony Art Pole Comm...\u001b[0m\n",
            "\u001b[92m89: Guess: $14.65 Truth: $30.99 Error: $16.34 SLE: 0.51 Item: MyVolts 12V Power Supply Adaptor Compati...\u001b[0m\n",
            "\u001b[93m90: Guess: $393.69 Truth: $569.84 Error: $176.15 SLE: 0.14 Item: Dell Latitude 7212 Rugged Extreme Tablet...\u001b[0m\n",
            "\u001b[91m91: Guess: $262.47 Truth: $177.99 Error: $84.48 SLE: 0.15 Item: Covermates Contour Fit Car Cover - Light...\u001b[0m\n",
            "\u001b[91m92: Guess: $572.47 Truth: $997.99 Error: $425.52 SLE: 0.31 Item: Westin 57-4025 Black HDX Grille Guard fi...\u001b[0m\n",
            "\u001b[91m93: Guess: $47.22 Truth: $219.00 Error: $171.78 SLE: 2.30 Item: Fieldpiece JL2 Job Link Wireless App Tra...\u001b[0m\n",
            "\u001b[93m94: Guess: $143.65 Truth: $225.55 Error: $81.90 SLE: 0.20 Item: hansgrohe Talis S Modern Premium Easy Cl...\u001b[0m\n",
            "\u001b[92m95: Guess: $579.99 Truth: $495.95 Error: $84.04 SLE: 0.02 Item: G-Technology G-SPEED eS PRO High-Perform...\u001b[0m\n",
            "\u001b[92m96: Guess: $953.22 Truth: $942.37 Error: $10.85 SLE: 0.00 Item: DreamLine SHDR-1960723L-01 Shower Door, ...\u001b[0m\n",
            "\u001b[92m97: Guess: $22.22 Truth: $1.94 Error: $20.28 SLE: 4.27 Item: Sanctuary Square Backplate Finish: Oiled...\u001b[0m\n",
            "\u001b[93m98: Guess: $221.65 Truth: $284.34 Error: $62.69 SLE: 0.06 Item: Pelican Protector 1750 Long Case - Multi...\u001b[0m\n",
            "\u001b[93m99: Guess: $127.22 Truth: $171.90 Error: $44.68 SLE: 0.09 Item: Brock Replacement Driver and Passenger H...\u001b[0m\n",
            "\u001b[91m100: Guess: $47.99 Truth: $144.99 Error: $97.00 SLE: 1.19 Item: Carlinkit Ai Box Mini, Android 11, Multi...\u001b[0m\n",
            "\u001b[91m101: Guess: $799.95 Truth: $470.47 Error: $329.48 SLE: 0.28 Item: StarDot NetCamLIVE2 YouTube Live Stream ...\u001b[0m\n",
            "\u001b[92m102: Guess: $47.98 Truth: $66.95 Error: $18.97 SLE: 0.11 Item: Atomic Compatible FILXXCAR0016 16x25x5 M...\u001b[0m\n",
            "\u001b[93m103: Guess: $47.22 Truth: $117.00 Error: $69.78 SLE: 0.80 Item: Bandai Awakening of S. H. s.h.figuarts s...\u001b[0m\n",
            "\u001b[91m104: Guess: $276.99 Truth: $172.14 Error: $104.85 SLE: 0.22 Item: Fit System 62135G Passenger Side Towing ...\u001b[0m\n",
            "\u001b[91m105: Guess: $221.65 Truth: $392.74 Error: $171.09 SLE: 0.33 Item: Black Horse Black Aluminum Exceed Runnin...\u001b[0m\n",
            "\u001b[92m106: Guess: $14.98 Truth: $16.99 Error: $2.01 SLE: 0.01 Item: Dearsun Twinkle Star Color Night Light P...\u001b[0m\n",
            "\u001b[93m107: Guess: $47.22 Truth: $1.34 Error: $45.88 SLE: 9.15 Item: Pokemon - Gallade Spirit Link (83/108) -...\u001b[0m\n",
            "\u001b[93m108: Guess: $239.99 Truth: $349.98 Error: $109.99 SLE: 0.14 Item: Ibanez GA34STCE-NT GIO Series Classical ...\u001b[0m\n",
            "\u001b[91m109: Guess: $726.98 Truth: $370.71 Error: $356.27 SLE: 0.45 Item: Set 2 Heavy Duty 12-16.5 12x16.5 12 Ply ...\u001b[0m\n",
            "\u001b[93m110: Guess: $139.98 Truth: $65.88 Error: $74.10 SLE: 0.56 Item: Hairpin Table Legs 28\" Heavy Duty Hairpi...\u001b[0m\n",
            "\u001b[93m111: Guess: $139.98 Truth: $229.99 Error: $90.01 SLE: 0.24 Item: Marada Racing Seat with Adjustable Slide...\u001b[0m\n",
            "\u001b[92m112: Guess: $18.65 Truth: $9.14 Error: $9.51 SLE: 0.44 Item: Remington Industries 24UL1007STRWHI25 24...\u001b[0m\n",
            "\u001b[91m113: Guess: $594.00 Truth: $199.00 Error: $395.00 SLE: 1.19 Item: Acer S3-391-6046 13.3-inch Ultrabook, In...\u001b[0m\n",
            "\u001b[93m114: Guess: $179.99 Truth: $109.99 Error: $70.00 SLE: 0.24 Item: ICBEAMER 7\" RGB LED Headlights Bulb Halo...\u001b[0m\n",
            "\u001b[92m115: Guess: $594.65 Truth: $570.42 Error: $24.23 SLE: 0.00 Item: R1 Concepts Front Rear Brakes and Rotors...\u001b[0m\n",
            "\u001b[91m116: Guess: $600.97 Truth: $279.99 Error: $320.98 SLE: 0.58 Item: Camplux 2.64 GPM Tankless , Outdoor Port...\u001b[0m\n",
            "\u001b[92m117: Guess: $33.98 Truth: $30.99 Error: $2.99 SLE: 0.01 Item: KNOKLOCK 10 Pack 3.75 Inch(96mm) Kitchen...\u001b[0m\n",
            "\u001b[92m118: Guess: $31.99 Truth: $31.99 Error: $0.00 SLE: 0.00 Item: Valley Enterprises Yaesu USB FTDI CT-62 ...\u001b[0m\n",
            "\u001b[92m119: Guess: $33.98 Truth: $15.90 Error: $18.08 SLE: 0.53 Item: G9 LED Light Bulbs，8W，75W 100W replaceme...\u001b[0m\n",
            "\u001b[92m120: Guess: $69.99 Truth: $45.99 Error: $24.00 SLE: 0.17 Item: ZCHAOZ 4 Lights Antique White Farmhouse ...\u001b[0m\n",
            "\u001b[93m121: Guess: $154.65 Truth: $113.52 Error: $41.13 SLE: 0.09 Item: Honeywell TH8320R1003 Honeywell VisionPr...\u001b[0m\n",
            "\u001b[92m122: Guess: $453.98 Truth: $516.99 Error: $63.01 SLE: 0.02 Item: Patriot Exhaust H8013-1 1-7/8\" Clippster...\u001b[0m\n",
            "\u001b[92m123: Guess: $174.99 Truth: $196.99 Error: $22.00 SLE: 0.01 Item: Fitrite Autopart New Front Left Driver S...\u001b[0m\n",
            "\u001b[92m124: Guess: $22.99 Truth: $46.55 Error: $23.56 SLE: 0.47 Item: Technical Precision Replacement for GE G...\u001b[0m\n",
            "\u001b[93m125: Guess: $262.47 Truth: $356.99 Error: $94.52 SLE: 0.09 Item: Covercraft Carhartt SeatSaver Front Row ...\u001b[0m\n",
            "\u001b[93m126: Guess: $219.65 Truth: $319.95 Error: $100.30 SLE: 0.14 Item: Sennheiser SD Pro 2 (506008) - Double-Si...\u001b[0m\n",
            "\u001b[93m127: Guess: $47.22 Truth: $96.06 Error: $48.84 SLE: 0.49 Item: Hitachi MAF0110 Mass Air Flow Sensor\u001b[0m\n",
            "\u001b[93m128: Guess: $147.00 Truth: $190.99 Error: $43.99 SLE: 0.07 Item: AmScope SE305R-P-LED-PS36A 10X-30X LED C...\u001b[0m\n",
            "\u001b[91m129: Guess: $127.22 Truth: $257.95 Error: $130.73 SLE: 0.49 Item: Front Left Driver Side Window Regulator ...\u001b[0m\n",
            "\u001b[93m130: Guess: $139.98 Truth: $62.95 Error: $77.03 SLE: 0.62 Item: Premium Replica Hubcap Set, Fits Nissan ...\u001b[0m\n",
            "\u001b[92m131: Guess: $83.49 Truth: $47.66 Error: $35.83 SLE: 0.30 Item: Excellerations Phonics Spelling Game for...\u001b[0m\n",
            "\u001b[91m132: Guess: $594.99 Truth: $226.99 Error: $368.00 SLE: 0.92 Item: RC4WD BigDog Dual Axle Scale Car/Truck T...\u001b[0m\n",
            "\u001b[93m133: Guess: $274.99 Truth: $359.95 Error: $84.96 SLE: 0.07 Item: Unknown Stage 2 Clutch Kit - Low Altitud...\u001b[0m\n",
            "\u001b[92m134: Guess: $47.22 Truth: $78.40 Error: $31.18 SLE: 0.25 Item: 2002-2008 Dodge Ram 1500 Mopar 4X4 Emble...\u001b[0m\n",
            "\u001b[93m135: Guess: $110.47 Truth: $172.77 Error: $62.30 SLE: 0.20 Item: Pro Comp Alloys Series 89 Wheel with Pol...\u001b[0m\n",
            "\u001b[93m136: Guess: $390.22 Truth: $316.45 Error: $73.77 SLE: 0.04 Item: Detroit Axle - Front Rear Strut & Coil S...\u001b[0m\n",
            "\u001b[92m137: Guess: $119.49 Truth: $87.99 Error: $31.50 SLE: 0.09 Item: ECCPP Rear Wheel Axle Replacement fit fo...\u001b[0m\n",
            "\u001b[91m138: Guess: $127.99 Truth: $226.63 Error: $98.64 SLE: 0.32 Item: Dell Latitude E6520 Intel i7-2720QM 2.20...\u001b[0m\n",
            "\u001b[92m139: Guess: $33.98 Truth: $31.49 Error: $2.49 SLE: 0.01 Item: F FIERCE CYCLE 251pcs Black Universal Mo...\u001b[0m\n",
            "\u001b[93m140: Guess: $154.65 Truth: $196.00 Error: $41.35 SLE: 0.06 Item: Flash Furniture 4 Pk. HERCULES Series 88...\u001b[0m\n",
            "\u001b[92m141: Guess: $65.65 Truth: $78.40 Error: $12.75 SLE: 0.03 Item: B&M 30287 Throttle Valve/Kickdown Cable,...\u001b[0m\n",
            "\u001b[92m142: Guess: $147.65 Truth: $116.25 Error: $31.40 SLE: 0.06 Item: Gates TCK226 PowerGrip Premium Timing Be...\u001b[0m\n",
            "\u001b[91m143: Guess: $202.65 Truth: $112.78 Error: $89.87 SLE: 0.34 Item: Monroe Shocks & Struts Quick-Strut 17149...\u001b[0m\n",
            "\u001b[92m144: Guess: $66.47 Truth: $27.32 Error: $39.15 SLE: 0.75 Item: Feit Electric BPMR16/GU10/930CA/6 35W EQ...\u001b[0m\n",
            "\u001b[92m145: Guess: $109.77 Truth: $145.91 Error: $36.14 SLE: 0.08 Item: Yellow Jacket 2806 Contractor Extension ...\u001b[0m\n",
            "\u001b[91m146: Guess: $66.47 Truth: $171.09 Error: $104.62 SLE: 0.88 Item: Garage-Pro Tailgate SET Compatible with ...\u001b[0m\n",
            "\u001b[91m147: Guess: $47.98 Truth: $167.95 Error: $119.97 SLE: 1.53 Item: 3M Perfect It Buffing and Polishing Kit ...\u001b[0m\n",
            "\u001b[92m148: Guess: $65.98 Truth: $28.49 Error: $37.49 SLE: 0.67 Item: Chinese Style Dollhouse Model DIY Miniat...\u001b[0m\n",
            "\u001b[93m149: Guess: $47.95 Truth: $122.23 Error: $74.28 SLE: 0.85 Item: Generic NRG Innovations SRK-161H Steerin...\u001b[0m\n",
            "\u001b[92m150: Guess: $34.65 Truth: $32.99 Error: $1.66 SLE: 0.00 Item: Learning Resources Coding Critters Range...\u001b[0m\n",
            "\u001b[92m151: Guess: $66.47 Truth: $71.20 Error: $4.73 SLE: 0.00 Item: Bosch Automotive 15463 Oxygen Sensor, OE...\u001b[0m\n",
            "\u001b[93m152: Guess: $57.65 Truth: $112.75 Error: $55.10 SLE: 0.44 Item: Case of 24-2 Inch Blue Painters Tape - 6...\u001b[0m\n",
            "\u001b[92m153: Guess: $154.98 Truth: $142.43 Error: $12.55 SLE: 0.01 Item: MOCA Engine Water Pump & Fan Clutch fit ...\u001b[0m\n",
            "\u001b[91m154: Guess: $196.99 Truth: $398.99 Error: $202.00 SLE: 0.49 Item: SAREMAS Foot Step Bars for Hyundai Palis...\u001b[0m\n",
            "\u001b[93m155: Guess: $599.99 Truth: $449.00 Error: $150.99 SLE: 0.08 Item: Gretsch G9210 Square Neck Boxcar Mahogan...\u001b[0m\n",
            "\u001b[91m156: Guess: $47.99 Truth: $189.00 Error: $141.01 SLE: 1.84 Item: NikoMaku Mirror Dash Cam Front and Rear ...\u001b[0m\n",
            "\u001b[92m157: Guess: $110.47 Truth: $120.91 Error: $10.44 SLE: 0.01 Item: Fenix HP25R v2.0 USB-C Rechargeable Head...\u001b[0m\n",
            "\u001b[93m158: Guess: $127.99 Truth: $203.53 Error: $75.54 SLE: 0.21 Item: R&L Racing Heavy Duty Roll-Up Soft Tonne...\u001b[0m\n",
            "\u001b[92m159: Guess: $393.69 Truth: $349.99 Error: $43.70 SLE: 0.01 Item: Garmin 010-02258-10 GPSMAP 64sx, Handhel...\u001b[0m\n",
            "\u001b[92m160: Guess: $30.47 Truth: $34.35 Error: $3.88 SLE: 0.01 Item: Brown 5-7/8\" X 8-1/2\" X 3/16\" Thick Heav...\u001b[0m\n",
            "\u001b[91m161: Guess: $219.99 Truth: $384.99 Error: $165.00 SLE: 0.31 Item: GAOMON PD2200 Pen Display & 20 Pen Nibs ...\u001b[0m\n",
            "\u001b[91m162: Guess: $100.69 Truth: $211.00 Error: $110.31 SLE: 0.54 Item: VXMOTOR for 97-03 Ford F150/F250 Lightdu...\u001b[0m\n",
            "\u001b[92m163: Guess: $139.98 Truth: $129.00 Error: $10.98 SLE: 0.01 Item: HP EliteBook 2540p Intel Core i7-640LM X...\u001b[0m\n",
            "\u001b[91m164: Guess: $10.99 Truth: $111.45 Error: $100.46 SLE: 5.01 Item: Green EPX Mixing Nozzles 100-Pack-fits 3...\u001b[0m\n",
            "\u001b[92m165: Guess: $66.47 Truth: $81.12 Error: $14.65 SLE: 0.04 Item: Box Partners 6 1/4 x 3 1/8\" 13 Pt. Manil...\u001b[0m\n",
            "\u001b[91m166: Guess: $139.98 Truth: $457.08 Error: $317.10 SLE: 1.39 Item: Vixen Air 1/2\" NPT Air Ride Suspension H...\u001b[0m\n",
            "\u001b[92m167: Guess: $69.99 Truth: $49.49 Error: $20.50 SLE: 0.12 Item: Smart Floor Lamp, 2700-6500K+RGBPink Mul...\u001b[0m\n",
            "\u001b[92m168: Guess: $47.99 Truth: $80.56 Error: $32.57 SLE: 0.26 Item: SOZG 324mm Wheelbase Body Shell RC Car B...\u001b[0m\n",
            "\u001b[92m169: Guess: $262.47 Truth: $278.39 Error: $15.92 SLE: 0.00 Item: Mickey Thompson ET Street S/S Racing Rad...\u001b[0m\n",
            "\u001b[91m170: Guess: $47.22 Truth: $364.50 Error: $317.28 SLE: 4.10 Item: Pirelli 275/40R20 106W XL RFT P0 PZ4-LUX...\u001b[0m\n",
            "\u001b[91m171: Guess: $174.99 Truth: $378.99 Error: $204.00 SLE: 0.59 Item: Torklift C3212 Rear Tie Down\u001b[0m\n",
            "\u001b[92m172: Guess: $127.22 Truth: $165.28 Error: $38.06 SLE: 0.07 Item: Cardone 78-4226 Remanufactured Ford Comp...\u001b[0m\n",
            "\u001b[92m173: Guess: $65.65 Truth: $56.74 Error: $8.91 SLE: 0.02 Item: Kidde AccessPoint 001798 Supra TouchPoin...\u001b[0m\n",
            "\u001b[93m174: Guess: $221.65 Truth: $307.95 Error: $86.30 SLE: 0.11 Item: 3M Protecta 3100414 Self Retracting Life...\u001b[0m\n",
            "\u001b[91m175: Guess: $127.22 Truth: $38.00 Error: $89.22 SLE: 1.42 Item: Plantronics 89435-01 Wired Headset, Blac...\u001b[0m\n",
            "\u001b[92m176: Guess: $76.99 Truth: $53.00 Error: $23.99 SLE: 0.14 Item: Logitech K750 Wireless Solar Keyboard fo...\u001b[0m\n",
            "\u001b[93m177: Guess: $649.98 Truth: $498.00 Error: $151.98 SLE: 0.07 Item: Olympus PEN E-PL9 Body Only with 3-Inch ...\u001b[0m\n",
            "\u001b[91m178: Guess: $154.65 Truth: $53.99 Error: $100.66 SLE: 1.08 Item: Beck/Arnley 051-6066 Hub & Bearing Assem...\u001b[0m\n",
            "\u001b[91m179: Guess: $194.99 Truth: $350.00 Error: $155.01 SLE: 0.34 Item: Eibach Pro-Kit Performance Springs E10-6...\u001b[0m\n",
            "\u001b[93m180: Guess: $390.22 Truth: $299.95 Error: $90.27 SLE: 0.07 Item: LEGO DC Batman 1989 Batwing 76161 Displa...\u001b[0m\n",
            "\u001b[93m181: Guess: $147.65 Truth: $94.93 Error: $52.72 SLE: 0.19 Item: Kingston Brass KS3608PL Restoration 4-In...\u001b[0m\n",
            "\u001b[92m182: Guess: $349.00 Truth: $379.00 Error: $30.00 SLE: 0.01 Item: Polk Vanishing Series 265-LS In-Wall 3-W...\u001b[0m\n",
            "\u001b[93m183: Guess: $221.65 Truth: $299.95 Error: $78.30 SLE: 0.09 Item: Spec-D Tuning LED Projector Headlights G...\u001b[0m\n",
            "\u001b[92m184: Guess: $10.99 Truth: $24.99 Error: $14.00 SLE: 0.60 Item: RICHMOND & FINCH Airpod Pro Case, Green ...\u001b[0m\n",
            "\u001b[92m185: Guess: $66.47 Truth: $41.04 Error: $25.43 SLE: 0.22 Item: LFA Industries 43B-5A-33JT 1/16-1/2-1.5-...\u001b[0m\n",
            "\u001b[91m186: Guess: $47.99 Truth: $327.90 Error: $279.91 SLE: 3.63 Item: SAUTVS LED Headlight Assembly for Slings...\u001b[0m\n",
            "\u001b[92m187: Guess: $22.69 Truth: $10.99 Error: $11.70 SLE: 0.46 Item: 2 Pack Combo Womens Safety Glasses Impac...\u001b[0m\n",
            "\u001b[92m188: Guess: $14.98 Truth: $14.99 Error: $0.01 SLE: 0.00 Item: Arepa - Venezuelan cuisine - Venezuela P...\u001b[0m\n",
            "\u001b[92m189: Guess: $49.65 Truth: $84.95 Error: $35.30 SLE: 0.28 Item: Schlage Lock Company KS23D2300 Padlock, ...\u001b[0m\n",
            "\u001b[91m190: Guess: $196.99 Truth: $111.00 Error: $85.99 SLE: 0.32 Item: Techni Mobili White Sit to Stand Mobile ...\u001b[0m\n",
            "\u001b[92m191: Guess: $127.22 Truth: $123.73 Error: $3.49 SLE: 0.00 Item: Special Lite Products Contemporary Wall ...\u001b[0m\n",
            "\u001b[93m192: Guess: $393.69 Truth: $557.38 Error: $163.69 SLE: 0.12 Item: Tascam DP-24SD 24-Track Digital Portastu...\u001b[0m\n",
            "\u001b[92m193: Guess: $66.47 Truth: $95.55 Error: $29.08 SLE: 0.13 Item: Glow Lighting 636CC10SP Vista Crystal Fl...\u001b[0m\n",
            "\u001b[91m194: Guess: $47.95 Truth: $154.00 Error: $106.05 SLE: 1.33 Item: Z3 Wind Deflector, Smoke Tint, Lexan, Wi...\u001b[0m\n",
            "\u001b[91m195: Guess: $499.98 Truth: $198.99 Error: $300.99 SLE: 0.84 Item: Olympus E-20 5MP Digital Camera w/ 4x Op...\u001b[0m\n",
            "\u001b[91m196: Guess: $139.98 Truth: $430.44 Error: $290.46 SLE: 1.25 Item: PHYNEDI 1:1000 World Trade Center (1973-...\u001b[0m\n",
            "\u001b[92m197: Guess: $10.99 Truth: $45.67 Error: $34.68 SLE: 1.85 Item: YANGHUAN Unstable Unicorns Adventure Car...\u001b[0m\n",
            "\u001b[91m198: Guess: $127.22 Truth: $249.00 Error: $121.78 SLE: 0.45 Item: Interlogix NX-1820E NetworX Touch Screen...\u001b[0m\n",
            "\u001b[92m199: Guess: $49.99 Truth: $42.99 Error: $7.00 SLE: 0.02 Item: Steering Damper,Universal Motorcycle Han...\u001b[0m\n",
            "\u001b[91m200: Guess: $262.47 Truth: $181.33 Error: $81.14 SLE: 0.14 Item: Amprobe TIC 410A Hot Stick Attachment\u001b[0m\n",
            "\u001b[92m201: Guess: $22.99 Truth: $6.03 Error: $16.96 SLE: 1.51 Item: MyCableMart 3.5mm Plug/Jack, 4 Conductor...\u001b[0m\n",
            "\u001b[92m202: Guess: $65.69 Truth: $29.99 Error: $35.70 SLE: 0.59 Item: OtterBox + Pop Symmetry Series Case for ...\u001b[0m\n",
            "\u001b[92m203: Guess: $1,044.00 Truth: $899.00 Error: $145.00 SLE: 0.02 Item: Dell XPS X8700-1572BLK Desktop ( Intel C...\u001b[0m\n",
            "\u001b[91m204: Guess: $47.22 Truth: $399.99 Error: $352.77 SLE: 4.49 Item: Franklin Iron Works Sperry Industrial Br...\u001b[0m\n",
            "\u001b[92m205: Guess: $29.65 Truth: $4.66 Error: $24.99 SLE: 2.85 Item: Avery Legal Dividers, Standard Collated ...\u001b[0m\n",
            "\u001b[91m206: Guess: $47.22 Truth: $261.41 Error: $214.19 SLE: 2.87 Item: Moen 8346 Commercial Posi-Temp Pressure ...\u001b[0m\n",
            "\u001b[92m207: Guess: $128.66 Truth: $136.97 Error: $8.31 SLE: 0.00 Item: Carlisle Versa Trail ATR All Terrain Rad...\u001b[0m\n",
            "\u001b[93m208: Guess: $139.98 Truth: $79.00 Error: $60.98 SLE: 0.32 Item: SUNWAYFOTO 44mm Tripod Ball Head Arca Co...\u001b[0m\n",
            "\u001b[91m209: Guess: $164.50 Truth: $444.99 Error: $280.49 SLE: 0.98 Item: NanoBeam AC NBE-5AC-Gen2-US 4 Units 5GHz...\u001b[0m\n",
            "\u001b[91m210: Guess: $127.22 Truth: $411.94 Error: $284.72 SLE: 1.37 Item: WULF 4\" Front 2\" Rear Leveling Lift Kit ...\u001b[0m\n",
            "\u001b[93m211: Guess: $196.99 Truth: $148.40 Error: $48.59 SLE: 0.08 Item: Alera ALEVABFMC Valencia Series Mobile B...\u001b[0m\n",
            "\u001b[93m212: Guess: $154.98 Truth: $244.99 Error: $90.01 SLE: 0.21 Item: YU-GI-OH! Ignition Assault Booster Box\u001b[0m\n",
            "\u001b[93m213: Guess: $143.65 Truth: $86.50 Error: $57.15 SLE: 0.25 Item: 48\" x 36\" Extra-Large Framed Magnetic Bl...\u001b[0m\n",
            "\u001b[91m214: Guess: $147.77 Truth: $297.95 Error: $150.18 SLE: 0.49 Item: Dell Latitude D620 Renewed Notebook PC\u001b[0m\n",
            "\u001b[92m215: Guess: $393.69 Truth: $399.99 Error: $6.30 SLE: 0.00 Item: acer Aspire 5 Laptop, AMD Ryzen 3 5300U ...\u001b[0m\n",
            "\u001b[91m216: Guess: $174.00 Truth: $599.00 Error: $425.00 SLE: 1.52 Item: Elk 31080/6RC-GRN 30 by 6-Inch Viva 6-Li...\u001b[0m\n",
            "\u001b[91m217: Guess: $10.99 Truth: $105.99 Error: $95.00 SLE: 4.79 Item: Barbie Top Model Doll\u001b[0m\n",
            "\u001b[93m218: Guess: $953.22 Truth: $689.00 Error: $264.22 SLE: 0.11 Item: Danby Designer 20-In. Electric Range wit...\u001b[0m\n",
            "\u001b[91m219: Guess: $174.99 Truth: $404.99 Error: $230.00 SLE: 0.70 Item: FixtureDisplays® Metal Truss Podium Doub...\u001b[0m\n",
            "\u001b[93m220: Guess: $154.65 Truth: $207.76 Error: $53.11 SLE: 0.09 Item: ACDelco 13597235 GM Original Equipment A...\u001b[0m\n",
            "\u001b[91m221: Guess: $276.10 Truth: $171.82 Error: $104.28 SLE: 0.22 Item: EBC S1KF1135 Stage-1 Premium Street Brak...\u001b[0m\n",
            "\u001b[91m222: Guess: $594.99 Truth: $293.24 Error: $301.75 SLE: 0.50 Item: FXR Men's Boost FX Jacket (Black/Orange/...\u001b[0m\n",
            "\u001b[93m223: Guess: $262.47 Truth: $374.95 Error: $112.48 SLE: 0.13 Item: SuperATV Scratch Resistant 3-in-1 Flip W...\u001b[0m\n",
            "\u001b[92m224: Guess: $139.98 Truth: $111.99 Error: $27.99 SLE: 0.05 Item: SBU 3 Layer All Weather Mini Van Car Cov...\u001b[0m\n",
            "\u001b[92m225: Guess: $66.47 Truth: $42.99 Error: $23.48 SLE: 0.18 Item: 2 Pack Outdoor Brochure Holder Advertisi...\u001b[0m\n",
            "\u001b[91m226: Guess: $202.65 Truth: $116.71 Error: $85.94 SLE: 0.30 Item: Monroe Shocks & Struts Quick-Strut 17158...\u001b[0m\n",
            "\u001b[91m227: Guess: $221.65 Truth: $118.61 Error: $103.04 SLE: 0.39 Item: Elements of Design Magellan EB235AL Thre...\u001b[0m\n",
            "\u001b[91m228: Guess: $47.22 Truth: $147.12 Error: $99.90 SLE: 1.26 Item: GM Genuine Parts 15-62961 Air Conditioni...\u001b[0m\n",
            "\u001b[92m229: Guess: $139.98 Truth: $119.99 Error: $19.99 SLE: 0.02 Item: Baseus 17-in-1 USB C Docking Station to ...\u001b[0m\n",
            "\u001b[93m230: Guess: $262.47 Truth: $369.98 Error: $107.51 SLE: 0.12 Item: Whitehall™ Personalized Whitehall Capito...\u001b[0m\n",
            "\u001b[93m231: Guess: $219.95 Truth: $315.55 Error: $95.60 SLE: 0.13 Item: Pro Circuit Works Pipe PY05250 for 02-19...\u001b[0m\n",
            "\u001b[91m232: Guess: $109.99 Truth: $190.99 Error: $81.00 SLE: 0.30 Item: HYANKA 15 \"1200W Professional DJ Speaker...\u001b[0m\n",
            "\u001b[92m233: Guess: $139.98 Truth: $155.00 Error: $15.02 SLE: 0.01 Item: Bluetooth X6BT Card Reader Writer Encode...\u001b[0m\n",
            "\u001b[91m234: Guess: $47.22 Truth: $349.99 Error: $302.77 SLE: 3.94 Item: AIRAID Cold Air Intake System by K&N: In...\u001b[0m\n",
            "\u001b[91m235: Guess: $139.98 Truth: $249.99 Error: $110.01 SLE: 0.33 Item: Bostingner Shower Faucets Sets Complete,...\u001b[0m\n",
            "\u001b[91m236: Guess: $127.99 Truth: $42.99 Error: $85.00 SLE: 1.16 Item: PIT66 Front Bumper Turn Signal Lights, C...\u001b[0m\n",
            "\u001b[92m237: Guess: $10.99 Truth: $17.99 Error: $7.00 SLE: 0.21 Item: Caseology Bumpy Compatible with Google P...\u001b[0m\n",
            "\u001b[91m238: Guess: $202.65 Truth: $425.00 Error: $222.35 SLE: 0.54 Item: Fleck 2510 Timer Mechanical Filter Contr...\u001b[0m\n",
            "\u001b[92m239: Guess: $219.98 Truth: $249.99 Error: $30.01 SLE: 0.02 Item: Haloview MC7108 Wireless RV Backup Camer...\u001b[0m\n",
            "\u001b[91m240: Guess: $22.22 Truth: $138.23 Error: $116.01 SLE: 3.21 Item: Schmidt Spiele - Manhattan\u001b[0m\n",
            "\u001b[91m241: Guess: $202.65 Truth: $414.99 Error: $212.34 SLE: 0.51 Item: Corsa 14333 Tip Kit (Ford Mustang GT)\u001b[0m\n",
            "\u001b[92m242: Guess: $143.65 Truth: $168.28 Error: $24.63 SLE: 0.02 Item: Hoshizaki FM116A Fan Motor Kit 1\u001b[0m\n",
            "\u001b[93m243: Guess: $136.99 Truth: $199.99 Error: $63.00 SLE: 0.14 Item: BAINUO Antler Chandelier Lighting,6 Ligh...\u001b[0m\n",
            "\u001b[92m244: Guess: $100.69 Truth: $126.70 Error: $26.01 SLE: 0.05 Item: DNA MOTORING HL-OH-FEXP06-SM-AM Smoke Le...\u001b[0m\n",
            "\u001b[93m245: Guess: $65.69 Truth: $5.91 Error: $59.78 SLE: 5.14 Item: Wera Stainless 3840/1 TS 2.5mm Hex Inser...\u001b[0m\n",
            "\u001b[93m246: Guess: $127.22 Truth: $193.06 Error: $65.84 SLE: 0.17 Item: Celestron - PowerSeeker 127EQ Telescope ...\u001b[0m\n",
            "\u001b[91m247: Guess: $47.99 Truth: $249.99 Error: $202.00 SLE: 2.67 Item: NHOPEEW 10.1inch Android Car Radio Carpl...\u001b[0m\n",
            "\u001b[93m248: Guess: $139.65 Truth: $64.12 Error: $75.53 SLE: 0.59 Item: Other Harmonica (Suzuki-2Timer24- A)\u001b[0m\n",
            "\u001b[93m249: Guess: $43.99 Truth: $114.99 Error: $71.00 SLE: 0.90 Item: Harley Air Filter Venturi Intake Air Cle...\u001b[0m\n",
            "\u001b[91m250: Guess: $277.65 Truth: $926.00 Error: $648.35 SLE: 1.44 Item: Elite Screens Edge Free Ambient Light Re...\u001b[0m\n"
          ]
        },
        {
          "output_type": "display_data",
          "data": {
            "text/plain": [
              "<Figure size 1200x800 with 1 Axes>"
            ],
            "image/png": "[encoded data removed]"
          },
          "metadata": {}
        }
      ],
      "source": [
        "Tester.test(gpt_fine_tuned, test)"
      ]
    },
    {
      "cell_type": "markdown",
      "source": [
        "## gpt 4.1 base\n",
        "**Error:** $70.36 RMSLE=0.522 Hits=64.4%"
      ],
      "metadata": {
        "id": "EF9S1_dBEVAc"
      },
      "id": "EF9S1_dBEVAc"
    },
    {
      "cell_type": "code",
      "source": [
        "def gpt_4_1_frontier(item):\n",
        "    response = openai.chat.completions.create(\n",
        "        model=\"gpt-4.1-2025-04-14\",\n",
        "        messages=messages_for(item),\n",
        "        seed=42,\n",
        "        max_completion_tokens=7\n",
        "    )\n",
        "    reply = response.choices[0].message.content\n",
        "    return get_price(reply)"
      ],
      "metadata": {
        "id": "QRIelvwmEZgw"
      },
      "id": "QRIelvwmEZgw",
      "execution_count": 171,
      "outputs": []
    },
    {
      "cell_type": "code",
      "source": [
        "Tester.test(gpt_4_1_frontier, test)"
      ],
      "metadata": {
        "id": "2vwrkA_4Eon6",
        "outputId": "ad31f43d-8be6-44aa-8afd-5ab66671bc68",
        "colab": {
          "base_uri": "https://localhost:8080/",
          "height": 1000
        }
      },
      "id": "2vwrkA_4Eon6",
      "execution_count": 172,
      "outputs": [
        {
          "output_type": "stream",
          "name": "stdout",
          "text": [
            "\u001b[93m1: Guess: $295.00 Truth: $374.41 Error: $79.41 SLE: 0.06 Item: OEM AC Compressor w/A/C Repair Kit For F...\u001b[0m\n",
            "\u001b[91m2: Guess: $74.00 Truth: $225.11 Error: $151.11 SLE: 1.22 Item: Motorcraft YB3125 Fan Clutch\u001b[0m\n",
            "\u001b[92m3: Guess: $47.99 Truth: $61.68 Error: $13.69 SLE: 0.06 Item: Dorman 603-159 Front Washer Fluid Reserv...\u001b[0m\n",
            "\u001b[93m4: Guess: $399.00 Truth: $599.99 Error: $200.99 SLE: 0.17 Item: HP Premium 17.3-inch HD Plus Touchscreen...\u001b[0m\n",
            "\u001b[92m5: Guess: $14.99 Truth: $16.99 Error: $2.00 SLE: 0.01 Item: 5-Position Super Switch Pickup Selector ...\u001b[0m\n",
            "\u001b[92m6: Guess: $15.99 Truth: $31.99 Error: $16.00 SLE: 0.44 Item: Horror Bookmarks, Resin Horror Bookmarks...\u001b[0m\n",
            "\u001b[92m7: Guess: $69.99 Truth: $101.79 Error: $31.80 SLE: 0.14 Item: SK6241 - Stinger 4 Gauge 6000 Series Pow...\u001b[0m\n",
            "\u001b[92m8: Guess: $269.00 Truth: $289.00 Error: $20.00 SLE: 0.01 Item: Godox ML60Bi LED Light Kit, Handheld LED...\u001b[0m\n",
            "\u001b[91m9: Guess: $300.00 Truth: $635.86 Error: $335.86 SLE: 0.56 Item: Randall RG75DG3PLUS G3 Plus 100-Watt Com...\u001b[0m\n",
            "\u001b[92m10: Guess: $39.99 Truth: $65.99 Error: $26.00 SLE: 0.24 Item: HOLDWILL 6 Pack LED Shop Light, 4FT 24W ...\u001b[0m\n",
            "\u001b[91m11: Guess: $140.00 Truth: $254.21 Error: $114.21 SLE: 0.35 Item: Viking Horns V103C/1005ATK 3 Gallon Air ...\u001b[0m\n",
            "\u001b[91m12: Guess: $196.99 Truth: $412.99 Error: $216.00 SLE: 0.54 Item: CURT 70110 Custom Tow Bar Base Plate Bra...\u001b[0m\n",
            "\u001b[91m13: Guess: $39.99 Truth: $205.50 Error: $165.51 SLE: 2.61 Item: 10-Pack Solar HAMMERED BRONZE Finish Pos...\u001b[0m\n",
            "\u001b[92m14: Guess: $259.00 Truth: $248.23 Error: $10.77 SLE: 0.00 Item: COSTWAY Electric Tumble Dryer, Sliver\u001b[0m\n",
            "\u001b[91m15: Guess: $229.99 Truth: $399.00 Error: $169.01 SLE: 0.30 Item: FREE SIGNAL TV Transit 32\" 12 Volt DC Po...\u001b[0m\n",
            "\u001b[92m16: Guess: $370.00 Truth: $373.94 Error: $3.94 SLE: 0.00 Item: Bilstein 5100 Monotube Gas Shock Set com...\u001b[0m\n",
            "\u001b[92m17: Guess: $80.00 Truth: $92.89 Error: $12.89 SLE: 0.02 Item: Sangean K-200 Multi-Function Upright AM/...\u001b[0m\n",
            "\u001b[92m18: Guess: $48.99 Truth: $51.99 Error: $3.00 SLE: 0.00 Item: Charles Leonard Magnetic Lapboard Class ...\u001b[0m\n",
            "\u001b[91m19: Guess: $60.00 Truth: $179.00 Error: $119.00 SLE: 1.17 Item: Gigabyte AMD Radeon HD 7870 2 GB GDDR5 D...\u001b[0m\n",
            "\u001b[92m20: Guess: $8.99 Truth: $19.42 Error: $10.43 SLE: 0.51 Item: 3dRose LLC 8 x 8 x 0.25 Inches Bull Terr...\u001b[0m\n",
            "\u001b[92m21: Guess: $599.00 Truth: $539.95 Error: $59.05 SLE: 0.01 Item: ROKINON 85mm F1.4 Auto Focus Full Frame ...\u001b[0m\n",
            "\u001b[92m22: Guess: $120.00 Truth: $147.67 Error: $27.67 SLE: 0.04 Item: AUTOSAVER88 Headlight Assembly Compatibl...\u001b[0m\n",
            "\u001b[92m23: Guess: $25.99 Truth: $24.99 Error: $1.00 SLE: 0.00 Item: ASI NAUTICAL 2.5 Inches Opera Glasses Bi...\u001b[0m\n",
            "\u001b[91m24: Guess: $25.00 Truth: $149.00 Error: $124.00 SLE: 3.07 Item: Behringer TUBE OVERDRIVE TO100 Authentic...\u001b[0m\n",
            "\u001b[92m25: Guess: $11.99 Truth: $16.99 Error: $5.00 SLE: 0.11 Item: Fun Express Insect Finger Puppets - 24 f...\u001b[0m\n",
            "\u001b[92m26: Guess: $6.99 Truth: $7.99 Error: $1.00 SLE: 0.01 Item: WAFJAMF Roller Stamp Identity Theft Stam...\u001b[0m\n",
            "\u001b[92m27: Guess: $189.00 Truth: $199.99 Error: $10.99 SLE: 0.00 Item: Capulina Tiffany Floor Lamp 2-Light 16\" ...\u001b[0m\n",
            "\u001b[92m28: Guess: $239.00 Truth: $251.45 Error: $12.45 SLE: 0.00 Item: Apple Watch Series 6 (GPS, 44mm) - Space...\u001b[0m\n",
            "\u001b[93m29: Guess: $139.99 Truth: $231.62 Error: $91.63 SLE: 0.25 Item: ICON 01725 Tandem Axle Fender Skirt FS17...\u001b[0m\n",
            "\u001b[93m30: Guess: $85.00 Truth: $135.00 Error: $50.00 SLE: 0.21 Item: SanDisk 128GB Ultra (10 Pack) MicroSD Cl...\u001b[0m\n",
            "\u001b[92m31: Guess: $367.99 Truth: $356.62 Error: $11.37 SLE: 0.00 Item: Velvac 2020,L,C/Hr,W,E2003,102\",Bk - 715...\u001b[0m\n",
            "\u001b[93m32: Guess: $159.99 Truth: $257.99 Error: $98.00 SLE: 0.23 Item: TCMT Passenger Backrest Sissy Bar & Lugg...\u001b[0m\n",
            "\u001b[92m33: Guess: $23.99 Truth: $27.99 Error: $4.00 SLE: 0.02 Item: Alnicov 63.5MM Brass Tremolo Block，Tremo...\u001b[0m\n",
            "\u001b[91m34: Guess: $65.00 Truth: $171.20 Error: $106.20 SLE: 0.92 Item: Subaru Forester Outback Legacy OEM Engin...\u001b[0m\n",
            "\u001b[92m35: Guess: $249.00 Truth: $225.00 Error: $24.00 SLE: 0.01 Item: Richmond Auto Upholstery - 2012 Dodge Ra...\u001b[0m\n",
            "\u001b[92m36: Guess: $79.99 Truth: $105.00 Error: $25.01 SLE: 0.07 Item: AP-39 Automotive Paint Primer Grey 2K Ur...\u001b[0m\n",
            "\u001b[92m37: Guess: $260.00 Truth: $299.99 Error: $39.99 SLE: 0.02 Item: Road Top Wireless Carplay Retrofit Kit D...\u001b[0m\n",
            "\u001b[92m38: Guess: $525.00 Truth: $535.09 Error: $10.09 SLE: 0.00 Item: Gibson Performance Exhaust 5658 Aluminiz...\u001b[0m\n",
            "\u001b[92m39: Guess: $14.00 Truth: $12.33 Error: $1.67 SLE: 0.01 Item: Bella Tunno Happy Links - Baby Montessor...\u001b[0m\n",
            "\u001b[92m40: Guess: $99.99 Truth: $84.99 Error: $15.00 SLE: 0.03 Item: CANMORE H300 Handheld GPS Golf Device, S...\u001b[0m\n",
            "\u001b[92m41: Guess: $13.99 Truth: $15.99 Error: $2.00 SLE: 0.02 Item: DCPOWER AC Adapter Compatible Replacemen...\u001b[0m\n",
            "\u001b[93m42: Guess: $19.99 Truth: $62.44 Error: $42.45 SLE: 1.22 Item: Sharp, VX2128V, Commercial Desktop Calcu...\u001b[0m\n",
            "\u001b[92m43: Guess: $79.99 Truth: $82.99 Error: $3.00 SLE: 0.00 Item: Melissa & Doug Lifelike Plush Stork Gian...\u001b[0m\n",
            "\u001b[91m44: Guess: $298.00 Truth: $599.95 Error: $301.95 SLE: 0.49 Item: Sony SSCS8 2-Way 3-Driver Center Channel...\u001b[0m\n",
            "\u001b[92m45: Guess: $229.00 Truth: $194.99 Error: $34.01 SLE: 0.03 Item: ASUS Chromebook CX1, 14\" Full HD NanoEdg...\u001b[0m\n",
            "\u001b[91m46: Guess: $650.00 Truth: $344.95 Error: $305.05 SLE: 0.40 Item: FiiO X7 32GB Hi-Res Lossless Music Playe...\u001b[0m\n",
            "\u001b[92m47: Guess: $39.99 Truth: $37.99 Error: $2.00 SLE: 0.00 Item: TORRO Leather Case Compatible with iPhon...\u001b[0m\n",
            "\u001b[92m48: Guess: $209.99 Truth: $224.35 Error: $14.36 SLE: 0.00 Item: Universal Air Conditioner KT 1031 A/C Co...\u001b[0m\n",
            "\u001b[92m49: Guess: $900.00 Truth: $814.00 Error: $86.00 SLE: 0.01 Item: Street Series Stainless Performance Cat-...\u001b[0m\n",
            "\u001b[93m50: Guess: $320.00 Truth: $439.88 Error: $119.88 SLE: 0.10 Item: Lenovo IdeaPad 3 14-inch Laptop, 14.0-in...\u001b[0m\n",
            "\u001b[92m51: Guess: $299.00 Truth: $341.43 Error: $42.43 SLE: 0.02 Item: Access Bed Covers TonnoSport 22050219 - ...\u001b[0m\n",
            "\u001b[92m52: Guess: $25.00 Truth: $46.78 Error: $21.78 SLE: 0.37 Item: G.I. JOE Hasbro 3 3/4\" Wave 5 Action Fig...\u001b[0m\n",
            "\u001b[93m53: Guess: $220.00 Truth: $171.44 Error: $48.56 SLE: 0.06 Item: T&S Brass B-0232-BST Double Pantry Fauce...\u001b[0m\n",
            "\u001b[92m54: Guess: $389.99 Truth: $458.00 Error: $68.01 SLE: 0.03 Item: ZTUOAUMA Fuel Injection Pump 3090942 309...\u001b[0m\n",
            "\u001b[92m55: Guess: $134.99 Truth: $130.75 Error: $4.24 SLE: 0.00 Item: 2AP18AA#ABA Hp Prime Graphing Calculator...\u001b[0m\n",
            "\u001b[92m56: Guess: $59.99 Truth: $83.81 Error: $23.82 SLE: 0.11 Item: Lowrance 000-0119-83 Nmea 2000 25' Exten...\u001b[0m\n",
            "\u001b[91m57: Guess: $120.00 Truth: $386.39 Error: $266.39 SLE: 1.35 Item: Jeep Genuine Accessories 82213051 Hood L...\u001b[0m\n",
            "\u001b[93m58: Guess: $129.00 Truth: $169.00 Error: $40.00 SLE: 0.07 Item: GODOX CB-06 Hard Carrying Case with Whee...\u001b[0m\n",
            "\u001b[92m59: Guess: $18.99 Truth: $17.95 Error: $1.04 SLE: 0.00 Item: Au-Tomotive Gold, INC. Ford Black Valet ...\u001b[0m\n",
            "\u001b[92m60: Guess: $239.99 Truth: $269.00 Error: $29.01 SLE: 0.01 Item: Snailfly Black Roof Rack Rail + Cross Ba...\u001b[0m\n",
            "\u001b[92m61: Guess: $49.99 Truth: $77.77 Error: $27.78 SLE: 0.19 Item: KING SHA Anti Glare LED Track Lighting H...\u001b[0m\n",
            "\u001b[92m62: Guess: $69.99 Truth: $88.99 Error: $19.00 SLE: 0.06 Item: APS Compatible with Chevy Silverado 1500...\u001b[0m\n",
            "\u001b[92m63: Guess: $330.00 Truth: $364.41 Error: $34.41 SLE: 0.01 Item: Wilwood Engineering 14011291R Brake Cali...\u001b[0m\n",
            "\u001b[93m64: Guess: $85.00 Truth: $127.03 Error: $42.03 SLE: 0.16 Item: ACDelco Gold 336-1925A Starter, Remanufa...\u001b[0m\n",
            "\u001b[92m65: Guess: $650.00 Truth: $778.95 Error: $128.95 SLE: 0.03 Item: UWS EC10783 69-Inch Matte Black Heavy-Wa...\u001b[0m\n",
            "\u001b[92m66: Guess: $180.00 Truth: $206.66 Error: $26.66 SLE: 0.02 Item: Dell Latitude E5440 14in Business Laptop...\u001b[0m\n",
            "\u001b[92m67: Guess: $32.99 Truth: $35.94 Error: $2.95 SLE: 0.01 Item: (Plug and Play) Spare Tire Brake Light W...\u001b[0m\n",
            "\u001b[92m68: Guess: $149.99 Truth: $149.00 Error: $0.99 SLE: 0.00 Item: The Ultimate Roadside Rescue Assistant\u001b[0m\n",
            "\u001b[92m69: Guess: $210.00 Truth: $251.98 Error: $41.98 SLE: 0.03 Item: Brand New 18\" x 8.5\" Replacement Wheel f...\u001b[0m\n",
            "\u001b[92m70: Guess: $160.00 Truth: $160.00 Error: $0.00 SLE: 0.00 Item: Headlight Headlamp LH Left & RH Right Pa...\u001b[0m\n",
            "\u001b[92m71: Guess: $29.99 Truth: $39.99 Error: $10.00 SLE: 0.08 Item: Lilo And Stitch Deluxe Oversize Print La...\u001b[0m\n",
            "\u001b[91m72: Guess: $210.00 Truth: $362.41 Error: $152.41 SLE: 0.30 Item: AC Compressor & A/C Clutch For Hyundai A...\u001b[0m\n",
            "\u001b[93m73: Guess: $260.00 Truth: $344.00 Error: $84.00 SLE: 0.08 Item: House Of Troy PIN475-AB Pinnacle Collect...\u001b[0m\n",
            "\u001b[92m74: Guess: $15.00 Truth: $25.09 Error: $10.09 SLE: 0.24 Item: Juno T29 WH Floating Electrical Feed Sin...\u001b[0m\n",
            "\u001b[91m75: Guess: $59.95 Truth: $175.95 Error: $116.00 SLE: 1.14 Item: Sherman GO-PARTS - for 2013-2016 Toyota ...\u001b[0m\n",
            "\u001b[92m76: Guess: $129.99 Truth: $132.64 Error: $2.65 SLE: 0.00 Item: Roland RPU-3 Electronic Keyboard Pedal o...\u001b[0m\n",
            "\u001b[92m77: Guess: $399.99 Truth: $422.99 Error: $23.00 SLE: 0.00 Item: Rockland VMI14 12,000 Pound 12 Volt DC E...\u001b[0m\n",
            "\u001b[93m78: Guess: $210.00 Truth: $146.48 Error: $63.52 SLE: 0.13 Item: Max Advanced Brakes Elite XDS Front Cros...\u001b[0m\n",
            "\u001b[92m79: Guess: $135.00 Truth: $156.83 Error: $21.83 SLE: 0.02 Item: Quality-Built 11030 Premium Quality Alte...\u001b[0m\n",
            "\u001b[91m80: Guess: $89.00 Truth: $251.99 Error: $162.99 SLE: 1.07 Item: Lucida LG-510 Student Classical Guitar, ...\u001b[0m\n",
            "\u001b[91m81: Guess: $525.00 Truth: $940.33 Error: $415.33 SLE: 0.34 Item: Longacre 52-79800 Aluminum Turn Plates\u001b[0m\n",
            "\u001b[92m82: Guess: $23.00 Truth: $52.99 Error: $29.99 SLE: 0.66 Item: Motion Pro 08-0380 Adjustable Torque Wre...\u001b[0m\n",
            "\u001b[93m83: Guess: $299.00 Truth: $219.95 Error: $79.05 SLE: 0.09 Item: Glyph Thunderbolt 3 NVMe Dock (0 GB)\u001b[0m\n",
            "\u001b[92m84: Guess: $450.00 Truth: $441.03 Error: $8.97 SLE: 0.00 Item: TOYO Open Country MT Performance Radial ...\u001b[0m\n",
            "\u001b[92m85: Guess: $149.99 Truth: $168.98 Error: $18.99 SLE: 0.01 Item: Razer Seiren X USB Streaming Microphone ...\u001b[0m\n",
            "\u001b[92m86: Guess: $6.99 Truth: $2.49 Error: $4.50 SLE: 0.69 Item: Happy Birthday to Dad From Your Daughter...\u001b[0m\n",
            "\u001b[92m87: Guess: $59.99 Truth: $98.62 Error: $38.63 SLE: 0.24 Item: Little Tikes My Real Jam First Concert S...\u001b[0m\n",
            "\u001b[91m88: Guess: $119.99 Truth: $256.95 Error: $136.96 SLE: 0.57 Item: Studio M Peace and Harmony Art Pole Comm...\u001b[0m\n",
            "\u001b[92m89: Guess: $22.99 Truth: $30.99 Error: $8.00 SLE: 0.08 Item: MyVolts 12V Power Supply Adaptor Compati...\u001b[0m\n",
            "\u001b[92m90: Guess: $490.00 Truth: $569.84 Error: $79.84 SLE: 0.02 Item: Dell Latitude 7212 Rugged Extreme Tablet...\u001b[0m\n",
            "\u001b[91m91: Guess: $80.00 Truth: $177.99 Error: $97.99 SLE: 0.63 Item: Covermates Contour Fit Car Cover - Light...\u001b[0m\n",
            "\u001b[92m92: Guess: $800.00 Truth: $997.99 Error: $197.99 SLE: 0.05 Item: Westin 57-4025 Black HDX Grille Guard fi...\u001b[0m\n",
            "\u001b[93m93: Guess: $140.00 Truth: $219.00 Error: $79.00 SLE: 0.20 Item: Fieldpiece JL2 Job Link Wireless App Tra...\u001b[0m\n",
            "\u001b[92m94: Guess: $210.00 Truth: $225.55 Error: $15.55 SLE: 0.01 Item: hansgrohe Talis S Modern Premium Easy Cl...\u001b[0m\n",
            "\u001b[91m95: Guess: $2,499.00 Truth: $495.95 Error: $2,003.05 SLE: 2.61 Item: G-Technology G-SPEED eS PRO High-Perform...\u001b[0m\n",
            "\u001b[93m96: Guess: $749.00 Truth: $942.37 Error: $193.37 SLE: 0.05 Item: DreamLine SHDR-1960723L-01 Shower Door, ...\u001b[0m\n",
            "\u001b[92m97: Guess: $6.99 Truth: $1.94 Error: $5.05 SLE: 1.00 Item: Sanctuary Square Backplate Finish: Oiled...\u001b[0m\n",
            "\u001b[92m98: Guess: $320.00 Truth: $284.34 Error: $35.66 SLE: 0.01 Item: Pelican Protector 1750 Long Case - Multi...\u001b[0m\n",
            "\u001b[93m99: Guess: $128.00 Truth: $171.90 Error: $43.90 SLE: 0.09 Item: Brock Replacement Driver and Passenger H...\u001b[0m\n",
            "\u001b[93m100: Guess: $99.00 Truth: $144.99 Error: $45.99 SLE: 0.14 Item: Carlinkit Ai Box Mini, Android 11, Multi...\u001b[0m\n",
            "\u001b[91m101: Guess: $1,195.00 Truth: $470.47 Error: $724.53 SLE: 0.87 Item: StarDot NetCamLIVE2 YouTube Live Stream ...\u001b[0m\n",
            "\u001b[92m102: Guess: $49.99 Truth: $66.95 Error: $16.96 SLE: 0.08 Item: Atomic Compatible FILXXCAR0016 16x25x5 M...\u001b[0m\n",
            "\u001b[92m103: Guess: $80.00 Truth: $117.00 Error: $37.00 SLE: 0.14 Item: Bandai Awakening of S. H. s.h.figuarts s...\u001b[0m\n",
            "\u001b[93m104: Guess: $125.00 Truth: $172.14 Error: $47.14 SLE: 0.10 Item: Fit System 62135G Passenger Side Towing ...\u001b[0m\n",
            "\u001b[92m105: Guess: $370.00 Truth: $392.74 Error: $22.74 SLE: 0.00 Item: Black Horse Black Aluminum Exceed Runnin...\u001b[0m\n",
            "\u001b[92m106: Guess: $16.99 Truth: $16.99 Error: $0.00 SLE: 0.00 Item: Dearsun Twinkle Star Color Night Light P...\u001b[0m\n",
            "\u001b[92m107: Guess: $0.30 Truth: $1.34 Error: $1.04 SLE: 0.35 Item: Pokemon - Gallade Spirit Link (83/108) -...\u001b[0m\n",
            "\u001b[93m108: Guess: $249.00 Truth: $349.98 Error: $100.98 SLE: 0.12 Item: Ibanez GA34STCE-NT GIO Series Classical ...\u001b[0m\n",
            "\u001b[91m109: Guess: $700.00 Truth: $370.71 Error: $329.29 SLE: 0.40 Item: Set 2 Heavy Duty 12-16.5 12x16.5 12 Ply ...\u001b[0m\n",
            "\u001b[92m110: Guess: $39.99 Truth: $65.88 Error: $25.89 SLE: 0.24 Item: Hairpin Table Legs 28\" Heavy Duty Hairpi...\u001b[0m\n",
            "\u001b[92m111: Guess: $229.99 Truth: $229.99 Error: $0.00 SLE: 0.00 Item: Marada Racing Seat with Adjustable Slide...\u001b[0m\n",
            "\u001b[92m112: Guess: $7.49 Truth: $9.14 Error: $1.65 SLE: 0.03 Item: Remington Industries 24UL1007STRWHI25 24...\u001b[0m\n",
            "\u001b[93m113: Guess: $250.00 Truth: $199.00 Error: $51.00 SLE: 0.05 Item: Acer S3-391-6046 13.3-inch Ultrabook, In...\u001b[0m\n",
            "\u001b[92m114: Guess: $129.99 Truth: $109.99 Error: $20.00 SLE: 0.03 Item: ICBEAMER 7\" RGB LED Headlights Bulb Halo...\u001b[0m\n",
            "\u001b[91m115: Guess: $319.99 Truth: $570.42 Error: $250.43 SLE: 0.33 Item: R1 Concepts Front Rear Brakes and Rotors...\u001b[0m\n",
            "\u001b[93m116: Guess: $169.00 Truth: $279.99 Error: $110.99 SLE: 0.25 Item: Camplux 2.64 GPM Tankless , Outdoor Port...\u001b[0m\n",
            "\u001b[92m117: Guess: $16.99 Truth: $30.99 Error: $14.00 SLE: 0.33 Item: KNOKLOCK 10 Pack 3.75 Inch(96mm) Kitchen...\u001b[0m\n",
            "\u001b[92m118: Guess: $24.95 Truth: $31.99 Error: $7.04 SLE: 0.06 Item: Valley Enterprises Yaesu USB FTDI CT-62 ...\u001b[0m\n",
            "\u001b[92m119: Guess: $12.99 Truth: $15.90 Error: $2.91 SLE: 0.04 Item: G9 LED Light Bulbs，8W，75W 100W replaceme...\u001b[0m\n",
            "\u001b[92m120: Guess: $69.99 Truth: $45.99 Error: $24.00 SLE: 0.17 Item: ZCHAOZ 4 Lights Antique White Farmhouse ...\u001b[0m\n",
            "\u001b[92m121: Guess: $120.00 Truth: $113.52 Error: $6.48 SLE: 0.00 Item: Honeywell TH8320R1003 Honeywell VisionPr...\u001b[0m\n",
            "\u001b[92m122: Guess: $579.99 Truth: $516.99 Error: $63.00 SLE: 0.01 Item: Patriot Exhaust H8013-1 1-7/8\" Clippster...\u001b[0m\n",
            "\u001b[91m123: Guess: $95.00 Truth: $196.99 Error: $101.99 SLE: 0.52 Item: Fitrite Autopart New Front Left Driver S...\u001b[0m\n",
            "\u001b[92m124: Guess: $43.30 Truth: $46.55 Error: $3.25 SLE: 0.01 Item: Technical Precision Replacement for GE G...\u001b[0m\n",
            "\u001b[93m125: Guess: $274.99 Truth: $356.99 Error: $82.00 SLE: 0.07 Item: Covercraft Carhartt SeatSaver Front Row ...\u001b[0m\n",
            "\u001b[92m126: Guess: $329.00 Truth: $319.95 Error: $9.05 SLE: 0.00 Item: Sennheiser SD Pro 2 (506008) - Double-Si...\u001b[0m\n",
            "\u001b[92m127: Guess: $110.00 Truth: $96.06 Error: $13.94 SLE: 0.02 Item: Hitachi MAF0110 Mass Air Flow Sensor\u001b[0m\n",
            "\u001b[92m128: Guess: $179.99 Truth: $190.99 Error: $11.00 SLE: 0.00 Item: AmScope SE305R-P-LED-PS36A 10X-30X LED C...\u001b[0m\n",
            "\u001b[91m129: Guess: $65.00 Truth: $257.95 Error: $192.95 SLE: 1.87 Item: Front Left Driver Side Window Regulator ...\u001b[0m\n",
            "\u001b[92m130: Guess: $55.00 Truth: $62.95 Error: $7.95 SLE: 0.02 Item: Premium Replica Hubcap Set, Fits Nissan ...\u001b[0m\n",
            "\u001b[92m131: Guess: $44.99 Truth: $47.66 Error: $2.67 SLE: 0.00 Item: Excellerations Phonics Spelling Game for...\u001b[0m\n",
            "\u001b[92m132: Guess: $229.99 Truth: $226.99 Error: $3.00 SLE: 0.00 Item: RC4WD BigDog Dual Axle Scale Car/Truck T...\u001b[0m\n",
            "\u001b[92m133: Guess: $350.00 Truth: $359.95 Error: $9.95 SLE: 0.00 Item: Unknown Stage 2 Clutch Kit - Low Altitud...\u001b[0m\n",
            "\u001b[93m134: Guess: $25.00 Truth: $78.40 Error: $53.40 SLE: 1.25 Item: 2002-2008 Dodge Ram 1500 Mopar 4X4 Emble...\u001b[0m\n",
            "\u001b[92m135: Guess: $149.00 Truth: $172.77 Error: $23.77 SLE: 0.02 Item: Pro Comp Alloys Series 89 Wheel with Pol...\u001b[0m\n",
            "\u001b[93m136: Guess: $239.00 Truth: $316.45 Error: $77.45 SLE: 0.08 Item: Detroit Axle - Front Rear Strut & Coil S...\u001b[0m\n",
            "\u001b[92m137: Guess: $85.00 Truth: $87.99 Error: $2.99 SLE: 0.00 Item: ECCPP Rear Wheel Axle Replacement fit fo...\u001b[0m\n",
            "\u001b[93m138: Guess: $180.00 Truth: $226.63 Error: $46.63 SLE: 0.05 Item: Dell Latitude E6520 Intel i7-2720QM 2.20...\u001b[0m\n",
            "\u001b[92m139: Guess: $16.99 Truth: $31.49 Error: $14.50 SLE: 0.35 Item: F FIERCE CYCLE 251pcs Black Universal Mo...\u001b[0m\n",
            "\u001b[92m140: Guess: $180.00 Truth: $196.00 Error: $16.00 SLE: 0.01 Item: Flash Furniture 4 Pk. HERCULES Series 88...\u001b[0m\n",
            "\u001b[92m141: Guess: $47.99 Truth: $78.40 Error: $30.41 SLE: 0.23 Item: B&M 30287 Throttle Valve/Kickdown Cable,...\u001b[0m\n",
            "\u001b[92m142: Guess: $120.00 Truth: $116.25 Error: $3.75 SLE: 0.00 Item: Gates TCK226 PowerGrip Premium Timing Be...\u001b[0m\n",
            "\u001b[92m143: Guess: $140.00 Truth: $112.78 Error: $27.22 SLE: 0.05 Item: Monroe Shocks & Struts Quick-Strut 17149...\u001b[0m\n",
            "\u001b[92m144: Guess: $32.97 Truth: $27.32 Error: $5.65 SLE: 0.03 Item: Feit Electric BPMR16/GU10/930CA/6 35W EQ...\u001b[0m\n",
            "\u001b[92m145: Guess: $110.00 Truth: $145.91 Error: $35.91 SLE: 0.08 Item: Yellow Jacket 2806 Contractor Extension ...\u001b[0m\n",
            "\u001b[91m146: Guess: $370.00 Truth: $171.09 Error: $198.91 SLE: 0.59 Item: Garage-Pro Tailgate SET Compatible with ...\u001b[0m\n",
            "\u001b[93m147: Guess: $99.99 Truth: $167.95 Error: $67.96 SLE: 0.26 Item: 3M Perfect It Buffing and Polishing Kit ...\u001b[0m\n",
            "\u001b[92m148: Guess: $32.00 Truth: $28.49 Error: $3.51 SLE: 0.01 Item: Chinese Style Dollhouse Model DIY Miniat...\u001b[0m\n",
            "\u001b[92m149: Guess: $90.00 Truth: $122.23 Error: $32.23 SLE: 0.09 Item: Generic NRG Innovations SRK-161H Steerin...\u001b[0m\n",
            "\u001b[92m150: Guess: $39.99 Truth: $32.99 Error: $7.00 SLE: 0.04 Item: Learning Resources Coding Critters Range...\u001b[0m\n",
            "\u001b[92m151: Guess: $48.00 Truth: $71.20 Error: $23.20 SLE: 0.15 Item: Bosch Automotive 15463 Oxygen Sensor, OE...\u001b[0m\n",
            "\u001b[93m152: Guess: $65.00 Truth: $112.75 Error: $47.75 SLE: 0.30 Item: Case of 24-2 Inch Blue Painters Tape - 6...\u001b[0m\n",
            "\u001b[93m153: Guess: $85.00 Truth: $142.43 Error: $57.43 SLE: 0.26 Item: MOCA Engine Water Pump & Fan Clutch fit ...\u001b[0m\n",
            "\u001b[92m154: Guess: $350.00 Truth: $398.99 Error: $48.99 SLE: 0.02 Item: SAREMAS Foot Step Bars for Hyundai Palis...\u001b[0m\n",
            "\u001b[92m155: Guess: $449.00 Truth: $449.00 Error: $0.00 SLE: 0.00 Item: Gretsch G9210 Square Neck Boxcar Mahogan...\u001b[0m\n",
            "\u001b[92m156: Guess: $169.99 Truth: $189.00 Error: $19.01 SLE: 0.01 Item: NikoMaku Mirror Dash Cam Front and Rear ...\u001b[0m\n",
            "\u001b[92m157: Guess: $129.95 Truth: $120.91 Error: $9.04 SLE: 0.01 Item: Fenix HP25R v2.0 USB-C Rechargeable Head...\u001b[0m\n",
            "\u001b[93m158: Guess: $159.99 Truth: $203.53 Error: $43.54 SLE: 0.06 Item: R&L Racing Heavy Duty Roll-Up Soft Tonne...\u001b[0m\n",
            "\u001b[92m159: Guess: $299.99 Truth: $349.99 Error: $50.00 SLE: 0.02 Item: Garmin 010-02258-10 GPSMAP 64sx, Handhel...\u001b[0m\n",
            "\u001b[92m160: Guess: $12.99 Truth: $34.35 Error: $21.36 SLE: 0.86 Item: Brown 5-7/8\" X 8-1/2\" X 3/16\" Thick Heav...\u001b[0m\n",
            "\u001b[92m161: Guess: $399.00 Truth: $384.99 Error: $14.01 SLE: 0.00 Item: GAOMON PD2200 Pen Display & 20 Pen Nibs ...\u001b[0m\n",
            "\u001b[91m162: Guess: $109.95 Truth: $211.00 Error: $101.05 SLE: 0.42 Item: VXMOTOR for 97-03 Ford F150/F250 Lightdu...\u001b[0m\n",
            "\u001b[92m163: Guess: $90.00 Truth: $129.00 Error: $39.00 SLE: 0.13 Item: HP EliteBook 2540p Intel Core i7-640LM X...\u001b[0m\n",
            "\u001b[91m164: Guess: $16.99 Truth: $111.45 Error: $94.46 SLE: 3.36 Item: Green EPX Mixing Nozzles 100-Pack-fits 3...\u001b[0m\n",
            "\u001b[93m165: Guess: $32.00 Truth: $81.12 Error: $49.12 SLE: 0.83 Item: Box Partners 6 1/4 x 3 1/8\" 13 Pt. Manil...\u001b[0m\n",
            "\u001b[93m166: Guess: $315.00 Truth: $457.08 Error: $142.08 SLE: 0.14 Item: Vixen Air 1/2\" NPT Air Ride Suspension H...\u001b[0m\n",
            "\u001b[92m167: Guess: $59.99 Truth: $49.49 Error: $10.50 SLE: 0.04 Item: Smart Floor Lamp, 2700-6500K+RGBPink Mul...\u001b[0m\n",
            "\u001b[92m168: Guess: $60.00 Truth: $80.56 Error: $20.56 SLE: 0.08 Item: SOZG 324mm Wheelbase Body Shell RC Car B...\u001b[0m\n",
            "\u001b[93m169: Guess: $370.00 Truth: $278.39 Error: $91.61 SLE: 0.08 Item: Mickey Thompson ET Street S/S Racing Rad...\u001b[0m\n",
            "\u001b[92m170: Guess: $330.00 Truth: $364.50 Error: $34.50 SLE: 0.01 Item: Pirelli 275/40R20 106W XL RFT P0 PZ4-LUX...\u001b[0m\n",
            "\u001b[93m171: Guess: $296.00 Truth: $378.99 Error: $82.99 SLE: 0.06 Item: Torklift C3212 Rear Tie Down\u001b[0m\n",
            "\u001b[92m172: Guess: $180.00 Truth: $165.28 Error: $14.72 SLE: 0.01 Item: Cardone 78-4226 Remanufactured Ford Comp...\u001b[0m\n",
            "\u001b[92m173: Guess: $32.99 Truth: $56.74 Error: $23.75 SLE: 0.28 Item: Kidde AccessPoint 001798 Supra TouchPoin...\u001b[0m\n",
            "\u001b[93m174: Guess: $210.00 Truth: $307.95 Error: $97.95 SLE: 0.15 Item: 3M Protecta 3100414 Self Retracting Life...\u001b[0m\n",
            "\u001b[92m175: Guess: $35.00 Truth: $38.00 Error: $3.00 SLE: 0.01 Item: Plantronics 89435-01 Wired Headset, Blac...\u001b[0m\n",
            "\u001b[92m176: Guess: $49.99 Truth: $53.00 Error: $3.01 SLE: 0.00 Item: Logitech K750 Wireless Solar Keyboard fo...\u001b[0m\n",
            "\u001b[92m177: Guess: $399.00 Truth: $498.00 Error: $99.00 SLE: 0.05 Item: Olympus PEN E-PL9 Body Only with 3-Inch ...\u001b[0m\n",
            "\u001b[92m178: Guess: $85.00 Truth: $53.99 Error: $31.01 SLE: 0.20 Item: Beck/Arnley 051-6066 Hub & Bearing Assem...\u001b[0m\n",
            "\u001b[92m179: Guess: $300.00 Truth: $350.00 Error: $50.00 SLE: 0.02 Item: Eibach Pro-Kit Performance Springs E10-6...\u001b[0m\n",
            "\u001b[93m180: Guess: $199.99 Truth: $299.95 Error: $99.96 SLE: 0.16 Item: LEGO DC Batman 1989 Batwing 76161 Displa...\u001b[0m\n",
            "\u001b[92m181: Guess: $89.95 Truth: $94.93 Error: $4.98 SLE: 0.00 Item: Kingston Brass KS3608PL Restoration 4-In...\u001b[0m\n",
            "\u001b[92m182: Guess: $400.00 Truth: $379.00 Error: $21.00 SLE: 0.00 Item: Polk Vanishing Series 265-LS In-Wall 3-W...\u001b[0m\n",
            "\u001b[92m183: Guess: $268.99 Truth: $299.95 Error: $30.96 SLE: 0.01 Item: Spec-D Tuning LED Projector Headlights G...\u001b[0m\n",
            "\u001b[92m184: Guess: $29.99 Truth: $24.99 Error: $5.00 SLE: 0.03 Item: RICHMOND & FINCH Airpod Pro Case, Green ...\u001b[0m\n",
            "\u001b[92m185: Guess: $75.00 Truth: $41.04 Error: $33.96 SLE: 0.35 Item: LFA Industries 43B-5A-33JT 1/16-1/2-1.5-...\u001b[0m\n",
            "\u001b[91m186: Guess: $169.99 Truth: $327.90 Error: $157.91 SLE: 0.43 Item: SAUTVS LED Headlight Assembly for Slings...\u001b[0m\n",
            "\u001b[92m187: Guess: $14.99 Truth: $10.99 Error: $4.00 SLE: 0.08 Item: 2 Pack Combo Womens Safety Glasses Impac...\u001b[0m\n",
            "\u001b[92m188: Guess: $14.99 Truth: $14.99 Error: $0.00 SLE: 0.00 Item: Arepa - Venezuelan cuisine - Venezuela P...\u001b[0m\n",
            "\u001b[93m189: Guess: $15.00 Truth: $84.95 Error: $69.95 SLE: 2.83 Item: Schlage Lock Company KS23D2300 Padlock, ...\u001b[0m\n",
            "\u001b[93m190: Guess: $69.99 Truth: $111.00 Error: $41.01 SLE: 0.21 Item: Techni Mobili White Sit to Stand Mobile ...\u001b[0m\n",
            "\u001b[93m191: Guess: $65.00 Truth: $123.73 Error: $58.73 SLE: 0.41 Item: Special Lite Products Contemporary Wall ...\u001b[0m\n",
            "\u001b[92m192: Guess: $490.00 Truth: $557.38 Error: $67.38 SLE: 0.02 Item: Tascam DP-24SD 24-Track Digital Portastu...\u001b[0m\n",
            "\u001b[91m193: Guess: $250.00 Truth: $95.55 Error: $154.45 SLE: 0.91 Item: Glow Lighting 636CC10SP Vista Crystal Fl...\u001b[0m\n",
            "\u001b[92m194: Guess: $119.00 Truth: $154.00 Error: $35.00 SLE: 0.07 Item: Z3 Wind Deflector, Smoke Tint, Lexan, Wi...\u001b[0m\n",
            "\u001b[91m195: Guess: $50.00 Truth: $198.99 Error: $148.99 SLE: 1.87 Item: Olympus E-20 5MP Digital Camera w/ 4x Op...\u001b[0m\n",
            "\u001b[91m196: Guess: $169.99 Truth: $430.44 Error: $260.45 SLE: 0.86 Item: PHYNEDI 1:1000 World Trade Center (1973-...\u001b[0m\n",
            "\u001b[92m197: Guess: $12.00 Truth: $45.67 Error: $33.67 SLE: 1.63 Item: YANGHUAN Unstable Unicorns Adventure Car...\u001b[0m\n",
            "\u001b[93m198: Guess: $180.00 Truth: $249.00 Error: $69.00 SLE: 0.10 Item: Interlogix NX-1820E NetworX Touch Screen...\u001b[0m\n",
            "\u001b[92m199: Guess: $35.00 Truth: $42.99 Error: $7.99 SLE: 0.04 Item: Steering Damper,Universal Motorcycle Han...\u001b[0m\n",
            "\u001b[93m200: Guess: $250.00 Truth: $181.33 Error: $68.67 SLE: 0.10 Item: Amprobe TIC 410A Hot Stick Attachment\u001b[0m\n",
            "\u001b[92m201: Guess: $2.39 Truth: $6.03 Error: $3.64 SLE: 0.53 Item: MyCableMart 3.5mm Plug/Jack, 4 Conductor...\u001b[0m\n",
            "\u001b[92m202: Guess: $24.95 Truth: $29.99 Error: $5.04 SLE: 0.03 Item: OtterBox + Pop Symmetry Series Case for ...\u001b[0m\n",
            "\u001b[91m203: Guess: $250.00 Truth: $899.00 Error: $649.00 SLE: 1.63 Item: Dell XPS X8700-1572BLK Desktop ( Intel C...\u001b[0m\n",
            "\u001b[92m204: Guess: $399.99 Truth: $399.99 Error: $0.00 SLE: 0.00 Item: Franklin Iron Works Sperry Industrial Br...\u001b[0m\n",
            "\u001b[92m205: Guess: $7.99 Truth: $4.66 Error: $3.33 SLE: 0.21 Item: Avery Legal Dividers, Standard Collated ...\u001b[0m\n",
            "\u001b[91m206: Guess: $425.00 Truth: $261.41 Error: $163.59 SLE: 0.23 Item: Moen 8346 Commercial Posi-Temp Pressure ...\u001b[0m\n",
            "\u001b[92m207: Guess: $120.00 Truth: $136.97 Error: $16.97 SLE: 0.02 Item: Carlisle Versa Trail ATR All Terrain Rad...\u001b[0m\n",
            "\u001b[92m208: Guess: $99.00 Truth: $79.00 Error: $20.00 SLE: 0.05 Item: SUNWAYFOTO 44mm Tripod Ball Head Arca Co...\u001b[0m\n",
            "\u001b[92m209: Guess: $420.00 Truth: $444.99 Error: $24.99 SLE: 0.00 Item: NanoBeam AC NBE-5AC-Gen2-US 4 Units 5GHz...\u001b[0m\n",
            "\u001b[92m210: Guess: $425.00 Truth: $411.94 Error: $13.06 SLE: 0.00 Item: WULF 4\" Front 2\" Rear Leveling Lift Kit ...\u001b[0m\n",
            "\u001b[93m211: Guess: $190.00 Truth: $148.40 Error: $41.60 SLE: 0.06 Item: Alera ALEVABFMC Valencia Series Mobile B...\u001b[0m\n",
            "\u001b[91m212: Guess: $90.00 Truth: $244.99 Error: $154.99 SLE: 0.99 Item: YU-GI-OH! Ignition Assault Booster Box\u001b[0m\n",
            "\u001b[91m213: Guess: $179.99 Truth: $86.50 Error: $93.49 SLE: 0.53 Item: 48\" x 36\" Extra-Large Framed Magnetic Bl...\u001b[0m\n",
            "\u001b[91m214: Guess: $70.00 Truth: $297.95 Error: $227.95 SLE: 2.07 Item: Dell Latitude D620 Renewed Notebook PC\u001b[0m\n",
            "\u001b[92m215: Guess: $419.00 Truth: $399.99 Error: $19.01 SLE: 0.00 Item: acer Aspire 5 Laptop, AMD Ryzen 3 5300U ...\u001b[0m\n",
            "\u001b[91m216: Guess: $250.00 Truth: $599.00 Error: $349.00 SLE: 0.76 Item: Elk 31080/6RC-GRN 30 by 6-Inch Viva 6-Li...\u001b[0m\n",
            "\u001b[93m217: Guess: $40.00 Truth: $105.99 Error: $65.99 SLE: 0.92 Item: Barbie Top Model Doll\u001b[0m\n",
            "\u001b[92m218: Guess: $700.00 Truth: $689.00 Error: $11.00 SLE: 0.00 Item: Danby Designer 20-In. Electric Range wit...\u001b[0m\n",
            "\u001b[91m219: Guess: $749.00 Truth: $404.99 Error: $344.01 SLE: 0.38 Item: FixtureDisplays® Metal Truss Podium Doub...\u001b[0m\n",
            "\u001b[92m220: Guess: $180.00 Truth: $207.76 Error: $27.76 SLE: 0.02 Item: ACDelco 13597235 GM Original Equipment A...\u001b[0m\n",
            "\u001b[92m221: Guess: $200.00 Truth: $171.82 Error: $28.18 SLE: 0.02 Item: EBC S1KF1135 Stage-1 Premium Street Brak...\u001b[0m\n",
            "\u001b[92m222: Guess: $319.99 Truth: $293.24 Error: $26.75 SLE: 0.01 Item: FXR Men's Boost FX Jacket (Black/Orange/...\u001b[0m\n",
            "\u001b[93m223: Guess: $474.95 Truth: $374.95 Error: $100.00 SLE: 0.06 Item: SuperATV Scratch Resistant 3-in-1 Flip W...\u001b[0m\n",
            "\u001b[93m224: Guess: $49.99 Truth: $111.99 Error: $62.00 SLE: 0.63 Item: SBU 3 Layer All Weather Mini Van Car Cov...\u001b[0m\n",
            "\u001b[92m225: Guess: $18.99 Truth: $42.99 Error: $24.00 SLE: 0.62 Item: 2 Pack Outdoor Brochure Holder Advertisi...\u001b[0m\n",
            "\u001b[92m226: Guess: $140.00 Truth: $116.71 Error: $23.29 SLE: 0.03 Item: Monroe Shocks & Struts Quick-Strut 17158...\u001b[0m\n",
            "\u001b[93m227: Guess: $175.00 Truth: $118.61 Error: $56.39 SLE: 0.15 Item: Elements of Design Magellan EB235AL Thre...\u001b[0m\n",
            "\u001b[92m228: Guess: $110.00 Truth: $147.12 Error: $37.12 SLE: 0.08 Item: GM Genuine Parts 15-62961 Air Conditioni...\u001b[0m\n",
            "\u001b[93m229: Guess: $69.99 Truth: $119.99 Error: $50.00 SLE: 0.28 Item: Baseus 17-in-1 USB C Docking Station to ...\u001b[0m\n",
            "\u001b[92m230: Guess: $329.00 Truth: $369.98 Error: $40.98 SLE: 0.01 Item: Whitehall™ Personalized Whitehall Capito...\u001b[0m\n",
            "\u001b[92m231: Guess: $260.00 Truth: $315.55 Error: $55.55 SLE: 0.04 Item: Pro Circuit Works Pipe PY05250 for 02-19...\u001b[0m\n",
            "\u001b[92m232: Guess: $179.99 Truth: $190.99 Error: $11.00 SLE: 0.00 Item: HYANKA 15 \"1200W Professional DJ Speaker...\u001b[0m\n",
            "\u001b[92m233: Guess: $180.00 Truth: $155.00 Error: $25.00 SLE: 0.02 Item: Bluetooth X6BT Card Reader Writer Encode...\u001b[0m\n",
            "\u001b[92m234: Guess: $399.99 Truth: $349.99 Error: $50.00 SLE: 0.02 Item: AIRAID Cold Air Intake System by K&N: In...\u001b[0m\n",
            "\u001b[92m235: Guess: $229.99 Truth: $249.99 Error: $20.00 SLE: 0.01 Item: Bostingner Shower Faucets Sets Complete,...\u001b[0m\n",
            "\u001b[92m236: Guess: $37.99 Truth: $42.99 Error: $5.00 SLE: 0.01 Item: PIT66 Front Bumper Turn Signal Lights, C...\u001b[0m\n",
            "\u001b[92m237: Guess: $13.99 Truth: $17.99 Error: $4.00 SLE: 0.06 Item: Caseology Bumpy Compatible with Google P...\u001b[0m\n",
            "\u001b[93m238: Guess: $260.00 Truth: $425.00 Error: $165.00 SLE: 0.24 Item: Fleck 2510 Timer Mechanical Filter Contr...\u001b[0m\n",
            "\u001b[92m239: Guess: $229.99 Truth: $249.99 Error: $20.00 SLE: 0.01 Item: Haloview MC7108 Wireless RV Backup Camer...\u001b[0m\n",
            "\u001b[91m240: Guess: $35.00 Truth: $138.23 Error: $103.23 SLE: 1.83 Item: Schmidt Spiele - Manhattan\u001b[0m\n",
            "\u001b[92m241: Guess: $469.99 Truth: $414.99 Error: $55.00 SLE: 0.02 Item: Corsa 14333 Tip Kit (Ford Mustang GT)\u001b[0m\n",
            "\u001b[93m242: Guess: $210.00 Truth: $168.28 Error: $41.72 SLE: 0.05 Item: Hoshizaki FM116A Fan Motor Kit 1\u001b[0m\n",
            "\u001b[92m243: Guess: $189.99 Truth: $199.99 Error: $10.00 SLE: 0.00 Item: BAINUO Antler Chandelier Lighting,6 Ligh...\u001b[0m\n",
            "\u001b[92m244: Guess: $112.00 Truth: $126.70 Error: $14.70 SLE: 0.01 Item: DNA MOTORING HL-OH-FEXP06-SM-AM Smoke Le...\u001b[0m\n",
            "\u001b[92m245: Guess: $7.49 Truth: $5.91 Error: $1.58 SLE: 0.04 Item: Wera Stainless 3840/1 TS 2.5mm Hex Inser...\u001b[0m\n",
            "\u001b[93m246: Guess: $239.00 Truth: $193.06 Error: $45.94 SLE: 0.05 Item: Celestron - PowerSeeker 127EQ Telescope ...\u001b[0m\n",
            "\u001b[92m247: Guess: $229.99 Truth: $249.99 Error: $20.00 SLE: 0.01 Item: NHOPEEW 10.1inch Android Car Radio Carpl...\u001b[0m\n",
            "\u001b[92m248: Guess: $49.99 Truth: $64.12 Error: $14.13 SLE: 0.06 Item: Other Harmonica (Suzuki-2Timer24- A)\u001b[0m\n",
            "\u001b[93m249: Guess: $65.00 Truth: $114.99 Error: $49.99 SLE: 0.32 Item: Harley Air Filter Venturi Intake Air Cle...\u001b[0m\n",
            "\u001b[92m250: Guess: $1,099.00 Truth: $926.00 Error: $173.00 SLE: 0.03 Item: Elite Screens Edge Free Ambient Light Re...\u001b[0m\n"
          ]
        },
        {
          "output_type": "display_data",
          "data": {
            "text/plain": [
              "<Figure size 1200x800 with 1 Axes>"
            ],
            "image/png": "[encoded data removed]"
          },
          "metadata": {}
        }
      ]
    },
    {
      "cell_type": "markdown",
      "source": [
        "### gpt 4.1 hypertuned , extended dataset\n",
        "**Error**: $67.93, RMSLE=0.47, Hits 68.8"
      ],
      "metadata": {
        "id": "L0-cps4dLg0S"
      },
      "id": "L0-cps4dLg0S"
    },
    {
      "cell_type": "code",
      "source": [
        "def gpt_4_1_hypertuned(item):\n",
        "    response = openai.chat.completions.create(\n",
        "        model=\"gpt-4.1-2025-04-14\",\n",
        "        messages=messages_v2(item, with_price=False),\n",
        "        seed=42,\n",
        "        temperature=0.2,\n",
        "        max_completion_tokens=7\n",
        "    )\n",
        "    reply = response.choices[0].message.content\n",
        "    return get_price(reply)"
      ],
      "metadata": {
        "id": "ZptbHZN3LilR"
      },
      "id": "ZptbHZN3LilR",
      "execution_count": 209,
      "outputs": []
    },
    {
      "cell_type": "code",
      "source": [
        "Tester.test(gpt_4_1_hypertuned, test)"
      ],
      "metadata": {
        "id": "CtBfsCixLgSe",
        "outputId": "619b0d8d-d000-4595-ea6f-8db191cec541",
        "colab": {
          "base_uri": "https://localhost:8080/",
          "height": 1000
        }
      },
      "id": "CtBfsCixLgSe",
      "execution_count": 210,
      "outputs": [
        {
          "output_type": "stream",
          "name": "stdout",
          "text": [
            "\u001b[92m1: Guess: $319.99 Truth: $374.41 Error: $54.42 SLE: 0.02 Item: OEM AC Compressor w/A/C Repair Kit For F...\u001b[0m\n",
            "\u001b[91m2: Guess: $109.99 Truth: $225.11 Error: $115.12 SLE: 0.51 Item: Motorcraft YB3125 Fan Clutch\u001b[0m\n",
            "\u001b[92m3: Guess: $61.99 Truth: $61.68 Error: $0.31 SLE: 0.00 Item: Dorman 603-159 Front Washer Fluid Reserv...\u001b[0m\n",
            "\u001b[92m4: Guess: $599.99 Truth: $599.99 Error: $0.00 SLE: 0.00 Item: HP Premium 17.3-inch HD Plus Touchscreen...\u001b[0m\n",
            "\u001b[92m5: Guess: $16.99 Truth: $16.99 Error: $0.00 SLE: 0.00 Item: 5-Position Super Switch Pickup Selector ...\u001b[0m\n",
            "\u001b[92m6: Guess: $16.99 Truth: $31.99 Error: $15.00 SLE: 0.37 Item: Horror Bookmarks, Resin Horror Bookmarks...\u001b[0m\n",
            "\u001b[92m7: Guess: $69.99 Truth: $101.79 Error: $31.80 SLE: 0.14 Item: SK6241 - Stinger 4 Gauge 6000 Series Pow...\u001b[0m\n",
            "\u001b[92m8: Guess: $289.00 Truth: $289.00 Error: $0.00 SLE: 0.00 Item: Godox ML60Bi LED Light Kit, Handheld LED...\u001b[0m\n",
            "\u001b[93m9: Guess: $499.99 Truth: $635.86 Error: $135.87 SLE: 0.06 Item: Randall RG75DG3PLUS G3 Plus 100-Watt Com...\u001b[0m\n",
            "\u001b[92m10: Guess: $49.99 Truth: $65.99 Error: $16.00 SLE: 0.07 Item: HOLDWILL 6 Pack LED Shop Light, 4FT 24W ...\u001b[0m\n",
            "\u001b[93m11: Guess: $189.99 Truth: $254.21 Error: $64.22 SLE: 0.08 Item: Viking Horns V103C/1005ATK 3 Gallon Air ...\u001b[0m\n",
            "\u001b[93m12: Guess: $289.99 Truth: $412.99 Error: $123.00 SLE: 0.12 Item: CURT 70110 Custom Tow Bar Base Plate Bra...\u001b[0m\n",
            "\u001b[91m13: Guess: $39.99 Truth: $205.50 Error: $165.51 SLE: 2.61 Item: 10-Pack Solar HAMMERED BRONZE Finish Pos...\u001b[0m\n",
            "\u001b[92m14: Guess: $239.99 Truth: $248.23 Error: $8.24 SLE: 0.00 Item: COSTWAY Electric Tumble Dryer, Sliver\u001b[0m\n",
            "\u001b[93m15: Guess: $299.99 Truth: $399.00 Error: $99.01 SLE: 0.08 Item: FREE SIGNAL TV Transit 32\" 12 Volt DC Po...\u001b[0m\n",
            "\u001b[92m16: Guess: $389.99 Truth: $373.94 Error: $16.05 SLE: 0.00 Item: Bilstein 5100 Monotube Gas Shock Set com...\u001b[0m\n",
            "\u001b[92m17: Guess: $79.99 Truth: $92.89 Error: $12.90 SLE: 0.02 Item: Sangean K-200 Multi-Function Upright AM/...\u001b[0m\n",
            "\u001b[92m18: Guess: $69.99 Truth: $51.99 Error: $18.00 SLE: 0.09 Item: Charles Leonard Magnetic Lapboard Class ...\u001b[0m\n",
            "\u001b[92m19: Guess: $179.99 Truth: $179.00 Error: $0.99 SLE: 0.00 Item: Gigabyte AMD Radeon HD 7870 2 GB GDDR5 D...\u001b[0m\n",
            "\u001b[92m20: Guess: $8.99 Truth: $19.42 Error: $10.43 SLE: 0.51 Item: 3dRose LLC 8 x 8 x 0.25 Inches Bull Terr...\u001b[0m\n",
            "\u001b[92m21: Guess: $499.00 Truth: $539.95 Error: $40.95 SLE: 0.01 Item: ROKINON 85mm F1.4 Auto Focus Full Frame ...\u001b[0m\n",
            "\u001b[92m22: Guess: $139.99 Truth: $147.67 Error: $7.68 SLE: 0.00 Item: AUTOSAVER88 Headlight Assembly Compatibl...\u001b[0m\n",
            "\u001b[92m23: Guess: $38.99 Truth: $24.99 Error: $14.00 SLE: 0.19 Item: ASI NAUTICAL 2.5 Inches Opera Glasses Bi...\u001b[0m\n",
            "\u001b[91m24: Guess: $29.00 Truth: $149.00 Error: $120.00 SLE: 2.59 Item: Behringer TUBE OVERDRIVE TO100 Authentic...\u001b[0m\n",
            "\u001b[92m25: Guess: $11.99 Truth: $16.99 Error: $5.00 SLE: 0.11 Item: Fun Express Insect Finger Puppets - 24 f...\u001b[0m\n",
            "\u001b[92m26: Guess: $7.99 Truth: $7.99 Error: $0.00 SLE: 0.00 Item: WAFJAMF Roller Stamp Identity Theft Stam...\u001b[0m\n",
            "\u001b[91m27: Guess: $299.99 Truth: $199.99 Error: $100.00 SLE: 0.16 Item: Capulina Tiffany Floor Lamp 2-Light 16\" ...\u001b[0m\n",
            "\u001b[93m28: Guess: $329.00 Truth: $251.45 Error: $77.55 SLE: 0.07 Item: Apple Watch Series 6 (GPS, 44mm) - Space...\u001b[0m\n",
            "\u001b[91m29: Guess: $129.99 Truth: $231.62 Error: $101.63 SLE: 0.33 Item: ICON 01725 Tandem Axle Fender Skirt FS17...\u001b[0m\n",
            "\u001b[93m30: Guess: $189.99 Truth: $135.00 Error: $54.99 SLE: 0.12 Item: SanDisk 128GB Ultra (10 Pack) MicroSD Cl...\u001b[0m\n",
            "\u001b[92m31: Guess: $389.99 Truth: $356.62 Error: $33.37 SLE: 0.01 Item: Velvac 2020,L,C/Hr,W,E2003,102\",Bk - 715...\u001b[0m\n",
            "\u001b[93m32: Guess: $159.99 Truth: $257.99 Error: $98.00 SLE: 0.23 Item: TCMT Passenger Backrest Sissy Bar & Lugg...\u001b[0m\n",
            "\u001b[92m33: Guess: $22.99 Truth: $27.99 Error: $5.00 SLE: 0.04 Item: Alnicov 63.5MM Brass Tremolo Block，Tremo...\u001b[0m\n",
            "\u001b[91m34: Guess: $69.99 Truth: $171.20 Error: $101.21 SLE: 0.79 Item: Subaru Forester Outback Legacy OEM Engin...\u001b[0m\n",
            "\u001b[92m35: Guess: $249.99 Truth: $225.00 Error: $24.99 SLE: 0.01 Item: Richmond Auto Upholstery - 2012 Dodge Ra...\u001b[0m\n",
            "\u001b[92m36: Guess: $69.99 Truth: $105.00 Error: $35.01 SLE: 0.16 Item: AP-39 Automotive Paint Primer Grey 2K Ur...\u001b[0m\n",
            "\u001b[92m37: Guess: $289.99 Truth: $299.99 Error: $10.00 SLE: 0.00 Item: Road Top Wireless Carplay Retrofit Kit D...\u001b[0m\n",
            "\u001b[92m38: Guess: $589.99 Truth: $535.09 Error: $54.90 SLE: 0.01 Item: Gibson Performance Exhaust 5658 Aluminiz...\u001b[0m\n",
            "\u001b[92m39: Guess: $14.99 Truth: $12.33 Error: $2.66 SLE: 0.03 Item: Bella Tunno Happy Links - Baby Montessor...\u001b[0m\n",
            "\u001b[92m40: Guess: $119.99 Truth: $84.99 Error: $35.00 SLE: 0.12 Item: CANMORE H300 Handheld GPS Golf Device, S...\u001b[0m\n",
            "\u001b[92m41: Guess: $15.99 Truth: $15.99 Error: $0.00 SLE: 0.00 Item: DCPOWER AC Adapter Compatible Replacemen...\u001b[0m\n",
            "\u001b[92m42: Guess: $24.99 Truth: $62.44 Error: $37.45 SLE: 0.80 Item: Sharp, VX2128V, Commercial Desktop Calcu...\u001b[0m\n",
            "\u001b[92m43: Guess: $99.99 Truth: $82.99 Error: $17.00 SLE: 0.03 Item: Melissa & Doug Lifelike Plush Stork Gian...\u001b[0m\n",
            "\u001b[91m44: Guess: $298.00 Truth: $599.95 Error: $301.95 SLE: 0.49 Item: Sony SSCS8 2-Way 3-Driver Center Channel...\u001b[0m\n",
            "\u001b[92m45: Guess: $199.99 Truth: $194.99 Error: $5.00 SLE: 0.00 Item: ASUS Chromebook CX1, 14\" Full HD NanoEdg...\u001b[0m\n",
            "\u001b[91m46: Guess: $499.99 Truth: $344.95 Error: $155.04 SLE: 0.14 Item: FiiO X7 32GB Hi-Res Lossless Music Playe...\u001b[0m\n",
            "\u001b[92m47: Guess: $49.99 Truth: $37.99 Error: $12.00 SLE: 0.07 Item: TORRO Leather Case Compatible with iPhon...\u001b[0m\n",
            "\u001b[93m48: Guess: $289.99 Truth: $224.35 Error: $65.64 SLE: 0.07 Item: Universal Air Conditioner KT 1031 A/C Co...\u001b[0m\n",
            "\u001b[92m49: Guess: $949.00 Truth: $814.00 Error: $135.00 SLE: 0.02 Item: Street Series Stainless Performance Cat-...\u001b[0m\n",
            "\u001b[92m50: Guess: $399.99 Truth: $439.88 Error: $39.89 SLE: 0.01 Item: Lenovo IdeaPad 3 14-inch Laptop, 14.0-in...\u001b[0m\n",
            "\u001b[92m51: Guess: $299.99 Truth: $341.43 Error: $41.44 SLE: 0.02 Item: Access Bed Covers TonnoSport 22050219 - ...\u001b[0m\n",
            "\u001b[92m52: Guess: $24.99 Truth: $46.78 Error: $21.79 SLE: 0.37 Item: G.I. JOE Hasbro 3 3/4\" Wave 5 Action Fig...\u001b[0m\n",
            "\u001b[91m53: Guess: $289.00 Truth: $171.44 Error: $117.56 SLE: 0.27 Item: T&S Brass B-0232-BST Double Pantry Fauce...\u001b[0m\n",
            "\u001b[91m54: Guess: $699.99 Truth: $458.00 Error: $241.99 SLE: 0.18 Item: ZTUOAUMA Fuel Injection Pump 3090942 309...\u001b[0m\n",
            "\u001b[92m55: Guess: $149.99 Truth: $130.75 Error: $19.24 SLE: 0.02 Item: 2AP18AA#ABA Hp Prime Graphing Calculator...\u001b[0m\n",
            "\u001b[92m56: Guess: $69.99 Truth: $83.81 Error: $13.82 SLE: 0.03 Item: Lowrance 000-0119-83 Nmea 2000 25' Exten...\u001b[0m\n",
            "\u001b[91m57: Guess: $129.99 Truth: $386.39 Error: $256.40 SLE: 1.18 Item: Jeep Genuine Accessories 82213051 Hood L...\u001b[0m\n",
            "\u001b[92m58: Guess: $189.00 Truth: $169.00 Error: $20.00 SLE: 0.01 Item: GODOX CB-06 Hard Carrying Case with Whee...\u001b[0m\n",
            "\u001b[92m59: Guess: $19.99 Truth: $17.95 Error: $2.04 SLE: 0.01 Item: Au-Tomotive Gold, INC. Ford Black Valet ...\u001b[0m\n",
            "\u001b[92m60: Guess: $219.99 Truth: $269.00 Error: $49.01 SLE: 0.04 Item: Snailfly Black Roof Rack Rail + Cross Ba...\u001b[0m\n",
            "\u001b[92m61: Guess: $39.99 Truth: $77.77 Error: $37.78 SLE: 0.43 Item: KING SHA Anti Glare LED Track Lighting H...\u001b[0m\n",
            "\u001b[92m62: Guess: $109.99 Truth: $88.99 Error: $21.00 SLE: 0.04 Item: APS Compatible with Chevy Silverado 1500...\u001b[0m\n",
            "\u001b[92m63: Guess: $399.99 Truth: $364.41 Error: $35.58 SLE: 0.01 Item: Wilwood Engineering 14011291R Brake Cali...\u001b[0m\n",
            "\u001b[92m64: Guess: $139.99 Truth: $127.03 Error: $12.96 SLE: 0.01 Item: ACDelco Gold 336-1925A Starter, Remanufa...\u001b[0m\n",
            "\u001b[92m65: Guess: $799.99 Truth: $778.95 Error: $21.04 SLE: 0.00 Item: UWS EC10783 69-Inch Matte Black Heavy-Wa...\u001b[0m\n",
            "\u001b[91m66: Guess: $299.99 Truth: $206.66 Error: $93.33 SLE: 0.14 Item: Dell Latitude E5440 14in Business Laptop...\u001b[0m\n",
            "\u001b[92m67: Guess: $39.99 Truth: $35.94 Error: $4.05 SLE: 0.01 Item: (Plug and Play) Spare Tire Brake Light W...\u001b[0m\n",
            "\u001b[92m68: Guess: $129.99 Truth: $149.00 Error: $19.01 SLE: 0.02 Item: The Ultimate Roadside Rescue Assistant\u001b[0m\n",
            "\u001b[92m69: Guess: $259.99 Truth: $251.98 Error: $8.01 SLE: 0.00 Item: Brand New 18\" x 8.5\" Replacement Wheel f...\u001b[0m\n",
            "\u001b[92m70: Guess: $179.99 Truth: $160.00 Error: $19.99 SLE: 0.01 Item: Headlight Headlamp LH Left & RH Right Pa...\u001b[0m\n",
            "\u001b[92m71: Guess: $29.99 Truth: $39.99 Error: $10.00 SLE: 0.08 Item: Lilo And Stitch Deluxe Oversize Print La...\u001b[0m\n",
            "\u001b[93m72: Guess: $249.99 Truth: $362.41 Error: $112.42 SLE: 0.14 Item: AC Compressor & A/C Clutch For Hyundai A...\u001b[0m\n",
            "\u001b[92m73: Guess: $349.00 Truth: $344.00 Error: $5.00 SLE: 0.00 Item: House Of Troy PIN475-AB Pinnacle Collect...\u001b[0m\n",
            "\u001b[92m74: Guess: $19.99 Truth: $25.09 Error: $5.10 SLE: 0.05 Item: Juno T29 WH Floating Electrical Feed Sin...\u001b[0m\n",
            "\u001b[91m75: Guess: $69.99 Truth: $175.95 Error: $105.96 SLE: 0.83 Item: Sherman GO-PARTS - for 2013-2016 Toyota ...\u001b[0m\n",
            "\u001b[92m76: Guess: $129.99 Truth: $132.64 Error: $2.65 SLE: 0.00 Item: Roland RPU-3 Electronic Keyboard Pedal o...\u001b[0m\n",
            "\u001b[92m77: Guess: $399.99 Truth: $422.99 Error: $23.00 SLE: 0.00 Item: Rockland VMI14 12,000 Pound 12 Volt DC E...\u001b[0m\n",
            "\u001b[93m78: Guess: $209.99 Truth: $146.48 Error: $63.51 SLE: 0.13 Item: Max Advanced Brakes Elite XDS Front Cros...\u001b[0m\n",
            "\u001b[92m79: Guess: $159.99 Truth: $156.83 Error: $3.16 SLE: 0.00 Item: Quality-Built 11030 Premium Quality Alte...\u001b[0m\n",
            "\u001b[91m80: Guess: $99.99 Truth: $251.99 Error: $152.00 SLE: 0.84 Item: Lucida LG-510 Student Classical Guitar, ...\u001b[0m\n",
            "\u001b[92m81: Guess: $799.99 Truth: $940.33 Error: $140.34 SLE: 0.03 Item: Longacre 52-79800 Aluminum Turn Plates\u001b[0m\n",
            "\u001b[92m82: Guess: $29.99 Truth: $52.99 Error: $23.00 SLE: 0.31 Item: Motion Pro 08-0380 Adjustable Torque Wre...\u001b[0m\n",
            "\u001b[93m83: Guess: $299.99 Truth: $219.95 Error: $80.04 SLE: 0.10 Item: Glyph Thunderbolt 3 NVMe Dock (0 GB)\u001b[0m\n",
            "\u001b[92m84: Guess: $468.99 Truth: $441.03 Error: $27.96 SLE: 0.00 Item: TOYO Open Country MT Performance Radial ...\u001b[0m\n",
            "\u001b[92m85: Guess: $149.99 Truth: $168.98 Error: $18.99 SLE: 0.01 Item: Razer Seiren X USB Streaming Microphone ...\u001b[0m\n",
            "\u001b[92m86: Guess: $4.99 Truth: $2.49 Error: $2.50 SLE: 0.29 Item: Happy Birthday to Dad From Your Daughter...\u001b[0m\n",
            "\u001b[92m87: Guess: $69.99 Truth: $98.62 Error: $28.63 SLE: 0.11 Item: Little Tikes My Real Jam First Concert S...\u001b[0m\n",
            "\u001b[93m88: Guess: $189.99 Truth: $256.95 Error: $66.96 SLE: 0.09 Item: Studio M Peace and Harmony Art Pole Comm...\u001b[0m\n",
            "\u001b[92m89: Guess: $24.99 Truth: $30.99 Error: $6.00 SLE: 0.04 Item: MyVolts 12V Power Supply Adaptor Compati...\u001b[0m\n",
            "\u001b[91m90: Guess: $1,949.00 Truth: $569.84 Error: $1,379.16 SLE: 1.51 Item: Dell Latitude 7212 Rugged Extreme Tablet...\u001b[0m\n",
            "\u001b[93m91: Guess: $99.99 Truth: $177.99 Error: $78.00 SLE: 0.33 Item: Covermates Contour Fit Car Cover - Light...\u001b[0m\n",
            "\u001b[92m92: Guess: $899.99 Truth: $997.99 Error: $98.00 SLE: 0.01 Item: Westin 57-4025 Black HDX Grille Guard fi...\u001b[0m\n",
            "\u001b[92m93: Guess: $179.99 Truth: $219.00 Error: $39.01 SLE: 0.04 Item: Fieldpiece JL2 Job Link Wireless App Tra...\u001b[0m\n",
            "\u001b[92m94: Guess: $259.99 Truth: $225.55 Error: $34.44 SLE: 0.02 Item: hansgrohe Talis S Modern Premium Easy Cl...\u001b[0m\n",
            "\u001b[91m95: Guess: $2,499.99 Truth: $495.95 Error: $2,004.04 SLE: 2.61 Item: G-Technology G-SPEED eS PRO High-Perform...\u001b[0m\n",
            "\u001b[93m96: Guess: $639.99 Truth: $942.37 Error: $302.38 SLE: 0.15 Item: DreamLine SHDR-1960723L-01 Shower Door, ...\u001b[0m\n",
            "\u001b[92m97: Guess: $5.99 Truth: $1.94 Error: $4.05 SLE: 0.75 Item: Sanctuary Square Backplate Finish: Oiled...\u001b[0m\n",
            "\u001b[92m98: Guess: $324.95 Truth: $284.34 Error: $40.61 SLE: 0.02 Item: Pelican Protector 1750 Long Case - Multi...\u001b[0m\n",
            "\u001b[92m99: Guess: $189.99 Truth: $171.90 Error: $18.09 SLE: 0.01 Item: Brock Replacement Driver and Passenger H...\u001b[0m\n",
            "\u001b[92m100: Guess: $129.99 Truth: $144.99 Error: $15.00 SLE: 0.01 Item: Carlinkit Ai Box Mini, Android 11, Multi...\u001b[0m\n",
            "\u001b[91m101: Guess: $999.99 Truth: $470.47 Error: $529.52 SLE: 0.57 Item: StarDot NetCamLIVE2 YouTube Live Stream ...\u001b[0m\n",
            "\u001b[92m102: Guess: $39.99 Truth: $66.95 Error: $26.96 SLE: 0.26 Item: Atomic Compatible FILXXCAR0016 16x25x5 M...\u001b[0m\n",
            "\u001b[92m103: Guess: $79.99 Truth: $117.00 Error: $37.01 SLE: 0.14 Item: Bandai Awakening of S. H. s.h.figuarts s...\u001b[0m\n",
            "\u001b[92m104: Guess: $139.99 Truth: $172.14 Error: $32.15 SLE: 0.04 Item: Fit System 62135G Passenger Side Towing ...\u001b[0m\n",
            "\u001b[92m105: Guess: $399.99 Truth: $392.74 Error: $7.25 SLE: 0.00 Item: Black Horse Black Aluminum Exceed Runnin...\u001b[0m\n",
            "\u001b[92m106: Guess: $22.99 Truth: $16.99 Error: $6.00 SLE: 0.08 Item: Dearsun Twinkle Star Color Night Light P...\u001b[0m\n",
            "\u001b[92m107: Guess: $1.49 Truth: $1.34 Error: $0.15 SLE: 0.00 Item: Pokemon - Gallade Spirit Link (83/108) -...\u001b[0m\n",
            "\u001b[93m108: Guess: $249.99 Truth: $349.98 Error: $99.99 SLE: 0.11 Item: Ibanez GA34STCE-NT GIO Series Classical ...\u001b[0m\n",
            "\u001b[91m109: Guess: $799.99 Truth: $370.71 Error: $429.28 SLE: 0.59 Item: Set 2 Heavy Duty 12-16.5 12x16.5 12 Ply ...\u001b[0m\n",
            "\u001b[92m110: Guess: $39.99 Truth: $65.88 Error: $25.89 SLE: 0.24 Item: Hairpin Table Legs 28\" Heavy Duty Hairpi...\u001b[0m\n",
            "\u001b[92m111: Guess: $219.99 Truth: $229.99 Error: $10.00 SLE: 0.00 Item: Marada Racing Seat with Adjustable Slide...\u001b[0m\n",
            "\u001b[92m112: Guess: $7.49 Truth: $9.14 Error: $1.65 SLE: 0.03 Item: Remington Industries 24UL1007STRWHI25 24...\u001b[0m\n",
            "\u001b[91m113: Guess: $299.99 Truth: $199.00 Error: $100.99 SLE: 0.17 Item: Acer S3-391-6046 13.3-inch Ultrabook, In...\u001b[0m\n",
            "\u001b[93m114: Guess: $159.99 Truth: $109.99 Error: $50.00 SLE: 0.14 Item: ICBEAMER 7\" RGB LED Headlights Bulb Halo...\u001b[0m\n",
            "\u001b[91m115: Guess: $329.99 Truth: $570.42 Error: $240.43 SLE: 0.30 Item: R1 Concepts Front Rear Brakes and Rotors...\u001b[0m\n",
            "\u001b[93m116: Guess: $189.99 Truth: $279.99 Error: $90.00 SLE: 0.15 Item: Camplux 2.64 GPM Tankless , Outdoor Port...\u001b[0m\n",
            "\u001b[92m117: Guess: $18.99 Truth: $30.99 Error: $12.00 SLE: 0.22 Item: KNOKLOCK 10 Pack 3.75 Inch(96mm) Kitchen...\u001b[0m\n",
            "\u001b[92m118: Guess: $29.99 Truth: $31.99 Error: $2.00 SLE: 0.00 Item: Valley Enterprises Yaesu USB FTDI CT-62 ...\u001b[0m\n",
            "\u001b[92m119: Guess: $15.99 Truth: $15.90 Error: $0.09 SLE: 0.00 Item: G9 LED Light Bulbs，8W，75W 100W replaceme...\u001b[0m\n",
            "\u001b[93m120: Guess: $89.99 Truth: $45.99 Error: $44.00 SLE: 0.44 Item: ZCHAOZ 4 Lights Antique White Farmhouse ...\u001b[0m\n",
            "\u001b[93m121: Guess: $159.99 Truth: $113.52 Error: $46.47 SLE: 0.12 Item: Honeywell TH8320R1003 Honeywell VisionPr...\u001b[0m\n",
            "\u001b[92m122: Guess: $599.99 Truth: $516.99 Error: $83.00 SLE: 0.02 Item: Patriot Exhaust H8013-1 1-7/8\" Clippster...\u001b[0m\n",
            "\u001b[91m123: Guess: $109.99 Truth: $196.99 Error: $87.00 SLE: 0.33 Item: Fitrite Autopart New Front Left Driver S...\u001b[0m\n",
            "\u001b[92m124: Guess: $34.99 Truth: $46.55 Error: $11.56 SLE: 0.08 Item: Technical Precision Replacement for GE G...\u001b[0m\n",
            "\u001b[93m125: Guess: $279.99 Truth: $356.99 Error: $77.00 SLE: 0.06 Item: Covercraft Carhartt SeatSaver Front Row ...\u001b[0m\n",
            "\u001b[92m126: Guess: $329.95 Truth: $319.95 Error: $10.00 SLE: 0.00 Item: Sennheiser SD Pro 2 (506008) - Double-Si...\u001b[0m\n",
            "\u001b[92m127: Guess: $109.99 Truth: $96.06 Error: $13.93 SLE: 0.02 Item: Hitachi MAF0110 Mass Air Flow Sensor\u001b[0m\n",
            "\u001b[92m128: Guess: $179.99 Truth: $190.99 Error: $11.00 SLE: 0.00 Item: AmScope SE305R-P-LED-PS36A 10X-30X LED C...\u001b[0m\n",
            "\u001b[91m129: Guess: $69.99 Truth: $257.95 Error: $187.96 SLE: 1.67 Item: Front Left Driver Side Window Regulator ...\u001b[0m\n",
            "\u001b[92m130: Guess: $64.99 Truth: $62.95 Error: $2.04 SLE: 0.00 Item: Premium Replica Hubcap Set, Fits Nissan ...\u001b[0m\n",
            "\u001b[92m131: Guess: $39.99 Truth: $47.66 Error: $7.67 SLE: 0.03 Item: Excellerations Phonics Spelling Game for...\u001b[0m\n",
            "\u001b[93m132: Guess: $299.99 Truth: $226.99 Error: $73.00 SLE: 0.08 Item: RC4WD BigDog Dual Axle Scale Car/Truck T...\u001b[0m\n",
            "\u001b[92m133: Guess: $399.99 Truth: $359.95 Error: $40.04 SLE: 0.01 Item: Unknown Stage 2 Clutch Kit - Low Altitud...\u001b[0m\n",
            "\u001b[93m134: Guess: $29.99 Truth: $78.40 Error: $48.41 SLE: 0.89 Item: 2002-2008 Dodge Ram 1500 Mopar 4X4 Emble...\u001b[0m\n",
            "\u001b[92m135: Guess: $179.99 Truth: $172.77 Error: $7.22 SLE: 0.00 Item: Pro Comp Alloys Series 89 Wheel with Pol...\u001b[0m\n",
            "\u001b[92m136: Guess: $259.99 Truth: $316.45 Error: $56.46 SLE: 0.04 Item: Detroit Axle - Front Rear Strut & Coil S...\u001b[0m\n",
            "\u001b[92m137: Guess: $119.99 Truth: $87.99 Error: $32.00 SLE: 0.09 Item: ECCPP Rear Wheel Axle Replacement fit fo...\u001b[0m\n",
            "\u001b[92m138: Guess: $229.99 Truth: $226.63 Error: $3.36 SLE: 0.00 Item: Dell Latitude E6520 Intel i7-2720QM 2.20...\u001b[0m\n",
            "\u001b[92m139: Guess: $19.99 Truth: $31.49 Error: $11.50 SLE: 0.19 Item: F FIERCE CYCLE 251pcs Black Universal Mo...\u001b[0m\n",
            "\u001b[92m140: Guess: $189.99 Truth: $196.00 Error: $6.01 SLE: 0.00 Item: Flash Furniture 4 Pk. HERCULES Series 88...\u001b[0m\n",
            "\u001b[92m141: Guess: $49.99 Truth: $78.40 Error: $28.41 SLE: 0.20 Item: B&M 30287 Throttle Valve/Kickdown Cable,...\u001b[0m\n",
            "\u001b[93m142: Guess: $189.99 Truth: $116.25 Error: $73.74 SLE: 0.24 Item: Gates TCK226 PowerGrip Premium Timing Be...\u001b[0m\n",
            "\u001b[93m143: Guess: $153.99 Truth: $112.78 Error: $41.21 SLE: 0.10 Item: Monroe Shocks & Struts Quick-Strut 17149...\u001b[0m\n",
            "\u001b[92m144: Guess: $29.99 Truth: $27.32 Error: $2.67 SLE: 0.01 Item: Feit Electric BPMR16/GU10/930CA/6 35W EQ...\u001b[0m\n",
            "\u001b[92m145: Guess: $139.99 Truth: $145.91 Error: $5.92 SLE: 0.00 Item: Yellow Jacket 2806 Contractor Extension ...\u001b[0m\n",
            "\u001b[91m146: Guess: $349.99 Truth: $171.09 Error: $178.90 SLE: 0.51 Item: Garage-Pro Tailgate SET Compatible with ...\u001b[0m\n",
            "\u001b[93m147: Guess: $99.99 Truth: $167.95 Error: $67.96 SLE: 0.26 Item: 3M Perfect It Buffing and Polishing Kit ...\u001b[0m\n",
            "\u001b[92m148: Guess: $39.99 Truth: $28.49 Error: $11.50 SLE: 0.11 Item: Chinese Style Dollhouse Model DIY Miniat...\u001b[0m\n",
            "\u001b[92m149: Guess: $99.99 Truth: $122.23 Error: $22.24 SLE: 0.04 Item: Generic NRG Innovations SRK-161H Steerin...\u001b[0m\n",
            "\u001b[92m150: Guess: $44.99 Truth: $32.99 Error: $12.00 SLE: 0.09 Item: Learning Resources Coding Critters Range...\u001b[0m\n",
            "\u001b[92m151: Guess: $51.99 Truth: $71.20 Error: $19.21 SLE: 0.10 Item: Bosch Automotive 15463 Oxygen Sensor, OE...\u001b[0m\n",
            "\u001b[92m152: Guess: $109.99 Truth: $112.75 Error: $2.76 SLE: 0.00 Item: Case of 24-2 Inch Blue Painters Tape - 6...\u001b[0m\n",
            "\u001b[93m153: Guess: $89.99 Truth: $142.43 Error: $52.44 SLE: 0.21 Item: MOCA Engine Water Pump & Fan Clutch fit ...\u001b[0m\n",
            "\u001b[92m154: Guess: $319.99 Truth: $398.99 Error: $79.00 SLE: 0.05 Item: SAREMAS Foot Step Bars for Hyundai Palis...\u001b[0m\n",
            "\u001b[92m155: Guess: $449.00 Truth: $449.00 Error: $0.00 SLE: 0.00 Item: Gretsch G9210 Square Neck Boxcar Mahogan...\u001b[0m\n",
            "\u001b[92m156: Guess: $189.99 Truth: $189.00 Error: $0.99 SLE: 0.00 Item: NikoMaku Mirror Dash Cam Front and Rear ...\u001b[0m\n",
            "\u001b[92m157: Guess: $139.95 Truth: $120.91 Error: $19.04 SLE: 0.02 Item: Fenix HP25R v2.0 USB-C Rechargeable Head...\u001b[0m\n",
            "\u001b[92m158: Guess: $179.99 Truth: $203.53 Error: $23.54 SLE: 0.01 Item: R&L Racing Heavy Duty Roll-Up Soft Tonne...\u001b[0m\n",
            "\u001b[92m159: Guess: $299.99 Truth: $349.99 Error: $50.00 SLE: 0.02 Item: Garmin 010-02258-10 GPSMAP 64sx, Handhel...\u001b[0m\n",
            "\u001b[92m160: Guess: $13.99 Truth: $34.35 Error: $20.36 SLE: 0.74 Item: Brown 5-7/8\" X 8-1/2\" X 3/16\" Thick Heav...\u001b[0m\n",
            "\u001b[92m161: Guess: $399.99 Truth: $384.99 Error: $15.00 SLE: 0.00 Item: GAOMON PD2200 Pen Display & 20 Pen Nibs ...\u001b[0m\n",
            "\u001b[93m162: Guess: $139.99 Truth: $211.00 Error: $71.01 SLE: 0.17 Item: VXMOTOR for 97-03 Ford F150/F250 Lightdu...\u001b[0m\n",
            "\u001b[92m163: Guess: $139.99 Truth: $129.00 Error: $10.99 SLE: 0.01 Item: HP EliteBook 2540p Intel Core i7-640LM X...\u001b[0m\n",
            "\u001b[91m164: Guess: $18.99 Truth: $111.45 Error: $92.46 SLE: 2.98 Item: Green EPX Mixing Nozzles 100-Pack-fits 3...\u001b[0m\n",
            "\u001b[93m165: Guess: $19.99 Truth: $81.12 Error: $61.13 SLE: 1.86 Item: Box Partners 6 1/4 x 3 1/8\" 13 Pt. Manil...\u001b[0m\n",
            "\u001b[92m166: Guess: $389.99 Truth: $457.08 Error: $67.09 SLE: 0.03 Item: Vixen Air 1/2\" NPT Air Ride Suspension H...\u001b[0m\n",
            "\u001b[92m167: Guess: $79.99 Truth: $49.49 Error: $30.50 SLE: 0.22 Item: Smart Floor Lamp, 2700-6500K+RGBPink Mul...\u001b[0m\n",
            "\u001b[92m168: Guess: $69.99 Truth: $80.56 Error: $10.57 SLE: 0.02 Item: SOZG 324mm Wheelbase Body Shell RC Car B...\u001b[0m\n",
            "\u001b[92m169: Guess: $329.99 Truth: $278.39 Error: $51.60 SLE: 0.03 Item: Mickey Thompson ET Street S/S Racing Rad...\u001b[0m\n",
            "\u001b[92m170: Guess: $389.99 Truth: $364.50 Error: $25.49 SLE: 0.00 Item: Pirelli 275/40R20 106W XL RFT P0 PZ4-LUX...\u001b[0m\n",
            "\u001b[92m171: Guess: $322.99 Truth: $378.99 Error: $56.00 SLE: 0.03 Item: Torklift C3212 Rear Tie Down\u001b[0m\n",
            "\u001b[93m172: Guess: $239.99 Truth: $165.28 Error: $74.71 SLE: 0.14 Item: Cardone 78-4226 Remanufactured Ford Comp...\u001b[0m\n",
            "\u001b[92m173: Guess: $44.99 Truth: $56.74 Error: $11.75 SLE: 0.05 Item: Kidde AccessPoint 001798 Supra TouchPoin...\u001b[0m\n",
            "\u001b[92m174: Guess: $289.99 Truth: $307.95 Error: $17.96 SLE: 0.00 Item: 3M Protecta 3100414 Self Retracting Life...\u001b[0m\n",
            "\u001b[92m175: Guess: $49.99 Truth: $38.00 Error: $11.99 SLE: 0.07 Item: Plantronics 89435-01 Wired Headset, Blac...\u001b[0m\n",
            "\u001b[92m176: Guess: $59.99 Truth: $53.00 Error: $6.99 SLE: 0.01 Item: Logitech K750 Wireless Solar Keyboard fo...\u001b[0m\n",
            "\u001b[92m177: Guess: $499.99 Truth: $498.00 Error: $1.99 SLE: 0.00 Item: Olympus PEN E-PL9 Body Only with 3-Inch ...\u001b[0m\n",
            "\u001b[92m178: Guess: $79.99 Truth: $53.99 Error: $26.00 SLE: 0.15 Item: Beck/Arnley 051-6066 Hub & Bearing Assem...\u001b[0m\n",
            "\u001b[92m179: Guess: $319.99 Truth: $350.00 Error: $30.01 SLE: 0.01 Item: Eibach Pro-Kit Performance Springs E10-6...\u001b[0m\n",
            "\u001b[92m180: Guess: $299.99 Truth: $299.95 Error: $0.04 SLE: 0.00 Item: LEGO DC Batman 1989 Batwing 76161 Displa...\u001b[0m\n",
            "\u001b[92m181: Guess: $79.99 Truth: $94.93 Error: $14.94 SLE: 0.03 Item: Kingston Brass KS3608PL Restoration 4-In...\u001b[0m\n",
            "\u001b[92m182: Guess: $399.00 Truth: $379.00 Error: $20.00 SLE: 0.00 Item: Polk Vanishing Series 265-LS In-Wall 3-W...\u001b[0m\n",
            "\u001b[92m183: Guess: $349.99 Truth: $299.95 Error: $50.04 SLE: 0.02 Item: Spec-D Tuning LED Projector Headlights G...\u001b[0m\n",
            "\u001b[92m184: Guess: $24.99 Truth: $24.99 Error: $0.00 SLE: 0.00 Item: RICHMOND & FINCH Airpod Pro Case, Green ...\u001b[0m\n",
            "\u001b[92m185: Guess: $69.99 Truth: $41.04 Error: $28.95 SLE: 0.27 Item: LFA Industries 43B-5A-33JT 1/16-1/2-1.5-...\u001b[0m\n",
            "\u001b[91m186: Guess: $189.99 Truth: $327.90 Error: $137.91 SLE: 0.30 Item: SAUTVS LED Headlight Assembly for Slings...\u001b[0m\n",
            "\u001b[92m187: Guess: $14.99 Truth: $10.99 Error: $4.00 SLE: 0.08 Item: 2 Pack Combo Womens Safety Glasses Impac...\u001b[0m\n",
            "\u001b[92m188: Guess: $14.99 Truth: $14.99 Error: $0.00 SLE: 0.00 Item: Arepa - Venezuelan cuisine - Venezuela P...\u001b[0m\n",
            "\u001b[93m189: Guess: $19.99 Truth: $84.95 Error: $64.96 SLE: 1.99 Item: Schlage Lock Company KS23D2300 Padlock, ...\u001b[0m\n",
            "\u001b[92m190: Guess: $89.99 Truth: $111.00 Error: $21.01 SLE: 0.04 Item: Techni Mobili White Sit to Stand Mobile ...\u001b[0m\n",
            "\u001b[92m191: Guess: $109.99 Truth: $123.73 Error: $13.74 SLE: 0.01 Item: Special Lite Products Contemporary Wall ...\u001b[0m\n",
            "\u001b[92m192: Guess: $599.99 Truth: $557.38 Error: $42.61 SLE: 0.01 Item: Tascam DP-24SD 24-Track Digital Portastu...\u001b[0m\n",
            "\u001b[91m193: Guess: $189.99 Truth: $95.55 Error: $94.44 SLE: 0.47 Item: Glow Lighting 636CC10SP Vista Crystal Fl...\u001b[0m\n",
            "\u001b[92m194: Guess: $139.99 Truth: $154.00 Error: $14.01 SLE: 0.01 Item: Z3 Wind Deflector, Smoke Tint, Lexan, Wi...\u001b[0m\n",
            "\u001b[91m195: Guess: $499.99 Truth: $198.99 Error: $301.00 SLE: 0.84 Item: Olympus E-20 5MP Digital Camera w/ 4x Op...\u001b[0m\n",
            "\u001b[91m196: Guess: $179.99 Truth: $430.44 Error: $250.45 SLE: 0.75 Item: PHYNEDI 1:1000 World Trade Center (1973-...\u001b[0m\n",
            "\u001b[92m197: Guess: $14.99 Truth: $45.67 Error: $30.68 SLE: 1.15 Item: YANGHUAN Unstable Unicorns Adventure Car...\u001b[0m\n",
            "\u001b[92m198: Guess: $219.99 Truth: $249.00 Error: $29.01 SLE: 0.02 Item: Interlogix NX-1820E NetworX Touch Screen...\u001b[0m\n",
            "\u001b[92m199: Guess: $38.99 Truth: $42.99 Error: $4.00 SLE: 0.01 Item: Steering Damper,Universal Motorcycle Han...\u001b[0m\n",
            "\u001b[92m200: Guess: $179.99 Truth: $181.33 Error: $1.34 SLE: 0.00 Item: Amprobe TIC 410A Hot Stick Attachment\u001b[0m\n",
            "\u001b[92m201: Guess: $3.49 Truth: $6.03 Error: $2.54 SLE: 0.20 Item: MyCableMart 3.5mm Plug/Jack, 4 Conductor...\u001b[0m\n",
            "\u001b[92m202: Guess: $49.95 Truth: $29.99 Error: $19.96 SLE: 0.25 Item: OtterBox + Pop Symmetry Series Case for ...\u001b[0m\n",
            "\u001b[93m203: Guess: $599.99 Truth: $899.00 Error: $299.01 SLE: 0.16 Item: Dell XPS X8700-1572BLK Desktop ( Intel C...\u001b[0m\n",
            "\u001b[93m204: Guess: $499.99 Truth: $399.99 Error: $100.00 SLE: 0.05 Item: Franklin Iron Works Sperry Industrial Br...\u001b[0m\n",
            "\u001b[92m205: Guess: $13.99 Truth: $4.66 Error: $9.33 SLE: 0.95 Item: Avery Legal Dividers, Standard Collated ...\u001b[0m\n",
            "\u001b[91m206: Guess: $399.99 Truth: $261.41 Error: $138.58 SLE: 0.18 Item: Moen 8346 Commercial Posi-Temp Pressure ...\u001b[0m\n",
            "\u001b[92m207: Guess: $139.99 Truth: $136.97 Error: $3.02 SLE: 0.00 Item: Carlisle Versa Trail ATR All Terrain Rad...\u001b[0m\n",
            "\u001b[93m208: Guess: $139.00 Truth: $79.00 Error: $60.00 SLE: 0.31 Item: SUNWAYFOTO 44mm Tripod Ball Head Arca Co...\u001b[0m\n",
            "\u001b[92m209: Guess: $499.99 Truth: $444.99 Error: $55.00 SLE: 0.01 Item: NanoBeam AC NBE-5AC-Gen2-US 4 Units 5GHz...\u001b[0m\n",
            "\u001b[93m210: Guess: $499.99 Truth: $411.94 Error: $88.05 SLE: 0.04 Item: WULF 4\" Front 2\" Rear Leveling Lift Kit ...\u001b[0m\n",
            "\u001b[91m211: Guess: $249.99 Truth: $148.40 Error: $101.59 SLE: 0.27 Item: Alera ALEVABFMC Valencia Series Mobile B...\u001b[0m\n",
            "\u001b[91m212: Guess: $79.99 Truth: $244.99 Error: $165.00 SLE: 1.23 Item: YU-GI-OH! Ignition Assault Booster Box\u001b[0m\n",
            "\u001b[91m213: Guess: $189.99 Truth: $86.50 Error: $103.49 SLE: 0.61 Item: 48\" x 36\" Extra-Large Framed Magnetic Bl...\u001b[0m\n",
            "\u001b[91m214: Guess: $109.99 Truth: $297.95 Error: $187.96 SLE: 0.98 Item: Dell Latitude D620 Renewed Notebook PC\u001b[0m\n",
            "\u001b[92m215: Guess: $389.99 Truth: $399.99 Error: $10.00 SLE: 0.00 Item: acer Aspire 5 Laptop, AMD Ryzen 3 5300U ...\u001b[0m\n",
            "\u001b[91m216: Guess: $299.99 Truth: $599.00 Error: $299.01 SLE: 0.48 Item: Elk 31080/6RC-GRN 30 by 6-Inch Viva 6-Li...\u001b[0m\n",
            "\u001b[93m217: Guess: $29.99 Truth: $105.99 Error: $76.00 SLE: 1.54 Item: Barbie Top Model Doll\u001b[0m\n",
            "\u001b[92m218: Guess: $599.99 Truth: $689.00 Error: $89.01 SLE: 0.02 Item: Danby Designer 20-In. Electric Range wit...\u001b[0m\n",
            "\u001b[91m219: Guess: $599.99 Truth: $404.99 Error: $195.00 SLE: 0.15 Item: FixtureDisplays® Metal Truss Podium Doub...\u001b[0m\n",
            "\u001b[92m220: Guess: $229.99 Truth: $207.76 Error: $22.23 SLE: 0.01 Item: ACDelco 13597235 GM Original Equipment A...\u001b[0m\n",
            "\u001b[93m221: Guess: $249.99 Truth: $171.82 Error: $78.17 SLE: 0.14 Item: EBC S1KF1135 Stage-1 Premium Street Brak...\u001b[0m\n",
            "\u001b[92m222: Guess: $329.99 Truth: $293.24 Error: $36.75 SLE: 0.01 Item: FXR Men's Boost FX Jacket (Black/Orange/...\u001b[0m\n",
            "\u001b[93m223: Guess: $449.95 Truth: $374.95 Error: $75.00 SLE: 0.03 Item: SuperATV Scratch Resistant 3-in-1 Flip W...\u001b[0m\n",
            "\u001b[93m224: Guess: $69.99 Truth: $111.99 Error: $42.00 SLE: 0.22 Item: SBU 3 Layer All Weather Mini Van Car Cov...\u001b[0m\n",
            "\u001b[92m225: Guess: $23.99 Truth: $42.99 Error: $19.00 SLE: 0.32 Item: 2 Pack Outdoor Brochure Holder Advertisi...\u001b[0m\n",
            "\u001b[92m226: Guess: $153.99 Truth: $116.71 Error: $37.28 SLE: 0.08 Item: Monroe Shocks & Struts Quick-Strut 17158...\u001b[0m\n",
            "\u001b[92m227: Guess: $139.99 Truth: $118.61 Error: $21.38 SLE: 0.03 Item: Elements of Design Magellan EB235AL Thre...\u001b[0m\n",
            "\u001b[92m228: Guess: $129.99 Truth: $147.12 Error: $17.13 SLE: 0.02 Item: GM Genuine Parts 15-62961 Air Conditioni...\u001b[0m\n",
            "\u001b[92m229: Guess: $99.99 Truth: $119.99 Error: $20.00 SLE: 0.03 Item: Baseus 17-in-1 USB C Docking Station to ...\u001b[0m\n",
            "\u001b[92m230: Guess: $349.00 Truth: $369.98 Error: $20.98 SLE: 0.00 Item: Whitehall™ Personalized Whitehall Capito...\u001b[0m\n",
            "\u001b[92m231: Guess: $285.00 Truth: $315.55 Error: $30.55 SLE: 0.01 Item: Pro Circuit Works Pipe PY05250 for 02-19...\u001b[0m\n",
            "\u001b[92m232: Guess: $179.99 Truth: $190.99 Error: $11.00 SLE: 0.00 Item: HYANKA 15 \"1200W Professional DJ Speaker...\u001b[0m\n",
            "\u001b[92m233: Guess: $139.99 Truth: $155.00 Error: $15.01 SLE: 0.01 Item: Bluetooth X6BT Card Reader Writer Encode...\u001b[0m\n",
            "\u001b[92m234: Guess: $399.99 Truth: $349.99 Error: $50.00 SLE: 0.02 Item: AIRAID Cold Air Intake System by K&N: In...\u001b[0m\n",
            "\u001b[92m235: Guess: $269.99 Truth: $249.99 Error: $20.00 SLE: 0.01 Item: Bostingner Shower Faucets Sets Complete,...\u001b[0m\n",
            "\u001b[92m236: Guess: $38.99 Truth: $42.99 Error: $4.00 SLE: 0.01 Item: PIT66 Front Bumper Turn Signal Lights, C...\u001b[0m\n",
            "\u001b[92m237: Guess: $13.99 Truth: $17.99 Error: $4.00 SLE: 0.06 Item: Caseology Bumpy Compatible with Google P...\u001b[0m\n",
            "\u001b[93m238: Guess: $299.00 Truth: $425.00 Error: $126.00 SLE: 0.12 Item: Fleck 2510 Timer Mechanical Filter Contr...\u001b[0m\n",
            "\u001b[92m239: Guess: $259.99 Truth: $249.99 Error: $10.00 SLE: 0.00 Item: Haloview MC7108 Wireless RV Backup Camer...\u001b[0m\n",
            "\u001b[91m240: Guess: $39.99 Truth: $138.23 Error: $98.24 SLE: 1.50 Item: Schmidt Spiele - Manhattan\u001b[0m\n",
            "\u001b[92m241: Guess: $399.99 Truth: $414.99 Error: $15.00 SLE: 0.00 Item: Corsa 14333 Tip Kit (Ford Mustang GT)\u001b[0m\n",
            "\u001b[93m242: Guess: $239.99 Truth: $168.28 Error: $71.71 SLE: 0.12 Item: Hoshizaki FM116A Fan Motor Kit 1\u001b[0m\n",
            "\u001b[93m243: Guess: $259.99 Truth: $199.99 Error: $60.00 SLE: 0.07 Item: BAINUO Antler Chandelier Lighting,6 Ligh...\u001b[0m\n",
            "\u001b[92m244: Guess: $109.99 Truth: $126.70 Error: $16.71 SLE: 0.02 Item: DNA MOTORING HL-OH-FEXP06-SM-AM Smoke Le...\u001b[0m\n",
            "\u001b[92m245: Guess: $6.49 Truth: $5.91 Error: $0.58 SLE: 0.01 Item: Wera Stainless 3840/1 TS 2.5mm Hex Inser...\u001b[0m\n",
            "\u001b[92m246: Guess: $229.99 Truth: $193.06 Error: $36.93 SLE: 0.03 Item: Celestron - PowerSeeker 127EQ Telescope ...\u001b[0m\n",
            "\u001b[92m247: Guess: $239.99 Truth: $249.99 Error: $10.00 SLE: 0.00 Item: NHOPEEW 10.1inch Android Car Radio Carpl...\u001b[0m\n",
            "\u001b[92m248: Guess: $54.99 Truth: $64.12 Error: $9.13 SLE: 0.02 Item: Other Harmonica (Suzuki-2Timer24- A)\u001b[0m\n",
            "\u001b[92m249: Guess: $79.99 Truth: $114.99 Error: $35.00 SLE: 0.13 Item: Harley Air Filter Venturi Intake Air Cle...\u001b[0m\n",
            "\u001b[91m250: Guess: $1,299.00 Truth: $926.00 Error: $373.00 SLE: 0.11 Item: Elite Screens Edge Free Ambient Light Re...\u001b[0m\n"
          ]
        },
        {
          "output_type": "display_data",
          "data": {
            "text/plain": [
              "<Figure size 1200x800 with 1 Axes>"
            ],
            "image/png": "[encoded data removed]"
          },
          "metadata": {}
        }
      ]
    },
    {
      "cell_type": "markdown",
      "source": [
        "## gpt-5 base\n",
        "**Error:** $77.97 RMLSE=0.53 Hits=61.6% (reasoning_effort=\"minimal\"\n",
        "\n",
        "**Error:** $70.63 RMLSE=0.51 Hits=61.6% (reasoning_effort=\"low\""
      ],
      "metadata": {
        "id": "LQiDcxk3pNc4"
      },
      "id": "LQiDcxk3pNc4"
    },
    {
      "cell_type": "code",
      "source": [
        "def gpt_5_frontier(item):\n",
        "    response = openai.chat.completions.create(\n",
        "        model=\"gpt-5-2025-08-07\",\n",
        "        messages=messages_for(item),\n",
        "        seed=42,\n",
        "        reasoning_effort=\"low\",\n",
        "        max_completion_tokens=800\n",
        "    )\n",
        "    reply = response.choices[0].message.content\n",
        "    return get_price(reply)"
      ],
      "metadata": {
        "id": "nZk45Bujp4aS"
      },
      "id": "nZk45Bujp4aS",
      "execution_count": 114,
      "outputs": []
    },
    {
      "cell_type": "code",
      "source": [
        "Tester.test(gpt_5_frontier, test)"
      ],
      "metadata": {
        "id": "9wx-0BT_p-j_",
        "outputId": "2c247496-bfed-4c16-ffb0-e21ea5f17e98",
        "colab": {
          "base_uri": "https://localhost:8080/",
          "height": 1000
        }
      },
      "id": "9wx-0BT_p-j_",
      "execution_count": 115,
      "outputs": [
        {
          "output_type": "stream",
          "name": "stdout",
          "text": [
            "\u001b[92m1: Guess: $349.00 Truth: $374.41 Error: $25.41 SLE: 0.00 Item: OEM AC Compressor w/A/C Repair Kit For F...\u001b[0m\n",
            "\u001b[91m2: Guess: $94.99 Truth: $225.11 Error: $130.12 SLE: 0.73 Item: Motorcraft YB3125 Fan Clutch\u001b[0m\n",
            "\u001b[92m3: Guess: $49.99 Truth: $61.68 Error: $11.69 SLE: 0.04 Item: Dorman 603-159 Front Washer Fluid Reserv...\u001b[0m\n",
            "\u001b[93m4: Guess: $379.00 Truth: $599.99 Error: $220.99 SLE: 0.21 Item: HP Premium 17.3-inch HD Plus Touchscreen...\u001b[0m\n",
            "\u001b[92m5: Guess: $12.99 Truth: $16.99 Error: $4.00 SLE: 0.06 Item: 5-Position Super Switch Pickup Selector ...\u001b[0m\n",
            "\u001b[92m6: Guess: $19.99 Truth: $31.99 Error: $12.00 SLE: 0.20 Item: Horror Bookmarks, Resin Horror Bookmarks...\u001b[0m\n",
            "\u001b[92m7: Guess: $119.99 Truth: $101.79 Error: $18.20 SLE: 0.03 Item: SK6241 - Stinger 4 Gauge 6000 Series Pow...\u001b[0m\n",
            "\u001b[92m8: Guess: $299.99 Truth: $289.00 Error: $10.99 SLE: 0.00 Item: Godox ML60Bi LED Light Kit, Handheld LED...\u001b[0m\n",
            "\u001b[91m9: Guess: $299.00 Truth: $635.86 Error: $336.86 SLE: 0.57 Item: Randall RG75DG3PLUS G3 Plus 100-Watt Com...\u001b[0m\n",
            "\u001b[92m10: Guess: $49.99 Truth: $65.99 Error: $16.00 SLE: 0.07 Item: HOLDWILL 6 Pack LED Shop Light, 4FT 24W ...\u001b[0m\n",
            "\u001b[91m11: Guess: $149.99 Truth: $254.21 Error: $104.22 SLE: 0.28 Item: Viking Horns V103C/1005ATK 3 Gallon Air ...\u001b[0m\n",
            "\u001b[92m12: Guess: $469.95 Truth: $412.99 Error: $56.96 SLE: 0.02 Item: CURT 70110 Custom Tow Bar Base Plate Bra...\u001b[0m\n",
            "\u001b[91m13: Guess: $19.99 Truth: $205.50 Error: $185.51 SLE: 5.23 Item: 10-Pack Solar HAMMERED BRONZE Finish Pos...\u001b[0m\n",
            "\u001b[92m14: Guess: $229.99 Truth: $248.23 Error: $18.24 SLE: 0.01 Item: COSTWAY Electric Tumble Dryer, Sliver\u001b[0m\n",
            "\u001b[93m15: Guess: $299.99 Truth: $399.00 Error: $99.01 SLE: 0.08 Item: FREE SIGNAL TV Transit 32\" 12 Volt DC Po...\u001b[0m\n",
            "\u001b[92m16: Guess: $399.99 Truth: $373.94 Error: $26.05 SLE: 0.00 Item: Bilstein 5100 Monotube Gas Shock Set com...\u001b[0m\n",
            "\u001b[92m17: Guess: $99.95 Truth: $92.89 Error: $7.06 SLE: 0.01 Item: Sangean K-200 Multi-Function Upright AM/...\u001b[0m\n",
            "\u001b[92m18: Guess: $69.99 Truth: $51.99 Error: $18.00 SLE: 0.09 Item: Charles Leonard Magnetic Lapboard Class ...\u001b[0m\n",
            "\u001b[91m19: Guess: $42.00 Truth: $179.00 Error: $137.00 SLE: 2.05 Item: Gigabyte AMD Radeon HD 7870 2 GB GDDR5 D...\u001b[0m\n",
            "\u001b[92m20: Guess: $9.99 Truth: $19.42 Error: $9.43 SLE: 0.38 Item: 3dRose LLC 8 x 8 x 0.25 Inches Bull Terr...\u001b[0m\n",
            "\u001b[92m21: Guess: $599.00 Truth: $539.95 Error: $59.05 SLE: 0.01 Item: ROKINON 85mm F1.4 Auto Focus Full Frame ...\u001b[0m\n",
            "\u001b[92m22: Guess: $139.99 Truth: $147.67 Error: $7.68 SLE: 0.00 Item: AUTOSAVER88 Headlight Assembly Compatibl...\u001b[0m\n",
            "\u001b[92m23: Guess: $34.99 Truth: $24.99 Error: $10.00 SLE: 0.11 Item: ASI NAUTICAL 2.5 Inches Opera Glasses Bi...\u001b[0m\n",
            "\u001b[91m24: Guess: $24.99 Truth: $149.00 Error: $124.01 SLE: 3.07 Item: Behringer TUBE OVERDRIVE TO100 Authentic...\u001b[0m\n",
            "\u001b[92m25: Guess: $9.99 Truth: $16.99 Error: $7.00 SLE: 0.24 Item: Fun Express Insect Finger Puppets - 24 f...\u001b[0m\n",
            "\u001b[92m26: Guess: $7.99 Truth: $7.99 Error: $0.00 SLE: 0.00 Item: WAFJAMF Roller Stamp Identity Theft Stam...\u001b[0m\n",
            "\u001b[92m27: Guess: $199.99 Truth: $199.99 Error: $0.00 SLE: 0.00 Item: Capulina Tiffany Floor Lamp 2-Light 16\" ...\u001b[0m\n",
            "\u001b[93m28: Guess: $199.00 Truth: $251.45 Error: $52.45 SLE: 0.05 Item: Apple Watch Series 6 (GPS, 44mm) - Space...\u001b[0m\n",
            "\u001b[92m29: Guess: $199.95 Truth: $231.62 Error: $31.67 SLE: 0.02 Item: ICON 01725 Tandem Axle Fender Skirt FS17...\u001b[0m\n",
            "\u001b[92m30: Guess: $139.99 Truth: $135.00 Error: $4.99 SLE: 0.00 Item: SanDisk 128GB Ultra (10 Pack) MicroSD Cl...\u001b[0m\n",
            "\u001b[91m31: Guess: $529.95 Truth: $356.62 Error: $173.33 SLE: 0.16 Item: Velvac 2020,L,C/Hr,W,E2003,102\",Bk - 715...\u001b[0m\n",
            "\u001b[93m32: Guess: $159.99 Truth: $257.99 Error: $98.00 SLE: 0.23 Item: TCMT Passenger Backrest Sissy Bar & Lugg...\u001b[0m\n",
            "\u001b[92m33: Guess: $17.99 Truth: $27.99 Error: $10.00 SLE: 0.18 Item: Alnicov 63.5MM Brass Tremolo Block，Tremo...\u001b[0m\n",
            "\u001b[91m34: Guess: $89.99 Truth: $171.20 Error: $81.21 SLE: 0.41 Item: Subaru Forester Outback Legacy OEM Engin...\u001b[0m\n",
            "\u001b[92m35: Guess: $269.99 Truth: $225.00 Error: $44.99 SLE: 0.03 Item: Richmond Auto Upholstery - 2012 Dodge Ra...\u001b[0m\n",
            "\u001b[92m36: Guess: $89.99 Truth: $105.00 Error: $15.01 SLE: 0.02 Item: AP-39 Automotive Paint Primer Grey 2K Ur...\u001b[0m\n",
            "\u001b[93m37: Guess: $229.99 Truth: $299.99 Error: $70.00 SLE: 0.07 Item: Road Top Wireless Carplay Retrofit Kit D...\u001b[0m\n",
            "\u001b[92m38: Guess: $549.99 Truth: $535.09 Error: $14.90 SLE: 0.00 Item: Gibson Performance Exhaust 5658 Aluminiz...\u001b[0m\n",
            "\u001b[92m39: Guess: $13.99 Truth: $12.33 Error: $1.66 SLE: 0.01 Item: Bella Tunno Happy Links - Baby Montessor...\u001b[0m\n",
            "\u001b[92m40: Guess: $99.99 Truth: $84.99 Error: $15.00 SLE: 0.03 Item: CANMORE H300 Handheld GPS Golf Device, S...\u001b[0m\n",
            "\u001b[92m41: Guess: $14.99 Truth: $15.99 Error: $1.00 SLE: 0.00 Item: DCPOWER AC Adapter Compatible Replacemen...\u001b[0m\n",
            "\u001b[93m42: Guess: $16.99 Truth: $62.44 Error: $45.45 SLE: 1.59 Item: Sharp, VX2128V, Commercial Desktop Calcu...\u001b[0m\n",
            "\u001b[92m43: Guess: $79.99 Truth: $82.99 Error: $3.00 SLE: 0.00 Item: Melissa & Doug Lifelike Plush Stork Gian...\u001b[0m\n",
            "\u001b[93m44: Guess: $398.00 Truth: $599.95 Error: $201.95 SLE: 0.17 Item: Sony SSCS8 2-Way 3-Driver Center Channel...\u001b[0m\n",
            "\u001b[92m45: Guess: $169.99 Truth: $194.99 Error: $25.00 SLE: 0.02 Item: ASUS Chromebook CX1, 14\" Full HD NanoEdg...\u001b[0m\n",
            "\u001b[91m46: Guess: $649.99 Truth: $344.95 Error: $305.04 SLE: 0.40 Item: FiiO X7 32GB Hi-Res Lossless Music Playe...\u001b[0m\n",
            "\u001b[92m47: Guess: $44.99 Truth: $37.99 Error: $7.00 SLE: 0.03 Item: TORRO Leather Case Compatible with iPhon...\u001b[0m\n",
            "\u001b[93m48: Guess: $289.99 Truth: $224.35 Error: $65.64 SLE: 0.07 Item: Universal Air Conditioner KT 1031 A/C Co...\u001b[0m\n",
            "\u001b[92m49: Guess: $899.99 Truth: $814.00 Error: $85.99 SLE: 0.01 Item: Street Series Stainless Performance Cat-...\u001b[0m\n",
            "\u001b[91m50: Guess: $249.99 Truth: $439.88 Error: $189.89 SLE: 0.32 Item: Lenovo IdeaPad 3 14-inch Laptop, 14.0-in...\u001b[0m\n",
            "\u001b[92m51: Guess: $309.00 Truth: $341.43 Error: $32.43 SLE: 0.01 Item: Access Bed Covers TonnoSport 22050219 - ...\u001b[0m\n",
            "\u001b[92m52: Guess: $29.99 Truth: $46.78 Error: $16.79 SLE: 0.19 Item: G.I. JOE Hasbro 3 3/4\" Wave 5 Action Fig...\u001b[0m\n",
            "\u001b[91m53: Guess: $289.99 Truth: $171.44 Error: $118.55 SLE: 0.27 Item: T&S Brass B-0232-BST Double Pantry Fauce...\u001b[0m\n",
            "\u001b[93m54: Guess: $289.99 Truth: $458.00 Error: $168.01 SLE: 0.21 Item: ZTUOAUMA Fuel Injection Pump 3090942 309...\u001b[0m\n",
            "\u001b[92m55: Guess: $149.99 Truth: $130.75 Error: $19.24 SLE: 0.02 Item: 2AP18AA#ABA Hp Prime Graphing Calculator...\u001b[0m\n",
            "\u001b[92m56: Guess: $49.99 Truth: $83.81 Error: $33.82 SLE: 0.26 Item: Lowrance 000-0119-83 Nmea 2000 25' Exten...\u001b[0m\n",
            "\u001b[91m57: Guess: $149.99 Truth: $386.39 Error: $236.40 SLE: 0.89 Item: Jeep Genuine Accessories 82213051 Hood L...\u001b[0m\n",
            "\u001b[92m58: Guess: $149.00 Truth: $169.00 Error: $20.00 SLE: 0.02 Item: GODOX CB-06 Hard Carrying Case with Whee...\u001b[0m\n",
            "\u001b[92m59: Guess: $18.99 Truth: $17.95 Error: $1.04 SLE: 0.00 Item: Au-Tomotive Gold, INC. Ford Black Valet ...\u001b[0m\n",
            "\u001b[93m60: Guess: $189.99 Truth: $269.00 Error: $79.01 SLE: 0.12 Item: Snailfly Black Roof Rack Rail + Cross Ba...\u001b[0m\n",
            "\u001b[93m61: Guess: $24.99 Truth: $77.77 Error: $52.78 SLE: 1.23 Item: KING SHA Anti Glare LED Track Lighting H...\u001b[0m\n",
            "\u001b[92m62: Guess: $79.99 Truth: $88.99 Error: $9.00 SLE: 0.01 Item: APS Compatible with Chevy Silverado 1500...\u001b[0m\n",
            "\u001b[93m63: Guess: $449.99 Truth: $364.41 Error: $85.58 SLE: 0.04 Item: Wilwood Engineering 14011291R Brake Cali...\u001b[0m\n",
            "\u001b[92m64: Guess: $129.99 Truth: $127.03 Error: $2.96 SLE: 0.00 Item: ACDelco Gold 336-1925A Starter, Remanufa...\u001b[0m\n",
            "\u001b[92m65: Guess: $749.99 Truth: $778.95 Error: $28.96 SLE: 0.00 Item: UWS EC10783 69-Inch Matte Black Heavy-Wa...\u001b[0m\n",
            "\u001b[93m66: Guess: $149.00 Truth: $206.66 Error: $57.66 SLE: 0.11 Item: Dell Latitude E5440 14in Business Laptop...\u001b[0m\n",
            "\u001b[92m67: Guess: $24.99 Truth: $35.94 Error: $10.95 SLE: 0.12 Item: (Plug and Play) Spare Tire Brake Light W...\u001b[0m\n",
            "\u001b[92m68: Guess: $149.99 Truth: $149.00 Error: $0.99 SLE: 0.00 Item: The Ultimate Roadside Rescue Assistant\u001b[0m\n",
            "\u001b[92m69: Guess: $229.99 Truth: $251.98 Error: $21.99 SLE: 0.01 Item: Brand New 18\" x 8.5\" Replacement Wheel f...\u001b[0m\n",
            "\u001b[92m70: Guess: $179.99 Truth: $160.00 Error: $19.99 SLE: 0.01 Item: Headlight Headlamp LH Left & RH Right Pa...\u001b[0m\n",
            "\u001b[92m71: Guess: $34.99 Truth: $39.99 Error: $5.00 SLE: 0.02 Item: Lilo And Stitch Deluxe Oversize Print La...\u001b[0m\n",
            "\u001b[93m72: Guess: $229.00 Truth: $362.41 Error: $133.41 SLE: 0.21 Item: AC Compressor & A/C Clutch For Hyundai A...\u001b[0m\n",
            "\u001b[92m73: Guess: $279.99 Truth: $344.00 Error: $64.01 SLE: 0.04 Item: House Of Troy PIN475-AB Pinnacle Collect...\u001b[0m\n",
            "\u001b[92m74: Guess: $22.99 Truth: $25.09 Error: $2.10 SLE: 0.01 Item: Juno T29 WH Floating Electrical Feed Sin...\u001b[0m\n",
            "\u001b[91m75: Guess: $79.99 Truth: $175.95 Error: $95.96 SLE: 0.61 Item: Sherman GO-PARTS - for 2013-2016 Toyota ...\u001b[0m\n",
            "\u001b[92m76: Guess: $129.99 Truth: $132.64 Error: $2.65 SLE: 0.00 Item: Roland RPU-3 Electronic Keyboard Pedal o...\u001b[0m\n",
            "\u001b[92m77: Guess: $449.99 Truth: $422.99 Error: $27.00 SLE: 0.00 Item: Rockland VMI14 12,000 Pound 12 Volt DC E...\u001b[0m\n",
            "\u001b[92m78: Guess: $149.99 Truth: $146.48 Error: $3.51 SLE: 0.00 Item: Max Advanced Brakes Elite XDS Front Cros...\u001b[0m\n",
            "\u001b[92m79: Guess: $149.99 Truth: $156.83 Error: $6.84 SLE: 0.00 Item: Quality-Built 11030 Premium Quality Alte...\u001b[0m\n",
            "\u001b[91m80: Guess: $79.99 Truth: $251.99 Error: $172.00 SLE: 1.30 Item: Lucida LG-510 Student Classical Guitar, ...\u001b[0m\n",
            "\u001b[93m81: Guess: $699.99 Truth: $940.33 Error: $240.34 SLE: 0.09 Item: Longacre 52-79800 Aluminum Turn Plates\u001b[0m\n",
            "\u001b[92m82: Guess: $49.99 Truth: $52.99 Error: $3.00 SLE: 0.00 Item: Motion Pro 08-0380 Adjustable Torque Wre...\u001b[0m\n",
            "\u001b[93m83: Guess: $299.95 Truth: $219.95 Error: $80.00 SLE: 0.10 Item: Glyph Thunderbolt 3 NVMe Dock (0 GB)\u001b[0m\n",
            "\u001b[92m84: Guess: $419.99 Truth: $441.03 Error: $21.04 SLE: 0.00 Item: TOYO Open Country MT Performance Radial ...\u001b[0m\n",
            "\u001b[92m85: Guess: $129.99 Truth: $168.98 Error: $38.99 SLE: 0.07 Item: Razer Seiren X USB Streaming Microphone ...\u001b[0m\n",
            "\u001b[92m86: Guess: $4.99 Truth: $2.49 Error: $2.50 SLE: 0.29 Item: Happy Birthday to Dad From Your Daughter...\u001b[0m\n",
            "\u001b[92m87: Guess: $99.99 Truth: $98.62 Error: $1.37 SLE: 0.00 Item: Little Tikes My Real Jam First Concert S...\u001b[0m\n",
            "\u001b[91m88: Guess: $139.99 Truth: $256.95 Error: $116.96 SLE: 0.36 Item: Studio M Peace and Harmony Art Pole Comm...\u001b[0m\n",
            "\u001b[92m89: Guess: $19.99 Truth: $30.99 Error: $11.00 SLE: 0.18 Item: MyVolts 12V Power Supply Adaptor Compati...\u001b[0m\n",
            "\u001b[92m90: Guess: $599.00 Truth: $569.84 Error: $29.16 SLE: 0.00 Item: Dell Latitude 7212 Rugged Extreme Tablet...\u001b[0m\n",
            "\u001b[93m91: Guess: $99.99 Truth: $177.99 Error: $78.00 SLE: 0.33 Item: Covermates Contour Fit Car Cover - Light...\u001b[0m\n",
            "\u001b[92m92: Guess: $899.99 Truth: $997.99 Error: $98.00 SLE: 0.01 Item: Westin 57-4025 Black HDX Grille Guard fi...\u001b[0m\n",
            "\u001b[93m93: Guess: $169.95 Truth: $219.00 Error: $49.05 SLE: 0.06 Item: Fieldpiece JL2 Job Link Wireless App Tra...\u001b[0m\n",
            "\u001b[91m94: Guess: $329.99 Truth: $225.55 Error: $104.44 SLE: 0.14 Item: hansgrohe Talis S Modern Premium Easy Cl...\u001b[0m\n",
            "\u001b[91m95: Guess: $2,499.00 Truth: $495.95 Error: $2,003.05 SLE: 2.61 Item: G-Technology G-SPEED eS PRO High-Perform...\u001b[0m\n",
            "\u001b[92m96: Guess: $899.99 Truth: $942.37 Error: $42.38 SLE: 0.00 Item: DreamLine SHDR-1960723L-01 Shower Door, ...\u001b[0m\n",
            "\u001b[92m97: Guess: $2.49 Truth: $1.94 Error: $0.55 SLE: 0.03 Item: Sanctuary Square Backplate Finish: Oiled...\u001b[0m\n",
            "\u001b[93m98: Guess: $349.95 Truth: $284.34 Error: $65.61 SLE: 0.04 Item: Pelican Protector 1750 Long Case - Multi...\u001b[0m\n",
            "\u001b[92m99: Guess: $169.99 Truth: $171.90 Error: $1.91 SLE: 0.00 Item: Brock Replacement Driver and Passenger H...\u001b[0m\n",
            "\u001b[92m100: Guess: $129.99 Truth: $144.99 Error: $15.00 SLE: 0.01 Item: Carlinkit Ai Box Mini, Android 11, Multi...\u001b[0m\n",
            "\u001b[91m101: Guess: $999.00 Truth: $470.47 Error: $528.53 SLE: 0.57 Item: StarDot NetCamLIVE2 YouTube Live Stream ...\u001b[0m\n",
            "\u001b[92m102: Guess: $49.99 Truth: $66.95 Error: $16.96 SLE: 0.08 Item: Atomic Compatible FILXXCAR0016 16x25x5 M...\u001b[0m\n",
            "\u001b[92m103: Guess: $99.99 Truth: $117.00 Error: $17.01 SLE: 0.02 Item: Bandai Awakening of S. H. s.h.figuarts s...\u001b[0m\n",
            "\u001b[93m104: Guess: $229.99 Truth: $172.14 Error: $57.85 SLE: 0.08 Item: Fit System 62135G Passenger Side Towing ...\u001b[0m\n",
            "\u001b[92m105: Guess: $359.99 Truth: $392.74 Error: $32.75 SLE: 0.01 Item: Black Horse Black Aluminum Exceed Runnin...\u001b[0m\n",
            "\u001b[92m106: Guess: $16.99 Truth: $16.99 Error: $0.00 SLE: 0.00 Item: Dearsun Twinkle Star Color Night Light P...\u001b[0m\n",
            "\u001b[92m107: Guess: $0.29 Truth: $1.34 Error: $1.05 SLE: 0.35 Item: Pokemon - Gallade Spirit Link (83/108) -...\u001b[0m\n",
            "\u001b[93m108: Guess: $249.99 Truth: $349.98 Error: $99.99 SLE: 0.11 Item: Ibanez GA34STCE-NT GIO Series Classical ...\u001b[0m\n",
            "\u001b[93m109: Guess: $449.99 Truth: $370.71 Error: $79.28 SLE: 0.04 Item: Set 2 Heavy Duty 12-16.5 12x16.5 12 Ply ...\u001b[0m\n",
            "\u001b[92m110: Guess: $59.99 Truth: $65.88 Error: $5.89 SLE: 0.01 Item: Hairpin Table Legs 28\" Heavy Duty Hairpi...\u001b[0m\n",
            "\u001b[93m111: Guess: $149.99 Truth: $229.99 Error: $80.00 SLE: 0.18 Item: Marada Racing Seat with Adjustable Slide...\u001b[0m\n",
            "\u001b[92m112: Guess: $6.99 Truth: $9.14 Error: $2.15 SLE: 0.06 Item: Remington Industries 24UL1007STRWHI25 24...\u001b[0m\n",
            "\u001b[91m113: Guess: $799.00 Truth: $199.00 Error: $600.00 SLE: 1.92 Item: Acer S3-391-6046 13.3-inch Ultrabook, In...\u001b[0m\n",
            "\u001b[92m114: Guess: $99.99 Truth: $109.99 Error: $10.00 SLE: 0.01 Item: ICBEAMER 7\" RGB LED Headlights Bulb Halo...\u001b[0m\n",
            "\u001b[91m115: Guess: $239.99 Truth: $570.42 Error: $330.43 SLE: 0.75 Item: R1 Concepts Front Rear Brakes and Rotors...\u001b[0m\n",
            "\u001b[93m116: Guess: $199.99 Truth: $279.99 Error: $80.00 SLE: 0.11 Item: Camplux 2.64 GPM Tankless , Outdoor Port...\u001b[0m\n",
            "\u001b[92m117: Guess: $15.99 Truth: $30.99 Error: $15.00 SLE: 0.40 Item: KNOKLOCK 10 Pack 3.75 Inch(96mm) Kitchen...\u001b[0m\n",
            "\u001b[92m118: Guess: $24.95 Truth: $31.99 Error: $7.04 SLE: 0.06 Item: Valley Enterprises Yaesu USB FTDI CT-62 ...\u001b[0m\n",
            "\u001b[92m119: Guess: $16.99 Truth: $15.90 Error: $1.09 SLE: 0.00 Item: G9 LED Light Bulbs，8W，75W 100W replaceme...\u001b[0m\n",
            "\u001b[92m120: Guess: $59.99 Truth: $45.99 Error: $14.00 SLE: 0.07 Item: ZCHAOZ 4 Lights Antique White Farmhouse ...\u001b[0m\n",
            "\u001b[93m121: Guess: $179.99 Truth: $113.52 Error: $66.47 SLE: 0.21 Item: Honeywell TH8320R1003 Honeywell VisionPr...\u001b[0m\n",
            "\u001b[93m122: Guess: $699.99 Truth: $516.99 Error: $183.00 SLE: 0.09 Item: Patriot Exhaust H8013-1 1-7/8\" Clippster...\u001b[0m\n",
            "\u001b[91m123: Guess: $99.99 Truth: $196.99 Error: $97.00 SLE: 0.45 Item: Fitrite Autopart New Front Left Driver S...\u001b[0m\n",
            "\u001b[92m124: Guess: $18.99 Truth: $46.55 Error: $27.56 SLE: 0.75 Item: Technical Precision Replacement for GE G...\u001b[0m\n",
            "\u001b[93m125: Guess: $259.99 Truth: $356.99 Error: $97.00 SLE: 0.10 Item: Covercraft Carhartt SeatSaver Front Row ...\u001b[0m\n",
            "\u001b[92m126: Guess: $379.99 Truth: $319.95 Error: $60.04 SLE: 0.03 Item: Sennheiser SD Pro 2 (506008) - Double-Si...\u001b[0m\n",
            "\u001b[93m127: Guess: $139.95 Truth: $96.06 Error: $43.89 SLE: 0.14 Item: Hitachi MAF0110 Mass Air Flow Sensor\u001b[0m\n",
            "\u001b[92m128: Guess: $159.99 Truth: $190.99 Error: $31.00 SLE: 0.03 Item: AmScope SE305R-P-LED-PS36A 10X-30X LED C...\u001b[0m\n",
            "\u001b[91m129: Guess: $124.99 Truth: $257.95 Error: $132.96 SLE: 0.52 Item: Front Left Driver Side Window Regulator ...\u001b[0m\n",
            "\u001b[92m130: Guess: $69.99 Truth: $62.95 Error: $7.04 SLE: 0.01 Item: Premium Replica Hubcap Set, Fits Nissan ...\u001b[0m\n",
            "\u001b[92m131: Guess: $39.99 Truth: $47.66 Error: $7.67 SLE: 0.03 Item: Excellerations Phonics Spelling Game for...\u001b[0m\n",
            "\u001b[91m132: Guess: $329.99 Truth: $226.99 Error: $103.00 SLE: 0.14 Item: RC4WD BigDog Dual Axle Scale Car/Truck T...\u001b[0m\n",
            "\u001b[92m133: Guess: $329.99 Truth: $359.95 Error: $29.96 SLE: 0.01 Item: Unknown Stage 2 Clutch Kit - Low Altitud...\u001b[0m\n",
            "\u001b[93m134: Guess: $29.95 Truth: $78.40 Error: $48.45 SLE: 0.89 Item: 2002-2008 Dodge Ram 1500 Mopar 4X4 Emble...\u001b[0m\n",
            "\u001b[92m135: Guess: $159.99 Truth: $172.77 Error: $12.78 SLE: 0.01 Item: Pro Comp Alloys Series 89 Wheel with Pol...\u001b[0m\n",
            "\u001b[93m136: Guess: $199.99 Truth: $316.45 Error: $116.46 SLE: 0.21 Item: Detroit Axle - Front Rear Strut & Coil S...\u001b[0m\n",
            "\u001b[93m137: Guess: $139.99 Truth: $87.99 Error: $52.00 SLE: 0.21 Item: ECCPP Rear Wheel Axle Replacement fit fo...\u001b[0m\n",
            "\u001b[93m138: Guess: $139.00 Truth: $226.63 Error: $87.63 SLE: 0.24 Item: Dell Latitude E6520 Intel i7-2720QM 2.20...\u001b[0m\n",
            "\u001b[92m139: Guess: $18.99 Truth: $31.49 Error: $12.50 SLE: 0.24 Item: F FIERCE CYCLE 251pcs Black Universal Mo...\u001b[0m\n",
            "\u001b[93m140: Guess: $129.99 Truth: $196.00 Error: $66.01 SLE: 0.17 Item: Flash Furniture 4 Pk. HERCULES Series 88...\u001b[0m\n",
            "\u001b[92m141: Guess: $39.99 Truth: $78.40 Error: $38.41 SLE: 0.44 Item: B&M 30287 Throttle Valve/Kickdown Cable,...\u001b[0m\n",
            "\u001b[92m142: Guess: $119.99 Truth: $116.25 Error: $3.74 SLE: 0.00 Item: Gates TCK226 PowerGrip Premium Timing Be...\u001b[0m\n",
            "\u001b[93m143: Guess: $189.99 Truth: $112.78 Error: $77.21 SLE: 0.27 Item: Monroe Shocks & Struts Quick-Strut 17149...\u001b[0m\n",
            "\u001b[92m144: Guess: $29.99 Truth: $27.32 Error: $2.67 SLE: 0.01 Item: Feit Electric BPMR16/GU10/930CA/6 35W EQ...\u001b[0m\n",
            "\u001b[92m145: Guess: $169.99 Truth: $145.91 Error: $24.08 SLE: 0.02 Item: Yellow Jacket 2806 Contractor Extension ...\u001b[0m\n",
            "\u001b[91m146: Guess: $369.95 Truth: $171.09 Error: $198.86 SLE: 0.59 Item: Garage-Pro Tailgate SET Compatible with ...\u001b[0m\n",
            "\u001b[93m147: Guess: $119.99 Truth: $167.95 Error: $47.96 SLE: 0.11 Item: 3M Perfect It Buffing and Polishing Kit ...\u001b[0m\n",
            "\u001b[92m148: Guess: $39.99 Truth: $28.49 Error: $11.50 SLE: 0.11 Item: Chinese Style Dollhouse Model DIY Miniat...\u001b[0m\n",
            "\u001b[92m149: Guess: $99.99 Truth: $122.23 Error: $22.24 SLE: 0.04 Item: Generic NRG Innovations SRK-161H Steerin...\u001b[0m\n",
            "\u001b[92m150: Guess: $39.99 Truth: $32.99 Error: $7.00 SLE: 0.04 Item: Learning Resources Coding Critters Range...\u001b[0m\n",
            "\u001b[92m151: Guess: $58.99 Truth: $71.20 Error: $12.21 SLE: 0.03 Item: Bosch Automotive 15463 Oxygen Sensor, OE...\u001b[0m\n",
            "\u001b[93m152: Guess: $159.99 Truth: $112.75 Error: $47.24 SLE: 0.12 Item: Case of 24-2 Inch Blue Painters Tape - 6...\u001b[0m\n",
            "\u001b[92m153: Guess: $149.99 Truth: $142.43 Error: $7.56 SLE: 0.00 Item: MOCA Engine Water Pump & Fan Clutch fit ...\u001b[0m\n",
            "\u001b[93m154: Guess: $269.99 Truth: $398.99 Error: $129.00 SLE: 0.15 Item: SAREMAS Foot Step Bars for Hyundai Palis...\u001b[0m\n",
            "\u001b[92m155: Guess: $399.99 Truth: $449.00 Error: $49.01 SLE: 0.01 Item: Gretsch G9210 Square Neck Boxcar Mahogan...\u001b[0m\n",
            "\u001b[92m156: Guess: $199.99 Truth: $189.00 Error: $10.99 SLE: 0.00 Item: NikoMaku Mirror Dash Cam Front and Rear ...\u001b[0m\n",
            "\u001b[92m157: Guess: $119.95 Truth: $120.91 Error: $0.96 SLE: 0.00 Item: Fenix HP25R v2.0 USB-C Rechargeable Head...\u001b[0m\n",
            "\u001b[93m158: Guess: $139.99 Truth: $203.53 Error: $63.54 SLE: 0.14 Item: R&L Racing Heavy Duty Roll-Up Soft Tonne...\u001b[0m\n",
            "\u001b[92m159: Guess: $299.99 Truth: $349.99 Error: $50.00 SLE: 0.02 Item: Garmin 010-02258-10 GPSMAP 64sx, Handhel...\u001b[0m\n",
            "\u001b[92m160: Guess: $12.99 Truth: $34.35 Error: $21.36 SLE: 0.86 Item: Brown 5-7/8\" X 8-1/2\" X 3/16\" Thick Heav...\u001b[0m\n",
            "\u001b[92m161: Guess: $369.99 Truth: $384.99 Error: $15.00 SLE: 0.00 Item: GAOMON PD2200 Pen Display & 20 Pen Nibs ...\u001b[0m\n",
            "\u001b[93m162: Guess: $149.99 Truth: $211.00 Error: $61.01 SLE: 0.12 Item: VXMOTOR for 97-03 Ford F150/F250 Lightdu...\u001b[0m\n",
            "\u001b[92m163: Guess: $89.99 Truth: $129.00 Error: $39.01 SLE: 0.13 Item: HP EliteBook 2540p Intel Core i7-640LM X...\u001b[0m\n",
            "\u001b[91m164: Guess: $24.99 Truth: $111.45 Error: $86.46 SLE: 2.15 Item: Green EPX Mixing Nozzles 100-Pack-fits 3...\u001b[0m\n",
            "\u001b[93m165: Guess: $129.99 Truth: $81.12 Error: $48.87 SLE: 0.22 Item: Box Partners 6 1/4 x 3 1/8\" 13 Pt. Manil...\u001b[0m\n",
            "\u001b[91m166: Guess: $229.99 Truth: $457.08 Error: $227.09 SLE: 0.47 Item: Vixen Air 1/2\" NPT Air Ride Suspension H...\u001b[0m\n",
            "\u001b[92m167: Guess: $59.99 Truth: $49.49 Error: $10.50 SLE: 0.04 Item: Smart Floor Lamp, 2700-6500K+RGBPink Mul...\u001b[0m\n",
            "\u001b[92m168: Guess: $69.99 Truth: $80.56 Error: $10.57 SLE: 0.02 Item: SOZG 324mm Wheelbase Body Shell RC Car B...\u001b[0m\n",
            "\u001b[92m169: Guess: $289.99 Truth: $278.39 Error: $11.60 SLE: 0.00 Item: Mickey Thompson ET Street S/S Racing Rad...\u001b[0m\n",
            "\u001b[92m170: Guess: $419.99 Truth: $364.50 Error: $55.49 SLE: 0.02 Item: Pirelli 275/40R20 106W XL RFT P0 PZ4-LUX...\u001b[0m\n",
            "\u001b[92m171: Guess: $369.99 Truth: $378.99 Error: $9.00 SLE: 0.00 Item: Torklift C3212 Rear Tie Down\u001b[0m\n",
            "\u001b[91m172: Guess: $249.99 Truth: $165.28 Error: $84.71 SLE: 0.17 Item: Cardone 78-4226 Remanufactured Ford Comp...\u001b[0m\n",
            "\u001b[92m173: Guess: $34.99 Truth: $56.74 Error: $21.75 SLE: 0.22 Item: Kidde AccessPoint 001798 Supra TouchPoin...\u001b[0m\n",
            "\u001b[93m174: Guess: $399.00 Truth: $307.95 Error: $91.05 SLE: 0.07 Item: 3M Protecta 3100414 Self Retracting Life...\u001b[0m\n",
            "\u001b[93m175: Guess: $79.99 Truth: $38.00 Error: $41.99 SLE: 0.53 Item: Plantronics 89435-01 Wired Headset, Blac...\u001b[0m\n",
            "\u001b[92m176: Guess: $59.99 Truth: $53.00 Error: $6.99 SLE: 0.01 Item: Logitech K750 Wireless Solar Keyboard fo...\u001b[0m\n",
            "\u001b[93m177: Guess: $299.00 Truth: $498.00 Error: $199.00 SLE: 0.26 Item: Olympus PEN E-PL9 Body Only with 3-Inch ...\u001b[0m\n",
            "\u001b[93m178: Guess: $109.99 Truth: $53.99 Error: $56.00 SLE: 0.49 Item: Beck/Arnley 051-6066 Hub & Bearing Assem...\u001b[0m\n",
            "\u001b[93m179: Guess: $279.99 Truth: $350.00 Error: $70.01 SLE: 0.05 Item: Eibach Pro-Kit Performance Springs E10-6...\u001b[0m\n",
            "\u001b[93m180: Guess: $199.99 Truth: $299.95 Error: $99.96 SLE: 0.16 Item: LEGO DC Batman 1989 Batwing 76161 Displa...\u001b[0m\n",
            "\u001b[92m181: Guess: $99.99 Truth: $94.93 Error: $5.06 SLE: 0.00 Item: Kingston Brass KS3608PL Restoration 4-In...\u001b[0m\n",
            "\u001b[92m182: Guess: $399.00 Truth: $379.00 Error: $20.00 SLE: 0.00 Item: Polk Vanishing Series 265-LS In-Wall 3-W...\u001b[0m\n",
            "\u001b[92m183: Guess: $249.99 Truth: $299.95 Error: $49.96 SLE: 0.03 Item: Spec-D Tuning LED Projector Headlights G...\u001b[0m\n",
            "\u001b[92m184: Guess: $29.99 Truth: $24.99 Error: $5.00 SLE: 0.03 Item: RICHMOND & FINCH Airpod Pro Case, Green ...\u001b[0m\n",
            "\u001b[93m185: Guess: $89.99 Truth: $41.04 Error: $48.95 SLE: 0.60 Item: LFA Industries 43B-5A-33JT 1/16-1/2-1.5-...\u001b[0m\n",
            "\u001b[91m186: Guess: $189.99 Truth: $327.90 Error: $137.91 SLE: 0.30 Item: SAUTVS LED Headlight Assembly for Slings...\u001b[0m\n",
            "\u001b[92m187: Guess: $14.99 Truth: $10.99 Error: $4.00 SLE: 0.08 Item: 2 Pack Combo Womens Safety Glasses Impac...\u001b[0m\n",
            "\u001b[92m188: Guess: $14.99 Truth: $14.99 Error: $0.00 SLE: 0.00 Item: Arepa - Venezuelan cuisine - Venezuela P...\u001b[0m\n",
            "\u001b[93m189: Guess: $19.97 Truth: $84.95 Error: $64.98 SLE: 1.99 Item: Schlage Lock Company KS23D2300 Padlock, ...\u001b[0m\n",
            "\u001b[92m190: Guess: $79.99 Truth: $111.00 Error: $31.01 SLE: 0.11 Item: Techni Mobili White Sit to Stand Mobile ...\u001b[0m\n",
            "\u001b[92m191: Guess: $109.99 Truth: $123.73 Error: $13.74 SLE: 0.01 Item: Special Lite Products Contemporary Wall ...\u001b[0m\n",
            "\u001b[92m192: Guess: $549.00 Truth: $557.38 Error: $8.38 SLE: 0.00 Item: Tascam DP-24SD 24-Track Digital Portastu...\u001b[0m\n",
            "\u001b[93m193: Guess: $159.99 Truth: $95.55 Error: $64.44 SLE: 0.26 Item: Glow Lighting 636CC10SP Vista Crystal Fl...\u001b[0m\n",
            "\u001b[92m194: Guess: $129.99 Truth: $154.00 Error: $24.01 SLE: 0.03 Item: Z3 Wind Deflector, Smoke Tint, Lexan, Wi...\u001b[0m\n",
            "\u001b[91m195: Guess: $80.00 Truth: $198.99 Error: $118.99 SLE: 0.82 Item: Olympus E-20 5MP Digital Camera w/ 4x Op...\u001b[0m\n",
            "\u001b[91m196: Guess: $199.99 Truth: $430.44 Error: $230.45 SLE: 0.58 Item: PHYNEDI 1:1000 World Trade Center (1973-...\u001b[0m\n",
            "\u001b[92m197: Guess: $12.99 Truth: $45.67 Error: $32.68 SLE: 1.45 Item: YANGHUAN Unstable Unicorns Adventure Car...\u001b[0m\n",
            "\u001b[92m198: Guess: $229.99 Truth: $249.00 Error: $19.01 SLE: 0.01 Item: Interlogix NX-1820E NetworX Touch Screen...\u001b[0m\n",
            "\u001b[92m199: Guess: $39.99 Truth: $42.99 Error: $3.00 SLE: 0.00 Item: Steering Damper,Universal Motorcycle Han...\u001b[0m\n",
            "\u001b[93m200: Guess: $239.99 Truth: $181.33 Error: $58.66 SLE: 0.08 Item: Amprobe TIC 410A Hot Stick Attachment\u001b[0m\n",
            "\u001b[92m201: Guess: $2.49 Truth: $6.03 Error: $3.54 SLE: 0.49 Item: MyCableMart 3.5mm Plug/Jack, 4 Conductor...\u001b[0m\n",
            "\u001b[92m202: Guess: $29.99 Truth: $29.99 Error: $0.00 SLE: 0.00 Item: OtterBox + Pop Symmetry Series Case for ...\u001b[0m\n",
            "\u001b[91m203: Guess: $199.00 Truth: $899.00 Error: $700.00 SLE: 2.26 Item: Dell XPS X8700-1572BLK Desktop ( Intel C...\u001b[0m\n",
            "\u001b[92m204: Guess: $399.99 Truth: $399.99 Error: $0.00 SLE: 0.00 Item: Franklin Iron Works Sperry Industrial Br...\u001b[0m\n",
            "\u001b[92m205: Guess: $7.99 Truth: $4.66 Error: $3.33 SLE: 0.21 Item: Avery Legal Dividers, Standard Collated ...\u001b[0m\n",
            "\u001b[91m206: Guess: $649.99 Truth: $261.41 Error: $388.58 SLE: 0.83 Item: Moen 8346 Commercial Posi-Temp Pressure ...\u001b[0m\n",
            "\u001b[92m207: Guess: $149.99 Truth: $136.97 Error: $13.02 SLE: 0.01 Item: Carlisle Versa Trail ATR All Terrain Rad...\u001b[0m\n",
            "\u001b[93m208: Guess: $149.99 Truth: $79.00 Error: $70.99 SLE: 0.40 Item: SUNWAYFOTO 44mm Tripod Ball Head Arca Co...\u001b[0m\n",
            "\u001b[92m209: Guess: $356.00 Truth: $444.99 Error: $88.99 SLE: 0.05 Item: NanoBeam AC NBE-5AC-Gen2-US 4 Units 5GHz...\u001b[0m\n",
            "\u001b[91m210: Guess: $599.99 Truth: $411.94 Error: $188.05 SLE: 0.14 Item: WULF 4\" Front 2\" Rear Leveling Lift Kit ...\u001b[0m\n",
            "\u001b[93m211: Guess: $199.99 Truth: $148.40 Error: $51.59 SLE: 0.09 Item: Alera ALEVABFMC Valencia Series Mobile B...\u001b[0m\n",
            "\u001b[91m212: Guess: $119.99 Truth: $244.99 Error: $125.00 SLE: 0.50 Item: YU-GI-OH! Ignition Assault Booster Box\u001b[0m\n",
            "\u001b[93m213: Guess: $139.99 Truth: $86.50 Error: $53.49 SLE: 0.23 Item: 48\" x 36\" Extra-Large Framed Magnetic Bl...\u001b[0m\n",
            "\u001b[91m214: Guess: $59.99 Truth: $297.95 Error: $237.96 SLE: 2.53 Item: Dell Latitude D620 Renewed Notebook PC\u001b[0m\n",
            "\u001b[92m215: Guess: $429.00 Truth: $399.99 Error: $29.01 SLE: 0.00 Item: acer Aspire 5 Laptop, AMD Ryzen 3 5300U ...\u001b[0m\n",
            "\u001b[92m216: Guess: $599.00 Truth: $599.00 Error: $0.00 SLE: 0.00 Item: Elk 31080/6RC-GRN 30 by 6-Inch Viva 6-Li...\u001b[0m\n",
            "\u001b[91m217: Guess: $24.99 Truth: $105.99 Error: $81.00 SLE: 2.00 Item: Barbie Top Model Doll\u001b[0m\n",
            "\u001b[92m218: Guess: $729.99 Truth: $689.00 Error: $40.99 SLE: 0.00 Item: Danby Designer 20-In. Electric Range wit...\u001b[0m\n",
            "\u001b[91m219: Guess: $799.99 Truth: $404.99 Error: $395.00 SLE: 0.46 Item: FixtureDisplays® Metal Truss Podium Doub...\u001b[0m\n",
            "\u001b[92m220: Guess: $229.99 Truth: $207.76 Error: $22.23 SLE: 0.01 Item: ACDelco 13597235 GM Original Equipment A...\u001b[0m\n",
            "\u001b[92m221: Guess: $199.99 Truth: $171.82 Error: $28.17 SLE: 0.02 Item: EBC S1KF1135 Stage-1 Premium Street Brak...\u001b[0m\n",
            "\u001b[92m222: Guess: $349.99 Truth: $293.24 Error: $56.75 SLE: 0.03 Item: FXR Men's Boost FX Jacket (Black/Orange/...\u001b[0m\n",
            "\u001b[93m223: Guess: $499.95 Truth: $374.95 Error: $125.00 SLE: 0.08 Item: SuperATV Scratch Resistant 3-in-1 Flip W...\u001b[0m\n",
            "\u001b[93m224: Guess: $59.95 Truth: $111.99 Error: $52.04 SLE: 0.38 Item: SBU 3 Layer All Weather Mini Van Car Cov...\u001b[0m\n",
            "\u001b[92m225: Guess: $29.99 Truth: $42.99 Error: $13.00 SLE: 0.12 Item: 2 Pack Outdoor Brochure Holder Advertisi...\u001b[0m\n",
            "\u001b[93m226: Guess: $179.99 Truth: $116.71 Error: $63.28 SLE: 0.19 Item: Monroe Shocks & Struts Quick-Strut 17158...\u001b[0m\n",
            "\u001b[91m227: Guess: $199.99 Truth: $118.61 Error: $81.38 SLE: 0.27 Item: Elements of Design Magellan EB235AL Thre...\u001b[0m\n",
            "\u001b[92m228: Guess: $139.99 Truth: $147.12 Error: $7.13 SLE: 0.00 Item: GM Genuine Parts 15-62961 Air Conditioni...\u001b[0m\n",
            "\u001b[92m229: Guess: $89.99 Truth: $119.99 Error: $30.00 SLE: 0.08 Item: Baseus 17-in-1 USB C Docking Station to ...\u001b[0m\n",
            "\u001b[92m230: Guess: $369.99 Truth: $369.98 Error: $0.01 SLE: 0.00 Item: Whitehall™ Personalized Whitehall Capito...\u001b[0m\n",
            "\u001b[92m231: Guess: $294.95 Truth: $315.55 Error: $20.60 SLE: 0.00 Item: Pro Circuit Works Pipe PY05250 for 02-19...\u001b[0m\n",
            "\u001b[92m232: Guess: $169.99 Truth: $190.99 Error: $21.00 SLE: 0.01 Item: HYANKA 15 \"1200W Professional DJ Speaker...\u001b[0m\n",
            "\u001b[92m233: Guess: $129.99 Truth: $155.00 Error: $25.01 SLE: 0.03 Item: Bluetooth X6BT Card Reader Writer Encode...\u001b[0m\n",
            "\u001b[92m234: Guess: $399.99 Truth: $349.99 Error: $50.00 SLE: 0.02 Item: AIRAID Cold Air Intake System by K&N: In...\u001b[0m\n",
            "\u001b[92m235: Guess: $289.99 Truth: $249.99 Error: $40.00 SLE: 0.02 Item: Bostingner Shower Faucets Sets Complete,...\u001b[0m\n",
            "\u001b[92m236: Guess: $27.99 Truth: $42.99 Error: $15.00 SLE: 0.17 Item: PIT66 Front Bumper Turn Signal Lights, C...\u001b[0m\n",
            "\u001b[92m237: Guess: $16.99 Truth: $17.99 Error: $1.00 SLE: 0.00 Item: Caseology Bumpy Compatible with Google P...\u001b[0m\n",
            "\u001b[92m238: Guess: $389.00 Truth: $425.00 Error: $36.00 SLE: 0.01 Item: Fleck 2510 Timer Mechanical Filter Contr...\u001b[0m\n",
            "\u001b[92m239: Guess: $259.99 Truth: $249.99 Error: $10.00 SLE: 0.00 Item: Haloview MC7108 Wireless RV Backup Camer...\u001b[0m\n",
            "\u001b[91m240: Guess: $34.99 Truth: $138.23 Error: $103.24 SLE: 1.83 Item: Schmidt Spiele - Manhattan\u001b[0m\n",
            "\u001b[92m241: Guess: $399.99 Truth: $414.99 Error: $15.00 SLE: 0.00 Item: Corsa 14333 Tip Kit (Ford Mustang GT)\u001b[0m\n",
            "\u001b[91m242: Guess: $289.99 Truth: $168.28 Error: $121.71 SLE: 0.29 Item: Hoshizaki FM116A Fan Motor Kit 1\u001b[0m\n",
            "\u001b[92m243: Guess: $199.99 Truth: $199.99 Error: $0.00 SLE: 0.00 Item: BAINUO Antler Chandelier Lighting,6 Ligh...\u001b[0m\n",
            "\u001b[92m244: Guess: $99.99 Truth: $126.70 Error: $26.71 SLE: 0.06 Item: DNA MOTORING HL-OH-FEXP06-SM-AM Smoke Le...\u001b[0m\n",
            "\u001b[92m245: Guess: $6.99 Truth: $5.91 Error: $1.08 SLE: 0.02 Item: Wera Stainless 3840/1 TS 2.5mm Hex Inser...\u001b[0m\n",
            "\u001b[92m246: Guess: $199.99 Truth: $193.06 Error: $6.93 SLE: 0.00 Item: Celestron - PowerSeeker 127EQ Telescope ...\u001b[0m\n",
            "\u001b[92m247: Guess: $229.99 Truth: $249.99 Error: $20.00 SLE: 0.01 Item: NHOPEEW 10.1inch Android Car Radio Carpl...\u001b[0m\n",
            "\u001b[92m248: Guess: $49.99 Truth: $64.12 Error: $14.13 SLE: 0.06 Item: Other Harmonica (Suzuki-2Timer24- A)\u001b[0m\n",
            "\u001b[92m249: Guess: $109.99 Truth: $114.99 Error: $5.00 SLE: 0.00 Item: Harley Air Filter Venturi Intake Air Cle...\u001b[0m\n",
            "\u001b[92m250: Guess: $1,099.00 Truth: $926.00 Error: $173.00 SLE: 0.03 Item: Elite Screens Edge Free Ambient Light Re...\u001b[0m\n"
          ]
        },
        {
          "output_type": "display_data",
          "data": {
            "text/plain": [
              "<Figure size 1200x800 with 1 Axes>"
            ],
            "image/png": "[encoded data removed]"
          },
          "metadata": {}
        }
      ]
    },
    {
      "cell_type": "markdown",
      "source": [
        "## gpt 4.1 fine-tuned with extended dataset"
      ],
      "metadata": {
        "id": "mOXvulp11NRS"
      },
      "id": "mOXvulp11NRS"
    },
    {
      "cell_type": "markdown",
      "source": [
        "### Data Preprocessing"
      ],
      "metadata": {
        "id": "hY0v7oBR1brc"
      },
      "id": "hY0v7oBR1brc"
    },
    {
      "cell_type": "code",
      "source": [
        "\n",
        "def messages_v2(item, with_price=True):\n",
        "    system_message = \\\n",
        "        \"Role: You are a retail price estimator.\\n\" \\\n",
        "        \"Market: United States; Currency: USD.\\n\" \\\n",
        "        \"Scope: Predict the most likely new retail price. Ignore taxes, shipping, coupons, bundles, used/renewed.\\n\" \\\n",
        "        \"Output: Only a number with two decimals (e.g., 129.99). No $ sign. No words.\\n\" \\\n",
        "        \"Think silently; do not reveal reasoning.\"\n",
        "\n",
        "    user_prompt = item.test_prompt().replace(\" to the nearest dollar\",\"\").replace(\"\\n\\nPrice is $\",\"\")\n",
        "    return [\n",
        "        {\"role\": \"system\", \"content\": system_message},\n",
        "        {\"role\": \"user\", \"content\": str({\n",
        "            \"query\":\"price_estimate\",\n",
        "            \"locale\":\"en_US\",\n",
        "            \"currency\":\"USD\",\n",
        "            \"category\":item.category,\n",
        "            \"description\":user_prompt,\n",
        "            \"brand\":json.loads(item.details).get(\"Brand\",\"Unknown\")\n",
        "            })\n",
        "        },\n",
        "        {\"role\": \"assistant\", \"content\": f\"Price is ${item.price:.2f}\" if with_price else \"Price is $\"}\n",
        "    ]"
      ],
      "metadata": {
        "id": "dAqEb7GD2HJZ"
      },
      "id": "dAqEb7GD2HJZ",
      "execution_count": 174,
      "outputs": []
    },
    {
      "cell_type": "code",
      "source": [
        "messages_v2(test[237], with_price=False)\n"
      ],
      "metadata": {
        "id": "wRqFRHzE_LPm",
        "outputId": "53c089ba-ce72-43a4-d791-af27bc0d11c0",
        "colab": {
          "base_uri": "https://localhost:8080/"
        }
      },
      "id": "wRqFRHzE_LPm",
      "execution_count": 175,
      "outputs": [
        {
          "output_type": "execute_result",
          "data": {
            "text/plain": [
              "[{'role': 'system',\n",
              "  'content': 'Role: You are a retail price estimator.\\nMarket: United States; Currency: USD.\\nScope: Predict the most likely new retail price. Ignore taxes, shipping, coupons, bundles, used/renewed.\\nOutput: Only a number with two decimals (e.g., 129.99). No $ sign. No words.\\nThink silently; do not reveal reasoning.'},\n",
              " {'role': 'user',\n",
              "  'content': \"{'query': 'price_estimate', 'locale': 'en_US', 'currency': 'USD', 'category': 'Appliances', 'description': 'How much does this cost?\\\\n\\\\nFleck 2510 Timer Mechanical Filter Control Head\\\\n- Mechanical 2510 control head for filter systems - - 12-day timer initiated backwash - - Maximum 17 GPM backwash (includes 7 GPM DLFC) - - Standard 2. 5 -8 NPSM mounting base - - Requires yoke or bypass to connect to plumbing -Heavy duty 2510 electromechanical control valve provides simple and durable backwash control for most common backwashing filters. A maximum of 17 GPM available backwash can handle even dense iron filter medias. Dedicated piston motor provides powerful piston movement that reduces system maintenance. New Fleck 2510 filter valve replacement for filter tanks Fully adjustable cycles for backwash and rinse times For back-washing filters, allows for strong', 'brand': 'Unknown'}\"},\n",
              " {'role': 'assistant', 'content': 'Price is $'}]"
            ]
          },
          "metadata": {},
          "execution_count": 175
        }
      ]
    },
    {
      "cell_type": "code",
      "source": [
        "def make_jsonl(items):\n",
        "    result = \"\"\n",
        "    for item in items:\n",
        "        messages = messages_v2(item)\n",
        "        messages_str = json.dumps(messages)\n",
        "        result += '{\"messages\": ' + messages_str +'}\\n'\n",
        "    return result.strip()"
      ],
      "metadata": {
        "id": "CIkBy83R1T_J"
      },
      "id": "CIkBy83R1T_J",
      "execution_count": 176,
      "outputs": []
    },
    {
      "cell_type": "code",
      "source": [
        "# Convert the items into jsonl and write them to a file\n",
        "\n",
        "def write_jsonl(items, filename):\n",
        "    with open(filename, \"w\") as f:\n",
        "        jsonl = make_jsonl(items)\n",
        "        f.write(jsonl)"
      ],
      "metadata": {
        "id": "WBkFmTvb1hwI"
      },
      "id": "WBkFmTvb1hwI",
      "execution_count": 177,
      "outputs": []
    },
    {
      "cell_type": "code",
      "source": [
        "write_jsonl(fine_tune_train, \"fine_tune_train_v2.jsonl\")\n",
        "write_jsonl(fine_tune_validation, \"fine_tune_validation_v2.jsonl\")"
      ],
      "metadata": {
        "id": "7YbhOEZA1lhm"
      },
      "id": "7YbhOEZA1lhm",
      "execution_count": 178,
      "outputs": []
    },
    {
      "cell_type": "code",
      "source": [
        "with open(\"fine_tune_train_v2.jsonl\", \"rb\") as f:\n",
        "    train_file_v2 = openai.files.create(file=f, purpose=\"fine-tune\")\n",
        "\n",
        "with open(\"fine_tune_validation_v2.jsonl\", \"rb\") as f:\n",
        "    validation_file_v2 = openai.files.create(file=f, purpose=\"fine-tune\")"
      ],
      "metadata": {
        "id": "n62FQj701ntK"
      },
      "id": "n62FQj701ntK",
      "execution_count": 179,
      "outputs": []
    },
    {
      "cell_type": "markdown",
      "source": [
        "### Fine tune the model"
      ],
      "metadata": {
        "id": "CvqTsT3w547n"
      },
      "id": "CvqTsT3w547n"
    },
    {
      "cell_type": "code",
      "source": [
        "openai.fine_tuning.jobs.create(\n",
        "    training_file=train_file_v2.id,\n",
        "    validation_file=validation_file_v2.id,\n",
        "    model=\"gpt-4.1-2025-04-14\",\n",
        "    seed=42,\n",
        "    hyperparameters={\"n_epochs\": 1},\n",
        "    integrations = [wandb_integration],\n",
        "    suffix=\"pricer\"\n",
        ")"
      ],
      "metadata": {
        "id": "V4hVbBhi58_k",
        "outputId": "5c4d376f-86b4-450b-ca25-5fdb4b9b28d5",
        "colab": {
          "base_uri": "https://localhost:8080/"
        }
      },
      "id": "V4hVbBhi58_k",
      "execution_count": 188,
      "outputs": [
        {
          "output_type": "execute_result",
          "data": {
            "text/plain": [
              "FineTuningJob(id='ftjob-WHNcVZPvLK3famHgM2ZqDksZ', created_at=1761291184, error=Error(code=None, message=None, param=None), fine_tuned_model=None, finished_at=None, hyperparameters=Hyperparameters(batch_size='auto', learning_rate_multiplier='auto', n_epochs=1), model='gpt-4.1-2025-04-14', object='fine_tuning.job', organization_id='org-pJCQ5ENOWAeUeCm6e5uj62MI', result_files=[], seed=42, status='validating_files', trained_tokens=None, training_file='file-LH9pgoUCyC3MR52F1Ly5Pe', validation_file='file-SBx8573haL3Hi8DZth2FW9', estimated_finish=None, integrations=[FineTuningJobWandbIntegrationObject(type='wandb', wandb=FineTuningJobWandbIntegration(project='gpt-pricer-ft', entity=None, name=None, tags=None, run_id='ftjob-WHNcVZPvLK3famHgM2ZqDksZ'))], metadata=None, method=Method(type='supervised', dpo=None, reinforcement=None, supervised=SupervisedMethod(hyperparameters=SupervisedHyperparameters(batch_size='auto', learning_rate_multiplier='auto', n_epochs=1))), user_provided_suffix='pricer', usage_metrics=None, shared_with_openai=True, eval_id=None)"
            ]
          },
          "metadata": {},
          "execution_count": 188
        }
      ]
    },
    {
      "cell_type": "code",
      "source": [
        "openai.fine_tuning.jobs.list(limit=1)"
      ],
      "metadata": {
        "id": "QdUK7rYd6X7J",
        "outputId": "0ecd662b-8514-472f-b7f2-d8195745defb",
        "colab": {
          "base_uri": "https://localhost:8080/"
        }
      },
      "id": "QdUK7rYd6X7J",
      "execution_count": 189,
      "outputs": [
        {
          "output_type": "execute_result",
          "data": {
            "text/plain": [
              "SyncCursorPage[FineTuningJob](data=[FineTuningJob(id='ftjob-WHNcVZPvLK3famHgM2ZqDksZ', created_at=1761291184, error=Error(code=None, message=None, param=None), fine_tuned_model=None, finished_at=None, hyperparameters=Hyperparameters(batch_size=1, learning_rate_multiplier=2.0, n_epochs=1), model='gpt-4.1-2025-04-14', object='fine_tuning.job', organization_id='org-pJCQ5ENOWAeUeCm6e5uj62MI', result_files=[], seed=42, status='validating_files', trained_tokens=None, training_file='file-LH9pgoUCyC3MR52F1Ly5Pe', validation_file='file-SBx8573haL3Hi8DZth2FW9', estimated_finish=None, integrations=[FineTuningJobWandbIntegrationObject(type='wandb', wandb=FineTuningJobWandbIntegration(project='gpt-pricer-ft', entity=None, name=None, tags=None, run_id='ftjob-WHNcVZPvLK3famHgM2ZqDksZ'))], metadata=None, method=Method(type='supervised', dpo=None, reinforcement=None, supervised=SupervisedMethod(hyperparameters=SupervisedHyperparameters(batch_size=1, learning_rate_multiplier=2.0, n_epochs=1))), user_provided_suffix='pricer', usage_metrics=None, shared_with_openai=True, eval_id=None)], has_more=True, object='list')"
            ]
          },
          "metadata": {},
          "execution_count": 189
        }
      ]
    },
    {
      "cell_type": "code",
      "source": [
        "job_id = openai.fine_tuning.jobs.list(limit=1).data[0].id"
      ],
      "metadata": {
        "id": "lpOvwnI36Y7m"
      },
      "id": "lpOvwnI36Y7m",
      "execution_count": 190,
      "outputs": []
    },
    {
      "cell_type": "code",
      "source": [
        "openai.fine_tuning.jobs.retrieve(job_id)"
      ],
      "metadata": {
        "id": "YYL0Thpw6ZoU",
        "outputId": "7af32ada-10aa-4ce8-b1c0-fe229c6baa77",
        "colab": {
          "base_uri": "https://localhost:8080/"
        }
      },
      "id": "YYL0Thpw6ZoU",
      "execution_count": 238,
      "outputs": [
        {
          "output_type": "execute_result",
          "data": {
            "text/plain": [
              "FineTuningJob(id='ftjob-WHNcVZPvLK3famHgM2ZqDksZ', created_at=1761291184, error=Error(code=None, message=None, param=None), fine_tuned_model='ft:gpt-4.1-2025-04-14:personal:pricer:CU72kv4b', finished_at=1761292948, hyperparameters=Hyperparameters(batch_size=1, learning_rate_multiplier=2.0, n_epochs=1), model='gpt-4.1-2025-04-14', object='fine_tuning.job', organization_id='org-pJCQ5ENOWAeUeCm6e5uj62MI', result_files=['file-2TspQ3tRZ64KRTbrkFw8BR'], seed=42, status='succeeded', trained_tokens=150124, training_file='file-LH9pgoUCyC3MR52F1Ly5Pe', validation_file='file-SBx8573haL3Hi8DZth2FW9', estimated_finish=None, integrations=[FineTuningJobWandbIntegrationObject(type='wandb', wandb=FineTuningJobWandbIntegration(project='gpt-pricer-ft', entity=None, name=None, tags=None, run_id='ftjob-WHNcVZPvLK3famHgM2ZqDksZ'))], metadata=None, method=Method(type='supervised', dpo=None, reinforcement=None, supervised=SupervisedMethod(hyperparameters=SupervisedHyperparameters(batch_size=1, learning_rate_multiplier=2.0, n_epochs=1))), user_provided_suffix='pricer', usage_metrics=None, shared_with_openai=True, eval_id=None)"
            ]
          },
          "metadata": {},
          "execution_count": 238
        }
      ]
    },
    {
      "cell_type": "code",
      "source": [
        "openai.fine_tuning.jobs.list_events(fine_tuning_job_id=job_id, limit=10).data"
      ],
      "metadata": {
        "id": "ZjYZl4eo6jDL",
        "outputId": "251910f2-78d5-4cac-ce01-a3bdeba22fef",
        "colab": {
          "base_uri": "https://localhost:8080/"
        }
      },
      "id": "ZjYZl4eo6jDL",
      "execution_count": 237,
      "outputs": [
        {
          "output_type": "execute_result",
          "data": {
            "text/plain": [
              "[FineTuningJobEvent(id='ftevent-pdtDqcdZpbYZD16f4jUFkKNV', created_at=1761293878, level='info', message='The job has successfully completed', object='fine_tuning.job.event', data={}, type='message'),\n",
              " FineTuningJobEvent(id='ftevent-T0fi2i7dwCx58aXEOEefQxtk', created_at=1761293870, level='info', message='Usage policy evaluations completed, model is now enabled for sampling', object='fine_tuning.job.event', data={}, type='message'),\n",
              " FineTuningJobEvent(id='ftevent-jGqIJx37CW6AgH1Gz7O7VwIn', created_at=1761293870, level='info', message='Moderation checks for snapshot ft:gpt-4.1-2025-04-14:personal:pricer:CU72kv4b passed.', object='fine_tuning.job.event', data={'blocked': False, 'results': [{'flagged': False, 'category': 'harassment/threatening', 'enforcement': 'blocking'}, {'flagged': False, 'category': 'sexual', 'enforcement': 'blocking'}, {'flagged': False, 'category': 'sexual/minors', 'enforcement': 'blocking'}, {'flagged': False, 'category': 'propaganda', 'enforcement': 'blocking'}, {'flagged': False, 'category': 'hate', 'enforcement': 'blocking'}, {'flagged': False, 'category': 'hate/threatening', 'enforcement': 'blocking'}, {'flagged': False, 'category': 'illicit', 'enforcement': 'blocking'}, {'flagged': False, 'category': 'violence', 'enforcement': 'blocking'}, {'flagged': False, 'category': 'advice', 'enforcement': 'blocking'}, {'flagged': False, 'category': 'self-harm/intent', 'enforcement': 'blocking'}, {'flagged': False, 'category': 'self-harm/instructions', 'enforcement': 'non_blocking'}, {'flagged': False, 'category': 'sensitive', 'enforcement': 'blocking'}, {'flagged': False, 'category': 'highly-sensitive', 'enforcement': 'blocking'}, {'flagged': False, 'category': 'biological threats', 'enforcement': 'blocking'}, {'flagged': False, 'category': 'cyber security threats', 'enforcement': 'blocking'}], 'finetuned_model_checkpoint_id': 'ft:gpt-4.1-2025-04-14:personal:pricer:CU72kv4b'}, type='moderation_checks'),\n",
              " FineTuningJobEvent(id='ftevent-TkjHGUfShXUxvEwGiFuJApjJ', created_at=1761292951, level='info', message='Evaluating model against our usage policies', object='fine_tuning.job.event', data={}, type='message'),\n",
              " FineTuningJobEvent(id='ftevent-n7f2roPVaMaMDL7MBOLVLfMq', created_at=1761292951, level='info', message='New fine-tuned model created', object='fine_tuning.job.event', data={}, type='message'),\n",
              " FineTuningJobEvent(id='ftevent-Hh5ZGNZMNpHqbXkMbzUfeBb8', created_at=1761292882, level='info', message='Step 500/500: training loss=1.11, validation loss=1.76, full validation loss=1.08', object='fine_tuning.job.event', data={'step': 500, 'train_loss': 1.114208459854126, 'valid_loss': 1.7625200748443604, 'total_steps': 500, 'full_valid_loss': 1.0795859336853026, 'train_mean_token_accuracy': 0.75, 'valid_mean_token_accuracy': 0.75, 'full_valid_mean_token_accuracy': 0.8075}, type='metrics'),\n",
              " FineTuningJobEvent(id='ftevent-OX2Y0b0F729drzTGg4SxAzaX', created_at=1761292858, level='info', message='Step 499/500: training loss=1.03', object='fine_tuning.job.event', data={'step': 499, 'train_loss': 1.027557134628296, 'total_steps': 500, 'train_mean_token_accuracy': 0.875}, type='metrics'),\n",
              " FineTuningJobEvent(id='ftevent-r3JjLu6628bAax2yfYzkJupP', created_at=1761292858, level='info', message='Step 498/500: training loss=0.85', object='fine_tuning.job.event', data={'step': 498, 'train_loss': 0.8524439334869385, 'total_steps': 500, 'train_mean_token_accuracy': 0.875}, type='metrics'),\n",
              " FineTuningJobEvent(id='ftevent-AqPm1EKQSwNu7usVf4WMQHW6', created_at=1761292858, level='info', message='Step 497/500: training loss=1.33', object='fine_tuning.job.event', data={'step': 497, 'train_loss': 1.3329765796661377, 'total_steps': 500, 'train_mean_token_accuracy': 0.75}, type='metrics'),\n",
              " FineTuningJobEvent(id='ftevent-jHGE0q2qSecAeqofj72gVAzj', created_at=1761292858, level='info', message='Step 496/500: training loss=1.07', object='fine_tuning.job.event', data={'step': 496, 'train_loss': 1.071045160293579, 'total_steps': 500, 'train_mean_token_accuracy': 0.875}, type='metrics')]"
            ]
          },
          "metadata": {},
          "execution_count": 237
        }
      ]
    },
    {
      "cell_type": "markdown",
      "source": [
        "### Inference"
      ],
      "metadata": {
        "id": "ZuGvgAwX6p5N"
      },
      "id": "ZuGvgAwX6p5N"
    },
    {
      "cell_type": "code",
      "source": [
        "fine_tuned_model_name = openai.fine_tuning.jobs.retrieve(job_id).fine_tuned_model"
      ],
      "metadata": {
        "id": "YiPB6tOx6je6"
      },
      "id": "YiPB6tOx6je6",
      "execution_count": 239,
      "outputs": []
    },
    {
      "cell_type": "code",
      "source": [
        "def gpt_41fine_tuned(item):\n",
        "    response = openai.chat.completions.create(\n",
        "        model=fine_tuned_model_name,\n",
        "        messages=messages_v2(item, with_price=False),\n",
        "        seed=42,\n",
        "        temperature=1.0,\n",
        "        max_tokens=7\n",
        "    )\n",
        "    reply = response.choices[0].message.content\n",
        "    return get_price(reply)"
      ],
      "metadata": {
        "id": "NQy00Zx065yT"
      },
      "id": "NQy00Zx065yT",
      "execution_count": 253,
      "outputs": []
    },
    {
      "cell_type": "code",
      "source": [
        "Tester.test(gpt_41fine_tuned, test)"
      ],
      "metadata": {
        "id": "bUVakvwgUa0Y",
        "outputId": "05911d40-4210-4242-92ea-d6a889c68b6a",
        "colab": {
          "base_uri": "https://localhost:8080/",
          "height": 1000
        }
      },
      "id": "bUVakvwgUa0Y",
      "execution_count": 254,
      "outputs": [
        {
          "output_type": "stream",
          "name": "stdout",
          "text": [
            "\u001b[91m1: Guess: $203.41 Truth: $374.41 Error: $171.00 SLE: 0.37 Item: OEM AC Compressor w/A/C Repair Kit For F...\u001b[0m\n",
            "\u001b[91m2: Guess: $96.40 Truth: $225.11 Error: $128.71 SLE: 0.71 Item: Motorcraft YB3125 Fan Clutch\u001b[0m\n",
            "\u001b[93m3: Guess: $109.24 Truth: $61.68 Error: $47.56 SLE: 0.32 Item: Dorman 603-159 Front Washer Fluid Reserv...\u001b[0m\n",
            "\u001b[91m4: Guess: $251.99 Truth: $599.99 Error: $348.00 SLE: 0.75 Item: HP Premium 17.3-inch HD Plus Touchscreen...\u001b[0m\n",
            "\u001b[92m5: Guess: $13.99 Truth: $16.99 Error: $3.00 SLE: 0.03 Item: 5-Position Super Switch Pickup Selector ...\u001b[0m\n",
            "\u001b[92m6: Guess: $0.00 Truth: $31.99 Error: $31.99 SLE: 12.22 Item: Horror Bookmarks, Resin Horror Bookmarks...\u001b[0m\n",
            "\u001b[93m7: Guess: $56.00 Truth: $101.79 Error: $45.79 SLE: 0.35 Item: SK6241 - Stinger 4 Gauge 6000 Series Pow...\u001b[0m\n",
            "\u001b[91m8: Guess: $0.00 Truth: $289.00 Error: $289.00 SLE: 32.15 Item: Godox ML60Bi LED Light Kit, Handheld LED...\u001b[0m\n",
            "\u001b[93m9: Guess: $486.56 Truth: $635.86 Error: $149.30 SLE: 0.07 Item: Randall RG75DG3PLUS G3 Plus 100-Watt Com...\u001b[0m\n",
            "\u001b[92m10: Guess: $49.99 Truth: $65.99 Error: $16.00 SLE: 0.07 Item: HOLDWILL 6 Pack LED Shop Light, 4FT 24W ...\u001b[0m\n",
            "\u001b[91m11: Guess: $0.00 Truth: $254.21 Error: $254.21 SLE: 30.71 Item: Viking Horns V103C/1005ATK 3 Gallon Air ...\u001b[0m\n",
            "\u001b[93m12: Guess: $255.95 Truth: $412.99 Error: $157.04 SLE: 0.23 Item: CURT 70110 Custom Tow Bar Base Plate Bra...\u001b[0m\n",
            "\u001b[91m13: Guess: $66.99 Truth: $205.50 Error: $138.51 SLE: 1.23 Item: 10-Pack Solar HAMMERED BRONZE Finish Pos...\u001b[0m\n",
            "\u001b[92m14: Guess: $251.99 Truth: $248.23 Error: $3.76 SLE: 0.00 Item: COSTWAY Electric Tumble Dryer, Sliver\u001b[0m\n",
            "\u001b[93m15: Guess: $251.24 Truth: $399.00 Error: $147.76 SLE: 0.21 Item: FREE SIGNAL TV Transit 32\" 12 Volt DC Po...\u001b[0m\n",
            "\u001b[93m16: Guess: $486.56 Truth: $373.94 Error: $112.62 SLE: 0.07 Item: Bilstein 5100 Monotube Gas Shock Set com...\u001b[0m\n",
            "\u001b[92m17: Guess: $109.99 Truth: $92.89 Error: $17.10 SLE: 0.03 Item: Sangean K-200 Multi-Function Upright AM/...\u001b[0m\n",
            "\u001b[92m18: Guess: $66.56 Truth: $51.99 Error: $14.57 SLE: 0.06 Item: Charles Leonard Magnetic Lapboard Class ...\u001b[0m\n",
            "\u001b[91m19: Guess: $0.00 Truth: $179.00 Error: $179.00 SLE: 26.97 Item: Gigabyte AMD Radeon HD 7870 2 GB GDDR5 D...\u001b[0m\n",
            "\u001b[92m20: Guess: $17.99 Truth: $19.42 Error: $1.43 SLE: 0.01 Item: 3dRose LLC 8 x 8 x 0.25 Inches Bull Terr...\u001b[0m\n",
            "\u001b[91m21: Guess: $257.99 Truth: $539.95 Error: $281.96 SLE: 0.54 Item: ROKINON 85mm F1.4 Auto Focus Full Frame ...\u001b[0m\n",
            "\u001b[92m22: Guess: $109.99 Truth: $147.67 Error: $37.68 SLE: 0.09 Item: AUTOSAVER88 Headlight Assembly Compatibl...\u001b[0m\n",
            "\u001b[93m23: Guess: $79.00 Truth: $24.99 Error: $54.01 SLE: 1.26 Item: ASI NAUTICAL 2.5 Inches Opera Glasses Bi...\u001b[0m\n",
            "\u001b[91m24: Guess: $33.56 Truth: $149.00 Error: $115.44 SLE: 2.15 Item: Behringer TUBE OVERDRIVE TO100 Authentic...\u001b[0m\n",
            "\u001b[92m25: Guess: $17.99 Truth: $16.99 Error: $1.00 SLE: 0.00 Item: Fun Express Insect Finger Puppets - 24 f...\u001b[0m\n",
            "\u001b[92m26: Guess: $8.99 Truth: $7.99 Error: $1.00 SLE: 0.01 Item: WAFJAMF Roller Stamp Identity Theft Stam...\u001b[0m\n",
            "\u001b[91m27: Guess: $0.00 Truth: $199.99 Error: $199.99 SLE: 28.12 Item: Capulina Tiffany Floor Lamp 2-Light 16\" ...\u001b[0m\n",
            "\u001b[91m28: Guess: $6.00 Truth: $251.45 Error: $245.45 SLE: 12.85 Item: Apple Watch Series 6 (GPS, 44mm) - Space...\u001b[0m\n",
            "\u001b[91m29: Guess: $0.00 Truth: $231.62 Error: $231.62 SLE: 29.70 Item: ICON 01725 Tandem Axle Fender Skirt FS17...\u001b[0m\n",
            "\u001b[91m30: Guess: $0.00 Truth: $135.00 Error: $135.00 SLE: 24.13 Item: SanDisk 128GB Ultra (10 Pack) MicroSD Cl...\u001b[0m\n",
            "\u001b[93m31: Guess: $251.24 Truth: $356.62 Error: $105.38 SLE: 0.12 Item: Velvac 2020,L,C/Hr,W,E2003,102\",Bk - 715...\u001b[0m\n",
            "\u001b[91m32: Guess: $105.99 Truth: $257.99 Error: $152.00 SLE: 0.78 Item: TCMT Passenger Backrest Sissy Bar & Lugg...\u001b[0m\n",
            "\u001b[92m33: Guess: $38.89 Truth: $27.99 Error: $10.90 SLE: 0.10 Item: Alnicov 63.5MM Brass Tremolo Block，Tremo...\u001b[0m\n",
            "\u001b[91m34: Guess: $79.95 Truth: $171.20 Error: $91.25 SLE: 0.57 Item: Subaru Forester Outback Legacy OEM Engin...\u001b[0m\n",
            "\u001b[92m35: Guess: $247.99 Truth: $225.00 Error: $22.99 SLE: 0.01 Item: Richmond Auto Upholstery - 2012 Dodge Ra...\u001b[0m\n",
            "\u001b[92m36: Guess: $105.99 Truth: $105.00 Error: $0.99 SLE: 0.00 Item: AP-39 Automotive Paint Primer Grey 2K Ur...\u001b[0m\n",
            "\u001b[92m37: Guess: $255.00 Truth: $299.99 Error: $44.99 SLE: 0.03 Item: Road Top Wireless Carplay Retrofit Kit D...\u001b[0m\n",
            "\u001b[92m38: Guess: $486.56 Truth: $535.09 Error: $48.53 SLE: 0.01 Item: Gibson Performance Exhaust 5658 Aluminiz...\u001b[0m\n",
            "\u001b[92m39: Guess: $16.99 Truth: $12.33 Error: $4.66 SLE: 0.09 Item: Bella Tunno Happy Links - Baby Montessor...\u001b[0m\n",
            "\u001b[92m40: Guess: $99.99 Truth: $84.99 Error: $15.00 SLE: 0.03 Item: CANMORE H300 Handheld GPS Golf Device, S...\u001b[0m\n",
            "\u001b[92m41: Guess: $0.00 Truth: $15.99 Error: $15.99 SLE: 8.02 Item: DCPOWER AC Adapter Compatible Replacemen...\u001b[0m\n",
            "\u001b[93m42: Guess: $0.00 Truth: $62.44 Error: $62.44 SLE: 17.22 Item: Sharp, VX2128V, Commercial Desktop Calcu...\u001b[0m\n",
            "\u001b[92m43: Guess: $66.99 Truth: $82.99 Error: $16.00 SLE: 0.04 Item: Melissa & Doug Lifelike Plush Stork Gian...\u001b[0m\n",
            "\u001b[91m44: Guess: $0.00 Truth: $599.95 Error: $599.95 SLE: 40.94 Item: Sony SSCS8 2-Way 3-Driver Center Channel...\u001b[0m\n",
            "\u001b[93m45: Guess: $152.99 Truth: $194.99 Error: $42.00 SLE: 0.06 Item: ASUS Chromebook CX1, 14\" Full HD NanoEdg...\u001b[0m\n",
            "\u001b[91m46: Guess: $0.00 Truth: $344.95 Error: $344.95 SLE: 34.18 Item: FiiO X7 32GB Hi-Res Lossless Music Playe...\u001b[0m\n",
            "\u001b[92m47: Guess: $0.00 Truth: $37.99 Error: $37.99 SLE: 13.42 Item: TORRO Leather Case Compatible with iPhon...\u001b[0m\n",
            "\u001b[92m48: Guess: $255.76 Truth: $224.35 Error: $31.41 SLE: 0.02 Item: Universal Air Conditioner KT 1031 A/C Co...\u001b[0m\n",
            "\u001b[91m49: Guess: $178.00 Truth: $814.00 Error: $636.00 SLE: 2.30 Item: Street Series Stainless Performance Cat-...\u001b[0m\n",
            "\u001b[93m50: Guess: $269.99 Truth: $439.88 Error: $169.89 SLE: 0.24 Item: Lenovo IdeaPad 3 14-inch Laptop, 14.0-in...\u001b[0m\n",
            "\u001b[93m51: Guess: $255.00 Truth: $341.43 Error: $86.43 SLE: 0.08 Item: Access Bed Covers TonnoSport 22050219 - ...\u001b[0m\n",
            "\u001b[93m52: Guess: $0.00 Truth: $46.78 Error: $46.78 SLE: 14.95 Item: G.I. JOE Hasbro 3 3/4\" Wave 5 Action Fig...\u001b[0m\n",
            "\u001b[91m53: Guess: $0.00 Truth: $171.44 Error: $171.44 SLE: 26.52 Item: T&S Brass B-0232-BST Double Pantry Fauce...\u001b[0m\n",
            "\u001b[92m54: Guess: $486.99 Truth: $458.00 Error: $28.99 SLE: 0.00 Item: ZTUOAUMA Fuel Injection Pump 3090942 309...\u001b[0m\n",
            "\u001b[93m55: Guess: $190.95 Truth: $130.75 Error: $60.20 SLE: 0.14 Item: 2AP18AA#ABA Hp Prime Graphing Calculator...\u001b[0m\n",
            "\u001b[92m56: Guess: $95.00 Truth: $83.81 Error: $11.19 SLE: 0.02 Item: Lowrance 000-0119-83 Nmea 2000 25' Exten...\u001b[0m\n",
            "\u001b[91m57: Guess: $79.95 Truth: $386.39 Error: $306.44 SLE: 2.45 Item: Jeep Genuine Accessories 82213051 Hood L...\u001b[0m\n",
            "\u001b[91m58: Guess: $0.00 Truth: $169.00 Error: $169.00 SLE: 26.38 Item: GODOX CB-06 Hard Carrying Case with Whee...\u001b[0m\n",
            "\u001b[92m59: Guess: $32.95 Truth: $17.95 Error: $15.00 SLE: 0.34 Item: Au-Tomotive Gold, INC. Ford Black Valet ...\u001b[0m\n",
            "\u001b[93m60: Guess: $203.99 Truth: $269.00 Error: $65.01 SLE: 0.08 Item: Snailfly Black Roof Rack Rail + Cross Ba...\u001b[0m\n",
            "\u001b[92m61: Guess: $56.99 Truth: $77.77 Error: $20.78 SLE: 0.09 Item: KING SHA Anti Glare LED Track Lighting H...\u001b[0m\n",
            "\u001b[92m62: Guess: $95.76 Truth: $88.99 Error: $6.77 SLE: 0.01 Item: APS Compatible with Chevy Silverado 1500...\u001b[0m\n",
            "\u001b[93m63: Guess: $255.00 Truth: $364.41 Error: $109.41 SLE: 0.13 Item: Wilwood Engineering 14011291R Brake Cali...\u001b[0m\n",
            "\u001b[91m64: Guess: $0.00 Truth: $127.03 Error: $127.03 SLE: 23.54 Item: ACDelco Gold 336-1925A Starter, Remanufa...\u001b[0m\n",
            "\u001b[91m65: Guess: $0.00 Truth: $778.95 Error: $778.95 SLE: 44.35 Item: UWS EC10783 69-Inch Matte Black Heavy-Wa...\u001b[0m\n",
            "\u001b[92m66: Guess: $203.99 Truth: $206.66 Error: $2.67 SLE: 0.00 Item: Dell Latitude E5440 14in Business Laptop...\u001b[0m\n",
            "\u001b[92m67: Guess: $0.00 Truth: $35.94 Error: $35.94 SLE: 13.03 Item: (Plug and Play) Spare Tire Brake Light W...\u001b[0m\n",
            "\u001b[93m68: Guess: $99.99 Truth: $149.00 Error: $49.01 SLE: 0.16 Item: The Ultimate Roadside Rescue Assistant\u001b[0m\n",
            "\u001b[91m69: Guess: $0.00 Truth: $251.98 Error: $251.98 SLE: 30.62 Item: Brand New 18\" x 8.5\" Replacement Wheel f...\u001b[0m\n",
            "\u001b[92m70: Guess: $152.99 Truth: $160.00 Error: $7.01 SLE: 0.00 Item: Headlight Headlamp LH Left & RH Right Pa...\u001b[0m\n",
            "\u001b[92m71: Guess: $56.99 Truth: $39.99 Error: $17.00 SLE: 0.12 Item: Lilo And Stitch Deluxe Oversize Print La...\u001b[0m\n",
            "\u001b[91m72: Guess: $190.41 Truth: $362.41 Error: $172.00 SLE: 0.41 Item: AC Compressor & A/C Clutch For Hyundai A...\u001b[0m\n",
            "\u001b[92m73: Guess: $318.40 Truth: $344.00 Error: $25.60 SLE: 0.01 Item: House Of Troy PIN475-AB Pinnacle Collect...\u001b[0m\n",
            "\u001b[92m74: Guess: $32.19 Truth: $25.09 Error: $7.10 SLE: 0.06 Item: Juno T29 WH Floating Electrical Feed Sin...\u001b[0m\n",
            "\u001b[91m75: Guess: $0.00 Truth: $175.95 Error: $175.95 SLE: 26.79 Item: Sherman GO-PARTS - for 2013-2016 Toyota ...\u001b[0m\n",
            "\u001b[92m76: Guess: $149.00 Truth: $132.64 Error: $16.36 SLE: 0.01 Item: Roland RPU-3 Electronic Keyboard Pedal o...\u001b[0m\n",
            "\u001b[91m77: Guess: $251.24 Truth: $422.99 Error: $171.75 SLE: 0.27 Item: Rockland VMI14 12,000 Pound 12 Volt DC E...\u001b[0m\n",
            "\u001b[91m78: Guess: $255.13 Truth: $146.48 Error: $108.65 SLE: 0.30 Item: Max Advanced Brakes Elite XDS Front Cros...\u001b[0m\n",
            "\u001b[93m79: Guess: $79.95 Truth: $156.83 Error: $76.88 SLE: 0.45 Item: Quality-Built 11030 Premium Quality Alte...\u001b[0m\n",
            "\u001b[91m80: Guess: $79.00 Truth: $251.99 Error: $172.99 SLE: 1.33 Item: Lucida LG-510 Student Classical Guitar, ...\u001b[0m\n",
            "\u001b[91m81: Guess: $251.99 Truth: $940.33 Error: $688.34 SLE: 1.73 Item: Longacre 52-79800 Aluminum Turn Plates\u001b[0m\n",
            "\u001b[92m82: Guess: $33.99 Truth: $52.99 Error: $19.00 SLE: 0.19 Item: Motion Pro 08-0380 Adjustable Torque Wre...\u001b[0m\n",
            "\u001b[93m83: Guess: $269.99 Truth: $219.95 Error: $50.04 SLE: 0.04 Item: Glyph Thunderbolt 3 NVMe Dock (0 GB)\u001b[0m\n",
            "\u001b[92m84: Guess: $380.24 Truth: $441.03 Error: $60.79 SLE: 0.02 Item: TOYO Open Country MT Performance Radial ...\u001b[0m\n",
            "\u001b[92m85: Guess: $152.99 Truth: $168.98 Error: $15.99 SLE: 0.01 Item: Razer Seiren X USB Streaming Microphone ...\u001b[0m\n",
            "\u001b[92m86: Guess: $8.97 Truth: $2.49 Error: $6.48 SLE: 1.10 Item: Happy Birthday to Dad From Your Daughter...\u001b[0m\n",
            "\u001b[91m87: Guess: $0.00 Truth: $98.62 Error: $98.62 SLE: 21.17 Item: Little Tikes My Real Jam First Concert S...\u001b[0m\n",
            "\u001b[93m88: Guess: $194.99 Truth: $256.95 Error: $61.96 SLE: 0.08 Item: Studio M Peace and Harmony Art Pole Comm...\u001b[0m\n",
            "\u001b[92m89: Guess: $0.00 Truth: $30.99 Error: $30.99 SLE: 12.01 Item: MyVolts 12V Power Supply Adaptor Compati...\u001b[0m\n",
            "\u001b[92m90: Guess: $486.56 Truth: $569.84 Error: $83.28 SLE: 0.02 Item: Dell Latitude 7212 Rugged Extreme Tablet...\u001b[0m\n",
            "\u001b[91m91: Guess: $0.00 Truth: $177.99 Error: $177.99 SLE: 26.91 Item: Covermates Contour Fit Car Cover - Light...\u001b[0m\n",
            "\u001b[91m92: Guess: $0.00 Truth: $997.99 Error: $997.99 SLE: 47.70 Item: Westin 57-4025 Black HDX Grille Guard fi...\u001b[0m\n",
            "\u001b[92m93: Guess: $251.60 Truth: $219.00 Error: $32.60 SLE: 0.02 Item: Fieldpiece JL2 Job Link Wireless App Tra...\u001b[0m\n",
            "\u001b[91m94: Guess: $0.00 Truth: $225.55 Error: $225.55 SLE: 29.41 Item: hansgrohe Talis S Modern Premium Easy Cl...\u001b[0m\n",
            "\u001b[91m95: Guess: $1,399.00 Truth: $495.95 Error: $903.05 SLE: 1.07 Item: G-Technology G-SPEED eS PRO High-Perform...\u001b[0m\n",
            "\u001b[91m96: Guess: $0.00 Truth: $942.37 Error: $942.37 SLE: 46.92 Item: DreamLine SHDR-1960723L-01 Shower Door, ...\u001b[0m\n",
            "\u001b[92m97: Guess: $12.26 Truth: $1.94 Error: $10.32 SLE: 2.27 Item: Sanctuary Square Backplate Finish: Oiled...\u001b[0m\n",
            "\u001b[91m98: Guess: $0.00 Truth: $284.34 Error: $284.34 SLE: 31.96 Item: Pelican Protector 1750 Long Case - Multi...\u001b[0m\n",
            "\u001b[91m99: Guess: $0.00 Truth: $171.90 Error: $171.90 SLE: 26.55 Item: Brock Replacement Driver and Passenger H...\u001b[0m\n",
            "\u001b[93m100: Guess: $79.00 Truth: $144.99 Error: $65.99 SLE: 0.36 Item: Carlinkit Ai Box Mini, Android 11, Multi...\u001b[0m\n",
            "\u001b[92m101: Guess: $379.00 Truth: $470.47 Error: $91.47 SLE: 0.05 Item: StarDot NetCamLIVE2 YouTube Live Stream ...\u001b[0m\n",
            "\u001b[92m102: Guess: $79.99 Truth: $66.95 Error: $13.04 SLE: 0.03 Item: Atomic Compatible FILXXCAR0016 16x25x5 M...\u001b[0m\n",
            "\u001b[92m103: Guess: $79.99 Truth: $117.00 Error: $37.01 SLE: 0.14 Item: Bandai Awakening of S. H. s.h.figuarts s...\u001b[0m\n",
            "\u001b[91m104: Guess: $289.56 Truth: $172.14 Error: $117.42 SLE: 0.27 Item: Fit System 62135G Passenger Side Towing ...\u001b[0m\n",
            "\u001b[93m105: Guess: $255.00 Truth: $392.74 Error: $137.74 SLE: 0.19 Item: Black Horse Black Aluminum Exceed Runnin...\u001b[0m\n",
            "\u001b[92m106: Guess: $0.00 Truth: $16.99 Error: $16.99 SLE: 8.35 Item: Dearsun Twinkle Star Color Night Light P...\u001b[0m\n",
            "\u001b[92m107: Guess: $0.00 Truth: $1.34 Error: $1.34 SLE: 0.72 Item: Pokemon - Gallade Spirit Link (83/108) -...\u001b[0m\n",
            "\u001b[92m108: Guess: $299.99 Truth: $349.98 Error: $49.99 SLE: 0.02 Item: Ibanez GA34STCE-NT GIO Series Classical ...\u001b[0m\n",
            "\u001b[93m109: Guess: $486.56 Truth: $370.71 Error: $115.85 SLE: 0.07 Item: Set 2 Heavy Duty 12-16.5 12x16.5 12 Ply ...\u001b[0m\n",
            "\u001b[93m110: Guess: $0.00 Truth: $65.88 Error: $65.88 SLE: 17.66 Item: Hairpin Table Legs 28\" Heavy Duty Hairpi...\u001b[0m\n",
            "\u001b[92m111: Guess: $255.00 Truth: $229.99 Error: $25.01 SLE: 0.01 Item: Marada Racing Seat with Adjustable Slide...\u001b[0m\n",
            "\u001b[92m112: Guess: $8.25 Truth: $9.14 Error: $0.89 SLE: 0.01 Item: Remington Industries 24UL1007STRWHI25 24...\u001b[0m\n",
            "\u001b[91m113: Guess: $0.00 Truth: $199.00 Error: $199.00 SLE: 28.07 Item: Acer S3-391-6046 13.3-inch Ultrabook, In...\u001b[0m\n",
            "\u001b[92m114: Guess: $99.95 Truth: $109.99 Error: $10.04 SLE: 0.01 Item: ICBEAMER 7\" RGB LED Headlights Bulb Halo...\u001b[0m\n",
            "\u001b[91m115: Guess: $251.24 Truth: $570.42 Error: $319.18 SLE: 0.67 Item: R1 Concepts Front Rear Brakes and Rotors...\u001b[0m\n",
            "\u001b[91m116: Guess: $0.00 Truth: $279.99 Error: $279.99 SLE: 31.79 Item: Camplux 2.64 GPM Tankless , Outdoor Port...\u001b[0m\n",
            "\u001b[92m117: Guess: $31.99 Truth: $30.99 Error: $1.00 SLE: 0.00 Item: KNOKLOCK 10 Pack 3.75 Inch(96mm) Kitchen...\u001b[0m\n",
            "\u001b[92m118: Guess: $56.99 Truth: $31.99 Error: $25.00 SLE: 0.32 Item: Valley Enterprises Yaesu USB FTDI CT-62 ...\u001b[0m\n",
            "\u001b[92m119: Guess: $31.98 Truth: $15.90 Error: $16.08 SLE: 0.45 Item: G9 LED Light Bulbs，8W，75W 100W replaceme...\u001b[0m\n",
            "\u001b[92m120: Guess: $79.99 Truth: $45.99 Error: $34.00 SLE: 0.30 Item: ZCHAOZ 4 Lights Antique White Farmhouse ...\u001b[0m\n",
            "\u001b[91m121: Guess: $0.00 Truth: $113.52 Error: $113.52 SLE: 22.47 Item: Honeywell TH8320R1003 Honeywell VisionPr...\u001b[0m\n",
            "\u001b[92m122: Guess: $486.99 Truth: $516.99 Error: $30.00 SLE: 0.00 Item: Patriot Exhaust H8013-1 1-7/8\" Clippster...\u001b[0m\n",
            "\u001b[91m123: Guess: $109.24 Truth: $196.99 Error: $87.75 SLE: 0.34 Item: Fitrite Autopart New Front Left Driver S...\u001b[0m\n",
            "\u001b[93m124: Guess: $0.00 Truth: $46.55 Error: $46.55 SLE: 14.91 Item: Technical Precision Replacement for GE G...\u001b[0m\n",
            "\u001b[93m125: Guess: $257.99 Truth: $356.99 Error: $99.00 SLE: 0.10 Item: Covercraft Carhartt SeatSaver Front Row ...\u001b[0m\n",
            "\u001b[92m126: Guess: $269.99 Truth: $319.95 Error: $49.96 SLE: 0.03 Item: Sennheiser SD Pro 2 (506008) - Double-Si...\u001b[0m\n",
            "\u001b[92m127: Guess: $79.13 Truth: $96.06 Error: $16.93 SLE: 0.04 Item: Hitachi MAF0110 Mass Air Flow Sensor\u001b[0m\n",
            "\u001b[91m128: Guess: $0.00 Truth: $190.99 Error: $190.99 SLE: 27.64 Item: AmScope SE305R-P-LED-PS36A 10X-30X LED C...\u001b[0m\n",
            "\u001b[91m129: Guess: $105.95 Truth: $257.95 Error: $152.00 SLE: 0.78 Item: Front Left Driver Side Window Regulator ...\u001b[0m\n",
            "\u001b[93m130: Guess: $105.99 Truth: $62.95 Error: $43.04 SLE: 0.26 Item: Premium Replica Hubcap Set, Fits Nissan ...\u001b[0m\n",
            "\u001b[92m131: Guess: $33.99 Truth: $47.66 Error: $13.67 SLE: 0.11 Item: Excellerations Phonics Spelling Game for...\u001b[0m\n",
            "\u001b[92m132: Guess: $255.00 Truth: $226.99 Error: $28.01 SLE: 0.01 Item: RC4WD BigDog Dual Axle Scale Car/Truck T...\u001b[0m\n",
            "\u001b[91m133: Guess: $0.00 Truth: $359.95 Error: $359.95 SLE: 34.68 Item: Unknown Stage 2 Clutch Kit - Low Altitud...\u001b[0m\n",
            "\u001b[92m134: Guess: $66.56 Truth: $78.40 Error: $11.84 SLE: 0.03 Item: 2002-2008 Dodge Ram 1500 Mopar 4X4 Emble...\u001b[0m\n",
            "\u001b[93m135: Guess: $251.99 Truth: $172.77 Error: $79.22 SLE: 0.14 Item: Pro Comp Alloys Series 89 Wheel with Pol...\u001b[0m\n",
            "\u001b[93m136: Guess: $203.56 Truth: $316.45 Error: $112.89 SLE: 0.19 Item: Detroit Axle - Front Rear Strut & Coil S...\u001b[0m\n",
            "\u001b[91m137: Guess: $0.00 Truth: $87.99 Error: $87.99 SLE: 20.15 Item: ECCPP Rear Wheel Axle Replacement fit fo...\u001b[0m\n",
            "\u001b[92m138: Guess: $203.99 Truth: $226.63 Error: $22.64 SLE: 0.01 Item: Dell Latitude E6520 Intel i7-2720QM 2.20...\u001b[0m\n",
            "\u001b[92m139: Guess: $31.39 Truth: $31.49 Error: $0.10 SLE: 0.00 Item: F FIERCE CYCLE 251pcs Black Universal Mo...\u001b[0m\n",
            "\u001b[92m140: Guess: $203.00 Truth: $196.00 Error: $7.00 SLE: 0.00 Item: Flash Furniture 4 Pk. HERCULES Series 88...\u001b[0m\n",
            "\u001b[92m141: Guess: $79.95 Truth: $78.40 Error: $1.55 SLE: 0.00 Item: B&M 30287 Throttle Valve/Kickdown Cable,...\u001b[0m\n",
            "\u001b[91m142: Guess: $0.00 Truth: $116.25 Error: $116.25 SLE: 22.70 Item: Gates TCK226 PowerGrip Premium Timing Be...\u001b[0m\n",
            "\u001b[92m143: Guess: $79.00 Truth: $112.78 Error: $33.78 SLE: 0.12 Item: Monroe Shocks & Struts Quick-Strut 17149...\u001b[0m\n",
            "\u001b[92m144: Guess: $42.99 Truth: $27.32 Error: $15.67 SLE: 0.19 Item: Feit Electric BPMR16/GU10/930CA/6 35W EQ...\u001b[0m\n",
            "\u001b[92m145: Guess: $107.99 Truth: $145.91 Error: $37.92 SLE: 0.09 Item: Yellow Jacket 2806 Contractor Extension ...\u001b[0m\n",
            "\u001b[91m146: Guess: $406.76 Truth: $171.09 Error: $235.67 SLE: 0.74 Item: Garage-Pro Tailgate SET Compatible with ...\u001b[0m\n",
            "\u001b[91m147: Guess: $0.00 Truth: $167.95 Error: $167.95 SLE: 26.31 Item: 3M Perfect It Buffing and Polishing Kit ...\u001b[0m\n",
            "\u001b[92m148: Guess: $0.00 Truth: $28.49 Error: $28.49 SLE: 11.45 Item: Chinese Style Dollhouse Model DIY Miniat...\u001b[0m\n",
            "\u001b[93m149: Guess: $79.00 Truth: $122.23 Error: $43.23 SLE: 0.19 Item: Generic NRG Innovations SRK-161H Steerin...\u001b[0m\n",
            "\u001b[92m150: Guess: $33.99 Truth: $32.99 Error: $1.00 SLE: 0.00 Item: Learning Resources Coding Critters Range...\u001b[0m\n",
            "\u001b[92m151: Guess: $64.24 Truth: $71.20 Error: $6.96 SLE: 0.01 Item: Bosch Automotive 15463 Oxygen Sensor, OE...\u001b[0m\n",
            "\u001b[92m152: Guess: $79.99 Truth: $112.75 Error: $32.76 SLE: 0.12 Item: Case of 24-2 Inch Blue Painters Tape - 6...\u001b[0m\n",
            "\u001b[91m153: Guess: $56.70 Truth: $142.43 Error: $85.73 SLE: 0.83 Item: MOCA Engine Water Pump & Fan Clutch fit ...\u001b[0m\n",
            "\u001b[93m154: Guess: $243.00 Truth: $398.99 Error: $155.99 SLE: 0.24 Item: SAREMAS Foot Step Bars for Hyundai Palis...\u001b[0m\n",
            "\u001b[92m155: Guess: $499.00 Truth: $449.00 Error: $50.00 SLE: 0.01 Item: Gretsch G9210 Square Neck Boxcar Mahogan...\u001b[0m\n",
            "\u001b[92m156: Guess: $159.99 Truth: $189.00 Error: $29.01 SLE: 0.03 Item: NikoMaku Mirror Dash Cam Front and Rear ...\u001b[0m\n",
            "\u001b[92m157: Guess: $159.95 Truth: $120.91 Error: $39.04 SLE: 0.08 Item: Fenix HP25R v2.0 USB-C Rechargeable Head...\u001b[0m\n",
            "\u001b[93m158: Guess: $156.56 Truth: $203.53 Error: $46.97 SLE: 0.07 Item: R&L Racing Heavy Duty Roll-Up Soft Tonne...\u001b[0m\n",
            "\u001b[92m159: Guess: $312.56 Truth: $349.99 Error: $37.43 SLE: 0.01 Item: Garmin 010-02258-10 GPSMAP 64sx, Handhel...\u001b[0m\n",
            "\u001b[92m160: Guess: $12.99 Truth: $34.35 Error: $21.36 SLE: 0.86 Item: Brown 5-7/8\" X 8-1/2\" X 3/16\" Thick Heav...\u001b[0m\n",
            "\u001b[93m161: Guess: $251.99 Truth: $384.99 Error: $133.00 SLE: 0.18 Item: GAOMON PD2200 Pen Display & 20 Pen Nibs ...\u001b[0m\n",
            "\u001b[91m162: Guess: $105.56 Truth: $211.00 Error: $105.44 SLE: 0.47 Item: VXMOTOR for 97-03 Ford F150/F250 Lightdu...\u001b[0m\n",
            "\u001b[91m163: Guess: $0.00 Truth: $129.00 Error: $129.00 SLE: 23.69 Item: HP EliteBook 2540p Intel Core i7-640LM X...\u001b[0m\n",
            "\u001b[93m164: Guess: $56.00 Truth: $111.45 Error: $55.45 SLE: 0.46 Item: Green EPX Mixing Nozzles 100-Pack-fits 3...\u001b[0m\n",
            "\u001b[93m165: Guess: $39.24 Truth: $81.12 Error: $41.88 SLE: 0.51 Item: Box Partners 6 1/4 x 3 1/8\" 13 Pt. Manil...\u001b[0m\n",
            "\u001b[91m166: Guess: $203.56 Truth: $457.08 Error: $253.52 SLE: 0.65 Item: Vixen Air 1/2\" NPT Air Ride Suspension H...\u001b[0m\n",
            "\u001b[93m167: Guess: $0.00 Truth: $49.49 Error: $49.49 SLE: 15.38 Item: Smart Floor Lamp, 2700-6500K+RGBPink Mul...\u001b[0m\n",
            "\u001b[92m168: Guess: $105.56 Truth: $80.56 Error: $25.00 SLE: 0.07 Item: SOZG 324mm Wheelbase Body Shell RC Car B...\u001b[0m\n",
            "\u001b[92m169: Guess: $255.99 Truth: $278.39 Error: $22.40 SLE: 0.01 Item: Mickey Thompson ET Street S/S Racing Rad...\u001b[0m\n",
            "\u001b[93m170: Guess: $251.24 Truth: $364.50 Error: $113.26 SLE: 0.14 Item: Pirelli 275/40R20 106W XL RFT P0 PZ4-LUX...\u001b[0m\n",
            "\u001b[92m171: Guess: $350.99 Truth: $378.99 Error: $28.00 SLE: 0.01 Item: Torklift C3212 Rear Tie Down\u001b[0m\n",
            "\u001b[92m172: Guess: $203.56 Truth: $165.28 Error: $38.28 SLE: 0.04 Item: Cardone 78-4226 Remanufactured Ford Comp...\u001b[0m\n",
            "\u001b[92m173: Guess: $59.98 Truth: $56.74 Error: $3.24 SLE: 0.00 Item: Kidde AccessPoint 001798 Supra TouchPoin...\u001b[0m\n",
            "\u001b[93m174: Guess: $190.99 Truth: $307.95 Error: $116.96 SLE: 0.23 Item: 3M Protecta 3100414 Self Retracting Life...\u001b[0m\n",
            "\u001b[92m175: Guess: $0.00 Truth: $38.00 Error: $38.00 SLE: 13.42 Item: Plantronics 89435-01 Wired Headset, Blac...\u001b[0m\n",
            "\u001b[93m176: Guess: $0.00 Truth: $53.00 Error: $53.00 SLE: 15.91 Item: Logitech K750 Wireless Solar Keyboard fo...\u001b[0m\n",
            "\u001b[91m177: Guess: $0.00 Truth: $498.00 Error: $498.00 SLE: 38.60 Item: Olympus PEN E-PL9 Body Only with 3-Inch ...\u001b[0m\n",
            "\u001b[93m178: Guess: $107.99 Truth: $53.99 Error: $54.00 SLE: 0.47 Item: Beck/Arnley 051-6066 Hub & Bearing Assem...\u001b[0m\n",
            "\u001b[92m179: Guess: $289.00 Truth: $350.00 Error: $61.00 SLE: 0.04 Item: Eibach Pro-Kit Performance Springs E10-6...\u001b[0m\n",
            "\u001b[91m180: Guess: $0.00 Truth: $299.95 Error: $299.95 SLE: 32.57 Item: LEGO DC Batman 1989 Batwing 76161 Displa...\u001b[0m\n",
            "\u001b[91m181: Guess: $190.99 Truth: $94.93 Error: $96.06 SLE: 0.48 Item: Kingston Brass KS3608PL Restoration 4-In...\u001b[0m\n",
            "\u001b[93m182: Guess: $251.24 Truth: $379.00 Error: $127.76 SLE: 0.17 Item: Polk Vanishing Series 265-LS In-Wall 3-W...\u001b[0m\n",
            "\u001b[93m183: Guess: $212.00 Truth: $299.95 Error: $87.95 SLE: 0.12 Item: Spec-D Tuning LED Projector Headlights G...\u001b[0m\n",
            "\u001b[92m184: Guess: $13.56 Truth: $24.99 Error: $11.43 SLE: 0.34 Item: RICHMOND & FINCH Airpod Pro Case, Green ...\u001b[0m\n",
            "\u001b[92m185: Guess: $66.56 Truth: $41.04 Error: $25.52 SLE: 0.23 Item: LFA Industries 43B-5A-33JT 1/16-1/2-1.5-...\u001b[0m\n",
            "\u001b[91m186: Guess: $79.99 Truth: $327.90 Error: $247.91 SLE: 1.96 Item: SAUTVS LED Headlight Assembly for Slings...\u001b[0m\n",
            "\u001b[92m187: Guess: $26.99 Truth: $10.99 Error: $16.00 SLE: 0.72 Item: 2 Pack Combo Womens Safety Glasses Impac...\u001b[0m\n",
            "\u001b[92m188: Guess: $23.98 Truth: $14.99 Error: $8.99 SLE: 0.20 Item: Arepa - Venezuelan cuisine - Venezuela P...\u001b[0m\n",
            "\u001b[92m189: Guess: $56.70 Truth: $84.95 Error: $28.25 SLE: 0.16 Item: Schlage Lock Company KS23D2300 Padlock, ...\u001b[0m\n",
            "\u001b[93m190: Guess: $152.99 Truth: $111.00 Error: $41.99 SLE: 0.10 Item: Techni Mobili White Sit to Stand Mobile ...\u001b[0m\n",
            "\u001b[91m191: Guess: $0.00 Truth: $123.73 Error: $123.73 SLE: 23.29 Item: Special Lite Products Contemporary Wall ...\u001b[0m\n",
            "\u001b[93m192: Guess: $379.98 Truth: $557.38 Error: $177.40 SLE: 0.15 Item: Tascam DP-24SD 24-Track Digital Portastu...\u001b[0m\n",
            "\u001b[91m193: Guess: $203.56 Truth: $95.55 Error: $108.01 SLE: 0.56 Item: Glow Lighting 636CC10SP Vista Crystal Fl...\u001b[0m\n",
            "\u001b[93m194: Guess: $79.95 Truth: $154.00 Error: $74.05 SLE: 0.42 Item: Z3 Wind Deflector, Smoke Tint, Lexan, Wi...\u001b[0m\n",
            "\u001b[91m195: Guess: $79.00 Truth: $198.99 Error: $119.99 SLE: 0.84 Item: Olympus E-20 5MP Digital Camera w/ 4x Op...\u001b[0m\n",
            "\u001b[91m196: Guess: $184.99 Truth: $430.44 Error: $245.45 SLE: 0.71 Item: PHYNEDI 1:1000 World Trade Center (1973-...\u001b[0m\n",
            "\u001b[92m197: Guess: $8.00 Truth: $45.67 Error: $37.67 SLE: 2.71 Item: YANGHUAN Unstable Unicorns Adventure Car...\u001b[0m\n",
            "\u001b[91m198: Guess: $0.00 Truth: $249.00 Error: $249.00 SLE: 30.49 Item: Interlogix NX-1820E NetworX Touch Screen...\u001b[0m\n",
            "\u001b[92m199: Guess: $79.13 Truth: $42.99 Error: $36.14 SLE: 0.36 Item: Steering Damper,Universal Motorcycle Han...\u001b[0m\n",
            "\u001b[92m200: Guess: $203.56 Truth: $181.33 Error: $22.23 SLE: 0.01 Item: Amprobe TIC 410A Hot Stick Attachment\u001b[0m\n",
            "\u001b[92m201: Guess: $6.56 Truth: $6.03 Error: $0.53 SLE: 0.01 Item: MyCableMart 3.5mm Plug/Jack, 4 Conductor...\u001b[0m\n",
            "\u001b[92m202: Guess: $49.95 Truth: $29.99 Error: $19.96 SLE: 0.25 Item: OtterBox + Pop Symmetry Series Case for ...\u001b[0m\n",
            "\u001b[91m203: Guess: $251.24 Truth: $899.00 Error: $647.76 SLE: 1.62 Item: Dell XPS X8700-1572BLK Desktop ( Intel C...\u001b[0m\n",
            "\u001b[91m204: Guess: $0.00 Truth: $399.99 Error: $399.99 SLE: 35.93 Item: Franklin Iron Works Sperry Industrial Br...\u001b[0m\n",
            "\u001b[92m205: Guess: $0.00 Truth: $4.66 Error: $4.66 SLE: 3.00 Item: Avery Legal Dividers, Standard Collated ...\u001b[0m\n",
            "\u001b[91m206: Guess: $0.00 Truth: $261.41 Error: $261.41 SLE: 31.02 Item: Moen 8346 Commercial Posi-Temp Pressure ...\u001b[0m\n",
            "\u001b[91m207: Guess: $0.00 Truth: $136.97 Error: $136.97 SLE: 24.28 Item: Carlisle Versa Trail ATR All Terrain Rad...\u001b[0m\n",
            "\u001b[93m208: Guess: $0.00 Truth: $79.00 Error: $79.00 SLE: 19.20 Item: SUNWAYFOTO 44mm Tripod Ball Head Arca Co...\u001b[0m\n",
            "\u001b[92m209: Guess: $486.56 Truth: $444.99 Error: $41.57 SLE: 0.01 Item: NanoBeam AC NBE-5AC-Gen2-US 4 Units 5GHz...\u001b[0m\n",
            "\u001b[91m210: Guess: $0.00 Truth: $411.94 Error: $411.94 SLE: 36.28 Item: WULF 4\" Front 2\" Rear Leveling Lift Kit ...\u001b[0m\n",
            "\u001b[93m211: Guess: $190.95 Truth: $148.40 Error: $42.55 SLE: 0.06 Item: Alera ALEVABFMC Valencia Series Mobile B...\u001b[0m\n",
            "\u001b[91m212: Guess: $79.99 Truth: $244.99 Error: $165.00 SLE: 1.23 Item: YU-GI-OH! Ignition Assault Booster Box\u001b[0m\n",
            "\u001b[91m213: Guess: $203.56 Truth: $86.50 Error: $117.06 SLE: 0.72 Item: 48\" x 36\" Extra-Large Framed Magnetic Bl...\u001b[0m\n",
            "\u001b[91m214: Guess: $0.00 Truth: $297.95 Error: $297.95 SLE: 32.49 Item: Dell Latitude D620 Renewed Notebook PC\u001b[0m\n",
            "\u001b[93m215: Guess: $486.56 Truth: $399.99 Error: $86.57 SLE: 0.04 Item: acer Aspire 5 Laptop, AMD Ryzen 3 5300U ...\u001b[0m\n",
            "\u001b[91m216: Guess: $203.56 Truth: $599.00 Error: $395.44 SLE: 1.16 Item: Elk 31080/6RC-GRN 30 by 6-Inch Viva 6-Li...\u001b[0m\n",
            "\u001b[91m217: Guess: $0.00 Truth: $105.99 Error: $105.99 SLE: 21.83 Item: Barbie Top Model Doll\u001b[0m\n",
            "\u001b[92m218: Guess: $802.00 Truth: $689.00 Error: $113.00 SLE: 0.02 Item: Danby Designer 20-In. Electric Range wit...\u001b[0m\n",
            "\u001b[91m219: Guess: $0.00 Truth: $404.99 Error: $404.99 SLE: 36.08 Item: FixtureDisplays® Metal Truss Podium Doub...\u001b[0m\n",
            "\u001b[91m220: Guess: $0.00 Truth: $207.76 Error: $207.76 SLE: 28.53 Item: ACDelco 13597235 GM Original Equipment A...\u001b[0m\n",
            "\u001b[92m221: Guess: $190.95 Truth: $171.82 Error: $19.13 SLE: 0.01 Item: EBC S1KF1135 Stage-1 Premium Street Brak...\u001b[0m\n",
            "\u001b[92m222: Guess: $251.99 Truth: $293.24 Error: $41.25 SLE: 0.02 Item: FXR Men's Boost FX Jacket (Black/Orange/...\u001b[0m\n",
            "\u001b[93m223: Guess: $251.96 Truth: $374.95 Error: $122.99 SLE: 0.16 Item: SuperATV Scratch Resistant 3-in-1 Flip W...\u001b[0m\n",
            "\u001b[92m224: Guess: $79.95 Truth: $111.99 Error: $32.04 SLE: 0.11 Item: SBU 3 Layer All Weather Mini Van Car Cov...\u001b[0m\n",
            "\u001b[93m225: Guess: $0.00 Truth: $42.99 Error: $42.99 SLE: 14.32 Item: 2 Pack Outdoor Brochure Holder Advertisi...\u001b[0m\n",
            "\u001b[92m226: Guess: $79.00 Truth: $116.71 Error: $37.71 SLE: 0.15 Item: Monroe Shocks & Struts Quick-Strut 17158...\u001b[0m\n",
            "\u001b[91m227: Guess: $0.00 Truth: $118.61 Error: $118.61 SLE: 22.89 Item: Elements of Design Magellan EB235AL Thre...\u001b[0m\n",
            "\u001b[91m228: Guess: $0.00 Truth: $147.12 Error: $147.12 SLE: 24.98 Item: GM Genuine Parts 15-62961 Air Conditioni...\u001b[0m\n",
            "\u001b[93m229: Guess: $79.99 Truth: $119.99 Error: $40.00 SLE: 0.16 Item: Baseus 17-in-1 USB C Docking Station to ...\u001b[0m\n",
            "\u001b[91m230: Guess: $0.00 Truth: $369.98 Error: $369.98 SLE: 35.00 Item: Whitehall™ Personalized Whitehall Capito...\u001b[0m\n",
            "\u001b[92m231: Guess: $255.00 Truth: $315.55 Error: $60.55 SLE: 0.05 Item: Pro Circuit Works Pipe PY05250 for 02-19...\u001b[0m\n",
            "\u001b[91m232: Guess: $109.99 Truth: $190.99 Error: $81.00 SLE: 0.30 Item: HYANKA 15 \"1200W Professional DJ Speaker...\u001b[0m\n",
            "\u001b[91m233: Guess: $0.00 Truth: $155.00 Error: $155.00 SLE: 25.50 Item: Bluetooth X6BT Card Reader Writer Encode...\u001b[0m\n",
            "\u001b[91m234: Guess: $203.99 Truth: $349.99 Error: $146.00 SLE: 0.29 Item: AIRAID Cold Air Intake System by K&N: In...\u001b[0m\n",
            "\u001b[91m235: Guess: $0.00 Truth: $249.99 Error: $249.99 SLE: 30.53 Item: Bostingner Shower Faucets Sets Complete,...\u001b[0m\n",
            "\u001b[92m236: Guess: $79.99 Truth: $42.99 Error: $37.00 SLE: 0.37 Item: PIT66 Front Bumper Turn Signal Lights, C...\u001b[0m\n",
            "\u001b[92m237: Guess: $0.00 Truth: $17.99 Error: $17.99 SLE: 8.67 Item: Caseology Bumpy Compatible with Google P...\u001b[0m\n",
            "\u001b[91m238: Guess: $251.60 Truth: $425.00 Error: $173.40 SLE: 0.27 Item: Fleck 2510 Timer Mechanical Filter Contr...\u001b[0m\n",
            "\u001b[91m239: Guess: $0.00 Truth: $249.99 Error: $249.99 SLE: 30.53 Item: Haloview MC7108 Wireless RV Backup Camer...\u001b[0m\n",
            "\u001b[93m240: Guess: $66.56 Truth: $138.23 Error: $71.67 SLE: 0.52 Item: Schmidt Spiele - Manhattan\u001b[0m\n",
            "\u001b[93m241: Guess: $255.99 Truth: $414.99 Error: $159.00 SLE: 0.23 Item: Corsa 14333 Tip Kit (Ford Mustang GT)\u001b[0m\n",
            "\u001b[91m242: Guess: $0.00 Truth: $168.28 Error: $168.28 SLE: 26.33 Item: Hoshizaki FM116A Fan Motor Kit 1\u001b[0m\n",
            "\u001b[91m243: Guess: $0.00 Truth: $199.99 Error: $199.99 SLE: 28.12 Item: BAINUO Antler Chandelier Lighting,6 Ligh...\u001b[0m\n",
            "\u001b[92m244: Guess: $107.99 Truth: $126.70 Error: $18.71 SLE: 0.03 Item: DNA MOTORING HL-OH-FEXP06-SM-AM Smoke Le...\u001b[0m\n",
            "\u001b[92m245: Guess: $5.19 Truth: $5.91 Error: $0.72 SLE: 0.01 Item: Wera Stainless 3840/1 TS 2.5mm Hex Inser...\u001b[0m\n",
            "\u001b[92m246: Guess: $203.56 Truth: $193.06 Error: $10.50 SLE: 0.00 Item: Celestron - PowerSeeker 127EQ Telescope ...\u001b[0m\n",
            "\u001b[92m247: Guess: $203.99 Truth: $249.99 Error: $46.00 SLE: 0.04 Item: NHOPEEW 10.1inch Android Car Radio Carpl...\u001b[0m\n",
            "\u001b[92m248: Guess: $59.99 Truth: $64.12 Error: $4.13 SLE: 0.00 Item: Other Harmonica (Suzuki-2Timer24- A)\u001b[0m\n",
            "\u001b[92m249: Guess: $99.99 Truth: $114.99 Error: $15.00 SLE: 0.02 Item: Harley Air Filter Venturi Intake Air Cle...\u001b[0m\n",
            "\u001b[92m250: Guess: $802.00 Truth: $926.00 Error: $124.00 SLE: 0.02 Item: Elite Screens Edge Free Ambient Light Re...\u001b[0m\n"
          ]
        },
        {
          "output_type": "display_data",
          "data": {
            "text/plain": [
              "<Figure size 1200x800 with 1 Axes>"
            ],
            "image/png": "[encoded data removed]"
          },
          "metadata": {}
        }
      ]
    },
    {
      "cell_type": "markdown",
      "source": [
        "###"
      ],
      "metadata": {
        "id": "ZxQokpS95n-5"
      },
      "id": "ZxQokpS95n-5"
    }
  ],
  "metadata": {
    "kernelspec": {
      "display_name": "Python 3 (ipykernel)",
      "language": "python",
      "name": "python3"
    },
    "language_info": {
      "codemirror_mode": {
        "name": "ipython",
        "version": 3
      },
      "file_extension": ".py",
      "mimetype": "text/x-python",
      "name": "python",
      "nbconvert_exporter": "python",
      "pygments_lexer": "ipython3",
      "version": "3.11.11"
    },
    "colab": {
      "provenance": [],
      "include_colab_link": true
    },
    "widgets": {
      "application/vnd.jupyter.widget-state+json": {
        "c25fd092bcec48a28dc21bd4eca7309c": {
          "model_module": "@jupyter-widgets/controls",
          "model_name": "HBoxModel",
          "model_module_version": "1.5.0",
          "state": {
            "_dom_classes": [],
            "_model_module": "@jupyter-widgets/controls",
            "_model_module_version": "1.5.0",
            "_model_name": "HBoxModel",
            "_view_count": null,
            "_view_module": "@jupyter-widgets/controls",
            "_view_module_version": "1.5.0",
            "_view_name": "HBoxView",
            "box_style": "",
            "children": [
              "IPY_MODEL_70529f532eaf43ef92702f5d9b5bfe2a",
              "IPY_MODEL_294d064034ed4a19b17b6787a45642fa",
              "IPY_MODEL_badab4dc3dd840b1b601588d598412fa"
            ],
            "layout": "IPY_MODEL_cdc0d062a7e3449c99c425bb2f3c66d3"
          }
        },
        "70529f532eaf43ef92702f5d9b5bfe2a": {
          "model_module": "@jupyter-widgets/controls",
          "model_name": "HTMLModel",
          "model_module_version": "1.5.0",
          "state": {
            "_dom_classes": [],
            "_model_module": "@jupyter-widgets/controls",
            "_model_module_version": "1.5.0",
            "_model_name": "HTMLModel",
            "_view_count": null,
            "_view_module": "@jupyter-widgets/controls",
            "_view_module_version": "1.5.0",
            "_view_name": "HTMLView",
            "description": "",
            "description_tooltip": null,
            "layout": "IPY_MODEL_f095f984b766471bb363089fab109fe7",
            "placeholder": "​",
            "style": "IPY_MODEL_e8a4091cb20941868ae570a6642b970a",
            "value": "tokenizer_config.json: 100%"
          }
        },
        "294d064034ed4a19b17b6787a45642fa": {
          "model_module": "@jupyter-widgets/controls",
          "model_name": "FloatProgressModel",
          "model_module_version": "1.5.0",
          "state": {
            "_dom_classes": [],
            "_model_module": "@jupyter-widgets/controls",
            "_model_module_version": "1.5.0",
            "_model_name": "FloatProgressModel",
            "_view_count": null,
            "_view_module": "@jupyter-widgets/controls",
            "_view_module_version": "1.5.0",
            "_view_name": "ProgressView",
            "bar_style": "success",
            "description": "",
            "description_tooltip": null,
            "layout": "IPY_MODEL_fe9b3178dfc84f3393fc1b402a0ae2fa",
            "max": 50500,
            "min": 0,
            "orientation": "horizontal",
            "style": "IPY_MODEL_6fcc0141e5a34d89976b1deab30f4a38",
            "value": 50500
          }
        },
        "badab4dc3dd840b1b601588d598412fa": {
          "model_module": "@jupyter-widgets/controls",
          "model_name": "HTMLModel",
          "model_module_version": "1.5.0",
          "state": {
            "_dom_classes": [],
            "_model_module": "@jupyter-widgets/controls",
            "_model_module_version": "1.5.0",
            "_model_name": "HTMLModel",
            "_view_count": null,
            "_view_module": "@jupyter-widgets/controls",
            "_view_module_version": "1.5.0",
            "_view_name": "HTMLView",
            "description": "",
            "description_tooltip": null,
            "layout": "IPY_MODEL_19e52d98c9a743428811b0b2c63b2561",
            "placeholder": "​",
            "style": "IPY_MODEL_a59c83e059e14895904c8e964fba77a4",
            "value": " 50.5k/50.5k [00:00&lt;00:00, 2.02MB/s]"
          }
        },
        "cdc0d062a7e3449c99c425bb2f3c66d3": {
          "model_module": "@jupyter-widgets/base",
          "model_name": "LayoutModel",
          "model_module_version": "1.2.0",
          "state": {
            "_model_module": "@jupyter-widgets/base",
            "_model_module_version": "1.2.0",
            "_model_name": "LayoutModel",
            "_view_count": null,
            "_view_module": "@jupyter-widgets/base",
            "_view_module_version": "1.2.0",
            "_view_name": "LayoutView",
            "align_content": null,
            "align_items": null,
            "align_self": null,
            "border": null,
            "bottom": null,
            "display": null,
            "flex": null,
            "flex_flow": null,
            "grid_area": null,
            "grid_auto_columns": null,
            "grid_auto_flow": null,
            "grid_auto_rows": null,
            "grid_column": null,
            "grid_gap": null,
            "grid_row": null,
            "grid_template_areas": null,
            "grid_template_columns": null,
            "grid_template_rows": null,
            "height": null,
            "justify_content": null,
            "justify_items": null,
            "left": null,
            "margin": null,
            "max_height": null,
            "max_width": null,
            "min_height": null,
            "min_width": null,
            "object_fit": null,
            "object_position": null,
            "order": null,
            "overflow": null,
            "overflow_x": null,
            "overflow_y": null,
            "padding": null,
            "right": null,
            "top": null,
            "visibility": null,
            "width": null
          }
        },
        "f095f984b766471bb363089fab109fe7": {
          "model_module": "@jupyter-widgets/base",
          "model_name": "LayoutModel",
          "model_module_version": "1.2.0",
          "state": {
            "_model_module": "@jupyter-widgets/base",
            "_model_module_version": "1.2.0",
            "_model_name": "LayoutModel",
            "_view_count": null,
            "_view_module": "@jupyter-widgets/base",
            "_view_module_version": "1.2.0",
            "_view_name": "LayoutView",
            "align_content": null,
            "align_items": null,
            "align_self": null,
            "border": null,
            "bottom": null,
            "display": null,
            "flex": null,
            "flex_flow": null,
            "grid_area": null,
            "grid_auto_columns": null,
            "grid_auto_flow": null,
            "grid_auto_rows": null,
            "grid_column": null,
            "grid_gap": null,
            "grid_row": null,
            "grid_template_areas": null,
            "grid_template_columns": null,
            "grid_template_rows": null,
            "height": null,
            "justify_content": null,
            "justify_items": null,
            "left": null,
            "margin": null,
            "max_height": null,
            "max_width": null,
            "min_height": null,
            "min_width": null,
            "object_fit": null,
            "object_position": null,
            "order": null,
            "overflow": null,
            "overflow_x": null,
            "overflow_y": null,
            "padding": null,
            "right": null,
            "top": null,
            "visibility": null,
            "width": null
          }
        },
        "e8a4091cb20941868ae570a6642b970a": {
          "model_module": "@jupyter-widgets/controls",
          "model_name": "DescriptionStyleModel",
          "model_module_version": "1.5.0",
          "state": {
            "_model_module": "@jupyter-widgets/controls",
            "_model_module_version": "1.5.0",
            "_model_name": "DescriptionStyleModel",
            "_view_count": null,
            "_view_module": "@jupyter-widgets/base",
            "_view_module_version": "1.2.0",
            "_view_name": "StyleView",
            "description_width": ""
          }
        },
        "fe9b3178dfc84f3393fc1b402a0ae2fa": {
          "model_module": "@jupyter-widgets/base",
          "model_name": "LayoutModel",
          "model_module_version": "1.2.0",
          "state": {
            "_model_module": "@jupyter-widgets/base",
            "_model_module_version": "1.2.0",
            "_model_name": "LayoutModel",
            "_view_count": null,
            "_view_module": "@jupyter-widgets/base",
            "_view_module_version": "1.2.0",
            "_view_name": "LayoutView",
            "align_content": null,
            "align_items": null,
            "align_self": null,
            "border": null,
            "bottom": null,
            "display": null,
            "flex": null,
            "flex_flow": null,
            "grid_area": null,
            "grid_auto_columns": null,
            "grid_auto_flow": null,
            "grid_auto_rows": null,
            "grid_column": null,
            "grid_gap": null,
            "grid_row": null,
            "grid_template_areas": null,
            "grid_template_columns": null,
            "grid_template_rows": null,
            "height": null,
            "justify_content": null,
            "justify_items": null,
            "left": null,
            "margin": null,
            "max_height": null,
            "max_width": null,
            "min_height": null,
            "min_width": null,
            "object_fit": null,
            "object_position": null,
            "order": null,
            "overflow": null,
            "overflow_x": null,
            "overflow_y": null,
            "padding": null,
            "right": null,
            "top": null,
            "visibility": null,
            "width": null
          }
        },
        "6fcc0141e5a34d89976b1deab30f4a38": {
          "model_module": "@jupyter-widgets/controls",
          "model_name": "ProgressStyleModel",
          "model_module_version": "1.5.0",
          "state": {
            "_model_module": "@jupyter-widgets/controls",
            "_model_module_version": "1.5.0",
            "_model_name": "ProgressStyleModel",
            "_view_count": null,
            "_view_module": "@jupyter-widgets/base",
            "_view_module_version": "1.2.0",
            "_view_name": "StyleView",
            "bar_color": null,
            "description_width": ""
          }
        },
        "19e52d98c9a743428811b0b2c63b2561": {
          "model_module": "@jupyter-widgets/base",
          "model_name": "LayoutModel",
          "model_module_version": "1.2.0",
          "state": {
            "_model_module": "@jupyter-widgets/base",
            "_model_module_version": "1.2.0",
            "_model_name": "LayoutModel",
            "_view_count": null,
            "_view_module": "@jupyter-widgets/base",
            "_view_module_version": "1.2.0",
            "_view_name": "LayoutView",
            "align_content": null,
            "align_items": null,
            "align_self": null,
            "border": null,
            "bottom": null,
            "display": null,
            "flex": null,
            "flex_flow": null,
            "grid_area": null,
            "grid_auto_columns": null,
            "grid_auto_flow": null,
            "grid_auto_rows": null,
            "grid_column": null,
            "grid_gap": null,
            "grid_row": null,
            "grid_template_areas": null,
            "grid_template_columns": null,
            "grid_template_rows": null,
            "height": null,
            "justify_content": null,
            "justify_items": null,
            "left": null,
            "margin": null,
            "max_height": null,
            "max_width": null,
            "min_height": null,
            "min_width": null,
            "object_fit": null,
            "object_position": null,
            "order": null,
            "overflow": null,
            "overflow_x": null,
            "overflow_y": null,
            "padding": null,
            "right": null,
            "top": null,
            "visibility": null,
            "width": null
          }
        },
        "a59c83e059e14895904c8e964fba77a4": {
          "model_module": "@jupyter-widgets/controls",
          "model_name": "DescriptionStyleModel",
          "model_module_version": "1.5.0",
          "state": {
            "_model_module": "@jupyter-widgets/controls",
            "_model_module_version": "1.5.0",
            "_model_name": "DescriptionStyleModel",
            "_view_count": null,
            "_view_module": "@jupyter-widgets/base",
            "_view_module_version": "1.2.0",
            "_view_name": "StyleView",
            "description_width": ""
          }
        },
        "895e29a3142d4c7b9c704130851abe9a": {
          "model_module": "@jupyter-widgets/controls",
          "model_name": "HBoxModel",
          "model_module_version": "1.5.0",
          "state": {
            "_dom_classes": [],
            "_model_module": "@jupyter-widgets/controls",
            "_model_module_version": "1.5.0",
            "_model_name": "HBoxModel",
            "_view_count": null,
            "_view_module": "@jupyter-widgets/controls",
            "_view_module_version": "1.5.0",
            "_view_name": "HBoxView",
            "box_style": "",
            "children": [
              "IPY_MODEL_4a9281f1ea514f518a8cd270914f8968",
              "IPY_MODEL_dca7fe8cc4c34ea6b8d68f22fda7934e",
              "IPY_MODEL_c53c3a2510c7431aa861a9d5688fb464"
            ],
            "layout": "IPY_MODEL_95ecc985d88a46bb89790d5b50155038"
          }
        },
        "4a9281f1ea514f518a8cd270914f8968": {
          "model_module": "@jupyter-widgets/controls",
          "model_name": "HTMLModel",
          "model_module_version": "1.5.0",
          "state": {
            "_dom_classes": [],
            "_model_module": "@jupyter-widgets/controls",
            "_model_module_version": "1.5.0",
            "_model_name": "HTMLModel",
            "_view_count": null,
            "_view_module": "@jupyter-widgets/controls",
            "_view_module_version": "1.5.0",
            "_view_name": "HTMLView",
            "description": "",
            "description_tooltip": null,
            "layout": "IPY_MODEL_fcd8274054714b12b4aad351bd8ad568",
            "placeholder": "​",
            "style": "IPY_MODEL_c10ce0b7c02741f69a6a49967a126d11",
            "value": "tokenizer.json: 100%"
          }
        },
        "dca7fe8cc4c34ea6b8d68f22fda7934e": {
          "model_module": "@jupyter-widgets/controls",
          "model_name": "FloatProgressModel",
          "model_module_version": "1.5.0",
          "state": {
            "_dom_classes": [],
            "_model_module": "@jupyter-widgets/controls",
            "_model_module_version": "1.5.0",
            "_model_name": "FloatProgressModel",
            "_view_count": null,
            "_view_module": "@jupyter-widgets/controls",
            "_view_module_version": "1.5.0",
            "_view_name": "ProgressView",
            "bar_style": "success",
            "description": "",
            "description_tooltip": null,
            "layout": "IPY_MODEL_f08121f15d61423e87b49f5cca7ba014",
            "max": 9085658,
            "min": 0,
            "orientation": "horizontal",
            "style": "IPY_MODEL_dbe1dd54728e4299a8dba6f68154fc43",
            "value": 9085658
          }
        },
        "c53c3a2510c7431aa861a9d5688fb464": {
          "model_module": "@jupyter-widgets/controls",
          "model_name": "HTMLModel",
          "model_module_version": "1.5.0",
          "state": {
            "_dom_classes": [],
            "_model_module": "@jupyter-widgets/controls",
            "_model_module_version": "1.5.0",
            "_model_name": "HTMLModel",
            "_view_count": null,
            "_view_module": "@jupyter-widgets/controls",
            "_view_module_version": "1.5.0",
            "_view_name": "HTMLView",
            "description": "",
            "description_tooltip": null,
            "layout": "IPY_MODEL_3459fb7bfee040fdb3d1de32aea7bbc4",
            "placeholder": "​",
            "style": "IPY_MODEL_6ce6baad1d2045199f5ad99fac7480cd",
            "value": " 9.09M/9.09M [00:00&lt;00:00, 27.1MB/s]"
          }
        },
        "95ecc985d88a46bb89790d5b50155038": {
          "model_module": "@jupyter-widgets/base",
          "model_name": "LayoutModel",
          "model_module_version": "1.2.0",
          "state": {
            "_model_module": "@jupyter-widgets/base",
            "_model_module_version": "1.2.0",
            "_model_name": "LayoutModel",
            "_view_count": null,
            "_view_module": "@jupyter-widgets/base",
            "_view_module_version": "1.2.0",
            "_view_name": "LayoutView",
            "align_content": null,
            "align_items": null,
            "align_self": null,
            "border": null,
            "bottom": null,
            "display": null,
            "flex": null,
            "flex_flow": null,
            "grid_area": null,
            "grid_auto_columns": null,
            "grid_auto_flow": null,
            "grid_auto_rows": null,
            "grid_column": null,
            "grid_gap": null,
            "grid_row": null,
            "grid_template_areas": null,
            "grid_template_columns": null,
            "grid_template_rows": null,
            "height": null,
            "justify_content": null,
            "justify_items": null,
            "left": null,
            "margin": null,
            "max_height": null,
            "max_width": null,
            "min_height": null,
            "min_width": null,
            "object_fit": null,
            "object_position": null,
            "order": null,
            "overflow": null,
            "overflow_x": null,
            "overflow_y": null,
            "padding": null,
            "right": null,
            "top": null,
            "visibility": null,
            "width": null
          }
        },
        "fcd8274054714b12b4aad351bd8ad568": {
          "model_module": "@jupyter-widgets/base",
          "model_name": "LayoutModel",
          "model_module_version": "1.2.0",
          "state": {
            "_model_module": "@jupyter-widgets/base",
            "_model_module_version": "1.2.0",
            "_model_name": "LayoutModel",
            "_view_count": null,
            "_view_module": "@jupyter-widgets/base",
            "_view_module_version": "1.2.0",
            "_view_name": "LayoutView",
            "align_content": null,
            "align_items": null,
            "align_self": null,
            "border": null,
            "bottom": null,
            "display": null,
            "flex": null,
            "flex_flow": null,
            "grid_area": null,
            "grid_auto_columns": null,
            "grid_auto_flow": null,
            "grid_auto_rows": null,
            "grid_column": null,
            "grid_gap": null,
            "grid_row": null,
            "grid_template_areas": null,
            "grid_template_columns": null,
            "grid_template_rows": null,
            "height": null,
            "justify_content": null,
            "justify_items": null,
            "left": null,
            "margin": null,
            "max_height": null,
            "max_width": null,
            "min_height": null,
            "min_width": null,
            "object_fit": null,
            "object_position": null,
            "order": null,
            "overflow": null,
            "overflow_x": null,
            "overflow_y": null,
            "padding": null,
            "right": null,
            "top": null,
            "visibility": null,
            "width": null
          }
        },
        "c10ce0b7c02741f69a6a49967a126d11": {
          "model_module": "@jupyter-widgets/controls",
          "model_name": "DescriptionStyleModel",
          "model_module_version": "1.5.0",
          "state": {
            "_model_module": "@jupyter-widgets/controls",
            "_model_module_version": "1.5.0",
            "_model_name": "DescriptionStyleModel",
            "_view_count": null,
            "_view_module": "@jupyter-widgets/base",
            "_view_module_version": "1.2.0",
            "_view_name": "StyleView",
            "description_width": ""
          }
        },
        "f08121f15d61423e87b49f5cca7ba014": {
          "model_module": "@jupyter-widgets/base",
          "model_name": "LayoutModel",
          "model_module_version": "1.2.0",
          "state": {
            "_model_module": "@jupyter-widgets/base",
            "_model_module_version": "1.2.0",
            "_model_name": "LayoutModel",
            "_view_count": null,
            "_view_module": "@jupyter-widgets/base",
            "_view_module_version": "1.2.0",
            "_view_name": "LayoutView",
            "align_content": null,
            "align_items": null,
            "align_self": null,
            "border": null,
            "bottom": null,
            "display": null,
            "flex": null,
            "flex_flow": null,
            "grid_area": null,
            "grid_auto_columns": null,
            "grid_auto_flow": null,
            "grid_auto_rows": null,
            "grid_column": null,
            "grid_gap": null,
            "grid_row": null,
            "grid_template_areas": null,
            "grid_template_columns": null,
            "grid_template_rows": null,
            "height": null,
            "justify_content": null,
            "justify_items": null,
            "left": null,
            "margin": null,
            "max_height": null,
            "max_width": null,
            "min_height": null,
            "min_width": null,
            "object_fit": null,
            "object_position": null,
            "order": null,
            "overflow": null,
            "overflow_x": null,
            "overflow_y": null,
            "padding": null,
            "right": null,
            "top": null,
            "visibility": null,
            "width": null
          }
        },
        "dbe1dd54728e4299a8dba6f68154fc43": {
          "model_module": "@jupyter-widgets/controls",
          "model_name": "ProgressStyleModel",
          "model_module_version": "1.5.0",
          "state": {
            "_model_module": "@jupyter-widgets/controls",
            "_model_module_version": "1.5.0",
            "_model_name": "ProgressStyleModel",
            "_view_count": null,
            "_view_module": "@jupyter-widgets/base",
            "_view_module_version": "1.2.0",
            "_view_name": "StyleView",
            "bar_color": null,
            "description_width": ""
          }
        },
        "3459fb7bfee040fdb3d1de32aea7bbc4": {
          "model_module": "@jupyter-widgets/base",
          "model_name": "LayoutModel",
          "model_module_version": "1.2.0",
          "state": {
            "_model_module": "@jupyter-widgets/base",
            "_model_module_version": "1.2.0",
            "_model_name": "LayoutModel",
            "_view_count": null,
            "_view_module": "@jupyter-widgets/base",
            "_view_module_version": "1.2.0",
            "_view_name": "LayoutView",
            "align_content": null,
            "align_items": null,
            "align_self": null,
            "border": null,
            "bottom": null,
            "display": null,
            "flex": null,
            "flex_flow": null,
            "grid_area": null,
            "grid_auto_columns": null,
            "grid_auto_flow": null,
            "grid_auto_rows": null,
            "grid_column": null,
            "grid_gap": null,
            "grid_row": null,
            "grid_template_areas": null,
            "grid_template_columns": null,
            "grid_template_rows": null,
            "height": null,
            "justify_content": null,
            "justify_items": null,
            "left": null,
            "margin": null,
            "max_height": null,
            "max_width": null,
            "min_height": null,
            "min_width": null,
            "object_fit": null,
            "object_position": null,
            "order": null,
            "overflow": null,
            "overflow_x": null,
            "overflow_y": null,
            "padding": null,
            "right": null,
            "top": null,
            "visibility": null,
            "width": null
          }
        },
        "6ce6baad1d2045199f5ad99fac7480cd": {
          "model_module": "@jupyter-widgets/controls",
          "model_name": "DescriptionStyleModel",
          "model_module_version": "1.5.0",
          "state": {
            "_model_module": "@jupyter-widgets/controls",
            "_model_module_version": "1.5.0",
            "_model_name": "DescriptionStyleModel",
            "_view_count": null,
            "_view_module": "@jupyter-widgets/base",
            "_view_module_version": "1.2.0",
            "_view_name": "StyleView",
            "description_width": ""
          }
        },
        "888c892646c3472aac059c011175a352": {
          "model_module": "@jupyter-widgets/controls",
          "model_name": "HBoxModel",
          "model_module_version": "1.5.0",
          "state": {
            "_dom_classes": [],
            "_model_module": "@jupyter-widgets/controls",
            "_model_module_version": "1.5.0",
            "_model_name": "HBoxModel",
            "_view_count": null,
            "_view_module": "@jupyter-widgets/controls",
            "_view_module_version": "1.5.0",
            "_view_name": "HBoxView",
            "box_style": "",
            "children": [
              "IPY_MODEL_e407ff2ed5a84579a9d64eb4d6ba505c",
              "IPY_MODEL_0355734e85844a5d89f5937b59f0b85a",
              "IPY_MODEL_451654ad247a4f88808d04d9a1d3b58b"
            ],
            "layout": "IPY_MODEL_a5783b5760ec483285ff45ee643671c1"
          }
        },
        "e407ff2ed5a84579a9d64eb4d6ba505c": {
          "model_module": "@jupyter-widgets/controls",
          "model_name": "HTMLModel",
          "model_module_version": "1.5.0",
          "state": {
            "_dom_classes": [],
            "_model_module": "@jupyter-widgets/controls",
            "_model_module_version": "1.5.0",
            "_model_name": "HTMLModel",
            "_view_count": null,
            "_view_module": "@jupyter-widgets/controls",
            "_view_module_version": "1.5.0",
            "_view_name": "HTMLView",
            "description": "",
            "description_tooltip": null,
            "layout": "IPY_MODEL_a6e9b7123d604b60b665261d948398bd",
            "placeholder": "​",
            "style": "IPY_MODEL_76cc376784d6431d97ecd9da5110c917",
            "value": "special_tokens_map.json: 100%"
          }
        },
        "0355734e85844a5d89f5937b59f0b85a": {
          "model_module": "@jupyter-widgets/controls",
          "model_name": "FloatProgressModel",
          "model_module_version": "1.5.0",
          "state": {
            "_dom_classes": [],
            "_model_module": "@jupyter-widgets/controls",
            "_model_module_version": "1.5.0",
            "_model_name": "FloatProgressModel",
            "_view_count": null,
            "_view_module": "@jupyter-widgets/controls",
            "_view_module_version": "1.5.0",
            "_view_name": "ProgressView",
            "bar_style": "success",
            "description": "",
            "description_tooltip": null,
            "layout": "IPY_MODEL_d9c726d995ba4892b34e1f44b010fb50",
            "max": 73,
            "min": 0,
            "orientation": "horizontal",
            "style": "IPY_MODEL_a14fbe0a9a044ff3a75050d0d7ffbf4b",
            "value": 73
          }
        },
        "451654ad247a4f88808d04d9a1d3b58b": {
          "model_module": "@jupyter-widgets/controls",
          "model_name": "HTMLModel",
          "model_module_version": "1.5.0",
          "state": {
            "_dom_classes": [],
            "_model_module": "@jupyter-widgets/controls",
            "_model_module_version": "1.5.0",
            "_model_name": "HTMLModel",
            "_view_count": null,
            "_view_module": "@jupyter-widgets/controls",
            "_view_module_version": "1.5.0",
            "_view_name": "HTMLView",
            "description": "",
            "description_tooltip": null,
            "layout": "IPY_MODEL_114b7bb42c104f8c92bbce6c893ddf59",
            "placeholder": "​",
            "style": "IPY_MODEL_d857fd2e4f9c4f34b18a4eedfc3107ba",
            "value": " 73.0/73.0 [00:00&lt;00:00, 7.15kB/s]"
          }
        },
        "a5783b5760ec483285ff45ee643671c1": {
          "model_module": "@jupyter-widgets/base",
          "model_name": "LayoutModel",
          "model_module_version": "1.2.0",
          "state": {
            "_model_module": "@jupyter-widgets/base",
            "_model_module_version": "1.2.0",
            "_model_name": "LayoutModel",
            "_view_count": null,
            "_view_module": "@jupyter-widgets/base",
            "_view_module_version": "1.2.0",
            "_view_name": "LayoutView",
            "align_content": null,
            "align_items": null,
            "align_self": null,
            "border": null,
            "bottom": null,
            "display": null,
            "flex": null,
            "flex_flow": null,
            "grid_area": null,
            "grid_auto_columns": null,
            "grid_auto_flow": null,
            "grid_auto_rows": null,
            "grid_column": null,
            "grid_gap": null,
            "grid_row": null,
            "grid_template_areas": null,
            "grid_template_columns": null,
            "grid_template_rows": null,
            "height": null,
            "justify_content": null,
            "justify_items": null,
            "left": null,
            "margin": null,
            "max_height": null,
            "max_width": null,
            "min_height": null,
            "min_width": null,
            "object_fit": null,
            "object_position": null,
            "order": null,
            "overflow": null,
            "overflow_x": null,
            "overflow_y": null,
            "padding": null,
            "right": null,
            "top": null,
            "visibility": null,
            "width": null
          }
        },
        "a6e9b7123d604b60b665261d948398bd": {
          "model_module": "@jupyter-widgets/base",
          "model_name": "LayoutModel",
          "model_module_version": "1.2.0",
          "state": {
            "_model_module": "@jupyter-widgets/base",
            "_model_module_version": "1.2.0",
            "_model_name": "LayoutModel",
            "_view_count": null,
            "_view_module": "@jupyter-widgets/base",
            "_view_module_version": "1.2.0",
            "_view_name": "LayoutView",
            "align_content": null,
            "align_items": null,
            "align_self": null,
            "border": null,
            "bottom": null,
            "display": null,
            "flex": null,
            "flex_flow": null,
            "grid_area": null,
            "grid_auto_columns": null,
            "grid_auto_flow": null,
            "grid_auto_rows": null,
            "grid_column": null,
            "grid_gap": null,
            "grid_row": null,
            "grid_template_areas": null,
            "grid_template_columns": null,
            "grid_template_rows": null,
            "height": null,
            "justify_content": null,
            "justify_items": null,
            "left": null,
            "margin": null,
            "max_height": null,
            "max_width": null,
            "min_height": null,
            "min_width": null,
            "object_fit": null,
            "object_position": null,
            "order": null,
            "overflow": null,
            "overflow_x": null,
            "overflow_y": null,
            "padding": null,
            "right": null,
            "top": null,
            "visibility": null,
            "width": null
          }
        },
        "76cc376784d6431d97ecd9da5110c917": {
          "model_module": "@jupyter-widgets/controls",
          "model_name": "DescriptionStyleModel",
          "model_module_version": "1.5.0",
          "state": {
            "_model_module": "@jupyter-widgets/controls",
            "_model_module_version": "1.5.0",
            "_model_name": "DescriptionStyleModel",
            "_view_count": null,
            "_view_module": "@jupyter-widgets/base",
            "_view_module_version": "1.2.0",
            "_view_name": "StyleView",
            "description_width": ""
          }
        },
        "d9c726d995ba4892b34e1f44b010fb50": {
          "model_module": "@jupyter-widgets/base",
          "model_name": "LayoutModel",
          "model_module_version": "1.2.0",
          "state": {
            "_model_module": "@jupyter-widgets/base",
            "_model_module_version": "1.2.0",
            "_model_name": "LayoutModel",
            "_view_count": null,
            "_view_module": "@jupyter-widgets/base",
            "_view_module_version": "1.2.0",
            "_view_name": "LayoutView",
            "align_content": null,
            "align_items": null,
            "align_self": null,
            "border": null,
            "bottom": null,
            "display": null,
            "flex": null,
            "flex_flow": null,
            "grid_area": null,
            "grid_auto_columns": null,
            "grid_auto_flow": null,
            "grid_auto_rows": null,
            "grid_column": null,
            "grid_gap": null,
            "grid_row": null,
            "grid_template_areas": null,
            "grid_template_columns": null,
            "grid_template_rows": null,
            "height": null,
            "justify_content": null,
            "justify_items": null,
            "left": null,
            "margin": null,
            "max_height": null,
            "max_width": null,
            "min_height": null,
            "min_width": null,
            "object_fit": null,
            "object_position": null,
            "order": null,
            "overflow": null,
            "overflow_x": null,
            "overflow_y": null,
            "padding": null,
            "right": null,
            "top": null,
            "visibility": null,
            "width": null
          }
        },
        "a14fbe0a9a044ff3a75050d0d7ffbf4b": {
          "model_module": "@jupyter-widgets/controls",
          "model_name": "ProgressStyleModel",
          "model_module_version": "1.5.0",
          "state": {
            "_model_module": "@jupyter-widgets/controls",
            "_model_module_version": "1.5.0",
            "_model_name": "ProgressStyleModel",
            "_view_count": null,
            "_view_module": "@jupyter-widgets/base",
            "_view_module_version": "1.2.0",
            "_view_name": "StyleView",
            "bar_color": null,
            "description_width": ""
          }
        },
        "114b7bb42c104f8c92bbce6c893ddf59": {
          "model_module": "@jupyter-widgets/base",
          "model_name": "LayoutModel",
          "model_module_version": "1.2.0",
          "state": {
            "_model_module": "@jupyter-widgets/base",
            "_model_module_version": "1.2.0",
            "_model_name": "LayoutModel",
            "_view_count": null,
            "_view_module": "@jupyter-widgets/base",
            "_view_module_version": "1.2.0",
            "_view_name": "LayoutView",
            "align_content": null,
            "align_items": null,
            "align_self": null,
            "border": null,
            "bottom": null,
            "display": null,
            "flex": null,
            "flex_flow": null,
            "grid_area": null,
            "grid_auto_columns": null,
            "grid_auto_flow": null,
            "grid_auto_rows": null,
            "grid_column": null,
            "grid_gap": null,
            "grid_row": null,
            "grid_template_areas": null,
            "grid_template_columns": null,
            "grid_template_rows": null,
            "height": null,
            "justify_content": null,
            "justify_items": null,
            "left": null,
            "margin": null,
            "max_height": null,
            "max_width": null,
            "min_height": null,
            "min_width": null,
            "object_fit": null,
            "object_position": null,
            "order": null,
            "overflow": null,
            "overflow_x": null,
            "overflow_y": null,
            "padding": null,
            "right": null,
            "top": null,
            "visibility": null,
            "width": null
          }
        },
        "d857fd2e4f9c4f34b18a4eedfc3107ba": {
          "model_module": "@jupyter-widgets/controls",
          "model_name": "DescriptionStyleModel",
          "model_module_version": "1.5.0",
          "state": {
            "_model_module": "@jupyter-widgets/controls",
            "_model_module_version": "1.5.0",
            "_model_name": "DescriptionStyleModel",
            "_view_count": null,
            "_view_module": "@jupyter-widgets/base",
            "_view_module_version": "1.2.0",
            "_view_name": "StyleView",
            "description_width": ""
          }
        }
      }
    }
  },
  "nbformat": 4,
  "nbformat_minor": 5
}